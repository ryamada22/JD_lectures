{
 "cells": [
  {
   "cell_type": "markdown",
   "metadata": {
    "deletable": true,
    "editable": true
   },
   "source": [
    "# Statistical Learning Application B 機械学習応用 B"
   ]
  },
  {
   "cell_type": "markdown",
   "metadata": {
    "deletable": true,
    "editable": true
   },
   "source": [
    "## Introduction of Data Science\n",
    "\n",
    "### Introduction 前書き: Data Science in JD Course\n",
    "###  Introduction 2 前書き2: Statistical Analysis vs. Machine Learning\n",
    "\n",
    "Read [Introduction of Data Science](../cells/Introduction_of_Data_Science.ipynb)."
   ]
  },
  {
   "cell_type": "markdown",
   "metadata": {
    "deletable": true,
    "editable": true
   },
   "source": [
    "## Introduction 2 前書き2\n",
    "\n",
    "Read [Statistical analysis vs. machine learning](../cells/Statistical_Analysis_vs_Machine_Learning.ipynb).\n",
    "\n",
    "[統計解析 vs. 機械学習](../cells/Statistical_Analysis_vs_Machine_Learning.ipynb)を読め"
   ]
  },
  {
   "cell_type": "markdown",
   "metadata": {
    "deletable": true,
    "editable": true
   },
   "source": [
    "## Preparation of Python パイソンの準備\n",
    "\n",
    "Go [Python](../cells/Python.ipynb) to begin with."
   ]
  },
  {
   "cell_type": "markdown",
   "metadata": {
    "deletable": true,
    "editable": true
   },
   "source": [
    "## 決定木"
   ]
  },
  {
   "cell_type": "markdown",
   "metadata": {
    "deletable": true,
    "editable": true
   },
   "source": [
    "## クロス・バリデーション"
   ]
  }
 ],
 "metadata": {
  "kernelspec": {
   "display_name": "Python 2",
   "language": "python",
   "name": "python2"
  },
  "language_info": {
   "codemirror_mode": {
    "name": "ipython",
    "version": 2
   },
   "file_extension": ".py",
   "mimetype": "text/x-python",
   "name": "python",
   "nbconvert_exporter": "python",
   "pygments_lexer": "ipython2",
   "version": "2.7.13"
  }
 },
 "nbformat": 4,
 "nbformat_minor": 2
}
