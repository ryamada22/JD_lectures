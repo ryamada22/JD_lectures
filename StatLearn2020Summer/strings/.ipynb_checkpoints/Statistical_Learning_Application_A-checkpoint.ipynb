{
 "cells": [
  {
   "cell_type": "markdown",
   "metadata": {
    "deletable": true,
    "editable": true
   },
   "source": [
    "# Statistical Learning Application A 機械学習応用 A"
   ]
  },
  {
   "cell_type": "markdown",
   "metadata": {
    "deletable": true,
    "editable": true
   },
   "source": [
    "## Introduction of Data Science\n",
    "\n",
    "### Introduction 前書き: Data Science in JD Course\n",
    "###  Introduction 2 前書き2: Statistical Analysis vs. Machine Learning\n",
    "\n",
    "Read [Introduction of Data Science](../cells/Introduction_of_Data_Science.ipynb)."
   ]
  },
  {
   "cell_type": "markdown",
   "metadata": {
    "deletable": true,
    "editable": true
   },
   "source": [
    "## Preparation of Python パイソンの準備\n",
    "\n",
    "Go [Python](../cells/Python.ipynb) to begin with."
   ]
  },
  {
   "cell_type": "markdown",
   "metadata": {
    "deletable": true,
    "editable": true
   },
   "source": [
    "## Supervised Learning (Classification and Regression) 教師あり学習(分類と回帰)\n",
    "\n",
    "### Classification 分類\n",
    "\n",
    "[ML Classification](https://en.wikipedia.org/wiki/Statistical_classification)\n",
    "\n",
    "\n",
    "#### Assignment 課題\n",
    "\n",
    "+ Access [scikit-learn](http://scikit-learn.org/stable/index.html) and find an example of Nearest Neighbors Classification. \n",
    "+ Save the ipynb file in your local computer and run it.\n",
    "+ Open the python code file and copy-and-paste the codes in your new ipynb file and run them.\n",
    "\n",
    "[Answer](../miscelaneous/plot_classification.ipynb)\n",
    "\n",
    "\n",
    "\n"
   ]
  },
  {
   "cell_type": "markdown",
   "metadata": {},
   "source": [
    "#### Py Import\n",
    "\n",
    "[English tutorial](https://www.codementor.io/sheena/python-path-virtualenv-import-for-beginners-du107r3o1)\n",
    "[日本語解説](http://python.matrix.jp/pages/tips/import.html)\n",
    "\n",
    "#### Py Function and Method\n",
    "\n",
    "[English tutorial](https://www.datacamp.com/community/tutorials/functions-python-tutorial#function)\n",
    "[日本語解説](http://uchikoshi22.hatenadiary.jp/entry/20120906/1346905940)\n"
   ]
  },
  {
   "cell_type": "markdown",
   "metadata": {},
   "source": [
    "### Regression 回帰\n",
    "[ML Regression](https://en.wikipedia.org/wiki/Regression_analysis)\n",
    "#### [Linear Regression](http://scikit-learn.org/stable/auto_examples/linear_model/plot_ols.html)"
   ]
  },
  {
   "cell_type": "markdown",
   "metadata": {
    "deletable": true,
    "editable": true
   },
   "source": [
    "## 教師なし学習(次元削減と特徴量抽出、クラスタリング)\n",
    "\n",
    "この後も、適当なexampleを選び、その実行と、その中に出てくる、python要素と、解析要素とを、トピックとして取り上げて行く。"
   ]
  },
  {
   "cell_type": "code",
   "execution_count": null,
   "metadata": {},
   "outputs": [],
   "source": []
  }
 ],
 "metadata": {
  "kernelspec": {
   "display_name": "Python 3",
   "language": "python",
   "name": "python3"
  },
  "language_info": {
   "codemirror_mode": {
    "name": "ipython",
    "version": 3
   },
   "file_extension": ".py",
   "mimetype": "text/x-python",
   "name": "python",
   "nbconvert_exporter": "python",
   "pygments_lexer": "ipython3",
   "version": "3.6.3"
  }
 },
 "nbformat": 4,
 "nbformat_minor": 2
}
