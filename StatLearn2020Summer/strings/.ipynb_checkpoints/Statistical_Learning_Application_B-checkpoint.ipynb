{
 "cells": [
  {
   "cell_type": "markdown",
   "metadata": {
    "deletable": true,
    "editable": true
   },
   "source": [
    "# Statistical Learning Application B 機械学習応用 B"
   ]
  },
  {
   "cell_type": "markdown",
   "metadata": {
    "deletable": true,
    "editable": true
   },
   "source": [
    "## Introduction 前書き\n",
    "\n",
    "Before we start this module, we check the role of this module in the the Joint Degree (JD) course .\n",
    "\n",
    "このモジュールを始める前に、ジョイントディグリー(JD)専攻におけるこのモジュールの役割を確認する。\n",
    "\n",
    "Read [Data science in JD course](../cells/Data_science_in_JD.ipynb).\n",
    "\n",
    "[JD専攻におけるデータサイエンス](../cells/Data_science_in_JD.ipynb)を読め。"
   ]
  },
  {
   "cell_type": "markdown",
   "metadata": {
    "deletable": true,
    "editable": true
   },
   "source": [
    "## Introduction 2 前書き2\n",
    "\n",
    "Read [Statistical analysis vs. machine learning](../cells/Statistical_Analysis_vs_Machine_Learning.ipynb).\n",
    "\n",
    "[統計解析 vs. 機械学習](../cells/Statistical_Analysis_vs_Machine_Learning.ipynb)を読め"
   ]
  },
  {
   "cell_type": "markdown",
   "metadata": {
    "deletable": true,
    "editable": true
   },
   "source": [
    "## Python\n",
    "\n",
    "Python has a library for machine learning \"[scikit-learn](http://scikit-learn.org/stable/index.html)\".\n",
    "\n",
    "Go [Python](../cells/Python.ipynb) to begin with."
   ]
  },
  {
   "cell_type": "markdown",
   "metadata": {
    "deletable": true,
    "editable": true
   },
   "source": [
    "## 決定木"
   ]
  },
  {
   "cell_type": "markdown",
   "metadata": {
    "deletable": true,
    "editable": true
   },
   "source": [
    "## クロス・バリデーション"
   ]
  }
 ],
 "metadata": {
  "kernelspec": {
   "display_name": "Python 2",
   "language": "python",
   "name": "python2"
  },
  "language_info": {
   "codemirror_mode": {
    "name": "ipython",
    "version": 2
   },
   "file_extension": ".py",
   "mimetype": "text/x-python",
   "name": "python",
   "nbconvert_exporter": "python",
   "pygments_lexer": "ipython2",
   "version": "2.7.13"
  }
 },
 "nbformat": 4,
 "nbformat_minor": 2
}
