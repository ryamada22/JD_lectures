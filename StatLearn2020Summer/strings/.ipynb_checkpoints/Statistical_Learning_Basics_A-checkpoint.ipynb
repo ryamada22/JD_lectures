{
 "cells": [
  {
   "cell_type": "markdown",
   "metadata": {
    "deletable": true,
    "editable": true
   },
   "source": [
    "# Statistical Learning Basics A 機械学習基礎 A"
   ]
  },
  {
   "cell_type": "markdown",
   "metadata": {
    "deletable": true,
    "editable": true
   },
   "source": [
    "# Introduction of Data Science\n",
    "\n",
    "+ Data Science in JD Course\n",
    "+ Statistical Analysis vs. Machine Learning\n",
    "\n",
    "\n",
    "+ Statistical Analysis and Machine Learning are essentially the same,\n",
    "+ But they are different somehow.\n",
    "+ It is useful to be aware of the differences.\n",
    "\n",
    "Read [Introduction of Data Science](../cells/Introduction_of _Data_Science.ipynb)."
   ]
  },
  {
   "cell_type": "markdown",
   "metadata": {
    "deletable": true,
    "editable": true
   },
   "source": [
    "# Reference book 参考書\n",
    "\n",
    "[English version](https://web.stanford.edu/~hastie/ElemStatLearn/)\n",
    "\n",
    "[日本語版](http://www.kyoritsu-pub.co.jp/bookdetail/9784320123625)"
   ]
  },
  {
   "cell_type": "markdown",
   "metadata": {
    "deletable": true,
    "editable": true
   },
   "source": [
    "# What is Learning 学習とは\n",
    "\n",
    "+ Learning is to estimate a distribution from samples.\n",
    "\n",
    "Read [Learning](../cells/Learning.ipynb).\n",
    "\n",
    "[学習](../cells/Learning.ipynb)を読め。\n"
   ]
  },
  {
   "cell_type": "markdown",
   "metadata": {
    "deletable": true,
    "editable": true
   },
   "source": [
    "# Examples of Learning 学習の例\n",
    "\n",
    "There are many learning methods. \n",
    "Before studying them specifically, we go over some examples to grab the concepts of learnig.\n",
    "\n",
    "学習の手法はたくさんある。\n",
    "手法を個別に勉強する前に、いくつかの例に触れ、学習の概念を掴む。\n",
    "\n",
    "Read [Examples_of_Learning](../cells/Examples_of_Learning.ipynb)\n",
    "\n",
    "[学習の例](../cells/Examples_of_Learning.ipynb)を読め。"
   ]
  },
  {
   "cell_type": "markdown",
   "metadata": {},
   "source": [
    "# Important Ideas in Learning 学習における重要な概念\n",
    "\n",
    "+ How to evaluate learning results and learning methods\n",
    "+ Training set and test set\n",
    "+ Bias and variance\n",
    "+ Bias-Variance tradeoff\n",
    "+ Overfitting\n",
    "+ Model complexity\n"
   ]
  },
  {
   "cell_type": "markdown",
   "metadata": {
    "deletable": true,
    "editable": true
   },
   "source": [
    "## Evaluations of Learning 学習の評価\n",
    "\n",
    "### Two things to be evaluated\n",
    "\n",
    "+ How good is the learned rule?\n",
    "+ How good is the method that returns rule?\n",
    "\n",
    "Read [Evaluation of Learning](../cells/Evaluation_of_Learning.ipynb)\n",
    "\n"
   ]
  },
  {
   "cell_type": "markdown",
   "metadata": {},
   "source": [
    "# Model Complexity and Dimension, Degree of Freedom, and Number of Parameters \n",
    "\n",
    "+ Model complexity is important in learning.\n",
    "+ Model complexity is descibed with various terms that are essential concept in other fields.\n",
    "\n",
    "Read [Dimension, Degree of Freedom, Number of Parameters, and Model Complexity](../cells/Dim_DF_NoParameters_ModelComplexity.ipynb)"
   ]
  },
  {
   "cell_type": "markdown",
   "metadata": {},
   "source": [
    "# Regularization, Shrinkage and Non-Full Model to Avoid Overfitting\n",
    "\n",
    "+ It is difficult to tell the optimal complexity.\n",
    "+ A model with not-too complexity should be the best.\n",
    "+ k = 1 of kNN was too complexed and some k > 1 should be used.\n",
    "\n",
    "+ Subset selection\n",
    "+ Shrinkage\n",
    "\n",
    "+ Stepwise selection in linear regression\n",
    "+ LASSO regression\n",
    "+ Ridge regression\n",
    "\n",
    "Read [Regularization, Shrinkage and Non-Full Model](../cells/Regularization_Shrinkage_Non-Full_Model.ipynb)"
   ]
  },
  {
   "cell_type": "markdown",
   "metadata": {
    "deletable": true,
    "editable": true
   },
   "source": [
    "## Directions Rather than Variables\n",
    "\n",
    "+ Some methods generate new variables that are consisted of the original variables, that are used for regularization, shrinkage, as well.\n",
    "+ Pricipal Component Analysis (PCA) is one of the methods. The top axes are taken, that corresponds to subset selection of features. \n",
    "+ [PCA with Python](http://scikit-learn.org/stable/modules/generated/sklearn.decomposition.PCA.html)"
   ]
  },
  {
   "cell_type": "markdown",
   "metadata": {
    "deletable": true,
    "editable": true
   },
   "source": [
    "## 分類のための線形手法\n",
    "\n",
    "飛ばすかも"
   ]
  },
  {
   "cell_type": "markdown",
   "metadata": {
    "deletable": true,
    "editable": true
   },
   "source": [
    "# Basis Functions and Linear Basis Expansion 基底関数と線型基底展開\n",
    "\n",
    "+ Linear methods, $y \\sim X \\beta$, are very useful and well developed.\n",
    "+ However, we want to learn something \"non-flat\".\n",
    "+ We use \"non-flat\" functions$ h(x)$ to learn something \"non-flat\" based on linear equation, $y \\sim \\begin{pmatrix} h_1(x),...,h_m(x) \\end{pmatrix} \\beta$.\n",
    "+ Because there are many variations in $h(x)$, regularization on them are always necessary.\n",
    "\n",
    "Read [Basis Functions and Linear Basis Expansion](../cells/Basis_Functions_and_Linear_Basis_Expansion.ipynb)"
   ]
  },
  {
   "cell_type": "markdown",
   "metadata": {},
   "source": [
    "#### Reference : Smoothness and Differentiation\n",
    "\n",
    " "
   ]
  },
  {
   "cell_type": "markdown",
   "metadata": {
    "deletable": true,
    "editable": true
   },
   "source": [
    "## Kernel Density Estimation カーネル平滑化法\n",
    "\n",
    "+ Local information\n",
    "+ Estimation on a point should be affected heavily by the samples nearby more than the samples remort.\n",
    "+ Kernel functions are the functions that define weight on samples with distance from the point of interest.\n",
    "+ [kNN](../cells/Evaluation_of_Learning.ipynb) is another kind of \"local\" method.\n",
    "\n",
    "- [Kernel Density Estiamtion](../miscelaneous/plot_kde_1d.ipynb) \n"
   ]
  },
  {
   "cell_type": "code",
   "execution_count": null,
   "metadata": {
    "collapsed": true,
    "deletable": true,
    "editable": true
   },
   "outputs": [],
   "source": []
  }
 ],
 "metadata": {
  "kernelspec": {
   "display_name": "Python 3",
   "language": "python",
   "name": "python3"
  },
  "language_info": {
   "codemirror_mode": {
    "name": "ipython",
    "version": 3
   },
   "file_extension": ".py",
   "mimetype": "text/x-python",
   "name": "python",
   "nbconvert_exporter": "python",
   "pygments_lexer": "ipython3",
   "version": "3.6.3"
  }
 },
 "nbformat": 4,
 "nbformat_minor": 2
}
