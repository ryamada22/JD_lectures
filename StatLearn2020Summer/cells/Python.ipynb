{
 "cells": [
  {
   "cell_type": "markdown",
   "metadata": {
    "deletable": true,
    "editable": true
   },
   "source": [
    "# Python\n",
    "\n",
    "## Preparation of Python パイソンの準備\n",
    "\n",
    "### Anaconda\n",
    "\n",
    "Anaconda offers a set of packages including Scikit-learn ready to use.\n",
    "\n",
    "[Anaconda contains many tools altogether](https://anaconda.org/anaconda)\n",
    "\n",
    "### Basics of Python\n",
    "\n",
    "[Python tutorial](https://www.programiz.com/python-programming)\n",
    "\n",
    "### Take notes with Python (Jupyter notebook)\n",
    "\n",
    "[(http://jupyter.org/)\n"
   ]
  },
  {
   "cell_type": "markdown",
   "metadata": {},
   "source": [
    "## Scikit-learn Package (Python)\n",
    "\n",
    "Python has a library for machine learning \"[scikit-learn](http://scikit-learn.org/stable/index.html)\"."
   ]
  },
  {
   "cell_type": "markdown",
   "metadata": {},
   "source": [
    "## Assignment 課題\n",
    "\n",
    "+ Access the site of [scikit-learn](http://scikit-learn.org/stable/index.html) and find a ipython notebook file on \"nearest neighbors classicifation\". \n",
    "Download or copy-and-paste the ipython notebook file and open/run and save it with Jupyter notebool/lab in your own computer. If error(s), the version of python/packages may not good for it. Consider (re-install) Anaconda.\n"
   ]
  },
  {
   "cell_type": "code",
   "execution_count": null,
   "metadata": {
    "collapsed": true
   },
   "outputs": [],
   "source": []
  }
 ],
 "metadata": {
  "kernelspec": {
   "display_name": "Python 3",
   "language": "python",
   "name": "python3"
  },
  "language_info": {
   "codemirror_mode": {
    "name": "ipython",
    "version": 3
   },
   "file_extension": ".py",
   "mimetype": "text/x-python",
   "name": "python",
   "nbconvert_exporter": "python",
   "pygments_lexer": "ipython3",
   "version": "3.6.3"
  }
 },
 "nbformat": 4,
 "nbformat_minor": 2
}
