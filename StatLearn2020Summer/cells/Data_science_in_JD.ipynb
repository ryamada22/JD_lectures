{
 "cells": [
  {
   "cell_type": "markdown",
   "metadata": {
    "deletable": true,
    "editable": true
   },
   "source": [
    "# Data science in JD course JD専攻におけるデータサイエンス"
   ]
  },
  {
   "cell_type": "markdown",
   "metadata": {
    "deletable": true,
    "editable": true
   },
   "source": [
    "## What is data science in brief 簡単に言うとデータサイエンスとは何か\n",
    "\n",
    "Data science is a study field to understand something variable based on samples.\n",
    "\n",
    "データサイエンスはばらつきのある何かを、標本に基づいて理解しようとする学問分野である。"
   ]
  },
  {
   "cell_type": "markdown",
   "metadata": {
    "deletable": true,
    "editable": true
   },
   "source": [
    "## It is easy but difficult 簡単だけれど難しい\n",
    "\n",
    "### It is easy 簡単だ\n",
    "\n",
    "There are multiple but not so many things we have to understand to be an independent data science specialist in quantitative biology.\n",
    "\n",
    "量的生物学での独立したデータサイエンティストとして理解しなくてはならないことは複数あるが、それほど多くはない。\n",
    "\n",
    "### It is difficult 難しい\n",
    "\n",
    "The ideas in data science are mutually related. Therefore, when you learn X, you may need to know Y but when you learn Y, you may need to know X.\n",
    "\n",
    "データサイエンスに現れる考え方は相互に関係しあっている。そのため、Xを学ぶときにYを知っている必要がある一方で、Yを学ぶときにXを知っている必要があるかもしれない。\n",
    "\n",
    "Because of this difficulty, don't try to understand all at once. Learn X without knowledge on Y, first. You may find your understanding of X is not clear enough. Then learn Y with limited understanding of X. You will understand Y better than the case you learn Y without knowledge on X. Now you should come back to X and re-learn X. You will find something new on X because of your knowledge on Y.\n",
    "\n",
    "このような難しさがあるので、すべてを一度に理解しようとしないことが大事である。Yについての知識なしにXをまず学ぶ。Xが十分に分かった感じがしないかもしれない。ここでXについての限られた理解に基づいてYを学ぶ。そうするとXについて学ばずにYを学ぶ場合に比べて、Yの理解はよりよいものなっているだろう。ここでもう一度Xを学ぶこと。Yに関する知識のお蔭でXについて新たな発見があるだろう。"
   ]
  },
  {
   "cell_type": "markdown",
   "metadata": {
    "deletable": true,
    "editable": true
   },
   "source": [
    "## What are the multiple things to understand as basics?  理解するべき複数の基礎事項とは何か？\n",
    "\n",
    "+ Stochastic phenomena, random variables and distributions 確率事象と確率変数と分布\n",
    "+ The number of random variables and dimension and space 確率変数の数と次元と空間\n",
    "+ The types of tasks タスクの種類\n",
    "+ Statistical analyses and machine learnings 統計解析と機械学習\n",
    "+ Parametric and non-parametric パラメトリックとノン・パラメトリック\n",
    "+ Mathematics to handle distributions, relations, changes and space 分布・関係・変化・空間のための数学\n",
    "+ Hndling skills of data with computer データを計算機で扱うスキル"
   ]
  },
  {
   "cell_type": "markdown",
   "metadata": {
    "deletable": true,
    "editable": true
   },
   "source": [
    "## Structure of lectures for data science in JD course JD専攻におけるデータサイエンス講義の構造\n",
    "\n",
    "Every semester, three classes are available. 各半期に３つのクラスが開講される。\n",
    "\n",
    "* Math and basics of statistica analyses with R 数学と統計解析をRとともに\n",
    "* Machine learning approaches with Python 機械学習をPythonとともに\n",
    "* Application of knowledge and skills to understand methods being used in papers 論文に使われる手法を理解するために、どのようにデータサイエンスの知識とスキルを活用するかの実践\n",
    "\n",
    "All classes share the same genetic/quantitative biological topics. Therefore they have some duplications each other but they support each other as well. \n",
    "\n",
    "すべてのクラスが遺伝的・量的生物学的な題材を共有します。そのため、ある程度の重複がありますが、それぞれが互いに補完し合います。\n",
    "\n",
    "\n"
   ]
  },
  {
   "cell_type": "markdown",
   "metadata": {
    "collapsed": false,
    "deletable": true,
    "editable": true
   },
   "source": [
    "## Overvies of Data Science Classes Presented by Unit of Statistical Genetics"
   ]
  }
 ],
 "metadata": {
  "kernelspec": {
   "display_name": "R",
   "language": "R",
   "name": "ir"
  },
  "language_info": {
   "codemirror_mode": "r",
   "file_extension": ".r",
   "mimetype": "text/x-r-source",
   "name": "R",
   "pygments_lexer": "r",
   "version": "3.4.0"
  }
 },
 "nbformat": 4,
 "nbformat_minor": 0
}
