{
 "cells": [
  {
   "cell_type": "markdown",
   "metadata": {
    "deletable": true,
    "editable": true
   },
   "source": [
    "# Statistical Analysis vs. Machine Learning 統計解析 vs. 機械学習"
   ]
  },
  {
   "cell_type": "markdown",
   "metadata": {
    "deletable": true,
    "editable": true
   },
   "source": [
    "## Common points 共通点\n",
    "\n",
    "+ They use data. データを用いる。\n",
    "+ They output information summarizing data. データをかいつまんだ情報としての出力を得る。\n",
    "+ Computers can transform data into outputs. データから出力への変換は計算機が実行可能である。\n",
    "+ Statistical analysis and machine learning are principally same. 基本的には、両者は同じものと考えてよい。"
   ]
  },
  {
   "cell_type": "markdown",
   "metadata": {
    "deletable": true,
    "editable": true
   },
   "source": [
    "## Different points 相違点\n",
    "\n",
    "+ Statistical analysis was in existence before computers. Therefore, the number of calculations of statistical analysis tends to be small. Statistical analysis tends to be based on mathematical expressions, functions and their solutions, which lessens the number of calculations. 統計解析は計算機の登場以前から存在する。したがって、計算回数が少ない解析であることが多い。また、計算回数が少なくするために、数式・数学関数・それらの数学的解などを活用することが多い。\n",
    "+ Machine learning becomes possible upon the appearance of machine ~ computers and the processes that computers can do, such as the procedures requiring many calculation steps and/or case bifurcations. The procedures can be called algorithms. 機械学習は、「機械～計算機」の登場により可能になった処理に基づく。それは、計算手続き回数や場合分けが多いなど、計算機にやらせることで実現する処理であることが多い。その処理をアルゴリズムと呼ぶことが多い。"
   ]
  },
  {
   "cell_type": "markdown",
   "metadata": {
    "deletable": true,
    "editable": true
   },
   "source": [
    "## Other features その他の特徴\n",
    "\n",
    "+ The principal tools of statistical analysis are probability and likelihood. 統計解析は確率・尤度を主要な道具とする。\n",
    "+ The main tasks of data science are test, estimation, classifcation, and prediction. Among the tasks, \"test\" is a task of statistical analysis but it may not be considered as a task of machine learning. データサイエンスの主要なタスクは、検定・推定・分類・予測であるが、そのうち、検定は統計解析のタスクであって機械学習のタスクではないと考えることもある。\n",
    "+ Classification is a task of machine learning but may not be one of statistical analysis. 分類は機械学習のタスクであって、統計手法のタスクと考えないことがあるかもしれない。\n",
    "+ Prediction in statistical analysis is an application of an estimated model to a new sample or calculation of conditional probability for a new sample. Prediction in machine learning is an application of  rule(s) that are learned to a new sample, that are usually much more complicated than the application of a model in statistical analysis. 統計解析における予測は、推定モデルを新規サンプルに適用したり、条件付き確率を計算することである。機械学習における予測は学習したルールを新規サンプルに適用することであるが、このルールは統計解析におけるモデルよりもはるかに複雑なものを想定していることが多い。\n",
    "\n",
    "See [Test Estimation Classification Prediction](./Test_Estimation_Classification_Prediction.ipynb).\n",
    "\n",
    "[検定 推定 分類 予測](./Test_Estimation_Classification_Prediction.ipynb)を見よ。"
   ]
  },
  {
   "cell_type": "code",
   "execution_count": null,
   "metadata": {
    "collapsed": true,
    "deletable": true,
    "editable": true
   },
   "outputs": [],
   "source": []
  }
 ],
 "metadata": {
  "kernelspec": {
   "display_name": "Python 2",
   "language": "python",
   "name": "python2"
  },
  "language_info": {
   "codemirror_mode": {
    "name": "ipython",
    "version": 2
   },
   "file_extension": ".py",
   "mimetype": "text/x-python",
   "name": "python",
   "nbconvert_exporter": "python",
   "pygments_lexer": "ipython2",
   "version": "2.7.13"
  }
 },
 "nbformat": 4,
 "nbformat_minor": 2
}
