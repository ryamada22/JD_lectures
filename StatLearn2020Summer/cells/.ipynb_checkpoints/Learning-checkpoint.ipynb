{
 "cells": [
  {
   "cell_type": "markdown",
   "metadata": {},
   "source": [
    "# Learning 学習\n",
    "\n",
    "## Random variable with Probability Density and Learning 確率変数と確率分布と学習\n",
    "\n",
    "When something is uncertain, it is expressed as a random variable, that can take various values.\n",
    "\n",
    "何かしらはっきりしないものがあるとき、それを確率変数として表す。確率変数はさまざまな値を取りうる。\n",
    "\n",
    "The random variable have a probability mass distribution / probability density distribution.\n",
    "\n",
    "確率変数は確率質量分布/確率密度分布を持つ。\n",
    "\n",
    "Learning of \"this something\" is to know the probability mass/density distribution of this random variable, based on the samples.\n",
    "\n",
    "この何かを学習するとは、この確率変数の確率質量/密度分布を、標本から知ることである。\n",
    "\n",
    "\n",
    "\n",
    "What is a [Random variable](./Random_Variable.ipynb)?\n",
    "\n",
    "[確率変数](./Random_Variable.ipynb)とは？\n"
   ]
  },
  {
   "cell_type": "markdown",
   "metadata": {},
   "source": [
    "## Multiple variables and joint distribution 複数変数と同時分布\n",
    "\n",
    "When we are concerned with only one random variable, we should care its probability distribution.\n",
    "\n",
    "ただ一つの確率変数を問題にするとき、その確率分布を考える。\n",
    "\n",
    "When we are concerned something that is occurence of multiple random variables at once, we should care their [joint probability distribution](https://en.wikipedia.org/wiki/Joint_probability_distribution).\n",
    "\n",
    "複数の確率変数が同時に起きることを問題にするとき、それらの[同時分布](https://en.wikipedia.org/wiki/Joint_probability_distribution)を考える。\n",
    "\n",
    "### Relation of Variables and Joint Distribution 変数の関係と同時分布\n",
    "\n",
    "When multiple random variables are independent each other, their joint distibution is a product of probability distribution of individual random variables. Therefore, the joint distribution is determined only by the distributions of individual variables. What we should know is the distributions of individual variables.\n",
    "\n",
    "複数変数が相互に独立であるとき、それらの同時分布は個々の確率変数の確率分布の積である。したがって、個々の変数の分布のみから、同時分布は確定する。知るべきなのは、個々の変数の分布だけで良い。\n",
    "\n",
    "When multiple random variables are mutually dependent, their joint distribution is not determined by the distributions of individual variables. Therefore, we should know the joint distribution itself rather than the distributions of individual variables.\n",
    "\n",
    "複数変数が相互に独立でないときには、同時分布は個々の変数の分布からは決まらない。したがって、個々の変数の分布ではなく、同時分布そのものを知る必要がある。"
   ]
  },
  {
   "cell_type": "markdown",
   "metadata": {},
   "source": [
    "## Assignment 課題\n",
    "\n",
    "Using R, generate random samples from a bi-variate normal distribution and plot them."
   ]
  }
 ],
 "metadata": {
  "kernelspec": {
   "display_name": "R",
   "language": "R",
   "name": "ir"
  },
  "language_info": {
   "codemirror_mode": "r",
   "file_extension": ".r",
   "mimetype": "text/x-r-source",
   "name": "R",
   "pygments_lexer": "r",
   "version": "3.4.1"
  }
 },
 "nbformat": 4,
 "nbformat_minor": 0
}
