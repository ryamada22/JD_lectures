{
 "cells": [
  {
   "cell_type": "markdown",
   "metadata": {},
   "source": [
    "# k-Nearest Neighbor Method\n",
    "\n",
    "+ Class labels are decided by the average among neighbors.\n",
    "+ The number of neighbors, k, changes the result of classification; the smaller, finer and the bigger, smoother."
   ]
  },
  {
   "cell_type": "markdown",
   "metadata": {},
   "source": [
    "# Task\n",
    "\n",
    "+ n samples\n",
    "+ 2 features\n",
    "+ 2 categories\n",
    "+ Classification"
   ]
  },
  {
   "cell_type": "markdown",
   "metadata": {},
   "source": [
    "# Definition 定義\n",
    "\n",
    "$$\n",
    "\\hat{Y}(x) = \\frac{1}{k} \\sum_{x_i \\in N_k(x) } y_i  ,\n",
    "$$\n",
    "\n",
    "where $N_k(x)$ is the neighborhood of x defined by the k closest points $x_i$. \n",
    "\n",
    "# k=1\n",
    "\n",
    "When k=1, the space is classified as a Voronoi diagram.\n",
    "\n",
    "[Voronoi diagram](https://en.wikipedia.org/wiki/Voronoi_diagram)\n",
    "\n",
    "[ボロノイ図](https://en.wikipedia.org/wiki/Voronoi_diagram)\n",
    "\n",
    "## Reference 参考\n",
    "\n",
    "The Voronoi diagram of a set of points is dual to its [Delaunay triangulation](https://en.wikipedia.org/wiki/Delaunay_triangulation).\n",
    "\n",
    "点の集合のボロノイ図は[ドロネー三角化](https://en.wikipedia.org/wiki/Delaunay_triangulation)の双対に相当する。\n",
    "\n",
    "# k > 1\n",
    "\n",
    "When k > 1, $\\hat{Y}(x)$ is an average of $Y(x)$ values of points nearby, that means the effect of each point nearby is \"averaged\" or \"smoothed\".\n",
    "\n",
    "Therefore, $k$ is a smoothing parameter.\n",
    "\n",
    "# Example : kNN (k=5)\n",
    "\n",
    "We apply kNN (k=5) method to the data set and check how many samples were labeled wrong (error rate of training samples).\n"
   ]
  },
  {
   "cell_type": "code",
   "execution_count": null,
   "metadata": {},
   "outputs": [],
   "source": []
  }
 ],
 "metadata": {
  "kernelspec": {
   "display_name": "R",
   "language": "R",
   "name": "ir"
  },
  "language_info": {
   "codemirror_mode": "r",
   "file_extension": ".r",
   "mimetype": "text/x-r-source",
   "name": "R",
   "pygments_lexer": "r",
   "version": "3.4.1"
  }
 },
 "nbformat": 4,
 "nbformat_minor": 2
}
