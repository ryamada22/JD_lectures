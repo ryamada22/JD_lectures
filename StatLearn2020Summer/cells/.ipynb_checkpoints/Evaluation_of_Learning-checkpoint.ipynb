{
 "cells": [
  {
   "cell_type": "markdown",
   "metadata": {},
   "source": [
    "# Example of Learning\n",
    "\n",
    "## Least-Square Method and k-Nearest Neighbor Method\n",
    "\n",
    "+ To learn the important ideas, we need an example of learning tasks.\n",
    "+ A task, classification, with two methods, least-square method and k-nearest neighbor method\n",
    "\n",
    "Read [Example of Classification](../cells/Classification_Example.ipynb)\n",
    "\n",
    "# Training Set and Test Set\n",
    "\n",
    "+ Training samples are the samples that are used as inputs of a learning method. The samples have label values that are the ANSWER of classification.\n",
    "\n",
    "+ Test samples are the samples that are not used as inputs of a learning method. The samples have label values that are the ANSWER of classification.\n",
    "\n",
    "\n",
    "\n",
    "# Evaluation of learned classification rules\n",
    "\n",
    "+ Error rate of training set\n",
    "+ Error rate of test set\n",
    "\n",
    "Read [Error Rates of Training and Test Sets](../cells/Error_Rates_of_Training_and_Test_Sets.ipynb).\n",
    "\n",
    "# Evaluation of methods that return classification rules\n",
    "+ Bias and Variance\n",
    "+ Bias-Variance Tradeoff\n",
    "+ Overfitting\n",
    "\n",
    "Read [Evaluation of Learning Methods](../cells/Evaluation_of_Learning_Methods.ipynb).\n",
    "\n",
    "\n",
    "\n",
    "# Assignment 課題\n",
    "\n",
    "+ When a distribution of population is known and it is possible to generate sample sets, how do you evaluate/compare performance of the least square method and k-NN method with various k values?\n",
    "\n",
    "+ When a distribution of population is UNKNOWN but it is possible to generate sample sets, how do you evaluate/compare performance of them?\n",
    "\n",
    "+ When a distribution of population is UNKNOWN and it is NOT possible to generate sample sets, how do you evaluate/compare performance of them?\n",
    "\n"
   ]
  },
  {
   "cell_type": "code",
   "execution_count": null,
   "metadata": {},
   "outputs": [],
   "source": []
  }
 ],
 "metadata": {
  "kernelspec": {
   "display_name": "R",
   "language": "R",
   "name": "ir"
  },
  "language_info": {
   "codemirror_mode": "r",
   "file_extension": ".r",
   "mimetype": "text/x-r-source",
   "name": "R",
   "pygments_lexer": "r",
   "version": "3.4.1"
  }
 },
 "nbformat": 4,
 "nbformat_minor": 2
}
