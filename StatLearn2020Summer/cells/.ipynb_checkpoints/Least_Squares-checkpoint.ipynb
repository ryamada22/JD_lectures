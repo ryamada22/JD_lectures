{
 "cells": [
  {
   "cell_type": "markdown",
   "metadata": {},
   "source": [
    "\n",
    "# 最小二乗法を使うとき When to use least squares\n",
    "\n",
    "## One Variable\n",
    "Assume one explanatory variable and one dependent variable, for which linear regression is planned.\n",
    "\n",
    "１個の説明変数、１個の被説明変数があって、線形回帰を行うとき。\n",
    "$$\n",
    "Y \\sim aX + b\n",
    "$$\n",
    "\n",
    "We want to find $a$ and $b$ that minimize \n",
    "\n",
    "$$\n",
    "\\sum_{i=1}^n (y-\\hat{y})^2 = \\sum_{i=1}^n (y_i-(ax_i+b))^2\n",
    "$$\n",
    "\n",
    "を最小にするような、$a,b$の値を求める。\n",
    "\n",
    "This is a quadratic equation when y and X are given.\n",
    "\n",
    "yとXが与えられているとき、これは二次方程式。\n",
    "\n",
    "## Multiple Variables\n",
    "\n",
    "When there are multiple explanatory variables, $a$ should be replaced by a vector $\\mathbf{a}$.\n",
    "\n",
    "複数の説明変数があって、１個の被説明変数があるときには、説明変数の数だけの係数からなるベクトル$\\mathbf{a}$を用いて\n",
    "\n",
    "$$\n",
    "y \\sim X \\mathbf{a} + b\n",
    "$$\n",
    "というモデルになる。\n",
    "\n",
    "The following should be minimized.\n",
    "\n",
    "$$\n",
    "\\sum_{i=1}^n (y_i-\\hat{y_i})^2 = \\sum_{i=1}^n (y_i-(x_i^T a +b))^2 = ||y-(Xa+b)||^2\n",
    "$$\n",
    "を最小にするような$\\mathbf{a},b$を求める。\n",
    "\n",
    "This is a quadratic equation when y and X are given.\n",
    "\n",
    "yとXが与えられているとき、これは二次方程式。\n",
    "\n",
    "# $b=0$ or $b != 0$ $b=0$の場合と、そうでない場合\n",
    "\n",
    "## $b=0$\n",
    "\n",
    "今、$b=0$と固定したモデルの場合には\n",
    "\n",
    "When $b=0$, the formula is,\n",
    "$$\n",
    "y \\sim Xa\n",
    "$$\n",
    "\n",
    "and the following should be minimized.\n",
    "\n",
    "$$\n",
    "||y-X\\mathbf{a}||^2\n",
    "$$\n",
    "を最小にするような$\\mathbf{a}$を求めることが課題である。\n",
    "\n",
    "## $b != 0$\n",
    "\n",
    "$b=0$でない場合には、$X$に１列足して、$X'$とする。\n",
    "\n",
    "加えた列は、すべて値を1とする。\n",
    "\n",
    "When $b !=0 $, add one element to $\\mathbf{a}$.\n",
    "\n",
    "また、$\\mathbf{a}$にも、１つ要素を増やしてやる。\n",
    "\n",
    "増やした$\\mathbf{a}$ 成分に対応して $X$も１成分増やす。その値は、全サンプルで等しく$1$とする。\n",
    "\n",
    "For the additional element of $\\mathbf{a}$, one element should be added for $X$.\n",
    "The value of $X$ for it should be $1$ for all the samples.\n",
    "\n",
    "増やした分の推定値が$b$になる。\n",
    "\n",
    "The estimated value for the additional $a$ is the estimate of $b$.\n",
    "\n",
    "# How to do ? どうやるか\n",
    "\n",
    "$$\n",
    "a = (X^TX)^{-1}X^T y\n",
    "$$\n",
    "\n",
    "Believe this, and let's calculate $a$.\n",
    "とにかく、計算してみる。\n",
    "\n",
    "Read [Calculus for Least Squares](./Calculus_for_Least_Squares.ipynb) for the background of this formula.\n",
    "\n",
    "この式の背景は[Calculus for Least Squares](./Calculus_for_Least_Squares.ipynb)\n"
   ]
  },
  {
   "cell_type": "code",
   "execution_count": 14,
   "metadata": {
    "collapsed": false
   },
   "outputs": [
    {
     "data": {
      "text/html": [
       "-1.00379761441103"
      ],
      "text/latex": [
       "-1.00379761441103"
      ],
      "text/markdown": [
       "-1.00379761441103"
      ],
      "text/plain": [
       "[1] -1.003798"
      ]
     },
     "metadata": {},
     "output_type": "display_data"
    },
    {
     "data": {
      "image/png": "[encoded data removed]",
      "text/plain": [
       "plot without title"
      ]
     },
     "metadata": {},
     "output_type": "display_data"
    }
   ],
   "source": [
    "d <- 1\n",
    "n <- 1000\n",
    "X <- matrix(rnorm(d*n),ncol=d)\n",
    "a <- rnorm(d)\n",
    "b <- rnorm(1)\n",
    "a\n",
    "y <- X %*% a + b + rnorm(n)*0.1\n",
    "plot(X,y)\n",
    "abline(b,a,col=2)\n"
   ]
  },
  {
   "cell_type": "code",
   "execution_count": 15,
   "metadata": {
    "collapsed": false
   },
   "outputs": [
    {
     "data": {
      "text/html": [
       "<table>\n",
       "<tbody>\n",
       "\t<tr><td>-1.005632</td></tr>\n",
       "\t<tr><td> 1.829206</td></tr>\n",
       "</tbody>\n",
       "</table>\n"
      ],
      "text/latex": [
       "\\begin{tabular}{l}\n",
       "\t -1.005632\\\\\n",
       "\t  1.829206\\\\\n",
       "\\end{tabular}\n"
      ],
      "text/markdown": [
       "\n",
       "| -1.005632 | \n",
       "|  1.829206 | \n",
       "\n",
       "\n"
      ],
      "text/plain": [
       "     [,1]     \n",
       "[1,] -1.005632\n",
       "[2,]  1.829206"
      ]
     },
     "metadata": {},
     "output_type": "display_data"
    },
    {
     "name": "stdout",
     "output_type": "stream",
     "text": [
      "[1] -1.003798  1.832579\n"
     ]
    }
   ],
   "source": [
    "X. <- cbind(X,rep(1,n))\n",
    "a. <- solve(t(X.)%*%X.)%*%t(X.) %*% y\n",
    "a.\n",
    "print(c(a,b))\n"
   ]
  },
  {
   "cell_type": "markdown",
   "metadata": {},
   "source": [
    "確かにうまく行っている。\n",
    "\n",
    "## 式を眺める\n",
    "\n",
    "$$\n",
    "a = (X^T X)^{-1} X^T y\n",
    "$$\n",
    "どうしてこの式でよいのか、というのは、ふつうの統計学の教科書に書いてある。\n",
    "\n",
    "それよりは、この式の行列のサイズを確認することに時間を使ってみよう。\n",
    "\n",
    "+ $X$は$n\\times d$行列。\n",
    "\n",
    "+ $X^T$は$d \\times n$ 行列。\n",
    "\n",
    "+ $X^TX$ は$d \\times d$正方行列。\n",
    "\n",
    "+ $(X^TX)^{-1}$も$d \\times d$ 正方行列。\n",
    "\n",
    "+ $(X^TX)^{-1}X^T$は$d\\times n$ 行列。\n",
    "\n",
    "+ $(X^TX)^{-1}X^T y$ は$d \\times 1$ 行列。\n",
    "\n",
    "求めたい$\\mathbf{a}$のそれと一致している。\n",
    "\n"
   ]
  },
  {
   "cell_type": "code",
   "execution_count": 16,
   "metadata": {
    "collapsed": false
   },
   "outputs": [
    {
     "data": {
      "text/html": [
       "<ol class=list-inline>\n",
       "\t<li>1000</li>\n",
       "\t<li>2</li>\n",
       "</ol>\n"
      ],
      "text/latex": [
       "\\begin{enumerate*}\n",
       "\\item 1000\n",
       "\\item 2\n",
       "\\end{enumerate*}\n"
      ],
      "text/markdown": [
       "1. 1000\n",
       "2. 2\n",
       "\n",
       "\n"
      ],
      "text/plain": [
       "[1] 1000    2"
      ]
     },
     "metadata": {},
     "output_type": "display_data"
    },
    {
     "data": {
      "text/html": [
       "<ol class=list-inline>\n",
       "\t<li>2</li>\n",
       "\t<li>1000</li>\n",
       "</ol>\n"
      ],
      "text/latex": [
       "\\begin{enumerate*}\n",
       "\\item 2\n",
       "\\item 1000\n",
       "\\end{enumerate*}\n"
      ],
      "text/markdown": [
       "1. 2\n",
       "2. 1000\n",
       "\n",
       "\n"
      ],
      "text/plain": [
       "[1]    2 1000"
      ]
     },
     "metadata": {},
     "output_type": "display_data"
    },
    {
     "data": {
      "text/html": [
       "<ol class=list-inline>\n",
       "\t<li>2</li>\n",
       "\t<li>2</li>\n",
       "</ol>\n"
      ],
      "text/latex": [
       "\\begin{enumerate*}\n",
       "\\item 2\n",
       "\\item 2\n",
       "\\end{enumerate*}\n"
      ],
      "text/markdown": [
       "1. 2\n",
       "2. 2\n",
       "\n",
       "\n"
      ],
      "text/plain": [
       "[1] 2 2"
      ]
     },
     "metadata": {},
     "output_type": "display_data"
    },
    {
     "data": {
      "text/html": [
       "<ol class=list-inline>\n",
       "\t<li>2</li>\n",
       "\t<li>2</li>\n",
       "</ol>\n"
      ],
      "text/latex": [
       "\\begin{enumerate*}\n",
       "\\item 2\n",
       "\\item 2\n",
       "\\end{enumerate*}\n"
      ],
      "text/markdown": [
       "1. 2\n",
       "2. 2\n",
       "\n",
       "\n"
      ],
      "text/plain": [
       "[1] 2 2"
      ]
     },
     "metadata": {},
     "output_type": "display_data"
    },
    {
     "data": {
      "text/html": [
       "<ol class=list-inline>\n",
       "\t<li>2</li>\n",
       "\t<li>1000</li>\n",
       "</ol>\n"
      ],
      "text/latex": [
       "\\begin{enumerate*}\n",
       "\\item 2\n",
       "\\item 1000\n",
       "\\end{enumerate*}\n"
      ],
      "text/markdown": [
       "1. 2\n",
       "2. 1000\n",
       "\n",
       "\n"
      ],
      "text/plain": [
       "[1]    2 1000"
      ]
     },
     "metadata": {},
     "output_type": "display_data"
    },
    {
     "data": {
      "text/html": [
       "<ol class=list-inline>\n",
       "\t<li>2</li>\n",
       "\t<li>1</li>\n",
       "</ol>\n"
      ],
      "text/latex": [
       "\\begin{enumerate*}\n",
       "\\item 2\n",
       "\\item 1\n",
       "\\end{enumerate*}\n"
      ],
      "text/markdown": [
       "1. 2\n",
       "2. 1\n",
       "\n",
       "\n"
      ],
      "text/plain": [
       "[1] 2 1"
      ]
     },
     "metadata": {},
     "output_type": "display_data"
    }
   ],
   "source": [
    "dim(X.)\n",
    "dim(t(X.))\n",
    "dim(t(X.)%*%X.)\n",
    "dim(solve(t(X.)%*%X.))\n",
    "dim(solve(t(X.)%*%X.)%*%t(X.))\n",
    "dim(solve(t(X.)%*%X.)%*%t(X.)%*%y)\n"
   ]
  },
  {
   "cell_type": "markdown",
   "metadata": {},
   "source": [
    "この要素の意味合いはなんだろうか？\n",
    "\n",
    "+ $X$は$d$個の変数の値を列ベクトルとして持つ行列。\n",
    "\n",
    "+ $X^T$は$n$サンプルごとの変数の値を列ベクトルとして持つ行列。\n",
    "\n",
    "+ $X^TX$ は変数のペアワイズな内積を要素とする行列。異なる二つのベクトルの内積が大きいということは、それらが近い関係にあることを意味し、内積が0に近いということは、相互に独立性が強いことを意味する。\n",
    "\n",
    "+ $(X^TX)^{-1}$は、ペアワイズな内積の逆数のような行列。逆にしたので、相互に独立な間柄を大きくとり扱い、相互に近い関係は軽く扱おうとする行列\n",
    "\n",
    "+ $(X^TX)^{-1}X^T$は変数を重く扱うか軽く扱うかを考慮して、各サンプルの変数値を加減しなおした値を格納した行列\n",
    "\n",
    "+ $(X^TX)^{-1}X^T y$ は変数の軽重を考慮した上で、それが$y$の値を大きくする方に働いているか、小さい方に働いているかで重みづけをして足し合わせた値。\n",
    "\n",
    "+ それが係数。\n",
    "\n",
    "もし、複数の説明変数があり、相互に相関が強いとすると、変数の重みづけの際に、両者の重みを小さ目にすることになり、結果として、個々の説明変数の係数は小さ目にすることになる。\n",
    "\n",
    "以下のプロットを見ると、説明変数の値と、重みづけを勘案しなおした値とは線形な関係にあることが解る。\n",
    "\n"
   ]
  },
  {
   "cell_type": "code",
   "execution_count": 7,
   "metadata": {
    "collapsed": false
   },
   "outputs": [
    {
     "data": {
      "text/html": [
       "<ol class=list-inline>\n",
       "\t<li>0.740914266431765</li>\n",
       "\t<li>-0.873735995359646</li>\n",
       "\t<li>0.157996717855688</li>\n",
       "</ol>\n"
      ],
      "text/latex": [
       "\\begin{enumerate*}\n",
       "\\item 0.740914266431765\n",
       "\\item -0.873735995359646\n",
       "\\item 0.157996717855688\n",
       "\\end{enumerate*}\n"
      ],
      "text/markdown": [
       "1. 0.740914266431765\n",
       "2. -0.873735995359646\n",
       "3. 0.157996717855688\n",
       "\n",
       "\n"
      ],
      "text/plain": [
       "[1]  0.7409143 -0.8737360  0.1579967"
      ]
     },
     "metadata": {},
     "output_type": "display_data"
    },
    {
     "data": {
      "text/html": [
       "<table>\n",
       "<tbody>\n",
       "\t<tr><td> 0.7428951</td></tr>\n",
       "\t<tr><td>-0.8736049</td></tr>\n",
       "\t<tr><td> 0.1584154</td></tr>\n",
       "\t<tr><td>-0.5174425</td></tr>\n",
       "</tbody>\n",
       "</table>\n"
      ],
      "text/latex": [
       "\\begin{tabular}{l}\n",
       "\t  0.7428951\\\\\n",
       "\t -0.8736049\\\\\n",
       "\t  0.1584154\\\\\n",
       "\t -0.5174425\\\\\n",
       "\\end{tabular}\n"
      ],
      "text/markdown": [
       "\n",
       "|  0.7428951 | \n",
       "| -0.8736049 | \n",
       "|  0.1584154 | \n",
       "| -0.5174425 | \n",
       "\n",
       "\n"
      ],
      "text/plain": [
       "     [,1]      \n",
       "[1,]  0.7428951\n",
       "[2,] -0.8736049\n",
       "[3,]  0.1584154\n",
       "[4,] -0.5174425"
      ]
     },
     "metadata": {},
     "output_type": "display_data"
    },
    {
     "name": "stdout",
     "output_type": "stream",
     "text": [
      "[1]  0.7409143 -0.8737360  0.1579967 -0.5089490\n"
     ]
    }
   ],
   "source": [
    "library(mvtnorm)\n",
    "d <- 3\n",
    "n <- 1000\n",
    "X <- rmvnorm(n,mean=rep(0,d),sigma=diag(rep(1,d)))\n",
    "a <- rnorm(d)\n",
    "b <- rnorm(1)\n",
    "a\n",
    "y <- X %*% a + b + rnorm(n)*0.1\n",
    "X. <- cbind(X,rep(1,n))\n",
    "a. <- solve(t(X.)%*%X.)%*%t(X.) %*% y\n",
    "a.\n",
    "print(c(a,b))\n"
   ]
  },
  {
   "cell_type": "code",
   "execution_count": 17,
   "metadata": {
    "collapsed": false
   },
   "outputs": [
    {
     "data": {
      "image/png": "[encoded data removed]",
      "text/plain": [
       "plot without title"
      ]
     },
     "metadata": {},
     "output_type": "display_data"
    }
   ],
   "source": [
    "plot(X.[,1],(solve(t(X.)%*%X.)%*%t(X.))[1,])\n",
    "#plot(X.[,2],(solve(t(X.)%*%X.)%*%t(X.))[2,])\n"
   ]
  },
  {
   "cell_type": "markdown",
   "metadata": {},
   "source": [
    "重み勘案前と後の値の関係をプロットしてみる。\n",
    "\n",
    "これは３つの説明変数が相互に独立な場合である。\n",
    "なぜなら、行列$X$を作ったときに３変数の分散共分散行列を単位行列で与えたからである。\n",
    "\n"
   ]
  },
  {
   "cell_type": "code",
   "execution_count": 18,
   "metadata": {
    "collapsed": false
   },
   "outputs": [
    {
     "data": {
      "image/png": "[encoded data removed]",
      "text/plain": [
       "plot without title"
      ]
     },
     "metadata": {},
     "output_type": "display_data"
    },
    {
     "ename": "ERROR",
     "evalue": "Error in X.[, 3]:  添え字が許される範囲外です \n",
     "output_type": "error",
     "traceback": [
      "Error in X.[, 3]:  添え字が許される範囲外です \nTraceback:\n",
      "1. plot(X.[, 3], (solve(t(X.) %*% X.) %*% t(X.))[3, ])"
     ]
    },
    {
     "data": {
      "image/png": "[encoded data removed]",
      "text/plain": [
       "plot without title"
      ]
     },
     "metadata": {},
     "output_type": "display_data"
    }
   ],
   "source": [
    "plot(X.[,1],(solve(t(X.)%*%X.)%*%t(X.))[1,])\n",
    "plot(X.[,2],(solve(t(X.)%*%X.)%*%t(X.))[2,])\n",
    "plot(X.[,3],(solve(t(X.)%*%X.)%*%t(X.))[3,])\n",
    "\n"
   ]
  },
  {
   "cell_type": "markdown",
   "metadata": {},
   "source": [
    "# Exercise 1\n",
    "## Exercise 1-1\n",
    "\n",
    "説明変数３個の場合で、その３変数の分散共分散行列が単位行列でないように作成せよ。\n",
    "正定値行列の作成の仕方を思い出すこと。\n",
    "\n",
    "そのうえで、勘案前後のプロットをせよ。\n",
    "\n",
    "各変数の間に相関が生じているので、勘案のされ方は、各サンプルの３変数の値の取り方によって差が生じるため、勘案前後の関係にばらつきが生じることを確認せよ。\n",
    "\n"
   ]
  },
  {
   "cell_type": "code",
   "execution_count": 21,
   "metadata": {
    "collapsed": false
   },
   "outputs": [
    {
     "data": {
      "text/html": [
       "<ol class=list-inline>\n",
       "\t<li>1.61137737700675</li>\n",
       "\t<li>1.42024552780009</li>\n",
       "\t<li>-1.86912302588978</li>\n",
       "</ol>\n"
      ],
      "text/latex": [
       "\\begin{enumerate*}\n",
       "\\item 1.61137737700675\n",
       "\\item 1.42024552780009\n",
       "\\item -1.86912302588978\n",
       "\\end{enumerate*}\n"
      ],
      "text/markdown": [
       "1. 1.61137737700675\n",
       "2. 1.42024552780009\n",
       "3. -1.86912302588978\n",
       "\n",
       "\n"
      ],
      "text/plain": [
       "[1]  1.611377  1.420246 -1.869123"
      ]
     },
     "metadata": {},
     "output_type": "display_data"
    },
    {
     "data": {
      "text/html": [
       "<table>\n",
       "<tbody>\n",
       "\t<tr><td> 1.6158214</td></tr>\n",
       "\t<tr><td> 1.4375167</td></tr>\n",
       "\t<tr><td>-1.8746743</td></tr>\n",
       "\t<tr><td>-0.4008104</td></tr>\n",
       "</tbody>\n",
       "</table>\n"
      ],
      "text/latex": [
       "\\begin{tabular}{l}\n",
       "\t  1.6158214\\\\\n",
       "\t  1.4375167\\\\\n",
       "\t -1.8746743\\\\\n",
       "\t -0.4008104\\\\\n",
       "\\end{tabular}\n"
      ],
      "text/markdown": [
       "\n",
       "|  1.6158214 | \n",
       "|  1.4375167 | \n",
       "| -1.8746743 | \n",
       "| -0.4008104 | \n",
       "\n",
       "\n"
      ],
      "text/plain": [
       "     [,1]      \n",
       "[1,]  1.6158214\n",
       "[2,]  1.4375167\n",
       "[3,] -1.8746743\n",
       "[4,] -0.4008104"
      ]
     },
     "metadata": {},
     "output_type": "display_data"
    },
    {
     "name": "stdout",
     "output_type": "stream",
     "text": [
      "[1]  1.6113774  1.4202455 -1.8691230 -0.4061566\n"
     ]
    },
    {
     "data": {
      "image/png": "[encoded data removed]",
      "text/plain": [
       "plot without title"
      ]
     },
     "metadata": {},
     "output_type": "display_data"
    },
    {
     "data": {
      "image/png": "[encoded data removed]",
      "text/plain": [
       "plot without title"
      ]
     },
     "metadata": {},
     "output_type": "display_data"
    },
    {
     "data": {
      "image/png": "[encoded data removed]",
      "text/plain": [
       "plot without title"
      ]
     },
     "metadata": {},
     "output_type": "display_data"
    }
   ],
   "source": [
    "d <- 3\n",
    "library(GPArotation)\n",
    "R <- Random.Start(d)\n",
    "lambdas <- runif(d)\n",
    "M <- R %*% diag(lambdas) %*% t(R)\n",
    "X <- rmvnorm(n,mean=rep(0,d),sigma=M)\n",
    "a <- rnorm(d)\n",
    "b <- rnorm(1)\n",
    "a\n",
    "y <- X %*% a + b + rnorm(n)*0.1\n",
    "X. <- cbind(X,rep(1,n))\n",
    "a. <- solve(t(X.)%*%X.)%*%t(X.) %*% y\n",
    "a.\n",
    "print(c(a,b))\n",
    "plot(X.[,1],(solve(t(X.)%*%X.)%*%t(X.))[1,])\n",
    "plot(X.[,2],(solve(t(X.)%*%X.)%*%t(X.))[2,])\n",
    "plot(X.[,3],(solve(t(X.)%*%X.)%*%t(X.))[3,])\n",
    "\n"
   ]
  },
  {
   "cell_type": "markdown",
   "metadata": {},
   "source": [
    "# 固有値分解とは違う分解、QR分解、特異値分解\n",
    "\n",
    "実際に\n",
    "$$\n",
    "\\mathbf{a} = (X^TX)^{-1}X^T\n",
    "$$\n",
    "をこのまま解こうとすると、$X^TX$の逆行列を計算する必要が出る。\n",
    "逆行列の計算は負荷が大きく誤差が出やすいという性質もあるので、逆行列を算出せずに、$\\mathbf{a}$を計算する方法がいくつか知られている。\n",
    "\n",
    "いずれも、対角化・三角化行列を活用する方法である。\n",
    "\n",
    "Rの線形回帰関数lm()では、デフォルトの計算方法としてQR法を取っていることが、lm()関数のソースを読むことで確認できる。\n",
    "\n",
    "# Exercise 2\n",
    "\n",
    "## Exercise 2-1\n",
    "Rの関数は、関数名をプロンプトに書き込むことで、そのコードが読めることがある。lm()関数もそのようにしてコードが読める関数である。lm()関数のコードを表示させ、QR法がデフォルトであることを確認し、どのようにしてそれを確認したかを説明せよ。\n"
   ]
  },
  {
   "cell_type": "code",
   "execution_count": 20,
   "metadata": {
    "collapsed": false
   },
   "outputs": [
    {
     "data": {
      "text/html": [
       "<pre class=language-r><code>function (formula, data, subset, weights, na.action, method = \"qr\", \n",
       "<span style=white-space:pre-wrap>    model = TRUE, x = FALSE, y = FALSE, qr = TRUE, singular.ok = TRUE, </span>\n",
       "<span style=white-space:pre-wrap>    contrasts = NULL, offset, ...) </span>\n",
       "{\n",
       "<span style=white-space:pre-wrap>    ret.x &lt;- x</span>\n",
       "<span style=white-space:pre-wrap>    ret.y &lt;- y</span>\n",
       "<span style=white-space:pre-wrap>    cl &lt;- match.call()</span>\n",
       "<span style=white-space:pre-wrap>    mf &lt;- match.call(expand.dots = FALSE)</span>\n",
       "<span style=white-space:pre-wrap>    m &lt;- match(c(\"formula\", \"data\", \"subset\", \"weights\", \"na.action\", </span>\n",
       "<span style=white-space:pre-wrap>        \"offset\"), names(mf), 0L)</span>\n",
       "<span style=white-space:pre-wrap>    mf &lt;- mf[c(1L, m)]</span>\n",
       "<span style=white-space:pre-wrap>    mf$drop.unused.levels &lt;- TRUE</span>\n",
       "<span style=white-space:pre-wrap>    mf[[1L]] &lt;- quote(stats::model.frame)</span>\n",
       "<span style=white-space:pre-wrap>    mf &lt;- eval(mf, parent.frame())</span>\n",
       "<span style=white-space:pre-wrap>    if (method == \"model.frame\") </span>\n",
       "<span style=white-space:pre-wrap>        return(mf)</span>\n",
       "<span style=white-space:pre-wrap>    else if (method != \"qr\") </span>\n",
       "<span style=white-space:pre-wrap>        warning(gettextf(\"method = '%s' is not supported. Using 'qr'\", </span>\n",
       "<span style=white-space:pre-wrap>            method), domain = NA)</span>\n",
       "<span style=white-space:pre-wrap>    mt &lt;- attr(mf, \"terms\")</span>\n",
       "<span style=white-space:pre-wrap>    y &lt;- model.response(mf, \"numeric\")</span>\n",
       "<span style=white-space:pre-wrap>    w &lt;- as.vector(model.weights(mf))</span>\n",
       "<span style=white-space:pre-wrap>    if (!is.null(w) &amp;&amp; !is.numeric(w)) </span>\n",
       "<span style=white-space:pre-wrap>        stop(\"'weights' must be a numeric vector\")</span>\n",
       "<span style=white-space:pre-wrap>    offset &lt;- as.vector(model.offset(mf))</span>\n",
       "<span style=white-space:pre-wrap>    if (!is.null(offset)) {</span>\n",
       "<span style=white-space:pre-wrap>        if (length(offset) != NROW(y)) </span>\n",
       "<span style=white-space:pre-wrap>            stop(gettextf(\"number of offsets is %d, should equal %d (number of observations)\", </span>\n",
       "<span style=white-space:pre-wrap>                length(offset), NROW(y)), domain = NA)</span>\n",
       "<span style=white-space:pre-wrap>    }</span>\n",
       "<span style=white-space:pre-wrap>    if (is.empty.model(mt)) {</span>\n",
       "<span style=white-space:pre-wrap>        x &lt;- NULL</span>\n",
       "<span style=white-space:pre-wrap>        z &lt;- list(coefficients = if (is.matrix(y)) matrix(, 0, </span>\n",
       "<span style=white-space:pre-wrap>            3) else numeric(), residuals = y, fitted.values = 0 * </span>\n",
       "<span style=white-space:pre-wrap>            y, weights = w, rank = 0L, df.residual = if (!is.null(w)) sum(w != </span>\n",
       "<span style=white-space:pre-wrap>            0) else if (is.matrix(y)) nrow(y) else length(y))</span>\n",
       "<span style=white-space:pre-wrap>        if (!is.null(offset)) {</span>\n",
       "<span style=white-space:pre-wrap>            z$fitted.values &lt;- offset</span>\n",
       "<span style=white-space:pre-wrap>            z$residuals &lt;- y - offset</span>\n",
       "<span style=white-space:pre-wrap>        }</span>\n",
       "<span style=white-space:pre-wrap>    }</span>\n",
       "<span style=white-space:pre-wrap>    else {</span>\n",
       "<span style=white-space:pre-wrap>        x &lt;- model.matrix(mt, mf, contrasts)</span>\n",
       "<span style=white-space:pre-wrap>        z &lt;- if (is.null(w)) </span>\n",
       "<span style=white-space:pre-wrap>            lm.fit(x, y, offset = offset, singular.ok = singular.ok, </span>\n",
       "<span style=white-space:pre-wrap>                ...)</span>\n",
       "<span style=white-space:pre-wrap>        else lm.wfit(x, y, w, offset = offset, singular.ok = singular.ok, </span>\n",
       "<span style=white-space:pre-wrap>            ...)</span>\n",
       "<span style=white-space:pre-wrap>    }</span>\n",
       "<span style=white-space:pre-wrap>    class(z) &lt;- c(if (is.matrix(y)) \"mlm\", \"lm\")</span>\n",
       "<span style=white-space:pre-wrap>    z$na.action &lt;- attr(mf, \"na.action\")</span>\n",
       "<span style=white-space:pre-wrap>    z$offset &lt;- offset</span>\n",
       "<span style=white-space:pre-wrap>    z$contrasts &lt;- attr(x, \"contrasts\")</span>\n",
       "<span style=white-space:pre-wrap>    z$xlevels &lt;- .getXlevels(mt, mf)</span>\n",
       "<span style=white-space:pre-wrap>    z$call &lt;- cl</span>\n",
       "<span style=white-space:pre-wrap>    z$terms &lt;- mt</span>\n",
       "<span style=white-space:pre-wrap>    if (model) </span>\n",
       "<span style=white-space:pre-wrap>        z$model &lt;- mf</span>\n",
       "<span style=white-space:pre-wrap>    if (ret.x) </span>\n",
       "<span style=white-space:pre-wrap>        z$x &lt;- x</span>\n",
       "<span style=white-space:pre-wrap>    if (ret.y) </span>\n",
       "<span style=white-space:pre-wrap>        z$y &lt;- y</span>\n",
       "<span style=white-space:pre-wrap>    if (!qr) </span>\n",
       "<span style=white-space:pre-wrap>        z$qr &lt;- NULL</span>\n",
       "<span style=white-space:pre-wrap>    z</span>\n",
       "}</code></pre>"
      ],
      "text/latex": [
       "\\begin{minted}{r}\n",
       "function (formula, data, subset, weights, na.action, method = \"qr\", \n",
       "    model = TRUE, x = FALSE, y = FALSE, qr = TRUE, singular.ok = TRUE, \n",
       "    contrasts = NULL, offset, ...) \n",
       "\\{\n",
       "    ret.x <- x\n",
       "    ret.y <- y\n",
       "    cl <- match.call()\n",
       "    mf <- match.call(expand.dots = FALSE)\n",
       "    m <- match(c(\"formula\", \"data\", \"subset\", \"weights\", \"na.action\", \n",
       "        \"offset\"), names(mf), 0L)\n",
       "    mf <- mf{[}c(1L, m){]}\n",
       "    mf\\$drop.unused.levels <- TRUE\n",
       "    mf{[}{[}1L{]}{]} <- quote(stats::model.frame)\n",
       "    mf <- eval(mf, parent.frame())\n",
       "    if (method == \"model.frame\") \n",
       "        return(mf)\n",
       "    else if (method != \"qr\") \n",
       "        warning(gettextf(\"method = '\\%s' is not supported. Using 'qr'\", \n",
       "            method), domain = NA)\n",
       "    mt <- attr(mf, \"terms\")\n",
       "    y <- model.response(mf, \"numeric\")\n",
       "    w <- as.vector(model.weights(mf))\n",
       "    if (!is.null(w) \\&\\& !is.numeric(w)) \n",
       "        stop(\"'weights' must be a numeric vector\")\n",
       "    offset <- as.vector(model.offset(mf))\n",
       "    if (!is.null(offset)) \\{\n",
       "        if (length(offset) != NROW(y)) \n",
       "            stop(gettextf(\"number of offsets is \\%d, should equal \\%d (number of observations)\", \n",
       "                length(offset), NROW(y)), domain = NA)\n",
       "    \\}\n",
       "    if (is.empty.model(mt)) \\{\n",
       "        x <- NULL\n",
       "        z <- list(coefficients = if (is.matrix(y)) matrix(, 0, \n",
       "            3) else numeric(), residuals = y, fitted.values = 0 * \n",
       "            y, weights = w, rank = 0L, df.residual = if (!is.null(w)) sum(w != \n",
       "            0) else if (is.matrix(y)) nrow(y) else length(y))\n",
       "        if (!is.null(offset)) \\{\n",
       "            z\\$fitted.values <- offset\n",
       "            z\\$residuals <- y - offset\n",
       "        \\}\n",
       "    \\}\n",
       "    else \\{\n",
       "        x <- model.matrix(mt, mf, contrasts)\n",
       "        z <- if (is.null(w)) \n",
       "            lm.fit(x, y, offset = offset, singular.ok = singular.ok, \n",
       "                ...)\n",
       "        else lm.wfit(x, y, w, offset = offset, singular.ok = singular.ok, \n",
       "            ...)\n",
       "    \\}\n",
       "    class(z) <- c(if (is.matrix(y)) \"mlm\", \"lm\")\n",
       "    z\\$na.action <- attr(mf, \"na.action\")\n",
       "    z\\$offset <- offset\n",
       "    z\\$contrasts <- attr(x, \"contrasts\")\n",
       "    z\\$xlevels <- .getXlevels(mt, mf)\n",
       "    z\\$call <- cl\n",
       "    z\\$terms <- mt\n",
       "    if (model) \n",
       "        z\\$model <- mf\n",
       "    if (ret.x) \n",
       "        z\\$x <- x\n",
       "    if (ret.y) \n",
       "        z\\$y <- y\n",
       "    if (!qr) \n",
       "        z\\$qr <- NULL\n",
       "    z\n",
       "\\}\n",
       "\\end{minted}"
      ],
      "text/markdown": [
       "```r\n",
       "function (formula, data, subset, weights, na.action, method = \"qr\", \n",
       "    model = TRUE, x = FALSE, y = FALSE, qr = TRUE, singular.ok = TRUE, \n",
       "    contrasts = NULL, offset, ...) \n",
       "{\n",
       "    ret.x <- x\n",
       "    ret.y <- y\n",
       "    cl <- match.call()\n",
       "    mf <- match.call(expand.dots = FALSE)\n",
       "    m <- match(c(\"formula\", \"data\", \"subset\", \"weights\", \"na.action\", \n",
       "        \"offset\"), names(mf), 0L)\n",
       "    mf <- mf[c(1L, m)]\n",
       "    mf$drop.unused.levels <- TRUE\n",
       "    mf[[1L]] <- quote(stats::model.frame)\n",
       "    mf <- eval(mf, parent.frame())\n",
       "    if (method == \"model.frame\") \n",
       "        return(mf)\n",
       "    else if (method != \"qr\") \n",
       "        warning(gettextf(\"method = '%s' is not supported. Using 'qr'\", \n",
       "            method), domain = NA)\n",
       "    mt <- attr(mf, \"terms\")\n",
       "    y <- model.response(mf, \"numeric\")\n",
       "    w <- as.vector(model.weights(mf))\n",
       "    if (!is.null(w) && !is.numeric(w)) \n",
       "        stop(\"'weights' must be a numeric vector\")\n",
       "    offset <- as.vector(model.offset(mf))\n",
       "    if (!is.null(offset)) {\n",
       "        if (length(offset) != NROW(y)) \n",
       "            stop(gettextf(\"number of offsets is %d, should equal %d (number of observations)\", \n",
       "                length(offset), NROW(y)), domain = NA)\n",
       "    }\n",
       "    if (is.empty.model(mt)) {\n",
       "        x <- NULL\n",
       "        z <- list(coefficients = if (is.matrix(y)) matrix(, 0, \n",
       "            3) else numeric(), residuals = y, fitted.values = 0 * \n",
       "            y, weights = w, rank = 0L, df.residual = if (!is.null(w)) sum(w != \n",
       "            0) else if (is.matrix(y)) nrow(y) else length(y))\n",
       "        if (!is.null(offset)) {\n",
       "            z$fitted.values <- offset\n",
       "            z$residuals <- y - offset\n",
       "        }\n",
       "    }\n",
       "    else {\n",
       "        x <- model.matrix(mt, mf, contrasts)\n",
       "        z <- if (is.null(w)) \n",
       "            lm.fit(x, y, offset = offset, singular.ok = singular.ok, \n",
       "                ...)\n",
       "        else lm.wfit(x, y, w, offset = offset, singular.ok = singular.ok, \n",
       "            ...)\n",
       "    }\n",
       "    class(z) <- c(if (is.matrix(y)) \"mlm\", \"lm\")\n",
       "    z$na.action <- attr(mf, \"na.action\")\n",
       "    z$offset <- offset\n",
       "    z$contrasts <- attr(x, \"contrasts\")\n",
       "    z$xlevels <- .getXlevels(mt, mf)\n",
       "    z$call <- cl\n",
       "    z$terms <- mt\n",
       "    if (model) \n",
       "        z$model <- mf\n",
       "    if (ret.x) \n",
       "        z$x <- x\n",
       "    if (ret.y) \n",
       "        z$y <- y\n",
       "    if (!qr) \n",
       "        z$qr <- NULL\n",
       "    z\n",
       "}\n",
       "```"
      ],
      "text/plain": [
       "function (formula, data, subset, weights, na.action, method = \"qr\", \n",
       "    model = TRUE, x = FALSE, y = FALSE, qr = TRUE, singular.ok = TRUE, \n",
       "    contrasts = NULL, offset, ...) \n",
       "{\n",
       "    ret.x <- x\n",
       "    ret.y <- y\n",
       "    cl <- match.call()\n",
       "    mf <- match.call(expand.dots = FALSE)\n",
       "    m <- match(c(\"formula\", \"data\", \"subset\", \"weights\", \"na.action\", \n",
       "        \"offset\"), names(mf), 0L)\n",
       "    mf <- mf[c(1L, m)]\n",
       "    mf$drop.unused.levels <- TRUE\n",
       "    mf[[1L]] <- quote(stats::model.frame)\n",
       "    mf <- eval(mf, parent.frame())\n",
       "    if (method == \"model.frame\") \n",
       "        return(mf)\n",
       "    else if (method != \"qr\") \n",
       "        warning(gettextf(\"method = '%s' is not supported. Using 'qr'\", \n",
       "            method), domain = NA)\n",
       "    mt <- attr(mf, \"terms\")\n",
       "    y <- model.response(mf, \"numeric\")\n",
       "    w <- as.vector(model.weights(mf))\n",
       "    if (!is.null(w) && !is.numeric(w)) \n",
       "        stop(\"'weights' must be a numeric vector\")\n",
       "    offset <- as.vector(model.offset(mf))\n",
       "    if (!is.null(offset)) {\n",
       "        if (length(offset) != NROW(y)) \n",
       "            stop(gettextf(\"number of offsets is %d, should equal %d (number of observations)\", \n",
       "                length(offset), NROW(y)), domain = NA)\n",
       "    }\n",
       "    if (is.empty.model(mt)) {\n",
       "        x <- NULL\n",
       "        z <- list(coefficients = if (is.matrix(y)) matrix(, 0, \n",
       "            3) else numeric(), residuals = y, fitted.values = 0 * \n",
       "            y, weights = w, rank = 0L, df.residual = if (!is.null(w)) sum(w != \n",
       "            0) else if (is.matrix(y)) nrow(y) else length(y))\n",
       "        if (!is.null(offset)) {\n",
       "            z$fitted.values <- offset\n",
       "            z$residuals <- y - offset\n",
       "        }\n",
       "    }\n",
       "    else {\n",
       "        x <- model.matrix(mt, mf, contrasts)\n",
       "        z <- if (is.null(w)) \n",
       "            lm.fit(x, y, offset = offset, singular.ok = singular.ok, \n",
       "                ...)\n",
       "        else lm.wfit(x, y, w, offset = offset, singular.ok = singular.ok, \n",
       "            ...)\n",
       "    }\n",
       "    class(z) <- c(if (is.matrix(y)) \"mlm\", \"lm\")\n",
       "    z$na.action <- attr(mf, \"na.action\")\n",
       "    z$offset <- offset\n",
       "    z$contrasts <- attr(x, \"contrasts\")\n",
       "    z$xlevels <- .getXlevels(mt, mf)\n",
       "    z$call <- cl\n",
       "    z$terms <- mt\n",
       "    if (model) \n",
       "        z$model <- mf\n",
       "    if (ret.x) \n",
       "        z$x <- x\n",
       "    if (ret.y) \n",
       "        z$y <- y\n",
       "    if (!qr) \n",
       "        z$qr <- NULL\n",
       "    z\n",
       "}\n",
       "<bytecode: 0x00000000129941f8>\n",
       "<environment: namespace:stats>"
      ]
     },
     "metadata": {},
     "output_type": "display_data"
    }
   ],
   "source": [
    "lm"
   ]
  }
 ],
 "metadata": {
  "kernelspec": {
   "display_name": "R",
   "language": "R",
   "name": "ir"
  },
  "language_info": {
   "codemirror_mode": "r",
   "file_extension": ".r",
   "mimetype": "text/x-r-source",
   "name": "R",
   "pygments_lexer": "r",
   "version": "3.4.1"
  }
 },
 "nbformat": 4,
 "nbformat_minor": 2
}
