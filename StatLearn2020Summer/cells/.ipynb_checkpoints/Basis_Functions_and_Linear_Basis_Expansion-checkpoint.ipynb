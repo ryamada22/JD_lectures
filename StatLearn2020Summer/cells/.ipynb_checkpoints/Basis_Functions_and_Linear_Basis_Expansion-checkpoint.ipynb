{
 "cells": [
  {
   "cell_type": "markdown",
   "metadata": {},
   "source": [
    "# Basis Functions and Linear Basis Expansion\n",
    "\n",
    "# Linear Method and Least Square\n",
    "$$\n",
    "Y \\sim X \\beta\n",
    "$$\n",
    "\n",
    "$$\n",
    "\\hat{\\beta} = argmin(||y-X \\beta ||^2)\n",
    "$$\n",
    "\n",
    "$$\n",
    "\\hat{\\beta} = (X^TX)^{-1}X^T y\n",
    "$$\n",
    "\n",
    "+ The sum of squares, $||y-X \\beta ||^2$, is quadratic when y and X are given.\n",
    "+ The minimization is solvable with linear algebra.\n",
    "\n",
    "See [Least Squares](Least_Squares.ipynb)\n",
    "\n"
   ]
  },
  {
   "cell_type": "markdown",
   "metadata": {},
   "source": [
    "# Basis Functions and Space of Functions\n",
    "\n",
    "$$\n",
    "Y \\sim X \\beta\n",
    "$$\n",
    "$$\n",
    "y = \\sum_i x_i \\beta_i\n",
    "$$\n",
    "\n",
    "+ y is a function of x and $\\beta$.\n",
    "+ y is a weighted sum of $x = (x_1,...,x_p)$.\n",
    "+ y is a weighted sum of $x = (h_1(x),...,h_p(x))$ where $h_i(x) = x_i$.\n",
    "\n",
    "\n",
    "+ $(\\beta_1,...,\\beta_p)$ is a coordinate in p-dimensional space whose basis is $(x_1,...,x_p)$, when $h_i(x) =x_i$.\n",
    "+ $(\\beta_1,...,\\beta_p)$ is a point in p-dimensional space.\n",
    "+ The point represents a function $y = \\sum_i x_i \\beta_i$.\n",
    "\n",
    "\n",
    "+ $(\\beta_1,...,\\beta_q)$ is a coordinate in q-dimensional space whose basis is $(h_1(x),...,h_q(x))$, for arbitrary set of functions $(h_1(x),...,h_q(x))$.\n",
    "+ $(\\beta_1,...,\\beta_q)$ is a point in q-dimensional space.\n",
    "+ The point represents a function $y = \\sum_i h_i(x) \\beta_i$.\n",
    "\n",
    "+ Basis functions are the set $(h_1(x),...,h_q(x))$.\n",
    "+ $(\\beta_1,...,\\beta_q)$ is a point in the space of functions that are linear sum of the basis functions."
   ]
  },
  {
   "cell_type": "markdown",
   "metadata": {},
   "source": [
    "### Assignment 課題\n",
    "\n",
    "+ $y = \\beta_1 x_1 + \\beta_2 x_2$ is a plane in 3d space where $x_1, x_2, y$ are three axes. Draw the plane with $(\\beta_1, \\beta_2) = (2,-1)$ in 3d space.\n",
    "\n",
    "+ $||y-X \\beta ||^2$ is a function of $\\beta$ when y and X are given. When $$ y = \\begin{pmatrix} 1\\\\ 2\\\\ 3\\\\ 4 \\end{pmatrix}$$ and $$X = \\begin {pmatrix} 0,0\\\\ 1,0 \\\\ 0,1 \\\\ 1,1 \\end{pmatrix},$$ draw a curved surface over grid points of $(\\beta_1, \\beta_2)$.\n",
    "\n",
    "+ $y = \\beta_1 x_1 + \\beta_2 x_2$ can be written as $$y = \\beta_1 h_1(x) + \\beta_2 h_2(x),$$ where $(h_1(x),h_2(x)) = (x_1,x_2).$ It represented a plane in 3d space $(x_1,x_2,y)$ and a point in 2d space $(\\beta_1,\\beta_2)$. When $$(h_1(x),h_2(x)) = (x_1+x_2,x_1^2),$$ $y = \\beta_1 h_1(x) + \\beta_2 h_2(x)$ is not a plane in 3d space but is a point in 2d space. Draw a curved surfacef in 3d space where $x_1, x_2, y$ are three axes."
   ]
  },
  {
   "cell_type": "markdown",
   "metadata": {},
   "source": [
    "# Examples of Basis Functions\n",
    "\n",
    "## Polynomial interpolation\n",
    "\n",
    "+ [Polynomial interpolation](http://scikit-learn.org/stable/auto_examples/linear_model/plot_polynomial_interpolation.html)\n",
    "\n",
    "## Fourier Transformation and Trigonometric Functions \n",
    "\n",
    "+ [Fourier Transformation in SciPy](https://docs.scipy.org/doc/scipy/reference/tutorial/fftpack.html)\n",
    "\n",
    "## Wavelet Transformation and Wavelet Functions\n",
    "\n",
    "+ [PyWavelet](http://pywavelets.readthedocs.io/en/latest/index.html)\n"
   ]
  },
  {
   "cell_type": "markdown",
   "metadata": {},
   "source": [
    "# Regularization is Necessary\n",
    "\n",
    "## Example : Polynomial Regression\n",
    "$$\n",
    "y = \\sum_{i=0} \\beta_i x^i = \\beta_0 + \\beta_1 x + \\beta_2 x^2 + ...\n",
    "$$\n",
    "\n",
    "+ Basis functions are $h_i(x) = x^i; i = 0,1,...$.\n",
    "+ When degree of polynomial is equal to the number of points, a curve with perfect fit exists.\n",
    "+ Number of $h(x)$ can be very big and it leads overfitting. Regularization is necessary.\n",
    "\n",
    "Read [Polynomial Regression](../cells/Polynomial_Regression_Ridge.ipynb)\n"
   ]
  },
  {
   "cell_type": "code",
   "execution_count": null,
   "metadata": {},
   "outputs": [],
   "source": []
  }
 ],
 "metadata": {
  "kernelspec": {
   "display_name": "Python 3",
   "language": "python",
   "name": "python3"
  },
  "language_info": {
   "codemirror_mode": {
    "name": "ipython",
    "version": 3
   },
   "file_extension": ".py",
   "mimetype": "text/x-python",
   "name": "python",
   "nbconvert_exporter": "python",
   "pygments_lexer": "ipython3",
   "version": "3.6.3"
  }
 },
 "nbformat": 4,
 "nbformat_minor": 2
}
