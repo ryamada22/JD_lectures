{
 "cells": [
  {
   "cell_type": "markdown",
   "metadata": {},
   "source": [
    "# R\n",
    "\n",
    "## Minimum Basics of R\n",
    "[R tutorial](https://www.statmethods.net/r-tutorial/index.html)\n",
    "\n",
    "## Take notes with R\n",
    "[Rmarkdown](http://rmarkdown.rstudio.com/)\n",
    "\n",
    "## Use the same environment for both R and python\n",
    "[Jupyter for R](https://irkernel.github.io/) "
   ]
  }
 ],
 "metadata": {
  "kernelspec": {
   "display_name": "R",
   "language": "R",
   "name": "ir"
  },
  "language_info": {
   "codemirror_mode": "r",
   "file_extension": ".r",
   "mimetype": "text/x-r-source",
   "name": "R",
   "pygments_lexer": "r",
   "version": "3.4.0"
  }
 },
 "nbformat": 4,
 "nbformat_minor": 2
}
