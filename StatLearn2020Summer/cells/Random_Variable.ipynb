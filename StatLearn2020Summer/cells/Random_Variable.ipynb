{
 "cells": [
  {
   "cell_type": "markdown",
   "metadata": {},
   "source": [
    "# Random Variable 確率変数\n",
    "\n",
    "A random variable $X$ is a variable whose value is stochastically determined.\n",
    "\n",
    "確率変数 $X$ とは変数であって、その値が確率的に決まるもののことである。\n",
    "\n",
    "### Examples 例\n",
    "\n",
    "#### A dice サイコロ\n",
    "\n",
    "The set of possible outcomes are $\\{1,2,3,4,5,6\\}$.\n",
    "\n",
    "起きうる事象は$\\{1,2,3,4,5,6\\}$という集合である。\n",
    "\n",
    "The probability to observe $x=3$ is $1/6$.\n",
    "\n",
    "$x=3$を観察する確率は$1/6$である。\n",
    "\n",
    "The probability to observe $x \\in \\{2,3,4\\}$ is,\n",
    "\n",
    "$x \\in \\{2,3,4\\}$を観察する確率は\n",
    "\n",
    "$$\n",
    "P(X \\in \\{2,3,4\\}) = \\sum_{i \\in \\{2,3,4\\}} q_i,\n",
    "$$\n",
    "\n",
    "where $q_i = 1/6, i = \\{1,2,3,4,5,6\\}$ is probability mass function of dice random variable.\n",
    "\n",
    "ただし$q_i = 1/6, i = \\{1,2,3,4,5,6\\}$は、サイコロ確率変数の確率質量関数である。\n",
    "\n",
    "\n",
    "#### Normally distributed random variable 正規分布を持つ確率変数\n",
    "\n",
    "The set of possible outcomes are $\\mathbf{R}$ (real values).\n",
    "\n",
    "観測しうる事象は$\\mathbf{R}$(実数)という集合である。\n",
    "\n",
    "The probability to observe $x_1 \\le x \\le x_2$ is,\n",
    "\n",
    "$x_1 \\le x \\le x_2$の範囲を観測する確率は\n",
    "\n",
    "$$\n",
    "P(x_1 \\le x \\le x_2) = \\int_{x_1}^{x_2} \\frac{1}{\\sqrt{2\\pi s^2}} e^{-\\frac{(x-\\mu)^2}{2s^2}} dx ,\n",
    "$$\n",
    "\n",
    "where $\\frac{1}{\\sqrt{2\\pi s^2}} e^{-\\frac{(x-\\mu)^2}{2s^2}}$ is probability density function of normal distribution.\n",
    "\n",
    "ただし、$\\frac{1}{\\sqrt{2\\pi s^2}} e^{-\\frac{(x-\\mu)^2}{2s^2}}$は正規分布の確率密度関数である。\n",
    "\n",
    "### Further readings\n",
    "\n",
    "#### Mathematics\n",
    "\n",
    "See https://en.wikipedia.org/wiki/Random_variable and\n",
    "\n",
    "https://en.wikipedia.org/wiki/Probability_space .\n"
   ]
  },
  {
   "cell_type": "code",
   "execution_count": null,
   "metadata": {
    "collapsed": true
   },
   "outputs": [],
   "source": []
  }
 ],
 "metadata": {
  "kernelspec": {
   "display_name": "R",
   "language": "R",
   "name": "ir"
  },
  "language_info": {
   "codemirror_mode": "r",
   "file_extension": ".r",
   "mimetype": "text/x-r-source",
   "name": "R",
   "pygments_lexer": "r",
   "version": "3.4.1"
  }
 },
 "nbformat": 4,
 "nbformat_minor": 0
}
