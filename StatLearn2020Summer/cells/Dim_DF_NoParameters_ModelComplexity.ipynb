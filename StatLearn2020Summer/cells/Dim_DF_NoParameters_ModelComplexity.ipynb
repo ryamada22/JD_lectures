{
 "cells": [
  {
   "cell_type": "markdown",
   "metadata": {},
   "source": [
    "# Dimension, Degree of Freedom, Number of Parameters, and Model Complexity"
   ]
  },
  {
   "cell_type": "markdown",
   "metadata": {},
   "source": [
    "## [Dimension](https://en.wikipedia.org/wiki/Dimension)\n",
    "\n",
    "\"the minimum number of coordinates needed to specify any point within it\" (Wikipedia)\n",
    "\n",
    "+ Something control the spaciousness in.\n",
    "+ \"Coordinates\"\n",
    "\n",
    "## [Degree of Freedom](https://en.wikipedia.org/wiki/Degrees_of_freedom)\n",
    "\n",
    "\"the number of parameters of the system that may vary independently\" (Wikipedia)\n",
    "\n",
    "+ Something indicates the spaciousness.\n",
    "+ This term is used particularly when some parameters are fixed (non-free) and some parameters take various values (free).\n",
    "+ \"Parameters\"\n",
    "+ \"Parameters\" may correspond to \"Coordinates\" and may not.\n",
    "\n",
    "## Number of [Parameter](https://en.wikipedia.org/wiki/Parameter)s\n",
    "\n",
    "\"is any characteristic that can help in defining or classifying a particular system\"\n",
    "\n",
    "+ [Statistical Model](https://en.wikipedia.org/wiki/Statistical_model)s are consisted of \"Parameters\" and their stochastic relations. \n",
    "+ Probability functions are \"Parameterized\"; normal distribution is parameterized with mean and sd.\n",
    "+ Parametric tests are the statistical tests that are based on probability functions with \"Parameters\".\n",
    "\n",
    "## [Model Complexity](http://www.dummies.com/programming/big-data/data-science/model-complexity-machine-learning/)\n",
    "\n",
    "+ [Statistical Model](https://en.wikipedia.org/wiki/Statistical_model)s are \"Complex\" when they have many \"[Parameter](https://en.wikipedia.org/wiki/Parameter)s\" or high [Degree of Freedom](https://en.wikipedia.org/wiki/Degrees_of_freedom).\n",
    "\n",
    "+ \"Complex Models\" can make deviation of samples from the models smaller by selecting values of \"Parameters\". Therefore, \"Complex Models\" may overfit to the samples.\n",
    "\n",
    "\n"
   ]
  },
  {
   "cell_type": "markdown",
   "metadata": {},
   "source": [
    "## Example\n",
    "\n",
    "[Linear regression](http://scikit-learn.org/stable/auto_examples/linear_model/plot_ols.html)\n",
    "\n",
    "### Assignment 課題\n",
    "\n",
    "The estimated two coefficients minimize the sum of squares (least squares) between estimated values and sample values. We can freely change the values of two coefficients (\"Free Parameters\"). You can assign two \"Parameters\" as two \"Coodinate\" axes.\n",
    "\n",
    "+ Generate grid points of the parameter space and calculate sum of squares, which generate curved surface over two \"Dimensional\" space.\n",
    "\n",
    "[Polynomial interpolation](http://scikit-learn.org/stable/auto_examples/linear_model/plot_polynomial_interpolation.html)\n",
    "\n",
    "### Assignment 課題\n",
    "\n",
    "+ How many coefficients should be determined?\n",
    "\n",
    "+ Check the deviation of samples from the curves become smaller with the model complexity.\n",
    "\n"
   ]
  },
  {
   "cell_type": "code",
   "execution_count": null,
   "metadata": {},
   "outputs": [],
   "source": []
  }
 ],
 "metadata": {
  "kernelspec": {
   "display_name": "R",
   "language": "R",
   "name": "ir"
  },
  "language_info": {
   "codemirror_mode": "r",
   "file_extension": ".r",
   "mimetype": "text/x-r-source",
   "name": "R",
   "pygments_lexer": "r",
   "version": "3.4.0"
  }
 },
 "nbformat": 4,
 "nbformat_minor": 2
}
