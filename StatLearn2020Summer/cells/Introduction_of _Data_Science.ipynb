{
 "cells": [
  {
   "cell_type": "markdown",
   "metadata": {},
   "source": [
    "# Introduction of Data Science\n",
    "## Introduction 前書き: Data Science in JD Course\n",
    "\n",
    "Before we start this module, we check the role of this module in the the Joint Degree (JD) course .\n",
    "\n",
    "このモジュールを始める前に、ジョイントディグリー(JD)専攻におけるこのモジュールの役割を確認する。\n",
    "\n",
    "Read [Data science in JD course](../cells/Data_science_in_JD.ipynb).\n",
    "\n",
    "[JD専攻におけるデータサイエンス](../cells/Data_science_in_JD.ipynb)を読め。\n",
    "\n",
    "## Introduction 2 前書き2: Statistical Analysis vs. Machine Learning\n",
    "\n",
    "Read [Statistical analysis vs. machine learning](../cells/Statistical_Analysis_vs_Machine_Learning.ipynb).\n",
    "\n",
    "[統計解析 vs. 機械学習](../cells/Statistical_Analysis_vs_Machine_Learning.ipynb)を読め。"
   ]
  },
  {
   "cell_type": "markdown",
   "metadata": {},
   "source": [
    "\n",
    "\n"
   ]
  },
  {
   "cell_type": "code",
   "execution_count": null,
   "metadata": {},
   "outputs": [],
   "source": []
  }
 ],
 "metadata": {
  "kernelspec": {
   "display_name": "R",
   "language": "R",
   "name": "ir"
  },
  "language_info": {
   "codemirror_mode": "r",
   "file_extension": ".r",
   "mimetype": "text/x-r-source",
   "name": "R",
   "pygments_lexer": "r",
   "version": "3.4.1"
  }
 },
 "nbformat": 4,
 "nbformat_minor": 2
}
