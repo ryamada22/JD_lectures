{
 "cells": [
  {
   "cell_type": "markdown",
   "metadata": {},
   "source": [
    "# Example of Classification 分類の例\n",
    "\n",
    "+ Classification is one of Supervised Learnings 教師あり学習の例\n",
    "+ Two methods as examples\n",
    "\n",
    "## Two methods of classification\n",
    "\n",
    "+ Least Square method\n",
    "+ k-Nearest Neighbor method\n",
    "\n",
    "### Difference between two methods\n",
    "\n",
    "+ Linear fitting method : Tight restriction, parameteric, stable result\n",
    "+ k-Nearest neighbor method : Loose restriction, non-parameteric, variable results depending on a parameter\n",
    "\n",
    "Advanced study : Read [Parametric vs. Non-parametric](../cells/Parametric_vs_Nonparametric.ipynb)"
   ]
  },
  {
   "cell_type": "markdown",
   "metadata": {},
   "source": [
    "### Task\n",
    "\n",
    "+ n samples\n",
    "+ 2 features\n",
    "+ 2 categories\n",
    "+ Classification"
   ]
  },
  {
   "cell_type": "code",
   "execution_count": 1,
   "metadata": {},
   "outputs": [
    {
     "data": {
      "image/png": "[encoded data removed]",
      "text/plain": [
       "plot without title"
      ]
     },
     "metadata": {},
     "output_type": "display_data",
     "source": "R display func"
    }
   ],
   "source": [
    "K <- 200\n",
    "p <- 2\n",
    "x <- matrix(rnorm(K*p),ncol=p)\n",
    "\n",
    "ctr1 <- 1\n",
    "ctr2 <- 0.5\n",
    "r1 <- 0.2\n",
    "r2 <- 0.5\n",
    "v <- r1 * (x[,1]-ctr1)^2 + r2 * (x[,2]-ctr2)^2\n",
    "t <- 1.2\n",
    "v0 <- which(v< t)\n",
    "v1 <- which(v>=t)\n",
    "\n",
    "gr <- rep(0,K)\n",
    "p0 <- 0.1\n",
    "p1 <- 0.9\n",
    "gr[v0] <- sample(0:1,length(v0),replace=TRUE,prob=c(p0,1-p0))\n",
    "gr[v1] <- sample(0:1,length(v1),replace=TRUE,prob=c(p1,1-p1))\n",
    "\n",
    "plot(x,col=gr+1,pch=20,cex=2)"
   ]
  },
  {
   "cell_type": "markdown",
   "metadata": {},
   "source": [
    "## Linear Models and Least Squares Method\n",
    "\n",
    "+ Straight line that divides points into two groups.\n",
    "+ The group labels by the line should be close to the labels given.\n",
    "\n",
    "Read [Least Square Classification](../cells/Least_Square_Classification.ipynb)"
   ]
  },
  {
   "cell_type": "markdown",
   "metadata": {},
   "source": [
    "## k-Nearest Neighbor Method\n",
    "\n",
    "+ Class labels are decided by the average among neighbors.\n",
    "+ The number of neighbors, k, changes the result of classification; the smaller, finer and the bigger, smoother.\n",
    "\n",
    "Read [kNN Classification](../cells/kNN_Classification.ipynb)"
   ]
  },
  {
   "cell_type": "code",
   "execution_count": null,
   "metadata": {},
   "outputs": [],
   "source": []
  }
 ],
 "metadata": {
  "kernelspec": {
   "display_name": "R",
   "language": "R",
   "name": "ir"
  },
  "language_info": {
   "codemirror_mode": "r",
   "file_extension": ".r",
   "mimetype": "text/x-r-source",
   "name": "R",
   "pygments_lexer": "r",
   "version": "3.4.1"
  }
 },
 "nbformat": 4,
 "nbformat_minor": 2
}
