{
 "cells": [
  {
   "cell_type": "markdown",
   "metadata": {},
   "source": [
    "## resampling\n",
    "* replaceを許してリサンプルすれば、違うデータが複数個できて、それを用いる = bootstrap"
   ]
  },
  {
   "cell_type": "markdown",
   "metadata": {},
   "source": [
    "平均を調べるには、確率変数(stochastic variable)でないといけない\n",
    "* 正規分布\n",
    "* 指数分布\n",
    "* X^2分布\n",
    "* t分布 : 正規分布より尖度が高い分布　などなんでも使える\n",
    "* [こちら](https://docs.scipy.org/doc/numpy-1.14.1/reference/routines.random.html)を参考に\n",
    "\n",
    "もう少し複雑なサンプルデータを発生させたい場合には、2つの分布の合併を考える\n",
    "それぞれから6割、4割の確率でそれぞれのサンプルからとる、というような指定をする\n",
    "sample(0:1, n, replace=TRUE, p=c(0.6, 0.4)) n=100??"
   ]
  },
  {
   "cell_type": "code",
   "execution_count": 34,
   "metadata": {},
   "outputs": [],
   "source": [
    "import numpy as np\n",
    "import random\n",
    "from numpy.random import *\n",
    "import matplotlib.pyplot as plt"
   ]
  },
  {
   "cell_type": "code",
   "execution_count": 12,
   "metadata": {},
   "outputs": [],
   "source": [
    "#random(loc=平均, scale=SD, size=Output Shape[size]) 平均、SDの正規分布からランダムに抽出\n",
    "x1 = np.random.normal(loc=50, scale=10, size=600000)\n",
    "x2 = np.random.exponential(scale=5, size=400000)"
   ]
  },
  {
   "cell_type": "code",
   "execution_count": 26,
   "metadata": {},
   "outputs": [
    {
     "data": {
      "text/plain": [
       "(array([1.0000e+00, 0.0000e+00, 0.0000e+00, 0.0000e+00, 2.0000e+00,\n",
       "        3.0000e+00, 1.0000e+00, 6.0000e+00, 1.2000e+01, 1.0000e+01,\n",
       "        1.4000e+01, 2.6000e+01, 3.4000e+01, 5.6000e+01, 6.6000e+01,\n",
       "        9.0000e+01, 1.5000e+02, 2.0100e+02, 2.8900e+02, 3.3700e+02,\n",
       "        4.9900e+02, 6.5700e+02, 9.0200e+02, 1.1450e+03, 1.4970e+03,\n",
       "        1.9730e+03, 2.5170e+03, 3.2310e+03, 3.8930e+03, 5.0730e+03,\n",
       "        6.2150e+03, 7.2550e+03, 8.8060e+03, 1.0536e+04, 1.2160e+04,\n",
       "        1.4267e+04, 1.6513e+04, 1.8776e+04, 2.1095e+04, 2.3814e+04,\n",
       "        2.5938e+04, 2.8816e+04, 3.1116e+04, 3.3096e+04, 3.5307e+04,\n",
       "        3.7398e+04, 3.8386e+04, 3.9821e+04, 4.0283e+04, 4.0419e+04,\n",
       "        4.0446e+04, 4.0009e+04, 3.9019e+04, 3.7807e+04, 3.6167e+04,\n",
       "        3.4312e+04, 3.1983e+04, 2.9610e+04, 2.6939e+04, 2.4573e+04,\n",
       "        2.2113e+04, 1.9815e+04, 1.7264e+04, 1.5169e+04, 1.3017e+04,\n",
       "        1.1016e+04, 9.3540e+03, 7.8020e+03, 6.3290e+03, 5.3220e+03,\n",
       "        4.2440e+03, 3.5430e+03, 2.7520e+03, 2.1150e+03, 1.6380e+03,\n",
       "        1.3140e+03, 9.2500e+02, 7.6400e+02, 5.5000e+02, 3.7200e+02,\n",
       "        3.2400e+02, 2.1500e+02, 1.4800e+02, 1.1500e+02, 7.9000e+01,\n",
       "        4.5000e+01, 2.6000e+01, 2.8000e+01, 1.2000e+01, 1.2000e+01,\n",
       "        5.0000e+00, 3.0000e+00, 1.0000e+00, 0.0000e+00, 1.0000e+00,\n",
       "        0.0000e+00, 0.0000e+00, 0.0000e+00, 0.0000e+00, 1.0000e+00]),\n",
       " array([ -0.5798327 ,   0.43817689,   1.45618648,   2.47419608,\n",
       "          3.49220567,   4.51021526,   5.52822485,   6.54623445,\n",
       "          7.56424404,   8.58225363,   9.60026322,  10.61827282,\n",
       "         11.63628241,  12.654292  ,  13.67230159,  14.69031119,\n",
       "         15.70832078,  16.72633037,  17.74433996,  18.76234956,\n",
       "         19.78035915,  20.79836874,  21.81637833,  22.83438792,\n",
       "         23.85239752,  24.87040711,  25.8884167 ,  26.90642629,\n",
       "         27.92443589,  28.94244548,  29.96045507,  30.97846466,\n",
       "         31.99647426,  33.01448385,  34.03249344,  35.05050303,\n",
       "         36.06851263,  37.08652222,  38.10453181,  39.1225414 ,\n",
       "         40.140551  ,  41.15856059,  42.17657018,  43.19457977,\n",
       "         44.21258937,  45.23059896,  46.24860855,  47.26661814,\n",
       "         48.28462773,  49.30263733,  50.32064692,  51.33865651,\n",
       "         52.3566661 ,  53.3746757 ,  54.39268529,  55.41069488,\n",
       "         56.42870447,  57.44671407,  58.46472366,  59.48273325,\n",
       "         60.50074284,  61.51875244,  62.53676203,  63.55477162,\n",
       "         64.57278121,  65.59079081,  66.6088004 ,  67.62680999,\n",
       "         68.64481958,  69.66282918,  70.68083877,  71.69884836,\n",
       "         72.71685795,  73.73486754,  74.75287714,  75.77088673,\n",
       "         76.78889632,  77.80690591,  78.82491551,  79.8429251 ,\n",
       "         80.86093469,  81.87894428,  82.89695388,  83.91496347,\n",
       "         84.93297306,  85.95098265,  86.96899225,  87.98700184,\n",
       "         89.00501143,  90.02302102,  91.04103062,  92.05904021,\n",
       "         93.0770498 ,  94.09505939,  95.11306899,  96.13107858,\n",
       "         97.14908817,  98.16709776,  99.18510736, 100.20311695,\n",
       "        101.22112654]),\n",
       " <a list of 100 Patch objects>)"
      ]
     },
     "execution_count": 26,
     "metadata": {},
     "output_type": "execute_result"
    },
    {
     "data": {
      "image/png": "[encoded data removed]",
      "text/plain": [
       "<matplotlib.figure.Figure at 0x11a786860>"
      ]
     },
     "metadata": {},
     "output_type": "display_data"
    }
   ],
   "source": [
    "plt.hist(x1, bins=100)"
   ]
  },
  {
   "cell_type": "code",
   "execution_count": 27,
   "metadata": {},
   "outputs": [
    {
     "data": {
      "text/plain": [
       "(array([1.21978e+05, 1.06814e+05, 9.39460e+04, 8.24280e+04, 7.21770e+04,\n",
       "        6.37430e+04, 5.57930e+04, 4.90510e+04, 4.30570e+04, 3.81000e+04,\n",
       "        3.29430e+04, 2.89410e+04, 2.58610e+04, 2.23960e+04, 1.98670e+04,\n",
       "        1.75510e+04, 1.52380e+04, 1.34230e+04, 1.17450e+04, 1.03030e+04,\n",
       "        9.01000e+03, 8.05400e+03, 7.10500e+03, 6.18700e+03, 5.44300e+03,\n",
       "        4.72900e+03, 4.08800e+03, 3.63100e+03, 3.25000e+03, 2.85900e+03,\n",
       "        2.49700e+03, 2.15800e+03, 1.88300e+03, 1.70000e+03, 1.45500e+03,\n",
       "        1.27800e+03, 1.11200e+03, 1.00900e+03, 8.86000e+02, 7.36000e+02,\n",
       "        6.78000e+02, 5.55000e+02, 5.40000e+02, 4.65000e+02, 3.92000e+02,\n",
       "        3.21000e+02, 3.10000e+02, 2.76000e+02, 2.28000e+02, 2.17000e+02,\n",
       "        1.88000e+02, 1.72000e+02, 1.49000e+02, 1.39000e+02, 1.13000e+02,\n",
       "        1.10000e+02, 7.60000e+01, 9.40000e+01, 8.10000e+01, 5.20000e+01,\n",
       "        4.60000e+01, 3.90000e+01, 4.90000e+01, 3.80000e+01, 2.40000e+01,\n",
       "        3.40000e+01, 1.70000e+01, 2.00000e+01, 1.80000e+01, 1.80000e+01,\n",
       "        1.10000e+01, 1.00000e+01, 7.00000e+00, 9.00000e+00, 1.20000e+01,\n",
       "        5.00000e+00, 6.00000e+00, 9.00000e+00, 5.00000e+00, 4.00000e+00,\n",
       "        8.00000e+00, 5.00000e+00, 3.00000e+00, 6.00000e+00, 1.00000e+00,\n",
       "        1.00000e+00, 3.00000e+00, 2.00000e+00, 0.00000e+00, 1.00000e+00,\n",
       "        1.00000e+00, 0.00000e+00, 1.00000e+00, 0.00000e+00, 0.00000e+00,\n",
       "        2.00000e+00, 0.00000e+00, 0.00000e+00, 1.00000e+00, 3.00000e+00]),\n",
       " array([9.20604489e-06, 6.49167138e-01, 1.29832507e+00, 1.94748300e+00,\n",
       "        2.59664093e+00, 3.24579887e+00, 3.89495680e+00, 4.54411473e+00,\n",
       "        5.19327266e+00, 5.84243059e+00, 6.49158853e+00, 7.14074646e+00,\n",
       "        7.78990439e+00, 8.43906232e+00, 9.08822025e+00, 9.73737818e+00,\n",
       "        1.03865361e+01, 1.10356940e+01, 1.16848520e+01, 1.23340099e+01,\n",
       "        1.29831678e+01, 1.36323258e+01, 1.42814837e+01, 1.49306416e+01,\n",
       "        1.55797996e+01, 1.62289575e+01, 1.68781154e+01, 1.75272734e+01,\n",
       "        1.81764313e+01, 1.88255892e+01, 1.94747472e+01, 2.01239051e+01,\n",
       "        2.07730630e+01, 2.14222210e+01, 2.20713789e+01, 2.27205368e+01,\n",
       "        2.33696948e+01, 2.40188527e+01, 2.46680106e+01, 2.53171686e+01,\n",
       "        2.59663265e+01, 2.66154844e+01, 2.72646423e+01, 2.79138003e+01,\n",
       "        2.85629582e+01, 2.92121161e+01, 2.98612741e+01, 3.05104320e+01,\n",
       "        3.11595899e+01, 3.18087479e+01, 3.24579058e+01, 3.31070637e+01,\n",
       "        3.37562217e+01, 3.44053796e+01, 3.50545375e+01, 3.57036955e+01,\n",
       "        3.63528534e+01, 3.70020113e+01, 3.76511693e+01, 3.83003272e+01,\n",
       "        3.89494851e+01, 3.95986431e+01, 4.02478010e+01, 4.08969589e+01,\n",
       "        4.15461168e+01, 4.21952748e+01, 4.28444327e+01, 4.34935906e+01,\n",
       "        4.41427486e+01, 4.47919065e+01, 4.54410644e+01, 4.60902224e+01,\n",
       "        4.67393803e+01, 4.73885382e+01, 4.80376962e+01, 4.86868541e+01,\n",
       "        4.93360120e+01, 4.99851700e+01, 5.06343279e+01, 5.12834858e+01,\n",
       "        5.19326438e+01, 5.25818017e+01, 5.32309596e+01, 5.38801176e+01,\n",
       "        5.45292755e+01, 5.51784334e+01, 5.58275913e+01, 5.64767493e+01,\n",
       "        5.71259072e+01, 5.77750651e+01, 5.84242231e+01, 5.90733810e+01,\n",
       "        5.97225389e+01, 6.03716969e+01, 6.10208548e+01, 6.16700127e+01,\n",
       "        6.23191707e+01, 6.29683286e+01, 6.36174865e+01, 6.42666445e+01,\n",
       "        6.49158024e+01]),\n",
       " <a list of 100 Patch objects>)"
      ]
     },
     "execution_count": 27,
     "metadata": {},
     "output_type": "execute_result"
    },
    {
     "data": {
      "image/png": "[encoded data removed]",
      "text/plain": [
       "<matplotlib.figure.Figure at 0x11a85d0f0>"
      ]
     },
     "metadata": {},
     "output_type": "display_data"
    }
   ],
   "source": [
    "plt.hist(x2, bins=100)"
   ]
  },
  {
   "cell_type": "code",
   "execution_count": 47,
   "metadata": {},
   "outputs": [
    {
     "data": {
      "text/plain": [
       "array([2.07650544e-02, 6.37049568e+00, 5.08647436e+01, ...,\n",
       "       6.10479804e+01, 1.35723055e+00, 6.50150409e+01])"
      ]
     },
     "execution_count": 47,
     "metadata": {},
     "output_type": "execute_result"
    }
   ],
   "source": [
    "X = np.append(x1, x2)    \n",
    "X = np.random.permutation(X)"
   ]
  },
  {
   "cell_type": "code",
   "execution_count": 50,
   "metadata": {},
   "outputs": [
    {
     "data": {
      "text/plain": [
       "(array([8.39160e+04, 1.68841e+05, 1.37666e+05, 1.12157e+05, 9.15390e+04,\n",
       "        7.46490e+04, 6.12950e+04, 4.93320e+04, 4.05900e+04, 3.31860e+04,\n",
       "        2.71980e+04, 2.20410e+04, 1.80660e+04, 1.45620e+04, 1.22190e+04,\n",
       "        9.87200e+03, 8.17500e+03, 6.61300e+03, 5.59500e+03, 4.73800e+03,\n",
       "        4.00000e+03, 3.51500e+03, 3.22100e+03, 3.03400e+03, 3.07000e+03,\n",
       "        3.21900e+03, 3.53800e+03, 4.07600e+03, 4.58600e+03, 5.61300e+03,\n",
       "        6.66000e+03, 7.62900e+03, 9.12600e+03, 1.07930e+04, 1.23820e+04,\n",
       "        1.44480e+04, 1.66430e+04, 1.89180e+04, 2.11760e+04, 2.38850e+04,\n",
       "        2.60090e+04, 2.88620e+04, 3.11610e+04, 3.31250e+04, 3.53370e+04,\n",
       "        3.74160e+04, 3.83980e+04, 3.98350e+04, 4.02960e+04, 4.04270e+04,\n",
       "        4.04580e+04, 4.00200e+04, 3.90250e+04, 3.78140e+04, 3.61700e+04,\n",
       "        3.43160e+04, 3.19850e+04, 2.96110e+04, 2.69400e+04, 2.45740e+04,\n",
       "        2.21130e+04, 1.98170e+04, 1.72640e+04, 1.51720e+04, 1.30180e+04,\n",
       "        1.10160e+04, 9.35400e+03, 7.80200e+03, 6.32900e+03, 5.32200e+03,\n",
       "        4.24400e+03, 3.54300e+03, 2.75200e+03, 2.11500e+03, 1.63800e+03,\n",
       "        1.31400e+03, 9.25000e+02, 7.64000e+02, 5.50000e+02, 3.72000e+02,\n",
       "        3.24000e+02, 2.15000e+02, 1.48000e+02, 1.15000e+02, 7.90000e+01,\n",
       "        4.50000e+01, 2.60000e+01, 2.80000e+01, 1.20000e+01, 1.20000e+01,\n",
       "        5.00000e+00, 3.00000e+00, 1.00000e+00, 0.00000e+00, 1.00000e+00,\n",
       "        0.00000e+00, 0.00000e+00, 0.00000e+00, 0.00000e+00, 1.00000e+00]),\n",
       " array([ -0.5798327 ,   0.43817689,   1.45618648,   2.47419608,\n",
       "          3.49220567,   4.51021526,   5.52822485,   6.54623445,\n",
       "          7.56424404,   8.58225363,   9.60026322,  10.61827282,\n",
       "         11.63628241,  12.654292  ,  13.67230159,  14.69031119,\n",
       "         15.70832078,  16.72633037,  17.74433996,  18.76234956,\n",
       "         19.78035915,  20.79836874,  21.81637833,  22.83438792,\n",
       "         23.85239752,  24.87040711,  25.8884167 ,  26.90642629,\n",
       "         27.92443589,  28.94244548,  29.96045507,  30.97846466,\n",
       "         31.99647426,  33.01448385,  34.03249344,  35.05050303,\n",
       "         36.06851263,  37.08652222,  38.10453181,  39.1225414 ,\n",
       "         40.140551  ,  41.15856059,  42.17657018,  43.19457977,\n",
       "         44.21258937,  45.23059896,  46.24860855,  47.26661814,\n",
       "         48.28462773,  49.30263733,  50.32064692,  51.33865651,\n",
       "         52.3566661 ,  53.3746757 ,  54.39268529,  55.41069488,\n",
       "         56.42870447,  57.44671407,  58.46472366,  59.48273325,\n",
       "         60.50074284,  61.51875244,  62.53676203,  63.55477162,\n",
       "         64.57278121,  65.59079081,  66.6088004 ,  67.62680999,\n",
       "         68.64481958,  69.66282918,  70.68083877,  71.69884836,\n",
       "         72.71685795,  73.73486754,  74.75287714,  75.77088673,\n",
       "         76.78889632,  77.80690591,  78.82491551,  79.8429251 ,\n",
       "         80.86093469,  81.87894428,  82.89695388,  83.91496347,\n",
       "         84.93297306,  85.95098265,  86.96899225,  87.98700184,\n",
       "         89.00501143,  90.02302102,  91.04103062,  92.05904021,\n",
       "         93.0770498 ,  94.09505939,  95.11306899,  96.13107858,\n",
       "         97.14908817,  98.16709776,  99.18510736, 100.20311695,\n",
       "        101.22112654]),\n",
       " <a list of 100 Patch objects>)"
      ]
     },
     "execution_count": 50,
     "metadata": {},
     "output_type": "execute_result"
    },
    {
     "data": {
      "image/png": "[encoded data removed]",
      "text/plain": [
       "<matplotlib.figure.Figure at 0x11dae8f60>"
      ]
     },
     "metadata": {},
     "output_type": "display_data"
    }
   ],
   "source": [
    "#正規分布6割、指数分布4割の分布を作成\n",
    "plt.hist(X, bins=100)"
   ]
  },
  {
   "cell_type": "code",
   "execution_count": 51,
   "metadata": {},
   "outputs": [],
   "source": [
    "mu = np.mean(X)\n",
    "med = np.median(X)"
   ]
  },
  {
   "cell_type": "code",
   "execution_count": 52,
   "metadata": {},
   "outputs": [
    {
     "data": {
      "text/plain": [
       "27.496250450864707"
      ]
     },
     "execution_count": 52,
     "metadata": {},
     "output_type": "execute_result"
    }
   ],
   "source": [
    "mu"
   ]
  },
  {
   "cell_type": "code",
   "execution_count": 54,
   "metadata": {},
   "outputs": [
    {
     "data": {
      "text/plain": [
       "25.168089841801873"
      ]
     },
     "execution_count": 54,
     "metadata": {},
     "output_type": "execute_result"
    }
   ],
   "source": [
    "med"
   ]
  },
  {
   "cell_type": "code",
   "execution_count": 2,
   "metadata": {},
   "outputs": [
    {
     "ename": "NameError",
     "evalue": "name 'numpy' is not defined",
     "output_type": "error",
     "traceback": [
      "\u001b[1;31m---------------------------------------------------------------------------\u001b[0m",
      "\u001b[1;31mNameError\u001b[0m                                 Traceback (most recent call last)",
      "\u001b[1;32m<ipython-input-2-534a129641cb>\u001b[0m in \u001b[0;36m<module>\u001b[1;34m()\u001b[0m\n\u001b[1;32m----> 1\u001b[1;33m \u001b[0mhelp\u001b[0m\u001b[1;33m(\u001b[0m\u001b[0mnumpy\u001b[0m\u001b[1;33m.\u001b[0m\u001b[0mrandom\u001b[0m\u001b[1;33m.\u001b[0m\u001b[0mchoice\u001b[0m\u001b[1;33m)\u001b[0m\u001b[1;33m\u001b[0m\u001b[0m\n\u001b[0m",
      "\u001b[1;31mNameError\u001b[0m: name 'numpy' is not defined"
     ]
    }
   ],
   "source": [
    "help(numpy.random.choice)"
   ]
  },
  {
   "cell_type": "code",
   "execution_count": 71,
   "metadata": {},
   "outputs": [],
   "source": [
    "MEAN = np.array([])\n",
    "MEDIAN = np.array([])\n",
    "list = [10, 100, 1000]\n",
    "for S in list:\n",
    "    for i in range(1000):\n",
    "        G = np.random.choice(X, size=S)\n",
    "        mean = np.mean(G)\n",
    "        median = np.median(G)\n",
    "        MEAN = np.append(MEAN, mean)\n",
    "        MEDIAN = np.append(MEDIAN, median)\n",
    "MEAN = MEAN.reshape((1000,3))\n",
    "MEDIAN = MEDIAN.reshape((1000,3))    "
   ]
  },
  {
   "cell_type": "code",
   "execution_count": 86,
   "metadata": {},
   "outputs": [
    {
     "data": {
      "text/plain": [
       "-0.11711994294206107"
      ]
     },
     "execution_count": 86,
     "metadata": {},
     "output_type": "execute_result"
    },
    {
     "data": {
      "image/png": "[encoded data removed]",
      "text/plain": [
       "<matplotlib.figure.Figure at 0x11ef67f60>"
      ]
     },
     "metadata": {},
     "output_type": "display_data"
    }
   ],
   "source": [
    "#S=10の値\n",
    "fig, (axL, axR) = plt.subplots(ncols=2, figsize=(10,4))\n",
    "axL.hist(MEAN[:,0], bins=100)\n",
    "axL.axvline(x=mu,color='green')\n",
    "axR.hist(MEDIAN[:,0], bins=100)\n",
    "axR.axvline(x=med,color='green')\n",
    "np.mean(MEAN[:,0]) - mu"
   ]
  },
  {
   "cell_type": "code",
   "execution_count": 87,
   "metadata": {},
   "outputs": [
    {
     "data": {
      "text/plain": [
       "0.011848821432877799"
      ]
     },
     "execution_count": 87,
     "metadata": {},
     "output_type": "execute_result"
    },
    {
     "data": {
      "image/png": "[encoded data removed]",
      "text/plain": [
       "<matplotlib.figure.Figure at 0x11ecbaba8>"
      ]
     },
     "metadata": {},
     "output_type": "display_data"
    }
   ],
   "source": [
    "#S=100の値\n",
    "fig, (axL, axR) = plt.subplots(ncols=2, figsize=(10,4))\n",
    "axL.hist(MEAN[:,1], bins=100)\n",
    "axL.axvline(x=mu,color='green')\n",
    "axR.hist(MEDIAN[:,1], bins=100)\n",
    "axR.axvline(x=med,color='green')\n",
    "np.mean(MEAN[:,1]) - mu"
   ]
  },
  {
   "cell_type": "code",
   "execution_count": 88,
   "metadata": {},
   "outputs": [
    {
     "data": {
      "text/plain": [
       "-0.03454103182000523"
      ]
     },
     "execution_count": 88,
     "metadata": {},
     "output_type": "execute_result"
    },
    {
     "data": {
      "image/png": "[encoded data removed]",
      "text/plain": [
       "<matplotlib.figure.Figure at 0x11f26a390>"
      ]
     },
     "metadata": {},
     "output_type": "display_data"
    }
   ],
   "source": [
    "#S=1000の値\n",
    "fig, (axL, axR) = plt.subplots(ncols=2, figsize=(10,4))\n",
    "axL.hist(MEAN[:,2], bins=100)\n",
    "axL.axvline(x=mu,color='green')\n",
    "axR.hist(MEDIAN[:,2], bins=100)\n",
    "axR.axvline(x=med,color='green')\n",
    "np.mean(MEAN[:,2]) - mu"
   ]
  },
  {
   "cell_type": "code",
   "execution_count": 90,
   "metadata": {},
   "outputs": [],
   "source": [
    "# 課題について S=100で施行\n",
    "MEAN = np.array([])\n",
    "S = 100\n",
    "for i in range(100):\n",
    "    for i in range(1000):\n",
    "        G = np.random.choice(X, size=S)\n",
    "        mean = np.mean(G)\n",
    "        MEAN = np.append(MEAN, mu - mean)"
   ]
  },
  {
   "cell_type": "code",
   "execution_count": 91,
   "metadata": {},
   "outputs": [
    {
     "data": {
      "text/plain": [
       "(array([2.000e+00, 1.000e+00, 1.000e+00, 4.000e+00, 0.000e+00, 3.000e+00,\n",
       "        7.000e+00, 3.000e+00, 1.200e+01, 1.100e+01, 1.700e+01, 1.500e+01,\n",
       "        1.300e+01, 2.500e+01, 3.200e+01, 4.300e+01, 5.300e+01, 6.800e+01,\n",
       "        8.900e+01, 1.060e+02, 1.500e+02, 1.940e+02, 2.150e+02, 2.630e+02,\n",
       "        2.860e+02, 3.550e+02, 4.240e+02, 4.950e+02, 6.460e+02, 6.590e+02,\n",
       "        8.010e+02, 9.120e+02, 1.010e+03, 1.206e+03, 1.367e+03, 1.432e+03,\n",
       "        1.731e+03, 1.762e+03, 1.964e+03, 2.228e+03, 2.317e+03, 2.503e+03,\n",
       "        2.661e+03, 2.653e+03, 2.971e+03, 3.009e+03, 3.127e+03, 3.123e+03,\n",
       "        3.235e+03, 3.351e+03, 3.200e+03, 3.282e+03, 3.282e+03, 3.266e+03,\n",
       "        3.163e+03, 3.131e+03, 2.890e+03, 2.856e+03, 2.726e+03, 2.494e+03,\n",
       "        2.449e+03, 2.213e+03, 2.149e+03, 1.890e+03, 1.740e+03, 1.594e+03,\n",
       "        1.411e+03, 1.221e+03, 1.141e+03, 9.720e+02, 8.510e+02, 7.370e+02,\n",
       "        6.320e+02, 5.590e+02, 4.540e+02, 4.050e+02, 3.660e+02, 2.740e+02,\n",
       "        2.310e+02, 1.790e+02, 1.360e+02, 1.050e+02, 1.040e+02, 8.400e+01,\n",
       "        5.900e+01, 4.600e+01, 3.100e+01, 2.400e+01, 2.400e+01, 2.300e+01,\n",
       "        1.500e+01, 3.000e+00, 1.200e+01, 6.000e+00, 3.000e+00, 3.000e+00,\n",
       "        1.000e+00, 6.000e+00, 0.000e+00, 2.000e+00]),\n",
       " array([-10.07598339,  -9.87730181,  -9.67862023,  -9.47993866,\n",
       "         -9.28125708,  -9.08257551,  -8.88389393,  -8.68521236,\n",
       "         -8.48653078,  -8.28784921,  -8.08916763,  -7.89048606,\n",
       "         -7.69180448,  -7.4931229 ,  -7.29444133,  -7.09575975,\n",
       "         -6.89707818,  -6.6983966 ,  -6.49971503,  -6.30103345,\n",
       "         -6.10235188,  -5.9036703 ,  -5.70498873,  -5.50630715,\n",
       "         -5.30762557,  -5.108944  ,  -4.91026242,  -4.71158085,\n",
       "         -4.51289927,  -4.3142177 ,  -4.11553612,  -3.91685455,\n",
       "         -3.71817297,  -3.5194914 ,  -3.32080982,  -3.12212824,\n",
       "         -2.92344667,  -2.72476509,  -2.52608352,  -2.32740194,\n",
       "         -2.12872037,  -1.93003879,  -1.73135722,  -1.53267564,\n",
       "         -1.33399407,  -1.13531249,  -0.93663091,  -0.73794934,\n",
       "         -0.53926776,  -0.34058619,  -0.14190461,   0.05677696,\n",
       "          0.25545854,   0.45414011,   0.65282169,   0.85150326,\n",
       "          1.05018484,   1.24886642,   1.44754799,   1.64622957,\n",
       "          1.84491114,   2.04359272,   2.24227429,   2.44095587,\n",
       "          2.63963744,   2.83831902,   3.03700059,   3.23568217,\n",
       "          3.43436375,   3.63304532,   3.8317269 ,   4.03040847,\n",
       "          4.22909005,   4.42777162,   4.6264532 ,   4.82513477,\n",
       "          5.02381635,   5.22249792,   5.4211795 ,   5.61986108,\n",
       "          5.81854265,   6.01722423,   6.2159058 ,   6.41458738,\n",
       "          6.61326895,   6.81195053,   7.0106321 ,   7.20931368,\n",
       "          7.40799525,   7.60667683,   7.80535841,   8.00403998,\n",
       "          8.20272156,   8.40140313,   8.60008471,   8.79876628,\n",
       "          8.99744786,   9.19612943,   9.39481101,   9.59349258,\n",
       "          9.79217416]),\n",
       " <a list of 100 Patch objects>)"
      ]
     },
     "execution_count": 91,
     "metadata": {},
     "output_type": "execute_result"
    },
    {
     "data": {
      "image/png": "[encoded data removed]",
      "text/plain": [
       "<matplotlib.figure.Figure at 0x11f58bda0>"
      ]
     },
     "metadata": {},
     "output_type": "display_data"
    }
   ],
   "source": [
    "plt.hist(MEAN, bins=100)"
   ]
  },
  {
   "cell_type": "code",
   "execution_count": null,
   "metadata": {},
   "outputs": [],
   "source": []
  }
 ],
 "metadata": {
  "kernelspec": {
   "display_name": "Python 3",
   "language": "python",
   "name": "python3"
  },
  "language_info": {
   "codemirror_mode": {
    "name": "ipython",
    "version": 3
   },
   "file_extension": ".py",
   "mimetype": "text/x-python",
   "name": "python",
   "nbconvert_exporter": "python",
   "pygments_lexer": "ipython3",
   "version": "3.6.5"
  }
 },
 "nbformat": 4,
 "nbformat_minor": 2
}
