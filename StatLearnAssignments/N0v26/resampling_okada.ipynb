{
 "cells": [
  {
   "cell_type": "code",
   "execution_count": 3,
   "metadata": {},
   "outputs": [
    {
     "data": {
      "image/png": "[encoded data removed]",
      "text/plain": [
       "<Figure size 432x288 with 1 Axes>"
      ]
     },
     "metadata": {},
     "output_type": "display_data"
    }
   ],
   "source": [
    "#Define a population probability distribution by combining multiple pyhon's continuous distribution functions.\n",
    "#Define 0.6 * Normal(10,5) + 0.4 * exponential(0.2) mixture distribution\n",
    "#theoretical average is 0.6 * 10 + 0.4 * 5 = 8\n",
    "#Generate a sample set with a sample size of your choice and Calculate sample average.\n",
    "from numpy.random import *\n",
    "import numpy as np\n",
    "import matplotlib.pyplot as plt\n",
    "def mixture_random(n):\n",
    "    ratio1 = 0.6\n",
    "    ratio2 = 1 -ratio1\n",
    "    result = np.empty(n)\n",
    "    dice = rand(n)\n",
    "    result[dice<=ratio1] = normal(20,5,sum(dice<=ratio1))\n",
    "    result[dice>ratio1] = exponential(5,sum(dice>ratio1))\n",
    "    return(result)\n",
    "\n",
    "data = mixture_random(30)\n",
    "plt.hist(data)\n",
    "plt.show()"
   ]
  },
  {
   "cell_type": "code",
   "execution_count": 4,
   "metadata": {},
   "outputs": [
    {
     "data": {
      "text/plain": [
       "12.636353189306915"
      ]
     },
     "execution_count": 4,
     "metadata": {},
     "output_type": "execute_result"
    }
   ],
   "source": [
    "#Sample average\n",
    "data.mean()"
   ]
  },
  {
   "cell_type": "code",
   "execution_count": 9,
   "metadata": {},
   "outputs": [
    {
     "data": {
      "image/png": "[encoded data removed]",
      "text/plain": [
       "<Figure size 432x288 with 1 Axes>"
      ]
     },
     "metadata": {},
     "output_type": "display_data"
    }
   ],
   "source": [
    "#Repeat generating resampling sets and calculate their sample average.\n",
    "#Caclulate the average of averages of the resampled sets.\n",
    "#Compare the average of averages and the original sample set's average with the theoretical average.\n",
    "resample_num = 100\n",
    "average_list = np.empty(resample_num)\n",
    "n = 30\n",
    "for i in range(resample_num):\n",
    "    data = mixture_random(n)\n",
    "    average_list[i] = data.mean()\n",
    "plt.hist(average_list)\n",
    "plt.show()"
   ]
  },
  {
   "cell_type": "code",
   "execution_count": 10,
   "metadata": {},
   "outputs": [
    {
     "data": {
      "text/plain": [
       "13.94308139721256"
      ]
     },
     "execution_count": 10,
     "metadata": {},
     "output_type": "execute_result"
    }
   ],
   "source": [
    "average_list.mean()"
   ]
  },
  {
   "cell_type": "code",
   "execution_count": 7,
   "metadata": {},
   "outputs": [
    {
     "data": {
      "image/png": "[encoded data removed]",
      "text/plain": [
       "<Figure size 432x288 with 1 Axes>"
      ]
     },
     "metadata": {},
     "output_type": "display_data"
    }
   ],
   "source": [
    "#Repeat the above procedure multiple times.\n",
    "#This distribution has small variance and is close to the normal distribution.\n",
    "resample_num = 100\n",
    "n = 30\n",
    "iter = 100\n",
    "ave_ave_list = np.empty(iter)\n",
    "for j in range(iter):\n",
    "  average_list = np.empty(resample_num) \n",
    "  for i in range(resample_num):\n",
    "    data = mixture_random(n)\n",
    "    average_list[i] = data.mean()\n",
    "  ave_ave_list[j] = average_list.mean()\n",
    "plt.hist(ave_ave_list)\n",
    "plt.show()"
   ]
  },
  {
   "cell_type": "code",
   "execution_count": 8,
   "metadata": {},
   "outputs": [
    {
     "data": {
      "text/plain": [
       "14.000170671874983"
      ]
     },
     "execution_count": 8,
     "metadata": {},
     "output_type": "execute_result"
    }
   ],
   "source": [
    "ave_ave_list.mean()"
   ]
  },
  {
   "cell_type": "code",
   "execution_count": null,
   "metadata": {},
   "outputs": [],
   "source": []
  }
 ],
 "metadata": {
  "kernelspec": {
   "display_name": "Python 3",
   "language": "python",
   "name": "python3"
  },
  "language_info": {
   "codemirror_mode": {
    "name": "ipython",
    "version": 3
   },
   "file_extension": ".py",
   "mimetype": "text/x-python",
   "name": "python",
   "nbconvert_exporter": "python",
   "pygments_lexer": "ipython3",
   "version": "3.6.5"
  }
 },
 "nbformat": 4,
 "nbformat_minor": 2
}
