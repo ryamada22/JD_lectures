{
 "cells": [
  {
   "cell_type": "markdown",
   "metadata": {},
   "source": [
    "### フーリエ級数展開について\n",
    "\n",
    "周期が$2L$である周期関数$f(x)$のフーリエ級数展開は以下のように表される。\n",
    "\n",
    "$$\n",
    "f(x) = \\frac{a_0}{2} + \\Sigma_{n=1}^{\\infty} a_n cos(\\frac{n \\pi x}{L}) + \\Sigma_{n=1}^{\\infty} b_n sin(\\frac{n \\pi x}{L}) \\\\\n",
    "a_n = \\frac{1}{L} \\int_{-L}^{L} f(x) cos(\\frac{n \\pi x}{L}) dx\n",
    "b_n = \\frac{1}{L} \\int_{-L}^{L} f(x) sin(\\frac{n \\pi x}{L}) dx\n",
    "$$\n",
    "\n",
    "ただし、フーリエ級数展開が適応できる関数は、区分的になめらかな連続であることが求められる。\n",
    "区分的になめらかな連続とは、一階微分が区分的に連続である(不連続であっても良いが、無限大へ発散しない)関数のことである。"
   ]
  },
  {
   "cell_type": "code",
   "execution_count": 1,
   "metadata": {},
   "outputs": [],
   "source": [
    "%matplotlib inline"
   ]
  },
  {
   "cell_type": "markdown",
   "metadata": {},
   "source": [
    "### 以下のコードに関して\n",
    "\n",
    "以下のコードでは、周期 $8 (T)$ の矩形波 $f(x)$ を $n=1\\sim 10(armonics)$ でフーリエ級数展開している。\n",
    "$$\n",
    "f(x) = \\left\\{ \\begin{array}{ll}\n",
    "    1 & (2m \\leq x \\leq 2m + 1) \\\\\n",
    "    -1 & (2m - 1 \\leq x \\leq 2m)\n",
    "\\end{array} \\right. \\\\\n",
    "m \\in \\mathbb{Z}\n",
    "$$\n",
    "\n",
    "```\n",
    "T = 8 # 周期\n",
    "armonics = 10 # n\n",
    "```"
   ]
  },
  {
   "cell_type": "code",
   "execution_count": 2,
   "metadata": {},
   "outputs": [],
   "source": [
    "import numpy as np\n",
    "import matplotlib.pyplot as plt\n",
    "\n",
    "plt.style.use(\"ggplot\")\n",
    "\n",
    "# Setup\n",
    "x_ = np.linspace(-20,20,10000)\n",
    "\n",
    "T = 8\n",
    "armonics = 10\n",
    "\n",
    "def squareWave(x):\n",
    "    global T\n",
    "    lowerBoundLeft = (-T/2)\n",
    "    lowerBoundRight = 0\n",
    "    upperBoundLeft = 0\n",
    "    upperBoundRight = (T/2)\n",
    "    one = 1\n",
    "    negativeOne = -1\n",
    "\n",
    "    while True:\n",
    "        if (x >= lowerBoundLeft) and (x <= lowerBoundRight):\n",
    "            return negativeOne\n",
    "        elif (x >= upperBoundLeft) and (x <= upperBoundRight):\n",
    "            return one\n",
    "        else:\n",
    "            lowerBoundLeft -= T/2\n",
    "            lowerBoundRight -= T/2\n",
    "            upperBoundLeft += T/2\n",
    "            upperBoundRight += T/2\n",
    "            if one == 1:\n",
    "                one = -1\n",
    "                negativeOne = 1\n",
    "            else:\n",
    "                one = 1\n",
    "                negativeOne = -1\n",
    "                \n",
    "# Bn coefficients\n",
    "def bn(n):\n",
    "    n = int(n)\n",
    "    if (n%2 != 0):\n",
    "        return 4/(np.pi*n)\n",
    "    else:\n",
    "        return 0\n",
    "\n",
    "# Wn\n",
    "def wn(n):\n",
    "    global T\n",
    "    wn = (2*np.pi*n)/T\n",
    "    return wn\n",
    "\n",
    "# Fourier Series function\n",
    "def fourierSeries(n_max,x):\n",
    "    a0 = 0\n",
    "    partialSums = a0\n",
    "    for n in range(1,n_max):\n",
    "        try:\n",
    "            partialSums = partialSums + bn(n)*np.sin(wn(n)*x)\n",
    "        except:\n",
    "            print(\"pass\")\n",
    "            pass\n",
    "    return partialSums\n",
    "\n",
    "\n",
    "y = []\n",
    "f = []\n",
    "for i in x_:\n",
    "    y.append(squareWave(i))\n",
    "    f.append(fourierSeries(armonics,i))\n",
    "\n",
    "\n",
    "plt.plot(x_,y,color=\"blue\",label=\"Signal\")\n",
    "plt.plot(x_,f,color=\"red\",label=\"Fourier series approximation\")\n",
    "plt.title(\"Fourier Series approximation number of armonics: \"+str(armonics))\n",
    "plt.legend()\n",
    "plt.show()"
   ]
  },
  {
   "cell_type": "markdown",
   "metadata": {},
   "source": [
    "この$f(x)$は奇関数であることから、\n",
    "$$\n",
    "a_n = 0\n",
    "$$\n",
    "となる。また、$b_n$についても、上記式に当てはめると、\n",
    "$$\n",
    "b_n = \\left\\{ \\begin{array}{ll}\n",
    "    0 & (n = 2m) \\\\\n",
    "    -1 & (n = 2m + 1)\n",
    "\\end{array} \\right. \\\\\n",
    "n, m \\in \\mathbb{Z}\n",
    "$$\n",
    "となる。\n",
    "したがって、$f(x)$のフーリエ級数展開は、\n",
    "$$\n",
    "f(x) = \\Sigma_{m=1}^{\\infty} \\frac{4}{(2m-1) \\pi} sin(\\frac{(2m-1) \\pi}{4} x)\n",
    "$$\n",
    "となる。\n",
    "\n",
    "以降、数式上の関数は関数とし、コード上の関数はコード関数とする。"
   ]
  },
  {
   "cell_type": "code",
   "execution_count": 3,
   "metadata": {},
   "outputs": [],
   "source": [
    "# Bn coefficients\n",
    "def bn(n):\n",
    "    n = int(n)\n",
    "    if (n%2 != 0):\n",
    "        return 4/(np.pi*n)\n",
    "    else:\n",
    "        return 0"
   ]
  },
  {
   "cell_type": "markdown",
   "metadata": {},
   "source": [
    "この部分で$f(x)$のフーリエ級数展開の係数$b_n$をコード関数で定義し、"
   ]
  },
  {
   "cell_type": "code",
   "execution_count": 4,
   "metadata": {},
   "outputs": [],
   "source": [
    "# Wn\n",
    "def wn(n):\n",
    "    global T\n",
    "    wn = (2*np.pi*n)/T\n",
    "    return wn"
   ]
  },
  {
   "cell_type": "markdown",
   "metadata": {},
   "source": [
    "この部分では係数$b_n$の時の角周波数をコード関数で定義している。"
   ]
  },
  {
   "cell_type": "code",
   "execution_count": 6,
   "metadata": {},
   "outputs": [],
   "source": [
    "# Fourier Series function\n",
    "def fourierSeries(n_max,x):\n",
    "    a0 = 0\n",
    "    partialSums = a0\n",
    "    for n in range(1,n_max):\n",
    "        try:\n",
    "            partialSums = partialSums + bn(n)*np.sin(wn(n)*x)\n",
    "        except:\n",
    "            print(\"pass\")\n",
    "            pass\n",
    "    return partialSums"
   ]
  },
  {
   "cell_type": "markdown",
   "metadata": {},
   "source": [
    "上記２つのコード関数を利用して、$f(x)$を$n=1\\sim 10$の範囲でフーリエ級数展開するコード関数であり、\n",
    "以下で$f(x)$と共に、\n",
    "$$\n",
    "y \\quad (=\\quad f(x)) \\\\\n",
    "f \\quad (=\\quad \\Sigma_{m=1}^{5} \\frac{4}{(2m-1) \\pi} sin(\\frac{(2m-1) \\pi}{4} x))\n",
    "$$\n",
    "に代入している。"
   ]
  },
  {
   "cell_type": "code",
   "execution_count": 7,
   "metadata": {},
   "outputs": [
    {
     "data": {
      "image/png": "[encoded data removed]",
      "text/plain": [
       "<Figure size 432x288 with 1 Axes>"
      ]
     },
     "metadata": {},
     "output_type": "display_data"
    }
   ],
   "source": [
    "y = []\n",
    "f = []\n",
    "for i in x_:\n",
    "    y.append(squareWave(i))\n",
    "    f.append(fourierSeries(armonics,i))\n",
    "\n",
    "\n",
    "plt.plot(x_,y,color=\"blue\",label=\"Signal\")\n",
    "plt.plot(x_,f,color=\"red\",label=\"Fourier series approximation\")\n",
    "plt.title(\"Fourier Series approximation number of armonics: \"+str(armonics))\n",
    "plt.legend()\n",
    "plt.show()"
   ]
  },
  {
   "cell_type": "code",
   "execution_count": null,
   "metadata": {},
   "outputs": [],
   "source": []
  }
 ],
 "metadata": {
  "kernelspec": {
   "display_name": "Python 3",
   "language": "python",
   "name": "python3"
  },
  "language_info": {
   "codemirror_mode": {
    "name": "ipython",
    "version": 3
   },
   "file_extension": ".py",
   "mimetype": "text/x-python",
   "name": "python",
   "nbconvert_exporter": "python",
   "pygments_lexer": "ipython3",
   "version": "3.6.2"
  }
 },
 "nbformat": 4,
 "nbformat_minor": 2
}
