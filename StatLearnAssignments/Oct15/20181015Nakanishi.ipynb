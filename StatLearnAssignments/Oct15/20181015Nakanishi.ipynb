{
 "cells": [
  {
   "cell_type": "markdown",
   "metadata": {},
   "source": [
    "# ランダムなサンプル抽出"
   ]
  },
  {
   "cell_type": "code",
   "execution_count": 2,
   "metadata": {},
   "outputs": [],
   "source": [
    "import numpy as np\n",
    "from numpy.random import *\n",
    "# 標準正規分布より抽出\n",
    "x = rand(100)\n",
    "#rand(loc=平均, scale=SD, size=Output Shape[size]) 平均、SDの正規分布からランダムに抽出\n",
    "x1 = np.random.normal(loc=100, scale=10, size=100)\n",
    "x2 = np.random.normal(0, 1, 100)# uniform([low, high, size])\n",
    "# 一様分布より抽出\n",
    "x3 = np.random.uniform(1, 10, 3)#1以上10未満の一様乱数3個の配列。"
   ]
  },
  {
   "cell_type": "markdown",
   "metadata": {},
   "source": [
    "permutationとshuffleの違い　[こちら](http://kaisk.hatenadiary.com/entry/2014/10/30/170522)"
   ]
  },
  {
   "cell_type": "code",
   "execution_count": 3,
   "metadata": {},
   "outputs": [
    {
     "data": {
      "text/plain": [
       "array([ 70.38848729,  92.66961697,  80.21348391,  88.72758537,\n",
       "        97.77197815, 109.00880812,  92.16490425,  92.74328161,\n",
       "       105.89694107, 102.38100707,  95.38665961,  87.38896615,\n",
       "        92.98642754, 110.96426588,  96.69659338,  98.28974667,\n",
       "        90.43539521,  97.34048986,  76.71638652, 102.80605876,\n",
       "        99.46531022, 104.44701736, 120.24255351,  91.44313072,\n",
       "        99.16946343, 103.39018962,  91.67635082,  86.70336296,\n",
       "       101.76046112, 113.74482766, 111.993507  ,  98.01574225,\n",
       "        95.93556255, 117.84524306, 101.52093919, 109.86295812,\n",
       "        96.15746254,  89.61859974,  87.22820825,  88.43525222,\n",
       "        89.70247552, 103.59851475,  95.49081859,  98.77632117,\n",
       "        92.61864708,  94.09751069,  77.0029942 ,  83.79266741,\n",
       "        99.8751844 ,  99.65343931,  81.45844433, 108.73746306,\n",
       "       102.48151409, 102.30556683, 113.41107787, 108.15832731,\n",
       "       101.3020643 ,  98.90393193,  76.28828648, 107.9343684 ,\n",
       "        88.98400169, 101.5468748 ,  95.72319194,  86.83466639,\n",
       "        99.85652576, 101.47925571,  82.40863073, 118.90485797,\n",
       "        83.20085125, 116.48659491, 106.86143727,  94.3586252 ,\n",
       "       127.63576244, 102.99800118, 125.8908827 ,  93.77483533,\n",
       "        99.47850691,  90.94547664, 103.15018982, 103.93830043,\n",
       "        89.91301448,  96.3972539 ,  88.67496829,  90.04723341,\n",
       "       114.95962259,  99.91818163, 100.25191532,  94.35317975,\n",
       "       114.65591878,  87.28221751, 114.42523332,  99.97882422,\n",
       "       103.89744751, 105.09280173,  97.43356321, 106.9624159 ,\n",
       "       107.3592252 ,  88.24276077,  91.77351436, 119.81346235])"
      ]
     },
     "execution_count": 3,
     "metadata": {},
     "output_type": "execute_result"
    }
   ],
   "source": [
    "# shuffle(x)は配列をin-placeで並び替えるが，permutation(x)は並び替えた配列のコピーを生成する つまりx4はnullとなる\n",
    "x4 = np.random.shuffle(x1)\n",
    "x5 = np.random.permutation(x1)\n",
    "# permutation(x)には配列だけでなくint型整数も渡せる permutation(5)は，permutation(list(range(5)))と同じ働きをする\n",
    "x1"
   ]
  },
  {
   "cell_type": "code",
   "execution_count": null,
   "metadata": {},
   "outputs": [],
   "source": []
  }
 ],
 "metadata": {
  "kernelspec": {
   "display_name": "Python 3",
   "language": "python",
   "name": "python3"
  },
  "language_info": {
   "codemirror_mode": {
    "name": "ipython",
    "version": 3
   },
   "file_extension": ".py",
   "mimetype": "text/x-python",
   "name": "python",
   "nbconvert_exporter": "python",
   "pygments_lexer": "ipython3",
   "version": "3.6.4"
  }
 },
 "nbformat": 4,
 "nbformat_minor": 2
}
