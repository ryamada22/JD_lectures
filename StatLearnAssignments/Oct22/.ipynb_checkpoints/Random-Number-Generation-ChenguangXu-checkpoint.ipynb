{
 "cells": [
  {
   "cell_type": "code",
   "execution_count": 1,
   "metadata": {},
   "outputs": [],
   "source": [
    "import numpy as np\n",
    "## Set the number of digits displayed to be 2 (default is 8)\n",
    "np.set_printoptions(precision=2)"
   ]
  },
  {
   "cell_type": "code",
   "execution_count": 2,
   "metadata": {},
   "outputs": [
    {
     "data": {
      "text/plain": [
       "array([[-0.66,  0.43,  1.06],\n",
       "       [-0.29,  1.07, -0.08],\n",
       "       [-0.13, -0.28,  0.63]])"
      ]
     },
     "execution_count": 2,
     "metadata": {},
     "output_type": "execute_result"
    }
   ],
   "source": [
    "# Normal distribution \n",
    "## generate a 3*3 matrix drawn from a standard normal distribution:\n",
    "np.random.randn(3,3)"
   ]
  },
  {
   "cell_type": "code",
   "execution_count": 3,
   "metadata": {},
   "outputs": [
    {
     "data": {
      "text/plain": [
       "array([[ 12.51,   2.04,  -4.34,  -0.13],\n",
       "       [  3.47,   3.  , -12.22,  20.48]])"
      ]
     },
     "execution_count": 3,
     "metadata": {},
     "output_type": "execute_result"
    }
   ],
   "source": [
    "## generate a vector of length 10, drawn from distribution N(mu,sigma^2)\n",
    "mu=2\n",
    "sigma=10\n",
    "size=8\n",
    "vec=np.random.normal(mu,sigma,size)\n",
    "## resize the vector to a 2*4 matrix\n",
    "vec.resize(2,4)\n",
    "vec"
   ]
  },
  {
   "cell_type": "code",
   "execution_count": 4,
   "metadata": {},
   "outputs": [
    {
     "data": {
      "text/plain": [
       "array([0.37, 0.82, 0.23])"
      ]
     },
     "execution_count": 4,
     "metadata": {},
     "output_type": "execute_result"
    }
   ],
   "source": [
    "# Uniform distribution\n",
    "##  3 samples drawn from uniform distribution in [0,1)\n",
    "np.random.rand(3)"
   ]
  },
  {
   "cell_type": "code",
   "execution_count": 5,
   "metadata": {},
   "outputs": [
    {
     "data": {
      "text/plain": [
       "array([33.35, 79.52, 70.81, 68.67, 88.72])"
      ]
     },
     "execution_count": 5,
     "metadata": {},
     "output_type": "execute_result"
    }
   ],
   "source": [
    "## scale the uniform distribution to [a,b)\n",
    "a=10\n",
    "b=100\n",
    "(b-a)*np.random.rand(5)+a"
   ]
  },
  {
   "cell_type": "code",
   "execution_count": 6,
   "metadata": {},
   "outputs": [
    {
     "name": "stdout",
     "output_type": "stream",
     "text": [
      "Before shuffling:\n",
      " ['a', 'b', 'c', 'd', 'e', 'f', 'g', 'h', 'i', 'j', 'k', 'l', 'm', 'n', 'o', 'p', 'q', 'r', 's', 't', 'u', 'v', 'w', 'x', 'y', 'z']\n",
      "After shuffling (original sequence changed):\n",
      " ['q', 'o', 'f', 'c', 'm', 'h', 't', 'b', 'p', 'n', 'u', 'y', 'k', 'd', 'x', 'j', 'z', 'v', 'i', 'w', 'l', 'g', 'r', 'e', 's', 'a']\n"
     ]
    }
   ],
   "source": [
    "# Shuffling\n",
    "## shuffling modify a sequence in-place, which means that the original sequence is changed.\n",
    "## shuffle the lower case letters\n",
    "import string\n",
    "letters=list(string.ascii_lowercase)\n",
    "print(\"Before shuffling:\\n\",letters)\n",
    "np.random.shuffle(letters)\n",
    "print(\"After shuffling (original sequence changed):\\n\",letters)"
   ]
  },
  {
   "cell_type": "code",
   "execution_count": 7,
   "metadata": {},
   "outputs": [
    {
     "name": "stdout",
     "output_type": "stream",
     "text": [
      "Before shuffling:\n",
      " [[ 0  1  2  3  4]\n",
      " [ 5  6  7  8  9]\n",
      " [10 11 12 13 14]]\n",
      "After shuffling (only rows are shuffled):\n",
      " [[10 11 12 13 14]\n",
      " [ 5  6  7  8  9]\n",
      " [ 0  1  2  3  4]]\n"
     ]
    }
   ],
   "source": [
    "## If the object sent is of high dimension, only the first dimension is shuffled.\n",
    "mat=np.arange(15)\n",
    "mat.resize(3,5)\n",
    "print(\"Before shuffling:\\n\",mat)\n",
    "np.random.shuffle(mat)\n",
    "print(\"After shuffling (only rows are shuffled):\\n\",mat)"
   ]
  },
  {
   "cell_type": "code",
   "execution_count": 8,
   "metadata": {},
   "outputs": [
    {
     "name": "stdout",
     "output_type": "stream",
     "text": [
      "Before permutation:\n",
      " ['A', 'B', 'C', 'D', 'E', 'F', 'G', 'H', 'I', 'J', 'K', 'L', 'M', 'N', 'O', 'P', 'Q', 'R', 'S', 'T', 'U', 'V', 'W', 'X', 'Y', 'Z']\n",
      "Permutation:\n",
      " ['O' 'G' 'K' 'C' 'U' 'T' 'E' 'Z' 'A' 'F' 'J' 'H' 'S' 'Q' 'M' 'B' 'V' 'P'\n",
      " 'X' 'W' 'Y' 'N' 'I' 'R' 'L' 'D']\n",
      "After permutation (original sequence untouched):\n",
      " ['A', 'B', 'C', 'D', 'E', 'F', 'G', 'H', 'I', 'J', 'K', 'L', 'M', 'N', 'O', 'P', 'Q', 'R', 'S', 'T', 'U', 'V', 'W', 'X', 'Y', 'Z']\n"
     ]
    }
   ],
   "source": [
    "# Permutation\n",
    "## permutation randomly permutates a sequence, but it returns the permutation of a copied sequence, the original one is untouched\n",
    "LETTERS=list(string.ascii_uppercase)\n",
    "print(\"Before permutation:\\n\",LETTERS)\n",
    "print(\"Permutation:\\n\",np.random.permutation(LETTERS))\n",
    "print(\"After permutation (original sequence untouched):\\n\", LETTERS)"
   ]
  },
  {
   "cell_type": "code",
   "execution_count": 9,
   "metadata": {},
   "outputs": [
    {
     "data": {
      "text/plain": [
       "array([[15, 16, 17, 18, 19],\n",
       "       [ 0,  1,  2,  3,  4],\n",
       "       [10, 11, 12, 13, 14],\n",
       "       [ 5,  6,  7,  8,  9]])"
      ]
     },
     "execution_count": 9,
     "metadata": {},
     "output_type": "execute_result"
    }
   ],
   "source": [
    "## Similarly as shuffling, permutation only permutates the first dimension:\n",
    "mat2=np.arange(20)\n",
    "mat2.resize(4,5)\n",
    "np.random.permutation(mat2)"
   ]
  }
 ],
 "metadata": {
  "kernelspec": {
   "display_name": "Python 3",
   "language": "python",
   "name": "python3"
  },
  "language_info": {
   "codemirror_mode": {
    "name": "ipython",
    "version": 3
   },
   "file_extension": ".py",
   "mimetype": "text/x-python",
   "name": "python",
   "nbconvert_exporter": "python",
   "pygments_lexer": "ipython3",
   "version": "3.6.3"
  }
 },
 "nbformat": 4,
 "nbformat_minor": 2
}
