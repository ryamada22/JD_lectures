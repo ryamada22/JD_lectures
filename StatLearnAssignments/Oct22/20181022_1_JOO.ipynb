{
 "cells": [
  {
   "cell_type": "markdown",
   "metadata": {},
   "source": [
    "# Random number generation codes for normal distribution "
   ]
  },
  {
   "cell_type": "code",
   "execution_count": 1,
   "metadata": {},
   "outputs": [],
   "source": [
    "import numpy as np"
   ]
  },
  {
   "cell_type": "code",
   "execution_count": 2,
   "metadata": {},
   "outputs": [
    {
     "data": {
      "text/plain": [
       "array([-0.07593375, -1.80527356,  0.08964189,  0.34600399, -0.43356141,\n",
       "        0.67402529,  0.39326608, -0.8382901 , -0.27580218,  1.02891147])"
      ]
     },
     "execution_count": 2,
     "metadata": {},
     "output_type": "execute_result"
    }
   ],
   "source": [
    "np.random.randn(10)       # 標準正規分布を10個生成"
   ]
  },
  {
   "cell_type": "markdown",
   "metadata": {},
   "source": [
    "平均や分散を指定したい場合はnormalを使う"
   ]
  },
  {
   "cell_type": "code",
   "execution_count": 3,
   "metadata": {},
   "outputs": [
    {
     "data": {
      "text/plain": [
       "array([50.54843805, 41.90603575, 62.22386992, 50.40656422, 38.10014718,\n",
       "       53.25031083, 70.73949088, 60.54254245, 50.5790209 , 29.65481942,\n",
       "       57.6785083 , 51.1544986 , 42.66089145, 64.24807663, 43.70905733,\n",
       "       46.08723468, 64.02044241, 50.6450843 , 51.74083453, 32.3438821 ,\n",
       "       54.25829076, 56.71093566, 24.72751658, 36.30849335, 51.82043605,\n",
       "       53.61792558, 54.55720051, 39.834752  , 54.42964228, 54.17790633,\n",
       "       51.29693246, 42.99272504, 47.12875   , 31.45252185, 39.70105726,\n",
       "       58.61594463, 64.9178752 , 42.52319771, 53.58534955, 33.48162686,\n",
       "       52.12134806, 52.51579134, 46.15451389, 57.31909519, 45.89023174,\n",
       "       24.66996488, 37.45964602, 46.89782018, 44.79932383, 55.01862168,\n",
       "       52.00913204, 48.47935003, 68.52017015, 57.65796249, 59.75902246,\n",
       "       51.29273581, 48.85196504, 50.6328579 , 43.30907254, 47.36371106,\n",
       "       57.52373958, 52.85408764, 69.10572941, 50.89219222, 43.36992607,\n",
       "       42.05002663, 50.92748554, 53.32213946, 48.1393659 , 42.21823186,\n",
       "       49.40520108, 43.45634487, 40.1305367 , 51.71588743, 51.44298899,\n",
       "       55.80112446, 45.54198808, 52.83184082, 60.66619153, 63.03117487,\n",
       "       55.59153553, 59.81138678, 46.46329869, 40.14205836, 34.74027374,\n",
       "       19.45672355, 56.85216272, 44.937497  , 32.3294786 , 43.38580523,\n",
       "       50.06118263, 48.0526915 , 61.43435245, 54.40461063, 48.49185202,\n",
       "       50.35235249, 49.02856631, 54.20415997, 45.00114571, 60.90737212])"
      ]
     },
     "execution_count": 3,
     "metadata": {},
     "output_type": "execute_result"
    }
   ],
   "source": [
    "np.random.normal(50,10,size=100)   # 平均50、標準偏差10の正規分布で100個の乱数を生成"
   ]
  },
  {
   "cell_type": "markdown",
   "metadata": {},
   "source": [
    "# Random number generation codes for uniform distribution "
   ]
  },
  {
   "cell_type": "code",
   "execution_count": 4,
   "metadata": {},
   "outputs": [
    {
     "data": {
      "text/plain": [
       "array([0.28462407, 0.46425698, 0.93253283, 0.73266723, 0.9658527 ,\n",
       "       0.31894491, 0.638393  , 0.18331661, 0.30757717, 0.94745102,\n",
       "       0.21011592, 0.67049041, 0.83405511, 0.04329486, 0.72041763,\n",
       "       0.49841514, 0.40734707, 0.34069591, 0.65351168, 0.05711498,\n",
       "       0.87980088, 0.92772087, 0.85291794, 0.01054701, 0.07773862,\n",
       "       0.0610688 , 0.29894103, 0.07289953, 0.08026349, 0.23588572,\n",
       "       0.64005904, 0.43899443, 0.78496529, 0.42700751, 0.32735293,\n",
       "       0.1706371 , 0.03778376, 0.1483335 , 0.29410155, 0.98241885,\n",
       "       0.2011637 , 0.64237512, 0.24294115, 0.47191636, 0.6782604 ,\n",
       "       0.73930774, 0.772309  , 0.24194482, 0.10826157, 0.15326869,\n",
       "       0.51921395, 0.64354461, 0.85490998, 0.17254109, 0.82210412,\n",
       "       0.01552326, 0.02932207, 0.86421438, 0.77149138, 0.25177092,\n",
       "       0.4014419 , 0.38920367, 0.02916272, 0.34332396, 0.4407818 ,\n",
       "       0.07554055, 0.11287563, 0.01361673, 0.04555019, 0.09708537,\n",
       "       0.99652532, 0.89913936, 0.46369857, 0.84350659, 0.67724925,\n",
       "       0.74529563, 0.07087709, 0.84518132, 0.87947521, 0.46406572,\n",
       "       0.87027883, 0.62262135, 0.85627479, 0.56069602, 0.69186923,\n",
       "       0.30113312, 0.08725852, 0.49193025, 0.41595995, 0.91208009,\n",
       "       0.04207396, 0.52117899, 0.35116605, 0.30282121, 0.34783321,\n",
       "       0.54037181, 0.52563607, 0.12521782, 0.3600817 , 0.62303825])"
      ]
     },
     "execution_count": 4,
     "metadata": {},
     "output_type": "execute_result"
    }
   ],
   "source": [
    "np.random.rand(100)   # 0〜1の乱数を100個生成"
   ]
  },
  {
   "cell_type": "markdown",
   "metadata": {},
   "source": [
    "#  shuffling and permutation"
   ]
  },
  {
   "cell_type": "code",
   "execution_count": 5,
   "metadata": {},
   "outputs": [
    {
     "data": {
      "text/plain": [
       "array([0, 1, 2, 3, 4, 5, 6, 7, 8, 9])"
      ]
     },
     "execution_count": 5,
     "metadata": {},
     "output_type": "execute_result"
    }
   ],
   "source": [
    "arr = np.arange(10)\n",
    "arr"
   ]
  },
  {
   "cell_type": "code",
   "execution_count": 6,
   "metadata": {},
   "outputs": [
    {
     "data": {
      "text/plain": [
       "array([7, 6, 0, 8, 2, 4, 3, 9, 1, 5])"
      ]
     },
     "execution_count": 6,
     "metadata": {},
     "output_type": "execute_result"
    }
   ],
   "source": [
    "np.random.shuffle(arr) #並べ替える\n",
    "arr"
   ]
  },
  {
   "cell_type": "code",
   "execution_count": 7,
   "metadata": {},
   "outputs": [
    {
     "data": {
      "text/plain": [
       "array([[0, 1, 2],\n",
       "       [3, 4, 5],\n",
       "       [6, 7, 8]])"
      ]
     },
     "execution_count": 7,
     "metadata": {},
     "output_type": "execute_result"
    }
   ],
   "source": [
    "arr2 = np.arange(9).reshape((3, 3)) #1次元配列を3*3の二次元配列に変換\n",
    "arr2"
   ]
  },
  {
   "cell_type": "code",
   "execution_count": 8,
   "metadata": {},
   "outputs": [
    {
     "data": {
      "text/plain": [
       "array([[6, 7, 8],\n",
       "       [0, 1, 2],\n",
       "       [3, 4, 5]])"
      ]
     },
     "execution_count": 8,
     "metadata": {},
     "output_type": "execute_result"
    }
   ],
   "source": [
    "np.random.shuffle(arr2) #多次元の場合は最初のaxisに沿ってシャッフルされる\n",
    "arr2"
   ]
  },
  {
   "cell_type": "code",
   "execution_count": 9,
   "metadata": {},
   "outputs": [
    {
     "data": {
      "text/plain": [
       "array([4, 5, 1, 7, 6, 0, 9, 3, 8, 2])"
      ]
     },
     "execution_count": 9,
     "metadata": {},
     "output_type": "execute_result"
    }
   ],
   "source": [
    "np.random.permutation(10) #permutationもshuffleと同じだがコピーが作成される点と配列だけでなくint型整数も渡せる点が異なる"
   ]
  },
  {
   "cell_type": "code",
   "execution_count": 10,
   "metadata": {},
   "outputs": [
    {
     "data": {
      "text/plain": [
       "array([ 9, 15,  1, 12,  4])"
      ]
     },
     "execution_count": 10,
     "metadata": {},
     "output_type": "execute_result"
    }
   ],
   "source": [
    "np.random.permutation([1, 4, 9, 12, 15])"
   ]
  },
  {
   "cell_type": "code",
   "execution_count": 11,
   "metadata": {},
   "outputs": [
    {
     "data": {
      "text/plain": [
       "array([[3, 4, 5],\n",
       "       [6, 7, 8],\n",
       "       [0, 1, 2]])"
      ]
     },
     "execution_count": 11,
     "metadata": {},
     "output_type": "execute_result"
    }
   ],
   "source": [
    "arr = np.arange(9).reshape((3, 3))\n",
    "np.random.permutation(arr)"
   ]
  },
  {
   "cell_type": "code",
   "execution_count": 12,
   "metadata": {},
   "outputs": [
    {
     "data": {
      "text/plain": [
       "array([48, 64,  2, 60, 81, 13,  9, 92,  0, 51,  6, 49, 41, 33, 77, 21, 95,\n",
       "       57, 82, 36, 10, 91, 18, 84,  3, 28, 40,  1, 87, 80, 38, 53, 42, 27,\n",
       "       72,  5, 23, 97, 46, 58, 70, 24, 15, 85, 17, 83, 69, 86, 26, 16, 73,\n",
       "       34, 12, 45, 56, 74, 76,  7, 96, 94, 19, 11, 63, 65, 79, 43, 59, 50,\n",
       "       22,  4, 98, 14, 37, 62, 47, 78,  8, 31, 89, 44, 32, 71, 30, 90, 66,\n",
       "       93, 35, 55, 75, 25, 68, 61, 88, 39, 99, 29, 67, 52, 54, 20])"
      ]
     },
     "execution_count": 12,
     "metadata": {},
     "output_type": "execute_result"
    }
   ],
   "source": [
    "#元のデータはシャッフルしたくない時はpermutationを使ってindexをシャッフルする\n",
    "A = np.arange(100)\n",
    "x = np.random.permutation(100)\n",
    "A[x]"
   ]
  },
  {
   "cell_type": "code",
   "execution_count": 13,
   "metadata": {},
   "outputs": [
    {
     "data": {
      "text/plain": [
       "array([ 0,  1,  2,  3,  4,  5,  6,  7,  8,  9, 10, 11, 12, 13, 14, 15, 16,\n",
       "       17, 18, 19, 20, 21, 22, 23, 24, 25, 26, 27, 28, 29, 30, 31, 32, 33,\n",
       "       34, 35, 36, 37, 38, 39, 40, 41, 42, 43, 44, 45, 46, 47, 48, 49, 50,\n",
       "       51, 52, 53, 54, 55, 56, 57, 58, 59, 60, 61, 62, 63, 64, 65, 66, 67,\n",
       "       68, 69, 70, 71, 72, 73, 74, 75, 76, 77, 78, 79, 80, 81, 82, 83, 84,\n",
       "       85, 86, 87, 88, 89, 90, 91, 92, 93, 94, 95, 96, 97, 98, 99])"
      ]
     },
     "execution_count": 13,
     "metadata": {},
     "output_type": "execute_result"
    }
   ],
   "source": [
    "A"
   ]
  },
  {
   "cell_type": "code",
   "execution_count": null,
   "metadata": {},
   "outputs": [],
   "source": []
  }
 ],
 "metadata": {
  "kernelspec": {
   "display_name": "Python 3",
   "language": "python",
   "name": "python3"
  },
  "language_info": {
   "codemirror_mode": {
    "name": "ipython",
    "version": 3
   },
   "file_extension": ".py",
   "mimetype": "text/x-python",
   "name": "python",
   "nbconvert_exporter": "python",
   "pygments_lexer": "ipython3",
   "version": "3.6.4"
  }
 },
 "nbformat": 4,
 "nbformat_minor": 2
}
