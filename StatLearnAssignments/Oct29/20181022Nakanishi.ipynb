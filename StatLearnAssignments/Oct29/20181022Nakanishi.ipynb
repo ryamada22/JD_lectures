{
 "cells": [
  {
   "cell_type": "code",
   "execution_count": 36,
   "metadata": {
    "collapsed": true
   },
   "outputs": [],
   "source": [
    "import numpy as np\n",
    "from numpy.random import *\n",
    "N0 = 3000\n",
    "N1 = 1000\n",
    "Y0 = np.array([0] * N0)\n",
    "Y1 = np.array([1] * N1)"
   ]
  },
  {
   "cell_type": "code",
   "execution_count": 37,
   "metadata": {
    "collapsed": true
   },
   "outputs": [],
   "source": [
    "import random \n",
    "#X1が0, 1となる和をそれぞれランダムに発生\n",
    "#基本的に0となる確率の方が小さいように設定\n",
    "p1 = random.choice(range(1, int(N0/2)))\n",
    "p2 = random.choice(range(1, int(N1/2)))\n",
    "X10Y0 = p1\n",
    "X11Y0 = np.array([N0]) - p1\n",
    "X10Y1 = p2\n",
    "X11Y1 = np.array([N1]) - p2"
   ]
  },
  {
   "cell_type": "code",
   "execution_count": 48,
   "metadata": {
    "collapsed": true
   },
   "outputs": [],
   "source": [
    "#X2が0, 1となる和をそれぞれランダムに発生\n",
    "#基本的に0となる確率の方が小さいように設定\n",
    "q1 = random.choice(range(1, int(X10Y0/2)))\n",
    "q2 = random.choice(range(1, int(X11Y0/2)))\n",
    "q3 = random.choice(range(1, int(X10Y1/2)))\n",
    "q4 = random.choice(range(1, int(X11Y1/2)))\n",
    "X10X20Y0 = q1\n",
    "X10X21Y0 = np.array(X10Y0) - q1\n",
    "X11X20Y0 = q2\n",
    "X11X21Y0 = np.array(X11Y0) - q2\n",
    "X10X20Y1 = q3\n",
    "X10X21Y1 = np.array(X10Y1) - q3\n",
    "X11X20Y1 = q4\n",
    "X11X21Y1 = np.array(X11Y1) - q4"
   ]
  },
  {
   "cell_type": "code",
   "execution_count": 50,
   "metadata": {
    "collapsed": true
   },
   "outputs": [],
   "source": [
    "#X3が0, 1となる和をそれぞれランダムに発生\n",
    "#基本的に0となる確率の方が小さいように設定\n",
    "r1 = random.choice(range(1, int(X10X20Y0/2)))\n",
    "r2 = random.choice(range(1, int(X10X21Y0/2)))\n",
    "r3 = random.choice(range(1, int(X11X20Y0/2)))\n",
    "r4 = random.choice(range(1, int(X11X21Y0/2)))\n",
    "r5 = random.choice(range(1, int(X10X20Y1/2)))\n",
    "r6 = random.choice(range(1, int(X10X21Y1/2)))\n",
    "r7 = random.choice(range(1, int(X11X20Y1/2)))\n",
    "r8 = random.choice(range(1, int(X11X21Y1/2)))"
   ]
  },
  {
   "cell_type": "code",
   "execution_count": 52,
   "metadata": {
    "collapsed": true
   },
   "outputs": [],
   "source": [
    "X10X20X30Y0 = r1\n",
    "X10X20X31Y0 = np.array(X10X20Y0) - r1\n",
    "X10X21X30Y0 = r2\n",
    "X10X21X31Y0 = np.array(X10X21Y0) - r2\n",
    "X11X20X30Y0 = r3\n",
    "X11X20X31Y0 = np.array(X11X20Y0) - r3\n",
    "X11X21X30Y0 = r4\n",
    "X11X21X31Y0 = np.array(X11X21Y0) - r4\n",
    "X10X20X30Y1 = r5\n",
    "X10X20X31Y1 = np.array(X10X20Y1) - r5\n",
    "X10X21X30Y1 = r6\n",
    "X10X21X31Y1 = np.array(X10X21Y1) - r6\n",
    "X11X20X30Y1 = r7\n",
    "X11X20X31Y1 = np.array(X11X20Y1) - r7\n",
    "X11X21X30Y1 = r8\n",
    "X11X21X31Y1 = np.array(X11X21Y1) - r8"
   ]
  },
  {
   "cell_type": "code",
   "execution_count": 53,
   "metadata": {},
   "outputs": [
    {
     "data": {
      "text/plain": [
       "array([[0, 0, 0],\n",
       "       [0, 0, 1],\n",
       "       [0, 0, 1],\n",
       "       ...,\n",
       "       [1, 1, 1],\n",
       "       [1, 1, 1],\n",
       "       [1, 1, 1]])"
      ]
     },
     "execution_count": 53,
     "metadata": {},
     "output_type": "execute_result"
    }
   ],
   "source": [
    "#Y=0となるデータを格納\n",
    "X_Y00 = np.array([[0, 0, 0]] * X10X20X30Y0)\n",
    "X_Y01 = np.array([[0, 0, 1]] * X10X20X31Y0)\n",
    "X_Y02 = np.array([[0, 1, 0]] * X10X21X30Y0)\n",
    "X_Y03 = np.array([[0, 1, 1]] * X10X21X31Y0)\n",
    "X_Y04 = np.array([[1, 0, 0]] * X11X20X30Y0)\n",
    "X_Y05 = np.array([[1, 0, 1]] * X11X20X31Y0)\n",
    "X_Y06 = np.array([[1, 1, 0]] * X11X21X30Y0)\n",
    "X_Y07 = np.array([[1, 1, 1]] * X11X21X31Y0[0])\n",
    "X_Y0 = np.append(X_Y00, X_Y01, axis=0)\n",
    "X_Y0 = np.append(X_Y0, X_Y02, axis=0)\n",
    "X_Y0 = np.append(X_Y0, X_Y03, axis=0)\n",
    "X_Y0 = np.append(X_Y0, X_Y04, axis=0)\n",
    "X_Y0 = np.append(X_Y0, X_Y05, axis=0)\n",
    "X_Y0 = np.append(X_Y0, X_Y06, axis=0)\n",
    "X_Y0 = np.append(X_Y0, X_Y07, axis=0)\n",
    "X_Y0"
   ]
  },
  {
   "cell_type": "code",
   "execution_count": 54,
   "metadata": {},
   "outputs": [
    {
     "data": {
      "text/plain": [
       "69"
      ]
     },
     "execution_count": 54,
     "metadata": {},
     "output_type": "execute_result"
    }
   ],
   "source": [
    "X11X20X31Y1"
   ]
  },
  {
   "cell_type": "code",
   "execution_count": 55,
   "metadata": {
    "collapsed": true
   },
   "outputs": [],
   "source": [
    "#Y=1となるデータを格納\n",
    "X_Y10 = np.array([[0, 0, 0]] * X10X20X30Y1)\n",
    "X_Y11 = np.array([[0, 0, 1]] * X10X20X31Y1)\n",
    "X_Y12 = np.array([[0, 1, 0]] * X10X21X30Y1)\n",
    "X_Y13 = np.array([[0, 1, 1]] * X10X21X31Y1)\n",
    "X_Y14 = np.array([[1, 0, 0]] * X11X20X30Y1)\n",
    "X_Y15 = np.array([[1, 0, 1]] * X11X20X31Y1)\n",
    "X_Y16 = np.array([[1, 1, 0]] * X11X21X30Y1)\n",
    "X_Y17 = np.array([[1, 1, 1]] * X11X21X31Y1[0])\n",
    "X_Y1 = np.append(X_Y10, X_Y11, axis=0)\n",
    "X_Y1 = np.append(X_Y1, X_Y12, axis=0)\n",
    "X_Y1 = np.append(X_Y1, X_Y13, axis=0)\n",
    "X_Y1 = np.append(X_Y1, X_Y14, axis=0)\n",
    "X_Y1 = np.append(X_Y1, X_Y15, axis=0)\n",
    "X_Y1 = np.append(X_Y1, X_Y16, axis=0)\n",
    "X_Y1 = np.append(X_Y1, X_Y17, axis=0)\n",
    "\n",
    "X = np.append(X_Y0, X_Y1, axis=0)"
   ]
  },
  {
   "cell_type": "code",
   "execution_count": 56,
   "metadata": {
    "collapsed": true
   },
   "outputs": [],
   "source": [
    "Y = np.append(Y0, Y1, axis=0)"
   ]
  },
  {
   "cell_type": "code",
   "execution_count": 57,
   "metadata": {},
   "outputs": [
    {
     "data": {
      "text/plain": [
       "1000"
      ]
     },
     "execution_count": 57,
     "metadata": {},
     "output_type": "execute_result"
    }
   ],
   "source": [
    "len(X_Y1)"
   ]
  },
  {
   "cell_type": "code",
   "execution_count": 58,
   "metadata": {
    "collapsed": true
   },
   "outputs": [],
   "source": [
    "from sklearn import tree\n",
    "clf = tree.DecisionTreeClassifier()\n",
    "clf = clf.fit(X, Y)"
   ]
  },
  {
   "cell_type": "code",
   "execution_count": 59,
   "metadata": {},
   "outputs": [
    {
     "data": {
      "image/svg+xml": [
       "<?xml version=\"1.0\" encoding=\"UTF-8\" standalone=\"no\"?>\n",
       "<!DOCTYPE svg PUBLIC \"-//W3C//DTD SVG 1.1//EN\"\n",
       " \"http://www.w3.org/Graphics/SVG/1.1/DTD/svg11.dtd\">\n",
       "<!-- Generated by graphviz version 2.40.1 (20161225.0304)\n",
       " -->\n",
       "<!-- Title: Tree Pages: 1 -->\n",
       "<svg width=\"991pt\" height=\"373pt\"\n",
       " viewBox=\"0.00 0.00 990.50 373.00\" xmlns=\"http://www.w3.org/2000/svg\" xmlns:xlink=\"http://www.w3.org/1999/xlink\">\n",
       "<g id=\"graph0\" class=\"graph\" transform=\"scale(1 1) rotate(0) translate(4 369)\">\n",
       "<title>Tree</title>\n",
       "<polygon fill=\"#ffffff\" stroke=\"transparent\" points=\"-4,4 -4,-369 986.5,-369 986.5,4 -4,4\"/>\n",
       "<!-- 0 -->\n",
       "<g id=\"node1\" class=\"node\">\n",
       "<title>0</title>\n",
       "<polygon fill=\"none\" stroke=\"#000000\" points=\"529,-365 395,-365 395,-297 529,-297 529,-365\"/>\n",
       "<text text-anchor=\"middle\" x=\"462\" y=\"-349.8\" font-family=\"Times,serif\" font-size=\"14.00\" fill=\"#000000\">X[1] &lt;= 0.5</text>\n",
       "<text text-anchor=\"middle\" x=\"462\" y=\"-334.8\" font-family=\"Times,serif\" font-size=\"14.00\" fill=\"#000000\">gini = 0.375</text>\n",
       "<text text-anchor=\"middle\" x=\"462\" y=\"-319.8\" font-family=\"Times,serif\" font-size=\"14.00\" fill=\"#000000\">samples = 4000</text>\n",
       "<text text-anchor=\"middle\" x=\"462\" y=\"-304.8\" font-family=\"Times,serif\" font-size=\"14.00\" fill=\"#000000\">value = [3000, 1000]</text>\n",
       "</g>\n",
       "<!-- 1 -->\n",
       "<g id=\"node2\" class=\"node\">\n",
       "<title>1</title>\n",
       "<polygon fill=\"none\" stroke=\"#000000\" points=\"398.5,-261 285.5,-261 285.5,-193 398.5,-193 398.5,-261\"/>\n",
       "<text text-anchor=\"middle\" x=\"342\" y=\"-245.8\" font-family=\"Times,serif\" font-size=\"14.00\" fill=\"#000000\">X[2] &lt;= 0.5</text>\n",
       "<text text-anchor=\"middle\" x=\"342\" y=\"-230.8\" font-family=\"Times,serif\" font-size=\"14.00\" fill=\"#000000\">gini = 0.253</text>\n",
       "<text text-anchor=\"middle\" x=\"342\" y=\"-215.8\" font-family=\"Times,serif\" font-size=\"14.00\" fill=\"#000000\">samples = 606</text>\n",
       "<text text-anchor=\"middle\" x=\"342\" y=\"-200.8\" font-family=\"Times,serif\" font-size=\"14.00\" fill=\"#000000\">value = [516, 90]</text>\n",
       "</g>\n",
       "<!-- 0&#45;&gt;1 -->\n",
       "<g id=\"edge1\" class=\"edge\">\n",
       "<title>0&#45;&gt;1</title>\n",
       "<path fill=\"none\" stroke=\"#000000\" d=\"M422.7075,-296.9465C411.9333,-287.6088 400.1436,-277.3911 388.985,-267.7203\"/>\n",
       "<polygon fill=\"#000000\" stroke=\"#000000\" points=\"391.2299,-265.0344 381.3808,-261.13 386.6454,-270.3243 391.2299,-265.0344\"/>\n",
       "<text text-anchor=\"middle\" x=\"383.1619\" y=\"-282.3665\" font-family=\"Times,serif\" font-size=\"14.00\" fill=\"#000000\">True</text>\n",
       "</g>\n",
       "<!-- 8 -->\n",
       "<g id=\"node9\" class=\"node\">\n",
       "<title>8</title>\n",
       "<polygon fill=\"none\" stroke=\"#000000\" points=\"652.5,-261 525.5,-261 525.5,-193 652.5,-193 652.5,-261\"/>\n",
       "<text text-anchor=\"middle\" x=\"589\" y=\"-245.8\" font-family=\"Times,serif\" font-size=\"14.00\" fill=\"#000000\">X[0] &lt;= 0.5</text>\n",
       "<text text-anchor=\"middle\" x=\"589\" y=\"-230.8\" font-family=\"Times,serif\" font-size=\"14.00\" fill=\"#000000\">gini = 0.392</text>\n",
       "<text text-anchor=\"middle\" x=\"589\" y=\"-215.8\" font-family=\"Times,serif\" font-size=\"14.00\" fill=\"#000000\">samples = 3394</text>\n",
       "<text text-anchor=\"middle\" x=\"589\" y=\"-200.8\" font-family=\"Times,serif\" font-size=\"14.00\" fill=\"#000000\">value = [2484, 910]</text>\n",
       "</g>\n",
       "<!-- 0&#45;&gt;8 -->\n",
       "<g id=\"edge8\" class=\"edge\">\n",
       "<title>0&#45;&gt;8</title>\n",
       "<path fill=\"none\" stroke=\"#000000\" d=\"M503.5845,-296.9465C514.9873,-287.6088 527.4647,-277.3911 539.2743,-267.7203\"/>\n",
       "<polygon fill=\"#000000\" stroke=\"#000000\" points=\"541.8026,-270.1736 547.322,-261.13 537.3676,-264.7578 541.8026,-270.1736\"/>\n",
       "<text text-anchor=\"middle\" x=\"544.8451\" y=\"-282.307\" font-family=\"Times,serif\" font-size=\"14.00\" fill=\"#000000\">False</text>\n",
       "</g>\n",
       "<!-- 2 -->\n",
       "<g id=\"node3\" class=\"node\">\n",
       "<title>2</title>\n",
       "<polygon fill=\"none\" stroke=\"#000000\" points=\"216,-157 110,-157 110,-89 216,-89 216,-157\"/>\n",
       "<text text-anchor=\"middle\" x=\"163\" y=\"-141.8\" font-family=\"Times,serif\" font-size=\"14.00\" fill=\"#000000\">X[0] &lt;= 0.5</text>\n",
       "<text text-anchor=\"middle\" x=\"163\" y=\"-126.8\" font-family=\"Times,serif\" font-size=\"14.00\" fill=\"#000000\">gini = 0.233</text>\n",
       "<text text-anchor=\"middle\" x=\"163\" y=\"-111.8\" font-family=\"Times,serif\" font-size=\"14.00\" fill=\"#000000\">samples = 104</text>\n",
       "<text text-anchor=\"middle\" x=\"163\" y=\"-96.8\" font-family=\"Times,serif\" font-size=\"14.00\" fill=\"#000000\">value = [90, 14]</text>\n",
       "</g>\n",
       "<!-- 1&#45;&gt;2 -->\n",
       "<g id=\"edge2\" class=\"edge\">\n",
       "<title>1&#45;&gt;2</title>\n",
       "<path fill=\"none\" stroke=\"#000000\" d=\"M285.3633,-194.0938C266.1779,-182.9469 244.6528,-170.4408 225.0679,-159.0618\"/>\n",
       "<polygon fill=\"#000000\" stroke=\"#000000\" points=\"226.6261,-155.9193 216.2213,-153.9218 223.1095,-161.9719 226.6261,-155.9193\"/>\n",
       "</g>\n",
       "<!-- 5 -->\n",
       "<g id=\"node6\" class=\"node\">\n",
       "<title>5</title>\n",
       "<polygon fill=\"none\" stroke=\"#000000\" points=\"398.5,-157 285.5,-157 285.5,-89 398.5,-89 398.5,-157\"/>\n",
       "<text text-anchor=\"middle\" x=\"342\" y=\"-141.8\" font-family=\"Times,serif\" font-size=\"14.00\" fill=\"#000000\">X[0] &lt;= 0.5</text>\n",
       "<text text-anchor=\"middle\" x=\"342\" y=\"-126.8\" font-family=\"Times,serif\" font-size=\"14.00\" fill=\"#000000\">gini = 0.257</text>\n",
       "<text text-anchor=\"middle\" x=\"342\" y=\"-111.8\" font-family=\"Times,serif\" font-size=\"14.00\" fill=\"#000000\">samples = 502</text>\n",
       "<text text-anchor=\"middle\" x=\"342\" y=\"-96.8\" font-family=\"Times,serif\" font-size=\"14.00\" fill=\"#000000\">value = [426, 76]</text>\n",
       "</g>\n",
       "<!-- 1&#45;&gt;5 -->\n",
       "<g id=\"edge5\" class=\"edge\">\n",
       "<title>1&#45;&gt;5</title>\n",
       "<path fill=\"none\" stroke=\"#000000\" d=\"M342,-192.9465C342,-184.776 342,-175.9318 342,-167.3697\"/>\n",
       "<polygon fill=\"#000000\" stroke=\"#000000\" points=\"345.5001,-167.13 342,-157.13 338.5001,-167.13 345.5001,-167.13\"/>\n",
       "</g>\n",
       "<!-- 3 -->\n",
       "<g id=\"node4\" class=\"node\">\n",
       "<title>3</title>\n",
       "<polygon fill=\"none\" stroke=\"#000000\" points=\"92,-53 0,-53 0,0 92,0 92,-53\"/>\n",
       "<text text-anchor=\"middle\" x=\"46\" y=\"-37.8\" font-family=\"Times,serif\" font-size=\"14.00\" fill=\"#000000\">gini = 0.5</text>\n",
       "<text text-anchor=\"middle\" x=\"46\" y=\"-22.8\" font-family=\"Times,serif\" font-size=\"14.00\" fill=\"#000000\">samples = 2</text>\n",
       "<text text-anchor=\"middle\" x=\"46\" y=\"-7.8\" font-family=\"Times,serif\" font-size=\"14.00\" fill=\"#000000\">value = [1, 1]</text>\n",
       "</g>\n",
       "<!-- 2&#45;&gt;3 -->\n",
       "<g id=\"edge3\" class=\"edge\">\n",
       "<title>2&#45;&gt;3</title>\n",
       "<path fill=\"none\" stroke=\"#000000\" d=\"M121.7502,-88.9777C110.2039,-79.4545 97.6729,-69.1191 86.189,-59.6473\"/>\n",
       "<polygon fill=\"#000000\" stroke=\"#000000\" points=\"88.3724,-56.9113 78.4308,-53.2485 83.9184,-62.3115 88.3724,-56.9113\"/>\n",
       "</g>\n",
       "<!-- 4 -->\n",
       "<g id=\"node5\" class=\"node\">\n",
       "<title>4</title>\n",
       "<polygon fill=\"none\" stroke=\"#000000\" points=\"216,-53 110,-53 110,0 216,0 216,-53\"/>\n",
       "<text text-anchor=\"middle\" x=\"163\" y=\"-37.8\" font-family=\"Times,serif\" font-size=\"14.00\" fill=\"#000000\">gini = 0.222</text>\n",
       "<text text-anchor=\"middle\" x=\"163\" y=\"-22.8\" font-family=\"Times,serif\" font-size=\"14.00\" fill=\"#000000\">samples = 102</text>\n",
       "<text text-anchor=\"middle\" x=\"163\" y=\"-7.8\" font-family=\"Times,serif\" font-size=\"14.00\" fill=\"#000000\">value = [89, 13]</text>\n",
       "</g>\n",
       "<!-- 2&#45;&gt;4 -->\n",
       "<g id=\"edge4\" class=\"edge\">\n",
       "<title>2&#45;&gt;4</title>\n",
       "<path fill=\"none\" stroke=\"#000000\" d=\"M163,-88.9777C163,-80.7364 163,-71.887 163,-63.5153\"/>\n",
       "<polygon fill=\"#000000\" stroke=\"#000000\" points=\"166.5001,-63.2484 163,-53.2485 159.5001,-63.2485 166.5001,-63.2484\"/>\n",
       "</g>\n",
       "<!-- 6 -->\n",
       "<g id=\"node7\" class=\"node\">\n",
       "<title>6</title>\n",
       "<polygon fill=\"none\" stroke=\"#000000\" points=\"333.5,-53 234.5,-53 234.5,0 333.5,0 333.5,-53\"/>\n",
       "<text text-anchor=\"middle\" x=\"284\" y=\"-37.8\" font-family=\"Times,serif\" font-size=\"14.00\" fill=\"#000000\">gini = 0.219</text>\n",
       "<text text-anchor=\"middle\" x=\"284\" y=\"-22.8\" font-family=\"Times,serif\" font-size=\"14.00\" fill=\"#000000\">samples = 56</text>\n",
       "<text text-anchor=\"middle\" x=\"284\" y=\"-7.8\" font-family=\"Times,serif\" font-size=\"14.00\" fill=\"#000000\">value = [49, 7]</text>\n",
       "</g>\n",
       "<!-- 5&#45;&gt;6 -->\n",
       "<g id=\"edge6\" class=\"edge\">\n",
       "<title>5&#45;&gt;6</title>\n",
       "<path fill=\"none\" stroke=\"#000000\" d=\"M321.5514,-88.9777C316.2678,-80.187 310.5684,-70.7044 305.2452,-61.8477\"/>\n",
       "<polygon fill=\"#000000\" stroke=\"#000000\" points=\"308.2282,-60.0165 300.0768,-53.2485 302.2285,-63.6225 308.2282,-60.0165\"/>\n",
       "</g>\n",
       "<!-- 7 -->\n",
       "<g id=\"node8\" class=\"node\">\n",
       "<title>7</title>\n",
       "<polygon fill=\"none\" stroke=\"#000000\" points=\"464.5,-53 351.5,-53 351.5,0 464.5,0 464.5,-53\"/>\n",
       "<text text-anchor=\"middle\" x=\"408\" y=\"-37.8\" font-family=\"Times,serif\" font-size=\"14.00\" fill=\"#000000\">gini = 0.262</text>\n",
       "<text text-anchor=\"middle\" x=\"408\" y=\"-22.8\" font-family=\"Times,serif\" font-size=\"14.00\" fill=\"#000000\">samples = 446</text>\n",
       "<text text-anchor=\"middle\" x=\"408\" y=\"-7.8\" font-family=\"Times,serif\" font-size=\"14.00\" fill=\"#000000\">value = [377, 69]</text>\n",
       "</g>\n",
       "<!-- 5&#45;&gt;7 -->\n",
       "<g id=\"edge7\" class=\"edge\">\n",
       "<title>5&#45;&gt;7</title>\n",
       "<path fill=\"none\" stroke=\"#000000\" d=\"M365.2691,-88.9777C371.344,-80.0954 377.9021,-70.5067 384.0135,-61.5711\"/>\n",
       "<polygon fill=\"#000000\" stroke=\"#000000\" points=\"386.9493,-63.4785 389.7057,-53.2485 381.1714,-59.5267 386.9493,-63.4785\"/>\n",
       "</g>\n",
       "<!-- 9 -->\n",
       "<g id=\"node10\" class=\"node\">\n",
       "<title>9</title>\n",
       "<polygon fill=\"none\" stroke=\"#000000\" points=\"645.5,-157 532.5,-157 532.5,-89 645.5,-89 645.5,-157\"/>\n",
       "<text text-anchor=\"middle\" x=\"589\" y=\"-141.8\" font-family=\"Times,serif\" font-size=\"14.00\" fill=\"#000000\">X[2] &lt;= 0.5</text>\n",
       "<text text-anchor=\"middle\" x=\"589\" y=\"-126.8\" font-family=\"Times,serif\" font-size=\"14.00\" fill=\"#000000\">gini = 0.286</text>\n",
       "<text text-anchor=\"middle\" x=\"589\" y=\"-111.8\" font-family=\"Times,serif\" font-size=\"14.00\" fill=\"#000000\">samples = 422</text>\n",
       "<text text-anchor=\"middle\" x=\"589\" y=\"-96.8\" font-family=\"Times,serif\" font-size=\"14.00\" fill=\"#000000\">value = [349, 73]</text>\n",
       "</g>\n",
       "<!-- 8&#45;&gt;9 -->\n",
       "<g id=\"edge9\" class=\"edge\">\n",
       "<title>8&#45;&gt;9</title>\n",
       "<path fill=\"none\" stroke=\"#000000\" d=\"M589,-192.9465C589,-184.776 589,-175.9318 589,-167.3697\"/>\n",
       "<polygon fill=\"#000000\" stroke=\"#000000\" points=\"592.5001,-167.13 589,-157.13 585.5001,-167.13 592.5001,-167.13\"/>\n",
       "</g>\n",
       "<!-- 12 -->\n",
       "<g id=\"node13\" class=\"node\">\n",
       "<title>12</title>\n",
       "<polygon fill=\"none\" stroke=\"#000000\" points=\"847.5,-157 720.5,-157 720.5,-89 847.5,-89 847.5,-157\"/>\n",
       "<text text-anchor=\"middle\" x=\"784\" y=\"-141.8\" font-family=\"Times,serif\" font-size=\"14.00\" fill=\"#000000\">X[2] &lt;= 0.5</text>\n",
       "<text text-anchor=\"middle\" x=\"784\" y=\"-126.8\" font-family=\"Times,serif\" font-size=\"14.00\" fill=\"#000000\">gini = 0.405</text>\n",
       "<text text-anchor=\"middle\" x=\"784\" y=\"-111.8\" font-family=\"Times,serif\" font-size=\"14.00\" fill=\"#000000\">samples = 2972</text>\n",
       "<text text-anchor=\"middle\" x=\"784\" y=\"-96.8\" font-family=\"Times,serif\" font-size=\"14.00\" fill=\"#000000\">value = [2135, 837]</text>\n",
       "</g>\n",
       "<!-- 8&#45;&gt;12 -->\n",
       "<g id=\"edge12\" class=\"edge\">\n",
       "<title>8&#45;&gt;12</title>\n",
       "<path fill=\"none\" stroke=\"#000000\" d=\"M652.5805,-193.0904C671.2901,-183.1119 691.9035,-172.1182 711.1461,-161.8554\"/>\n",
       "<polygon fill=\"#000000\" stroke=\"#000000\" points=\"712.9959,-164.8356 720.1724,-157.0414 709.7018,-158.6591 712.9959,-164.8356\"/>\n",
       "</g>\n",
       "<!-- 10 -->\n",
       "<g id=\"node11\" class=\"node\">\n",
       "<title>10</title>\n",
       "<polygon fill=\"none\" stroke=\"#000000\" points=\"581.5,-53 482.5,-53 482.5,0 581.5,0 581.5,-53\"/>\n",
       "<text text-anchor=\"middle\" x=\"532\" y=\"-37.8\" font-family=\"Times,serif\" font-size=\"14.00\" fill=\"#000000\">gini = 0.043</text>\n",
       "<text text-anchor=\"middle\" x=\"532\" y=\"-22.8\" font-family=\"Times,serif\" font-size=\"14.00\" fill=\"#000000\">samples = 46</text>\n",
       "<text text-anchor=\"middle\" x=\"532\" y=\"-7.8\" font-family=\"Times,serif\" font-size=\"14.00\" fill=\"#000000\">value = [45, 1]</text>\n",
       "</g>\n",
       "<!-- 9&#45;&gt;10 -->\n",
       "<g id=\"edge10\" class=\"edge\">\n",
       "<title>9&#45;&gt;10</title>\n",
       "<path fill=\"none\" stroke=\"#000000\" d=\"M568.9039,-88.9777C563.7656,-80.2786 558.227,-70.9018 553.0425,-62.1247\"/>\n",
       "<polygon fill=\"#000000\" stroke=\"#000000\" points=\"555.899,-60.0786 547.7996,-53.2485 549.8719,-63.6387 555.899,-60.0786\"/>\n",
       "</g>\n",
       "<!-- 11 -->\n",
       "<g id=\"node12\" class=\"node\">\n",
       "<title>11</title>\n",
       "<polygon fill=\"none\" stroke=\"#000000\" points=\"712.5,-53 599.5,-53 599.5,0 712.5,0 712.5,-53\"/>\n",
       "<text text-anchor=\"middle\" x=\"656\" y=\"-37.8\" font-family=\"Times,serif\" font-size=\"14.00\" fill=\"#000000\">gini = 0.31</text>\n",
       "<text text-anchor=\"middle\" x=\"656\" y=\"-22.8\" font-family=\"Times,serif\" font-size=\"14.00\" fill=\"#000000\">samples = 376</text>\n",
       "<text text-anchor=\"middle\" x=\"656\" y=\"-7.8\" font-family=\"Times,serif\" font-size=\"14.00\" fill=\"#000000\">value = [304, 72]</text>\n",
       "</g>\n",
       "<!-- 9&#45;&gt;11 -->\n",
       "<g id=\"edge11\" class=\"edge\">\n",
       "<title>9&#45;&gt;11</title>\n",
       "<path fill=\"none\" stroke=\"#000000\" d=\"M612.6217,-88.9777C618.7887,-80.0954 625.4461,-70.5067 631.6501,-61.5711\"/>\n",
       "<polygon fill=\"#000000\" stroke=\"#000000\" points=\"634.6003,-63.4589 637.4285,-53.2485 628.8503,-59.4666 634.6003,-63.4589\"/>\n",
       "</g>\n",
       "<!-- 13 -->\n",
       "<g id=\"node14\" class=\"node\">\n",
       "<title>13</title>\n",
       "<polygon fill=\"none\" stroke=\"#000000\" points=\"837,-53 731,-53 731,0 837,0 837,-53\"/>\n",
       "<text text-anchor=\"middle\" x=\"784\" y=\"-37.8\" font-family=\"Times,serif\" font-size=\"14.00\" fill=\"#000000\">gini = 0.417</text>\n",
       "<text text-anchor=\"middle\" x=\"784\" y=\"-22.8\" font-family=\"Times,serif\" font-size=\"14.00\" fill=\"#000000\">samples = 71</text>\n",
       "<text text-anchor=\"middle\" x=\"784\" y=\"-7.8\" font-family=\"Times,serif\" font-size=\"14.00\" fill=\"#000000\">value = [21, 50]</text>\n",
       "</g>\n",
       "<!-- 12&#45;&gt;13 -->\n",
       "<g id=\"edge13\" class=\"edge\">\n",
       "<title>12&#45;&gt;13</title>\n",
       "<path fill=\"none\" stroke=\"#000000\" d=\"M784,-88.9777C784,-80.7364 784,-71.887 784,-63.5153\"/>\n",
       "<polygon fill=\"#000000\" stroke=\"#000000\" points=\"787.5001,-63.2484 784,-53.2485 780.5001,-63.2485 787.5001,-63.2484\"/>\n",
       "</g>\n",
       "<!-- 14 -->\n",
       "<g id=\"node15\" class=\"node\">\n",
       "<title>14</title>\n",
       "<polygon fill=\"none\" stroke=\"#000000\" points=\"982.5,-53 855.5,-53 855.5,0 982.5,0 982.5,-53\"/>\n",
       "<text text-anchor=\"middle\" x=\"919\" y=\"-37.8\" font-family=\"Times,serif\" font-size=\"14.00\" fill=\"#000000\">gini = 0.395</text>\n",
       "<text text-anchor=\"middle\" x=\"919\" y=\"-22.8\" font-family=\"Times,serif\" font-size=\"14.00\" fill=\"#000000\">samples = 2901</text>\n",
       "<text text-anchor=\"middle\" x=\"919\" y=\"-7.8\" font-family=\"Times,serif\" font-size=\"14.00\" fill=\"#000000\">value = [2114, 787]</text>\n",
       "</g>\n",
       "<!-- 12&#45;&gt;14 -->\n",
       "<g id=\"edge14\" class=\"edge\">\n",
       "<title>12&#45;&gt;14</title>\n",
       "<path fill=\"none\" stroke=\"#000000\" d=\"M831.5959,-88.9777C845.1748,-79.2713 859.9339,-68.7213 873.3912,-59.1018\"/>\n",
       "<polygon fill=\"#000000\" stroke=\"#000000\" points=\"875.4799,-61.9111 881.5798,-53.2485 871.4092,-56.2164 875.4799,-61.9111\"/>\n",
       "</g>\n",
       "</g>\n",
       "</svg>\n"
      ],
      "text/plain": [
       "<graphviz.files.Source at 0x111693278>"
      ]
     },
     "execution_count": 59,
     "metadata": {},
     "output_type": "execute_result"
    }
   ],
   "source": [
    "#decision treeをグラフ化する\n",
    "import graphviz \n",
    "dot_data = tree.export_graphviz(clf, out_file=None) \n",
    "graph = graphviz.Source(dot_data) \n",
    "graph "
   ]
  },
  {
   "cell_type": "code",
   "execution_count": 150,
   "metadata": {},
   "outputs": [
    {
     "data": {
      "image/png": "[encoded data removed]",
      "text/plain": [
       "<matplotlib.figure.Figure at 0x151e369710>"
      ]
     },
     "metadata": {},
     "output_type": "display_data"
    }
   ],
   "source": [
    "# グラフの書き方も少し勉強（未整理）\n",
    "nodes = np.array(range(30))\n",
    "import networkx as nx\n",
    "G = nx.Graph()\n",
    "G.add_nodes_from(nodes)\n",
    "edges = np.array([(0, 1, 3/4), (0, 2, 1/4), (1, 3, p[0]/sum(p)), (1, 4, p[1]/sum(p)), \\\n",
    "                   (2, 5, p[2]/sum(p)), (2, 6, p[3]/sum(p)), (3, 7, q[0]/sum(q)), (3, 8, q[1]/sum(q)), \\\n",
    "                   (4, 9, q[2]/sum(q)), (4, 10, q[3]/sum(q)), (5, 11, q[4]/sum(q)), (5, 12, q[5]/sum(q)), \\\n",
    "                   (6, 13, q[6]/sum(q)), (6, 14, q[7]/sum(q)), (7, 15, r[0]/sum(r)), (7, 16, r[1]/sum(r)), \\\n",
    "                   (8, 17, r[2]/sum(r)), (8, 18, r[3]/sum(r)), (9, 19, r[4]/sum(r)), (9, 20, r[5]/sum(r)), \\\n",
    "                   (10, 21, r[6]/sum(r)), (10, 22, r[7]/sum(r)), (11, 23, r[8]/sum(r)), (11, 24, r[9]/sum(r)), \\\n",
    "                   (12, 25, r[10]/sum(r)), (12, 26, r[11]/sum(r)), (13, 27, r[12]/sum(r)), (13, 28, r[13]/sum(r)), \\\n",
    "                   (14, 29, r[14]/sum(r)), (14, 30, r[15]/sum(r))])\n",
    "\n",
    "G.add_weighted_edges_from(edges)\n",
    "edge_width = [ d[\"weight\"]*20 for (u,v,d) in G.edges(data=True)]\n",
    "node_size = [ d['count']*20 for (n,d) in G.nodes(data=True)]\n",
    "\n",
    "%matplotlib inline\n",
    "import matplotlib.pyplot as plt\n",
    "\n",
    "plt.figure(figsize=(15,15))\n",
    "pos = nx.spring_layout(G)\n",
    "nx.draw_networkx(G, pos, alpha=0.4, edge_color=\"c\", width=edge_width)\n",
    "\n",
    "plt.show()"
   ]
  },
  {
   "cell_type": "code",
   "execution_count": null,
   "metadata": {
    "collapsed": true
   },
   "outputs": [],
   "source": [
    "import numpy as np\n",
    "import matplotlib.pyplot as plt\n",
    "import networkx as nx\n",
    "\n",
    "#隣接行列\n",
    "g = np.array([\n",
    "    [0, 1, 1, 0, 0, 0, 0, 0, 0, 0, 0 ,0 ,0 ,0 ,0],\n",
    "    [1, 0, 1, 1, 0, 0, 0],\n",
    "    [1, 1, 0, 0, 1, 0, 0],\n",
    "    [0, 1, 0, 0, 1, 1, 0],\n",
    "    [0, 0, 1, 1, 0, 0, 1],\n",
    "    [0, 0, 0, 1, 0, 0, 0],\n",
    "    [0, 0, 0, 0, 1, 0, 0]\n",
    "])\n",
    "\n",
    "nodes = np.array([0:30])\n",
    "G = nx.Graph()\n",
    "G.add_nodes_from(nodes)\n",
    "edges = []\n",
    "for hi, hv  in enumerate(g):\n",
    "    for wi, wv in enumerate(hv):\n",
    "        if(wv): edges.append((nodes[hi], nodes[wi]))\n",
    "G.add_edges_from(edges)\n",
    "pos = nx.spring_layout(G)\n",
    "nx.draw_networkx(G, pos, with_labels=True)\n",
    "plt.axis(\"off\")\n",
    "plt.show()"
   ]
  }
 ],
 "metadata": {
  "kernelspec": {
   "display_name": "Python 3",
   "language": "python",
   "name": "python3"
  },
  "language_info": {
   "codemirror_mode": {
    "name": "ipython",
    "version": 3
   },
   "file_extension": ".py",
   "mimetype": "text/x-python",
   "name": "python",
   "nbconvert_exporter": "python",
   "pygments_lexer": "ipython3",
   "version": "3.6.3"
  }
 },
 "nbformat": 4,
 "nbformat_minor": 2
}
