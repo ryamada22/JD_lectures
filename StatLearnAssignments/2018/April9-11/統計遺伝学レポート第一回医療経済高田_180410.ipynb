{
 "cells": [
  {
   "cell_type": "code",
   "execution_count": null,
   "metadata": {
    "collapsed": true
   },
   "outputs": [],
   "source": [
    "I chose the list of data-science methods in past ,according to \"https://www.datasciencecentral.com/profiles/blogs/40-techniques-used-by-data-scientists\"\n",
    "\n",
    "【data-science methods used in past】\n",
    "linear regression：near statistical analysis because of \"test\" and the algorism in single statement\n",
    "logistic regression:the same above. \n",
    "graphs:we should demonstrate our analysis easy to understand, so I think it is one of the works data-scientist do.\n",
    "imputation: which used baysian statistics (MCMC algorism),so it is near machine learning \n",
    "survival analysis:near statistical analysis because of \"test\" and the algorism in single statement\n",
    "model fitting:it is difficult for me to divide, because \"model fitting\" is other purpose on the view points. however, the model fitting I analyzed in past would be near statistical analysis, because I tried to confirm the exist of ummeasured confounders.  \n",
    "\n",
    "【data-science methods used in future】\n",
    "sparse modeling:I think sparse modeling belongs to machine learnings because of requiring many calculation steps and/or case bifurcations.But it helps for clinician to use as statistical analysis. \n"
   ]
  },
  {
   "cell_type": "code",
   "execution_count": null,
   "metadata": {
    "collapsed": true
   },
   "outputs": [],
   "source": []
  }
 ],
 "metadata": {
  "kernelspec": {
   "display_name": "Python 3",
   "language": "python",
   "name": "python3"
  },
  "language_info": {
   "codemirror_mode": {
    "name": "ipython",
    "version": 3
   },
   "file_extension": ".py",
   "mimetype": "text/x-python",
   "name": "python",
   "nbconvert_exporter": "python",
   "pygments_lexer": "ipython3",
   "version": "3.6.2"
  }
 },
 "nbformat": 4,
 "nbformat_minor": 2
}
