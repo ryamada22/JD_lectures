{
 "cells": [
  {
   "cell_type": "code",
   "execution_count": null,
   "metadata": {},
   "outputs": [],
   "source": [
    "１）過去に使った、現在使っている、and/or 将来使う予定の、データサイエンス手法のリスト\n",
    "\n",
    "過去に使った手法\n",
    "・SASを用いたDPC・レセプトデータのクリーニング\n",
    "\n",
    "現在使っている手法\n",
    "・SASを用いた上記データのStatistical Analysis\n",
    "\n",
    "将来使いたい手法\n",
    "・Rによる医療データのクリーニングとStatistical Analysis\n",
    "\n",
    "\n",
    "２）上で作成したリストの手法について、\"Statistical Analysis vs. Machine Learning\"で説明された点について。\n",
    "\n",
    "・共通点に記載事項と同様、今回は医療ビックデータを用いた。\n",
    "・必要なデータを整理・抽出した。\n",
    "・得られたデータから検定を行った。\n"
   ]
  },
  {
   "cell_type": "code",
   "execution_count": null,
   "metadata": {},
   "outputs": [],
   "source": []
  }
 ],
 "metadata": {
  "kernelspec": {
   "display_name": "Python 3",
   "language": "python",
   "name": "python3"
  },
  "language_info": {
   "codemirror_mode": {
    "name": "ipython",
    "version": 3
   },
   "file_extension": ".py",
   "mimetype": "text/x-python",
   "name": "python",
   "nbconvert_exporter": "python",
   "pygments_lexer": "ipython3",
   "version": "3.6.4"
  }
 },
 "nbformat": 4,
 "nbformat_minor": 2
}
