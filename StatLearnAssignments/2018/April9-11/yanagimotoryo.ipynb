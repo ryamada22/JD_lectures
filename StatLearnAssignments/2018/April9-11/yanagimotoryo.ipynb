{
 "cells": [
  {
   "cell_type": "code",
   "execution_count": null,
   "metadata": {},
   "outputs": [],
   "source": [
    "過去に使ったり現在で使っているデータサイエンス手法：なし\n",
    "将来使うかもしれないデータサイエンス手法：ゲノミックセレクション\n",
    "\n",
    "ゲノミックセレクションは植物にはまだあまり応用されていないが、私が興味を持つものである。\n",
    "これは表現型データとゲノム情報を関連させ、ゲノム情報から表現型を推定するモデルを作ることで実際に目標形質を測定することなく優良個体を選抜できる手法である。\n",
    "ゲノミックセレクションには数式・数学関数などを活用するが、場合により機械学習などにより予測モデルを作ることもある。"
   ]
  }
 ],
 "metadata": {
  "kernelspec": {
   "display_name": "Python 3",
   "language": "python",
   "name": "python3"
  },
  "language_info": {
   "codemirror_mode": {
    "name": "ipython",
    "version": 3
   },
   "file_extension": ".py",
   "mimetype": "text/x-python",
   "name": "python",
   "nbconvert_exporter": "python",
   "pygments_lexer": "ipython3",
   "version": "3.6.4"
  }
 },
 "nbformat": 4,
 "nbformat_minor": 2
}
