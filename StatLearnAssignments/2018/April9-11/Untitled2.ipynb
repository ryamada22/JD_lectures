{
 "cells": [
  {
   "cell_type": "code",
   "execution_count": null,
   "metadata": {},
   "outputs": [],
   "source": [
    "#クラスタリング \n",
    "#回帰分析\n",
    "\n",
    "#どちらも統計解析手法である\n",
    "\n",
    "#回帰分析\n",
    "#ある現象に関わる因子を検定する。基本的には統計解析であり推定、予測を目的とする。\n",
    "\n",
    "#クラスタリング\n",
    "#データセット毎の重心、相違性を評価、推定するという点においては、統計解析であるが、アルゴリズムを用いて分類するという意味でおいては機械学習とも呼べるかもしれない。"
   ]
  }
 ],
 "metadata": {
  "kernelspec": {
   "display_name": "Python 3",
   "language": "python",
   "name": "python3"
  },
  "language_info": {
   "codemirror_mode": {
    "name": "ipython",
    "version": 3
   },
   "file_extension": ".py",
   "mimetype": "text/x-python",
   "name": "python",
   "nbconvert_exporter": "python",
   "pygments_lexer": "ipython3",
   "version": "3.6.4"
  }
 },
 "nbformat": 4,
 "nbformat_minor": 2
}
