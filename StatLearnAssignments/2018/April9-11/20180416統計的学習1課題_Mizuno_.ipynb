{
 "cells": [
  {
   "cell_type": "code",
   "execution_count": null,
   "metadata": {},
   "outputs": [],
   "source": [
    "統計的学習　課題　　京都大学大学院医学研究科　博士課程2回生　水野佳世子\n",
    "\n",
    "使ったことのあるデータサイエンス手法について\n",
    "　SAS　自身の研究で使用経験があります　DPCデータの解析\n",
    "　JMP　昨年度の講義で使用経験があります　デモデータの解析\n",
    "　Pthon, Rも今後使用したいと考えております\n",
    "\n",
    "\"Statistical Analysis vs. Machine Learning”について\n",
    "　Machine Learningについて、知識がほとんどなく、今後勉強していきたいです"
   ]
  }
 ],
 "metadata": {
  "kernelspec": {
   "display_name": "Python 3",
   "language": "python",
   "name": "python3"
  },
  "language_info": {
   "codemirror_mode": {
    "name": "ipython",
    "version": 3
   },
   "file_extension": ".py",
   "mimetype": "text/x-python",
   "name": "python",
   "nbconvert_exporter": "python",
   "pygments_lexer": "ipython3",
   "version": "3.6.4"
  }
 },
 "nbformat": 4,
 "nbformat_minor": 2
}
