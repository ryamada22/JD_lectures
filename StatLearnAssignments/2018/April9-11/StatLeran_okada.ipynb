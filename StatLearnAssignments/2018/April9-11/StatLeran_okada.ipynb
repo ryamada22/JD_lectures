{
 "cells": [
  {
   "cell_type": "markdown",
   "metadata": {},
   "source": [
    "## List of methods I use for my laboratory work  \n",
    "\n",
    "## A viewpoint of classifying the method into machine learning or statistical analysis.\n",
    "\n",
    "· Whether it is premised on the execution by the computer in terms of calculation amount and number of calculations.\n",
    "If the method reqire many calculation by computer, it is classified to machine learning method\n",
    "\n",
    "· Which task type it is, test, estimate, classification, or prediction\n",
    "If the method is test, it is cllasified to statistical method.\n",
    "If the method is cllasification, it is classified to machine learning\n",
    "\n",
    "· Whether the learned rule is complicated or not\n",
    "If the learned rule is too complecated to interpret, the method is classified to machine learning. \n",
    "\n",
    "### LASSO \n",
    "\n",
    "Machine Learning because it require calculation by computer for solving optimization problem\n",
    "\n",
    "### Single SNP Linear Rgression in GWAS\n",
    "\n",
    "Statistical method because its rule is not comlicated and it don't require many calculation and is task of test.\n",
    "\n",
    "### KEGG Pathway analysis\n",
    "\n",
    "Statistical method because it is based on Fisher's test\n",
    "\n",
    "### Classification by fitting mixture normal distributuion by EM algorhytm\n",
    "\n",
    "Machine learning because it is classification task and require many calculation"
   ]
  },
  {
   "cell_type": "code",
   "execution_count": null,
   "metadata": {
    "collapsed": true
   },
   "outputs": [],
   "source": []
  }
 ],
 "metadata": {
  "kernelspec": {
   "display_name": "Python 3",
   "language": "python",
   "name": "python3"
  },
  "language_info": {
   "codemirror_mode": {
    "name": "ipython",
    "version": 3
   },
   "file_extension": ".py",
   "mimetype": "text/x-python",
   "name": "python",
   "nbconvert_exporter": "python",
   "pygments_lexer": "ipython3",
   "version": "3.6.0"
  }
 },
 "nbformat": 4,
 "nbformat_minor": 2
}
