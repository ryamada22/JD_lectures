{
 "cells": [
  {
   "cell_type": "markdown",
   "metadata": {},
   "source": [
    "卒業論文の作成において、統計解析（機械学習）を行ないました。\n",
    "分析にはSASを用いました。\n",
    "その中で\n",
    "・線形回帰\n",
    "・ロジスティック回帰\n",
    "・ランダムフォレスト\n",
    "を行ないました。\n",
    "全て統計解析であり、その中で三つ目だけは機械学習であると認識していましたが、どれも大量のデータを用い、複雑な計算をしていることから、どれも機械学習であるとも言えるのかもしれません。\n",
    "ただし統計解析と機械学習にあえて分けるとすると、最初の二つは差を検定しているので統計解析、三つ目の行動を分類するモデルの作成と検証は機械学習だと言えるかもしれません。\n",
    "\n",
    "牛の行動学について研究していて、今後は機械学習の理解を深め研究に応用できたらと考えています。よろしくお願いします。"
   ]
  }
 ],
 "metadata": {
  "kernelspec": {
   "display_name": "Python 3",
   "language": "python",
   "name": "python3"
  },
  "language_info": {
   "codemirror_mode": {
    "name": "ipython",
    "version": 3
   },
   "file_extension": ".py",
   "mimetype": "text/x-python",
   "name": "python",
   "nbconvert_exporter": "python",
   "pygments_lexer": "ipython3",
   "version": "3.6.5"
  }
 },
 "nbformat": 4,
 "nbformat_minor": 2
}
