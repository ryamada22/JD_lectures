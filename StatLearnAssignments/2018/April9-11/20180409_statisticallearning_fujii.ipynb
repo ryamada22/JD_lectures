{
 "cells": [
  {
   "cell_type": "markdown",
   "metadata": {},
   "source": [
    "# Make a list of data-science methods\n",
    "\n",
    "+ 過去に使った I have used\n",
    "\n",
    "linear regression\n",
    "\n",
    "+ 現在使っている Now I use\n",
    "\n",
    "Singular value decomposition (SVD)\n",
    "\n",
    "+ 将来使う予定 I will use in the future\n",
    "\n",
    "Support vector machine (SVM)\n",
    "\n",
    "\n",
    "# Explain the methods\n",
    "\n",
    "## linear regression\n",
    "\n",
    "+ Statistical Analysis\n",
    "\n",
    "We can get deterministic value through mathematical procedure (linear algebra). It costs much less complexity.\n",
    "\n",
    "+ Machine Learning\n",
    "\n",
    "Sometime we try to make cluster or classification according to the estimation results of linear regression. This is machine learning in the light of context.\n",
    "\n",
    "\n",
    "## SVD\n",
    "\n",
    "+ Statistical Analysis\n",
    "\n",
    "SVD is mathematically and strictly defined. Then, we can manipuate data matrix in a mathematical mannar.\n",
    "\n",
    "+ Machine Learning\n",
    "\n",
    "In the case of big data analysis, data matrix to be analyzed has sometimes too much large rows and columns or highly sparse. This large data cannot be expressed on computer because of memory limitation. In machine learning some kind of iterative algorithm helps us perform what we want to do.\n",
    "\n",
    "\n",
    "## SVM\n",
    "\n",
    "+ Statistical Analysis\n",
    "\n",
    "In conventional approach SVM was helpful for linear data but high-dimensional or non-linear data type cannot be analyzed because of complexity.\n",
    "\n",
    "+ Machine Learning\n",
    "\n",
    "Kernel trick and tuning of hyper parameter of SVM enables us to analyze complex data. This property is the computer and algorithm in the context.\n"
   ]
  },
  {
   "cell_type": "code",
   "execution_count": null,
   "metadata": {},
   "outputs": [],
   "source": []
  }
 ],
 "metadata": {
  "kernelspec": {
   "display_name": "Python 3",
   "language": "python",
   "name": "python3"
  },
  "language_info": {
   "codemirror_mode": {
    "name": "ipython",
    "version": 3
   },
   "file_extension": ".py",
   "mimetype": "text/x-python",
   "name": "python",
   "nbconvert_exporter": "python",
   "pygments_lexer": "ipython3",
   "version": "3.5.2"
  }
 },
 "nbformat": 4,
 "nbformat_minor": 2
}
