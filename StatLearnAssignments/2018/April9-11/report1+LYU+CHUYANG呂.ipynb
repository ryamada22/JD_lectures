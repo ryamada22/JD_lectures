{
 "cells": [
  {
   "cell_type": "code",
   "execution_count": null,
   "metadata": {},
   "outputs": [],
   "source": [
    "report(monday) LYU CHUYANG(呂楚陽)  electronic engineering　yamada-lab\n",
    "\n",
    "\n",
    "1.Make a list of data-science methods you have used, are using and/or will use\n",
    "\n",
    "I'm sorry that I don't have any experience on data-science methods because in my major 'EE', we seldom use statistical analysis as a tool to \n",
    "solve with the problem we meet。Insteadly， we usually use ODE and linear algebra to deal with the maths problem.\n",
    "\n",
    "But,if I could insist in learning coding and one day in the future that I get a chance to use data-science, I think maybe I will use \n",
    "python or Matlab to solve the data in data-science. Recently now,I don't really have so much chance to deal with data, But I regard \n",
    "this Statistical analysis course as a good chance to start my data-science learning.\n",
    "\n",
    "But now I am caring about that if I don't have enough knowledge about statistical analysis and python, could I catch up with this course?\n",
    "I would like to state that Even if I couldn't get the credit if my knowledge couldn't support me to finish the work well,\n",
    "I still want to go through this class.\n",
    "\n",
    "\n",
    "\n",
    "2.Explain the methods you listed above regarding the points described in \"Statistical Analysis vs. Machine Learning\".\n",
    "\n",
    "Because I didn't have experience on data-science,so it is difficult for me to explain the methods with the points above. But after reading the \n",
    "material, I learned that even though the statistical analysis and machine learning are very similar each other， there are still much difference\n",
    "between the two areas.\n",
    "\n"
   ]
  }
 ],
 "metadata": {
  "kernelspec": {
   "display_name": "Python 3",
   "language": "python",
   "name": "python3"
  },
  "language_info": {
   "codemirror_mode": {
    "name": "ipython",
    "version": 3
   },
   "file_extension": ".py",
   "mimetype": "text/x-python",
   "name": "python",
   "nbconvert_exporter": "python",
   "pygments_lexer": "ipython3",
   "version": "3.6.4"
  }
 },
 "nbformat": 4,
 "nbformat_minor": 2
}
