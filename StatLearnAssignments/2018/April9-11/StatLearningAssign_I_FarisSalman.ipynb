{
 "cells": [
  {
   "cell_type": "markdown",
   "metadata": {},
   "source": [
    "# Statistical Learning Assignment I"
   ]
  },
  {
   "cell_type": "markdown",
   "metadata": {},
   "source": [
    "## Data Science Method has/had been used"
   ]
  },
  {
   "cell_type": "markdown",
   "metadata": {},
   "source": [
    "In the past, i've learned and/or used several methodology for data analysis, not limited to statistical learning, such as:\n",
    "- Regression (Linear, Logistic)\n",
    "- Principal Component Analysis\n",
    "- k-NN clustering\n",
    "- Random Forest\n",
    "mostly related to image classification. Altough without much understand each of the methodology due to using default values from remote sensing software.\n",
    "While so, the Regression method also used for much simpler data analysis, such as creating a prediction model for tree biomass using diameter and height in tropical or plantation forest."
   ]
  },
  {
   "cell_type": "markdown",
   "metadata": {},
   "source": [
    "## Data Science Methods will be used"
   ]
  },
  {
   "cell_type": "markdown",
   "metadata": {},
   "source": [
    "Due to the possibility of research and or historical education, i might be still doing image based analysis for Remote Sensing and GIS in the future. I'm hoping that i will be able to use the Random Forest, k-NN clustering, and PCA with etter understanding to how it works and able to optimize the parameters to obtain better image classification."
   ]
  },
  {
   "cell_type": "markdown",
   "metadata": {},
   "source": [
    "## Explanation for Methods"
   ]
  },
  {
   "cell_type": "markdown",
   "metadata": {},
   "source": [
    "### Regression"
   ]
  },
  {
   "cell_type": "markdown",
   "metadata": {},
   "source": [
    "The linear and logistic is the statistical analysis used for prediction given relations of variables. Depending of the data types, logistic regression can also be used for estimating the likelihood or probability from certain relations of data. "
   ]
  },
  {
   "cell_type": "markdown",
   "metadata": {},
   "source": [
    "### PCA, k-NN, Random Forest"
   ]
  },
  {
   "cell_type": "markdown",
   "metadata": {},
   "source": [
    "Due to its purpose of classification, these methods are included in statistical learning in form of algorithms. These methods can analyze much of data and create a class based on the data characteristic analyzed by the statistical learning algorythims."
   ]
  }
 ],
 "metadata": {
  "kernelspec": {
   "display_name": "Python 2",
   "language": "python",
   "name": "python2"
  },
  "language_info": {
   "codemirror_mode": {
    "name": "ipython",
    "version": 2
   },
   "file_extension": ".py",
   "mimetype": "text/x-python",
   "name": "python",
   "nbconvert_exporter": "python",
   "pygments_lexer": "ipython2",
   "version": "2.7.14"
  }
 },
 "nbformat": 4,
 "nbformat_minor": 2
}
