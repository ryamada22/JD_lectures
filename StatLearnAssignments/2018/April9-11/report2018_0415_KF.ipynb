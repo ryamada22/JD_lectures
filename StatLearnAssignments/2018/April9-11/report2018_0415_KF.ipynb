{
 "cells": [
  {
   "cell_type": "code",
   "execution_count": null,
   "metadata": {
    "collapsed": false
   },
   "outputs": [],
   "source": []
  },
  {
   "cell_type": "markdown",
   "metadata": {},
   "source": [
    "# past\n",
    "## statistical analysis\n",
    "student t test\n",
    "\n",
    "Wilcoxon signed-rank test\n",
    "\n",
    "Cox regression analysis\n",
    "\n",
    "## machine learning\n",
    "\n",
    "... none\n",
    "\n",
    "# present\n",
    "## statistical analysis\n",
    "\n",
    "## machine learning\n",
    "L1 minimization (compressed sensing)\n",
    "\n",
    "ICA\n",
    "\n",
    "PCA\n",
    "\n",
    "# future\n",
    "## statistical analysis\n",
    "\n",
    "## machine learning\n",
    "k-means\n",
    "\n",
    "AdaBoost\n",
    "\n",
    "dictionary learning\n",
    "\n",
    "random forest\n",
    "\n",
    "deep learning\n",
    "\n",
    "\n"
   ]
  },
  {
   "cell_type": "code",
   "execution_count": null,
   "metadata": {
    "collapsed": true
   },
   "outputs": [],
   "source": []
  }
 ],
 "metadata": {
  "anaconda-cloud": {},
  "kernelspec": {
   "display_name": "Python [default]",
   "language": "python",
   "name": "python3"
  },
  "language_info": {
   "codemirror_mode": {
    "name": "ipython",
    "version": 3
   },
   "file_extension": ".py",
   "mimetype": "text/x-python",
   "name": "python",
   "nbconvert_exporter": "python",
   "pygments_lexer": "ipython3",
   "version": "3.5.2"
  }
 },
 "nbformat": 4,
 "nbformat_minor": 1
}
