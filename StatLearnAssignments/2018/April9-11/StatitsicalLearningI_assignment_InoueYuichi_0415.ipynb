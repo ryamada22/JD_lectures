{
 "cells": [
  {
   "cell_type": "markdown",
   "metadata": {},
   "source": [
    "これから用いようと思っているデータサイエンス手法について<br>\n",
    "\n",
    "手法リスト [サポートベクターマシン, t検定]<br>\n",
    "\n",
    "[収集データ]<br>\n",
    "１：データは腕時計型のウェアラブルデバイスから収集する。<br>\n",
    "　 　　データの種類は歩数、心拍数、血圧、睡眠時間、体温などの生体データを想定している。<br>\n",
    "２：使用者の健康状態を記録してもらう。<br>\n",
    "　 　　病気、睡眠満足度などが考えられる。<br>\n",
    "    \n",
    "[目的]<br>\n",
    "ウェアラブルより得たデータと健康状態の関係を解析し、<br>\n",
    "両者の関係から生体データと健康の関係を調べる。<br>\n",
    "\n",
    "[手法１、考察]<br>\n",
    "サポートベクターマシンをつかって各個人において<br>\n",
    "生体データから健康状態を予測するようなモデルを作る。<br>\n",
    "計算式は全く理解できないが、計算手続き回数が多そうである。<br>\n",
    "なので計算機が発達したからできるようになった手法であると考えられる。<br>\n",
    "サポートベクターマシンは機械学習である。<br>\n",
    "\n",
    "[手法２、考察]<br>\n",
    "生体データの条件でサンプルを２群に分けてから<br>\n",
    "健康状態を比べたときに両者に有意な差があるかを調べる。<br>\n",
    "t検定は名前の通り検定であるので統計的手法である。<br>\n",
    "計算回数は少ないと考えられる。<br>\n",
    "もとめるt値は分散などの計算も必要だがシンプルな数式で表されていた。<br>\n"
   ]
  },
  {
   "cell_type": "markdown",
   "metadata": {},
   "source": [
    "京都大学薬学研究科<br>\n",
    "修士課程2回生<br>\n",
    "学籍番号0930-29-0532<br>\n",
    "井ノ上雄一"
   ]
  },
  {
   "cell_type": "code",
   "execution_count": null,
   "metadata": {},
   "outputs": [],
   "source": []
  }
 ],
 "metadata": {
  "kernelspec": {
   "display_name": "Python 3",
   "language": "python",
   "name": "python3"
  },
  "language_info": {
   "codemirror_mode": {
    "name": "ipython",
    "version": 3
   },
   "file_extension": ".py",
   "mimetype": "text/x-python",
   "name": "python",
   "nbconvert_exporter": "python",
   "pygments_lexer": "ipython3",
   "version": "3.6.3"
  }
 },
 "nbformat": 4,
 "nbformat_minor": 2
}
