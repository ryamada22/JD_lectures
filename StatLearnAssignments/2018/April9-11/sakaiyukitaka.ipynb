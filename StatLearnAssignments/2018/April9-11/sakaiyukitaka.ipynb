{
 "cells": [
  {
   "cell_type": "markdown",
   "metadata": {},
   "source": [
    "今まで使用してきたデータサイエンス手法のリスト\n",
    "\n",
    "研究内容\n",
    "牛の首と背中に取り付けた加速度計から得られたデータをもとに牛の行動を佇立、横臥、歩行の３行動に分類\n",
    "\n",
    "分類手法　決定木分析（機械学習手法）＆一般化線形モデル（統計解析手法）\n",
    "共に得られたデータを学習データと検証データに３：１の割合で分割した。\n",
    "\n",
    "決定木分析　機械学習　得られたデータをsasで\n",
    "得られたデータ情報＝1秒ごとの三軸加速度データと1秒ごとの個体の行動をリンクさせたもの\n",
    "proc hpsplit;\n",
    "class behave animal;\n",
    "model behave = 三軸加速度指数や動物の個体情報animal \n",
    "grow entropy;\n",
    "prune costcomplexity; \n",
    "partition fraction(validate=0.25);\n",
    "\n",
    "検証データで行動を分類しているのでこのデータサイエンス手法は統計解析というよりは機械学習と言える。"
   ]
  }
 ],
 "metadata": {
  "kernelspec": {
   "display_name": "Python 3",
   "language": "python",
   "name": "python3"
  },
  "language_info": {
   "codemirror_mode": {
    "name": "ipython",
    "version": 3
   },
   "file_extension": ".py",
   "mimetype": "text/x-python",
   "name": "python",
   "nbconvert_exporter": "python",
   "pygments_lexer": "ipython3",
   "version": "3.6.1"
  }
 },
 "nbformat": 4,
 "nbformat_minor": 2
}
