{
 "cells": [
  {
   "cell_type": "markdown",
   "metadata": {},
   "source": [
    "How to approximate a function among y and x_i is generalize as:\n",
    "\n",
    "$y = \\sum_i h_i(x) \\beta_i$.\n",
    "\n",
    "where $h_i(x)$ can be basis function.\n",
    "\n",
    "In the case of multiple regression, $h_i(x)=x_i$\n",
    "\n",
    "In the case of polinominal interpolation, $[h_1(x), h_2(x), h_3(x) \\cdots]=[1,x,x^2, \\cdots]$\n",
    "\n",
    "If there are n samples, using n-1 basis function, A polynomial function is obtained that passes through all the data points\n",
    "\n",
    "In the case of Fourier Transformation, the basis function is sin or cos function."
   ]
  },
  {
   "cell_type": "code",
   "execution_count": null,
   "metadata": {},
   "outputs": [],
   "source": []
  }
 ],
 "metadata": {
  "kernelspec": {
   "display_name": "Python 2",
   "language": "python",
   "name": "python2"
  },
  "language_info": {
   "codemirror_mode": {
    "name": "ipython",
    "version": 2
   },
   "file_extension": ".py",
   "mimetype": "text/x-python",
   "name": "python",
   "nbconvert_exporter": "python",
   "pygments_lexer": "ipython2",
   "version": "2.7.14"
  }
 },
 "nbformat": 4,
 "nbformat_minor": 2
}
