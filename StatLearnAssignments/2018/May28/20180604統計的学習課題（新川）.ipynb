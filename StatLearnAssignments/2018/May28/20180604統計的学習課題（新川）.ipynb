{
 "cells": [
  {
   "cell_type": "markdown",
   "metadata": {},
   "source": [
    "・フーリエ変換とは周期的なコンポーネントの合計として機能を変換し、これらのコンポーネントのシグナルを取り出す方法である。\n",
    "・離散したコンポーネントを置換するとき、離散フーリエ変換（discrete Fourier transform, DFT)と呼ばれる。 \n",
    "・DFTは 高速フーリエ変換（Fast Fourier Transform,FFT)と呼ばれる、非常に高速の計算アルゴリズムのために、数的計算の主軸となっている。"
   ]
  }
 ],
 "metadata": {
  "kernelspec": {
   "display_name": "Python 3",
   "language": "python",
   "name": "python3"
  },
  "language_info": {
   "codemirror_mode": {
    "name": "ipython",
    "version": 3
   },
   "file_extension": ".py",
   "mimetype": "text/x-python",
   "name": "python",
   "nbconvert_exporter": "python",
   "pygments_lexer": "ipython3",
   "version": "3.6.3"
  }
 },
 "nbformat": 4,
 "nbformat_minor": 2
}
