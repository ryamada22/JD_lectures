{
 "cells": [
  {
   "cell_type": "markdown",
   "metadata": {},
   "source": [
    "# ぱらぱらめくる『機械学習のエッセンス』\n",
    "\n",
    "『機械学習のエッセンス』 ISBN:9784797393965"
   ]
  },
  {
   "cell_type": "markdown",
   "metadata": {},
   "source": [
    "## 目次\n",
    "\n",
    "1. 学習を始める前に\n",
    "2. Pythonの基本\n",
    "3. 機械学習に必要な数学\n",
    "4. Pythonによる数値計算\n",
    "5. 機械学習アルゴリズム"
   ]
  },
  {
   "cell_type": "markdown",
   "metadata": {},
   "source": [
    "## 1. 学習を始める前に\n",
    "\n",
    "この本の目標は『機械学習のいくつかの有名なアルゴリズムを、自分でゼロからPythonで実装する』こと。\n",
    "\n",
    "その実装にあたっては、アルゴリズムの中身の理解の役に立てることを目標とする。そのため、高速化の点は犠牲にしてあることもある。\n",
    "\n",
    "アルゴリズムの理解のための数学も扱う。\n",
    "\n",
    "サンプルコードのダウンロードサイト： http://isbn.cbcr.jp/93965 \n",
    "このサンプルコードを C:\\\\Users\\\\ryamada\\\\Desktop\\\\Samples というディレクトリとして解凍したとして進める"
   ]
  },
  {
   "cell_type": "markdown",
   "metadata": {},
   "source": [
    "## 2. Pythonの基本"
   ]
  },
  {
   "cell_type": "code",
   "execution_count": 138,
   "metadata": {},
   "outputs": [
    {
     "data": {
      "text/plain": [
       "'C:\\\\Users\\\\ryamada'"
      ]
     },
     "execution_count": 138,
     "metadata": {},
     "output_type": "execute_result"
    }
   ],
   "source": [
    "%pwd # print working directory"
   ]
  },
  {
   "cell_type": "code",
   "execution_count": 139,
   "metadata": {},
   "outputs": [
    {
     "name": "stdout",
     "output_type": "stream",
     "text": [
      "15\n"
     ]
    }
   ],
   "source": [
    "# ファイルを指定して実行\n",
    "%run -i C:\\\\Users\\\\ryamada\\\\Desktop\\\\Samples\\\\chap02\\\\ex2_01.py"
   ]
  },
  {
   "cell_type": "code",
   "execution_count": 140,
   "metadata": {
    "scrolled": true
   },
   "outputs": [
    {
     "data": {
      "image/png": "[encoded data removed]",
      "text/plain": [
       "<Figure size 432x288 with 1 Axes>"
      ]
     },
     "metadata": {},
     "output_type": "display_data"
    }
   ],
   "source": [
    "%matplotlib inline\n",
    "import matplotlib.pyplot as plt\n",
    "import numpy as np\n",
    "\n",
    "x = np.linspace(-5,5)\n",
    "y = x**2\n",
    "plt.plot(x, y)\n",
    "plt.show()"
   ]
  },
  {
   "cell_type": "code",
   "execution_count": 141,
   "metadata": {},
   "outputs": [
    {
     "name": "stdout",
     "output_type": "stream",
     "text": [
      "0.1411200080598672\n",
      "0.1411200080598672\n",
      "(0.21775955162215221-1.1634403637032504j)\n",
      "[0.         0.69314718 1.09861229]\n"
     ]
    }
   ],
   "source": [
    "# 数学関数はmath パッケージでもよいが、numpyの方が使い勝手がよい\n",
    "import math as m\n",
    "import numpy as np\n",
    "\n",
    "print(m.sin(3))\n",
    "print(np.sin(3))\n",
    "\n",
    "# m.sin(3+1j) # エラーになる\n",
    "print(np.sin(3+1j))\n",
    "\n",
    "v = np.array([1,2,3])\n",
    "# print(m.log(v)) # エラーになる\n",
    "print(np.log(v))"
   ]
  },
  {
   "cell_type": "code",
   "execution_count": 146,
   "metadata": {},
   "outputs": [
    {
     "name": "stdout",
     "output_type": "stream",
     "text": [
      "[1, 2, 3, 4]\n",
      "[1 2 3 4]\n",
      "[[1 2]\n",
      " [3 4]]\n",
      "[1, 2, 3, 'a']\n",
      "['1' '2' '3' 'a']\n",
      "['1' '2' '3' 'a']\n"
     ]
    }
   ],
   "source": [
    "# 複数の値の取り扱い\n",
    "# リスト系\n",
    "l = [1,2,3,4]\n",
    "np_l = np.array([1,2,3,4])\n",
    "np_l2d = np_l.reshape(2,2)\n",
    "print(l)\n",
    "print(np_l)\n",
    "print(np_l2d)\n",
    "l2 = [1,2,3,\"a\"] # 異なるデータタイプで格納\n",
    "np_l2 = np.array([1,2,3,\"a\"]) # データタイプをそろえる\n",
    "np_l3 = np.array(l2) # 引数としてリストを取る\n",
    "print(l2)\n",
    "print(np_l2)\n",
    "print(np_l3)\n",
    "# リストとnp.ndarrayの使い分け: https://note.nkmk.me/python-list-array-numpy-ndarray/ "
   ]
  },
  {
   "cell_type": "code",
   "execution_count": 147,
   "metadata": {},
   "outputs": [
    {
     "name": "stdout",
     "output_type": "stream",
     "text": [
      "[1 2 3 4 3]\n",
      "[[1 2]\n",
      " [3 4]\n",
      " [5 6]]\n"
     ]
    }
   ],
   "source": [
    "print(np.append(np.l,[3]))\n",
    "print(np.append(np.l2d,[[5,6]],axis=0))"
   ]
  },
  {
   "cell_type": "markdown",
   "metadata": {},
   "source": [
    "# tuple, dictionary & set"
   ]
  },
  {
   "cell_type": "code",
   "execution_count": 148,
   "metadata": {},
   "outputs": [
    {
     "name": "stdout",
     "output_type": "stream",
     "text": [
      "(1, 'a', (1.5+2.3j))\n"
     ]
    }
   ],
   "source": [
    "# tuple\n",
    "t = 1,\"a\",1.5 + 2.3j\n",
    "print(t)"
   ]
  },
  {
   "cell_type": "code",
   "execution_count": 149,
   "metadata": {},
   "outputs": [
    {
     "name": "stdout",
     "output_type": "stream",
     "text": [
      "((1, 'a', (1.5+2.3j)), (1, 'a', (1.5+2.3j)))\n"
     ]
    }
   ],
   "source": [
    "u = t, t\n",
    "print(u)"
   ]
  },
  {
   "cell_type": "code",
   "execution_count": 150,
   "metadata": {},
   "outputs": [
    {
     "data": {
      "text/plain": [
       "[(1, 'a', (1.5+2.3j)), (1, 'a', (1.5+2.3j))]"
      ]
     },
     "execution_count": 150,
     "metadata": {},
     "output_type": "execute_result"
    }
   ],
   "source": [
    "list(u)"
   ]
  },
  {
   "cell_type": "code",
   "execution_count": 151,
   "metadata": {},
   "outputs": [
    {
     "data": {
      "text/plain": [
       "[1, 'a', (1.5+2.3j)]"
      ]
     },
     "execution_count": 151,
     "metadata": {},
     "output_type": "execute_result"
    }
   ],
   "source": [
    "list(t)"
   ]
  },
  {
   "cell_type": "code",
   "execution_count": 152,
   "metadata": {},
   "outputs": [
    {
     "name": "stdout",
     "output_type": "stream",
     "text": [
      "{'a': 3, 'bv': 2.4, '7': '5'}\n"
     ]
    }
   ],
   "source": [
    "# dictionary (hashのようなもの)\n",
    "d = {\"a\": 3, \"bv\": 2.4, '7': \"5\"}\n",
    "print(d)"
   ]
  },
  {
   "cell_type": "code",
   "execution_count": 153,
   "metadata": {},
   "outputs": [
    {
     "data": {
      "text/plain": [
       "'5'"
      ]
     },
     "execution_count": 153,
     "metadata": {},
     "output_type": "execute_result"
    }
   ],
   "source": [
    "d[\"7\"]"
   ]
  },
  {
   "cell_type": "code",
   "execution_count": 154,
   "metadata": {},
   "outputs": [
    {
     "data": {
      "text/plain": [
       "2.4"
      ]
     },
     "execution_count": 154,
     "metadata": {},
     "output_type": "execute_result"
    }
   ],
   "source": [
    "d['bv']"
   ]
  },
  {
   "cell_type": "code",
   "execution_count": 155,
   "metadata": {},
   "outputs": [
    {
     "name": "stdout",
     "output_type": "stream",
     "text": [
      "a\n",
      "bv\n",
      "7\n",
      "3\n",
      "2.4\n",
      "5\n",
      "('a', 3)\n",
      "('bv', 2.4)\n",
      "('7', '5')\n",
      "a\n",
      "bv\n",
      "7\n"
     ]
    }
   ],
   "source": [
    "for i in d:\n",
    "    print(i)\n",
    "for i in d.values():\n",
    "    print(i)\n",
    "for i in d.items():\n",
    "    print(i)\n",
    "for i in d.keys():\n",
    "    print(i)"
   ]
  },
  {
   "cell_type": "code",
   "execution_count": 156,
   "metadata": {},
   "outputs": [
    {
     "name": "stdout",
     "output_type": "stream",
     "text": [
      "{'7', 1, 7}\n",
      "{1, 7}\n",
      "{1, 2, 3, 4, 7, '7'}\n",
      "{'7'}\n",
      "7\n",
      "1\n",
      "7\n"
     ]
    }
   ],
   "source": [
    "# set\n",
    "a = set()\n",
    "a.add(\"7\")\n",
    "a.add(1)\n",
    "a.add(7)\n",
    "print(a)\n",
    "b = {1,2,3,4,7}\n",
    "print(a & b)\n",
    "print(a | b)\n",
    "print(a - b)\n",
    "for i in a:\n",
    "    print(i)"
   ]
  },
  {
   "cell_type": "code",
   "execution_count": 157,
   "metadata": {},
   "outputs": [
    {
     "name": "stdout",
     "output_type": "stream",
     "text": [
      "16\n",
      "16\n"
     ]
    }
   ],
   "source": [
    "# 関数を作る\n",
    "def fx(a,b):\n",
    "    c = a + 2*b\n",
    "    return c**2\n",
    "\n",
    "print(fx(2,1))\n",
    "print((2+2*1)**2)"
   ]
  },
  {
   "cell_type": "markdown",
   "metadata": {},
   "source": [
    "## クラス\n",
    "\n",
    "クラスは色々な情報・要素を格納して、取り出しやすくする仕組み\n",
    "\n",
    "情報・要素をクラスの属性としてそのまま取り出す場合もあれば、\n",
    "\n",
    "情報・要素を一定の様式で格納する構造を定め、その構造に沿って情報・要素を格納した塊に名前を付けて、いくつも保持する場合もある。\n",
    "\n",
    "後者の場合の個々の塊をクラスのインスタンスと言う。"
   ]
  },
  {
   "cell_type": "code",
   "execution_count": 158,
   "metadata": {},
   "outputs": [],
   "source": [
    "# クラスを作る\n",
    "# クラスを作るにあたって、中身を書かずに作ることはできないので、\n",
    "# 何もしない」という意味の\"pass\"というコマンドを持たせることで、中身のないクラスを作ることができる\n",
    "# 中身がない、とは、『クラスは存在する』が、クラスに帰属する情報・要素はないが\n",
    "# インスタンスは作ることができるという意味である"
   ]
  },
  {
   "cell_type": "code",
   "execution_count": 159,
   "metadata": {},
   "outputs": [],
   "source": [
    "class RyClass1:\n",
    "    pass"
   ]
  },
  {
   "cell_type": "code",
   "execution_count": 160,
   "metadata": {},
   "outputs": [
    {
     "name": "stdout",
     "output_type": "stream",
     "text": [
      "<__main__.RyClass1 object at 0x000000000805ECF8>\n"
     ]
    }
   ],
   "source": [
    "a1 = RyClass1()\n",
    "print(a1) # プリントするべきものが何も定義されていないので、デフォルト設定の文字列が生成されて表示されるらしい\n",
    "# RyClass1はルートにあるクラス"
   ]
  },
  {
   "cell_type": "markdown",
   "metadata": {},
   "source": [
    "## クラス変数"
   ]
  },
  {
   "cell_type": "code",
   "execution_count": 161,
   "metadata": {},
   "outputs": [
    {
     "name": "stdout",
     "output_type": "stream",
     "text": [
      "6.28\n",
      "6.28\n"
     ]
    }
   ],
   "source": [
    "# クラスに情報を持たせてみる。たとえば、2 * pi という値を持たせることにする\n",
    "class RyClass2:\n",
    "    doublePi = 6.28 # 2*3.14\n",
    "# これにより、以下のように、クラスの属性としてこの定数を取り出せる\n",
    "print(RyClass2.doublePi)\n",
    "# インスタンスを作り、インスタンス経由で取り出すこともできる\n",
    "a2 = RyClass2()\n",
    "print(a2.doublePi)"
   ]
  },
  {
   "cell_type": "code",
   "execution_count": 162,
   "metadata": {},
   "outputs": [
    {
     "name": "stdout",
     "output_type": "stream",
     "text": [
      "6.28\n",
      "6.28\n"
     ]
    }
   ],
   "source": [
    "a2_2 = RyClass2()\n",
    "print(RyClass2.doublePi)\n",
    "print(a2_2.doublePi)"
   ]
  },
  {
   "cell_type": "code",
   "execution_count": 163,
   "metadata": {},
   "outputs": [
    {
     "name": "stdout",
     "output_type": "stream",
     "text": [
      "5\n",
      "7\n",
      "6.28\n",
      "9\n"
     ]
    }
   ],
   "source": [
    "# それぞれのインスタンスの値は変えることができる\n",
    "a2.doublePi = 5\n",
    "a2_2.doublePi = 7\n",
    "print(a2.doublePi)\n",
    "print(a2_2.doublePi)\n",
    "print(RyClass2.doublePi) # クラスの属性としての値は変わっていない\n",
    "# クラスの属性としての値も変えることができる\n",
    "RyClass2.doublePi = 9\n",
    "print(RyClass2.doublePi)"
   ]
  },
  {
   "cell_type": "code",
   "execution_count": 164,
   "metadata": {},
   "outputs": [
    {
     "name": "stdout",
     "output_type": "stream",
     "text": [
      "10\n",
      "11\n",
      "6.28\n",
      "6.28\n",
      "12\n",
      "12\n"
     ]
    }
   ],
   "source": [
    "# クラスのインスタンスごとに同じ呼び出し名で異なる値を持たせたり\n",
    "# インスタンスに共通して同じ値を持たせたりすることができるが\n",
    "# 前者を小文字変数、後者を大文字変数としておくことで、区別がつきやすくする習慣がある\n",
    "# 後者のインスタンス共通の値は、クラス属性としての変数を変えれば、\n",
    "# インスタンスのすべてについて一度に書き換えることもできる\n",
    "# クラスに情報を持たせてみる。たとえば、2 * pi という値を持たせることにする\n",
    "class RyClass2_2:\n",
    "    DOUBLEPI = 6.28\n",
    "    doublePi = 6.28 # 2*3.14\n",
    "\n",
    "a2_3 = RyClass2_2()\n",
    "a2_4 = RyClass2_2()\n",
    "a2_3.doublePi = 10\n",
    "a2_4.doublePi = 11\n",
    "print(a2_3.doublePi)\n",
    "print(a2_4.doublePi)\n",
    "print(a2_3.DOUBLEPI)\n",
    "print(a2_4.DOUBLEPI)\n",
    "RyClass2_2.DOUBLEPI = 12\n",
    "print(a2_3.DOUBLEPI)\n",
    "print(a2_4.DOUBLEPI)"
   ]
  },
  {
   "cell_type": "markdown",
   "metadata": {},
   "source": [
    "## クラス変数とインスタンス変数\n",
    "小文字のクラス変数と大文字のクラス変数とで、使い方に違いを持たせることもできるが、面倒くさい。\n",
    "\n",
    "クラス変数は変更しないことを暗黙のルールにし、\n",
    "クラス変数とは別の仕組みで、インスタンスに直結した変数(インスタンス変数)と言うものを作ることにする。\n",
    "インスタンス変数を作る仕組みとして、インスタンスを発生するときに、必ず変数を付与する、という仕組みを取ることにする。\n",
    "それをインストラクタと呼ぶ。"
   ]
  },
  {
   "cell_type": "code",
   "execution_count": 165,
   "metadata": {},
   "outputs": [],
   "source": [
    "class RyClass2_3:\n",
    "    # クラス変数。大文字にして、変更しないことを原則とする\n",
    "    # 変更するなら全インスタンスで一斉に変える\n",
    "    DOUBLEPI = 6.28 \n",
    "    \n",
    "    def __init__(self):\n",
    "        self.val1 = 0"
   ]
  },
  {
   "cell_type": "code",
   "execution_count": 166,
   "metadata": {},
   "outputs": [
    {
     "name": "stdout",
     "output_type": "stream",
     "text": [
      "6.28\n",
      "0\n",
      "3.33333\n"
     ]
    }
   ],
   "source": [
    "a2_3_1 = RyClass2_3()\n",
    "print(a2_3_1.DOUBLEPI)\n",
    "print(a2_3_1.val1)\n",
    "# インスタンス変数は変えてもよいことにして、自由に値を変えよう\n",
    "a2_3_1.val1 = 3.33333\n",
    "print(a2_3_1.val1)"
   ]
  },
  {
   "cell_type": "code",
   "execution_count": 167,
   "metadata": {},
   "outputs": [],
   "source": [
    "# インスタンス変数は、インスタンスの作成時に指定するようにもできる\n",
    "class RyClass2_4:\n",
    "    # クラス変数。大文字にして、変更しないことを原則とする\n",
    "    # 変更するなら全インスタンスで一斉に変える\n",
    "    DOUBLEPI = 6.28 \n",
    "    \n",
    "    def __init__(self,val1=0):\n",
    "        self.val1 = val1"
   ]
  },
  {
   "cell_type": "code",
   "execution_count": 168,
   "metadata": {},
   "outputs": [
    {
     "name": "stdout",
     "output_type": "stream",
     "text": [
      "0\n",
      "1.111\n",
      "2.2222\n"
     ]
    }
   ],
   "source": [
    "a2_4 = RyClass2_4() # デフォルト値として0が入る\n",
    "print(a2_4.val1)\n",
    "a2_4_2 = RyClass2_4(val1=1.111)\n",
    "print(a2_4_2.val1)\n",
    "# 引数指定を省略してもよい\n",
    "a2_4_3 = RyClass2_4(2.2222)\n",
    "print(a2_4_3.val1)"
   ]
  },
  {
   "cell_type": "markdown",
   "metadata": {},
   "source": [
    "## 関数を持たせる\n",
    "変数にクラス変数とインスタンス変数があったように、\n",
    "関数にも、クラス関数とインスタンス関数とがある。\n",
    "クラス関数は、self引数を取らない関数で、インスタンス関数はself引数を取る関数である。\n",
    "クラスの属性としてクラス関数を呼び出せる。\n",
    "インスタンスの属性として、クラス関数もインスタンス関数も引き出せる。\n",
    "(インスタンス発生後の書き換えをしないとすれば)クラス関数はすべてのインスタンスに共通で、インスタンス関数は、インスタンスごとに係数などを変えることが出来る。"
   ]
  },
  {
   "cell_type": "code",
   "execution_count": 169,
   "metadata": {},
   "outputs": [
    {
     "name": "stdout",
     "output_type": "stream",
     "text": [
      "8.280000000000001\n",
      "8.2800011111\n",
      "108.28\n"
     ]
    }
   ],
   "source": [
    "# クラスの情報には、関数も取れる\n",
    "class RyClass3:\n",
    "    DOUBLEPI = 6.28 # クラス変数\n",
    "    \n",
    "    def __init__(self,val1=0):\n",
    "        self.val1 = val1 # インスタンス変数\n",
    "    \n",
    "    def f1(x,y): # クラス関数\n",
    "        return RyClass3.DOUBLEPI * x + y\n",
    "    def f2(self,x,y): # インスタンス変数\n",
    "        return self.DOUBLEPI * x + y + self.val1\n",
    "\n",
    "print(RyClass3.f1(1,2))\n",
    "a3 = RyClass3(val1=0.0000011111)\n",
    "print(a3.f2(1,2))\n",
    "a3_2 = RyClass3(val1=100)\n",
    "print(a3_2.f2(1,2))\n",
    "# このRyClass3.f1() という関数は、インスタンスa3の関数ではないので、\n",
    "# a3.f1()とは呼び出せない"
   ]
  },
  {
   "cell_type": "markdown",
   "metadata": {},
   "source": [
    "## インスタンス情報を表示させる\n",
    "\n",
    "インスタンスにprint()関数を適用したときに、有用な情報が表示されると便利である。\n",
    "print()関数は、インスタンス関数として、\\__str__(self)の返り値を表示するように作られているので、\n",
    "そのような関数を定義しておくと便利。\n",
    "このように、何かしらの理由で、\"\\__\"で囲まれた名前を持つ関数を特殊関数と言う。\n",
    "同様に\"\\__\"で囲まれた名前のインスタンス変数も、特殊な役割を持つ。"
   ]
  },
  {
   "cell_type": "code",
   "execution_count": 186,
   "metadata": {},
   "outputs": [],
   "source": [
    "class RyClass4:\n",
    "    DOUBLEPI = 6.28 # クラス変数\n",
    "    \n",
    "    def __init__(self,val1=0):\n",
    "        self.val1 = val1 # インスタンス変数\n",
    "    def __str__(self):\n",
    "        return \"RyClass4\" + \" val = \" + str(self.val1)\n",
    "    \n",
    "    def f1(x,y): # クラス関数\n",
    "        return RyClass3.DOUBLEPI * x + y\n",
    "    def f2(self,x,y): # インスタンス変数\n",
    "        return self.DOUBLEPI * x + y + self.val1"
   ]
  },
  {
   "cell_type": "code",
   "execution_count": 187,
   "metadata": {},
   "outputs": [
    {
     "name": "stdout",
     "output_type": "stream",
     "text": [
      "RyClass4 val = 100\n",
      "122.84\n"
     ]
    }
   ],
   "source": [
    "a4 = RyClass4(100)\n",
    "print(a4)"
   ]
  },
  {
   "cell_type": "markdown",
   "metadata": {},
   "source": [
    "## 他にも色々な特殊関数\n",
    "たとえば、インスタンス変数を返す \"__dict__()\"など。"
   ]
  },
  {
   "cell_type": "code",
   "execution_count": 170,
   "metadata": {},
   "outputs": [
    {
     "name": "stdout",
     "output_type": "stream",
     "text": [
      "{'val1': 100}\n"
     ]
    }
   ],
   "source": [
    "print(a3_2.__dict__)"
   ]
  }
 ],
 "metadata": {
  "kernelspec": {
   "display_name": "Python 3",
   "language": "python",
   "name": "python3"
  },
  "language_info": {
   "codemirror_mode": {
    "name": "ipython",
    "version": 3
   },
   "file_extension": ".py",
   "mimetype": "text/x-python",
   "name": "python",
   "nbconvert_exporter": "python",
   "pygments_lexer": "ipython3",
   "version": "3.6.5"
  }
 },
 "nbformat": 4,
 "nbformat_minor": 2
}
