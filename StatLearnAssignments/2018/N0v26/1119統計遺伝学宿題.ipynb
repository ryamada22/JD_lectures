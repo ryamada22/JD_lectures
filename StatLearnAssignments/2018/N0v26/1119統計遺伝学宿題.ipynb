{
 "cells": [
  {
   "cell_type": "markdown",
   "metadata": {},
   "source": [
    "- Define a population probability distribution by combining multiple pyhon's continuous distribution functions.\n",
    "    - Show its theoretical average.\n",
    "\n",
    "- Generate a sample set with a sample size of your choice.\n",
    "\n",
    "- Calculate sample average.\n",
    "\n",
    "- Repeat generating resampling sets and calculate their sample average.\n",
    "\n",
    "- Caclulate the average of averages of the resampled sets.\n",
    "\n",
    "- Compare the average of averages and the original sample set's average with the theoretical average.\n",
    "\n",
    "- Repeat the above procedure multiple times.\n",
    "- Make a plot that describes the results readily understandable."
   ]
  },
  {
   "cell_type": "markdown",
   "metadata": {},
   "source": [
    "作戦：\n",
    "- 正規分布と指数分布を組み合わせて母集団(サンプル数たくさん)を作成する（カーネル密度推定なるものを作成する）\n",
    "- 0.2・0.8ずつにして、設定した平均値を重み付けする\n",
    "- サンプルサイズは200にする\n",
    "- リサンプリングを何度かして平均を求める\n",
    "<br>\n",
    "<br>\n",
    "- それらを何度か(数百回)行う\n"
   ]
  },
  {
   "cell_type": "code",
   "execution_count": 1,
   "metadata": {},
   "outputs": [],
   "source": [
    "from sklearn.neighbors import KernelDensity\n",
    "import numpy as np\n",
    "import matplotlib.pyplot as plt\n",
    "np.random.seed(1234)\n",
    "x = np.random.normal(50, 10, 2000)# 平均 50, 標準偏差 10 の正規乱数を1,000件生成\n",
    "y = np.random.exponential(1./0.1,size=8000) + 65 # 平均10の指数分布\n",
    "targetpopulation = np.r_[x,y]#合計一万サンプル\n"
   ]
  },
  {
   "cell_type": "code",
   "execution_count": 2,
   "metadata": {},
   "outputs": [
    {
     "data": {
      "text/plain": [
       "(array([1.000e+00, 1.000e+00, 0.000e+00, 0.000e+00, 8.000e+00, 1.600e+01,\n",
       "        3.600e+01, 4.700e+01, 6.900e+01, 1.130e+02, 1.770e+02, 1.950e+02,\n",
       "        2.430e+02, 2.300e+02, 2.420e+02, 1.940e+02, 1.450e+02, 9.400e+01,\n",
       "        1.171e+03, 1.752e+03, 1.362e+03, 9.930e+02, 7.610e+02, 5.430e+02,\n",
       "        4.090e+02, 2.860e+02, 2.110e+02, 2.020e+02, 1.190e+02, 9.500e+01,\n",
       "        8.000e+01, 5.900e+01, 3.800e+01, 2.800e+01, 2.500e+01, 1.200e+01,\n",
       "        8.000e+00, 6.000e+00, 9.000e+00, 5.000e+00, 2.000e+00, 2.000e+00,\n",
       "        4.000e+00, 4.000e+00, 0.000e+00, 0.000e+00, 1.000e+00, 0.000e+00,\n",
       "        0.000e+00, 2.000e+00]),\n",
       " array([ 11.19101589,  14.10040153,  17.00978717,  19.91917281,\n",
       "         22.82855846,  25.7379441 ,  28.64732974,  31.55671538,\n",
       "         34.46610103,  37.37548667,  40.28487231,  43.19425795,\n",
       "         46.1036436 ,  49.01302924,  51.92241488,  54.83180052,\n",
       "         57.74118617,  60.65057181,  63.55995745,  66.46934309,\n",
       "         69.37872874,  72.28811438,  75.19750002,  78.10688566,\n",
       "         81.01627131,  83.92565695,  86.83504259,  89.74442823,\n",
       "         92.65381388,  95.56319952,  98.47258516, 101.3819708 ,\n",
       "        104.29135645, 107.20074209, 110.11012773, 113.01951337,\n",
       "        115.92889902, 118.83828466, 121.7476703 , 124.65705594,\n",
       "        127.56644159, 130.47582723, 133.38521287, 136.29459851,\n",
       "        139.20398416, 142.1133698 , 145.02275544, 147.93214108,\n",
       "        150.84152673, 153.75091237, 156.66029801]),\n",
       " <a list of 50 Patch objects>)"
      ]
     },
     "execution_count": 2,
     "metadata": {},
     "output_type": "execute_result"
    },
    {
     "data": {
      "image/png": "[encoded data removed]",
      "text/plain": [
       "<Figure size 432x288 with 1 Axes>"
      ]
     },
     "metadata": {},
     "output_type": "display_data"
    }
   ],
   "source": [
    "plt.hist(targetpopulation,bins=50)"
   ]
  },
  {
   "cell_type": "code",
   "execution_count": 3,
   "metadata": {},
   "outputs": [
    {
     "name": "stdout",
     "output_type": "stream",
     "text": [
      "70.0\n"
     ]
    }
   ],
   "source": [
    "# 平均の計算\n",
    "print(50*0.2+(65+10)*0.8)"
   ]
  },
  {
   "cell_type": "code",
   "execution_count": 4,
   "metadata": {},
   "outputs": [
    {
     "name": "stdout",
     "output_type": "stream",
     "text": [
      "[7065, 9701, 3862, 5955, 8146, 248, 8289, 8339, 2532, 8392, 2148, 1714, 2197, 203, 7000, 697, 2686, 9977, 2463, 2792, 1100, 7479, 5429, 4825, 9066, 1116, 2974, 3002, 6267, 1712, 6501, 3670, 1626, 6130, 5399, 732, 6039, 2041, 5855, 7021, 1786, 2941, 693, 2523, 2507, 696, 9949, 449, 8565, 8603, 3446, 6324, 6872, 9993, 7265, 752, 1957, 8410, 8673, 4571, 88, 9139, 9522, 5109, 5614, 9807, 8542, 5364, 121, 8067, 2271, 6175, 88, 2174, 6808, 1102, 8721, 4877, 6032, 8024, 9089, 9526, 7200, 67, 9458, 1419, 9710, 2404, 6395, 6232, 6190, 9988, 8285, 9446, 6325, 8467, 627, 3084, 2475, 8521, 9573, 3833, 3776, 3897, 3269, 6685, 5242, 6744, 8039, 5048, 6557, 3036, 4785, 2292, 1132, 6433, 7342, 4890, 9583, 6890, 8258, 5949, 6770, 6767, 3157, 9031, 2527, 3817, 9759, 3273, 9009, 6889, 1854, 728, 9263, 7446, 9899, 2101, 3304, 5185, 3612, 4455, 8763, 6082, 3273, 7279, 6040, 9212, 4969, 3727, 3803, 8165, 6397, 2227, 3672, 3422, 4332, 4175, 3332, 4941, 4339, 4607, 7303, 1705, 6080, 2822, 7530, 2841, 6741, 9016, 7823, 1668, 6117, 8943, 9062, 4948, 2815, 435, 5217, 4341, 577, 5457, 2758, 8059, 8946, 8496, 1118, 5561, 2372, 2352, 8478, 5629, 7256, 414, 1273, 3733, 7143, 467, 6881, 4943]\n"
     ]
    }
   ],
   "source": [
    "# 200/10000のサンプルIDを適当に重複ありで選択\n",
    "sampleID = ([np.random.randint(1,10001) for i in range(200)])\n",
    "print(sampleID)"
   ]
  },
  {
   "cell_type": "code",
   "execution_count": 5,
   "metadata": {},
   "outputs": [
    {
     "name": "stdout",
     "output_type": "stream",
     "text": [
      "[array([2065, 2631, 7785, 4162, 1787, 5841, 2975, 3103, 1727, 3549, 9218,\n",
      "       9172, 5864, 6631, 4327, 6672, 3427, 9086, 4816, 1265, 3216,  831,\n",
      "       6293,  269, 3521, 1018, 4771, 9351,  273, 8894, 9233, 7227, 5103,\n",
      "       7644, 1262, 7854, 5250, 7640, 8731, 6129, 8718, 6022,  549, 2691,\n",
      "       9976, 1066,  781, 9222, 6337, 4268, 8006, 7484, 5866, 8377,    4,\n",
      "         75, 2716, 6878, 2821,  220, 4066, 8002, 2458, 4933,  348, 4138,\n",
      "       6232, 3950, 1977, 8969, 3555, 8526, 8358, 5510, 3124, 1400, 4611,\n",
      "       7907, 8047, 1936, 9599, 2912, 5171, 7058, 3470, 5080, 8571, 9673,\n",
      "         85, 1887, 4431, 3843, 4027, 5512, 6687, 3759, 8052, 6895, 3506,\n",
      "       5424, 4298, 9348, 5362, 9926, 4561, 3418,  444, 5005, 4488, 6106,\n",
      "       3740, 2069, 7919, 6094, 1960, 7631, 6010, 1425, 1511, 6956, 5835,\n",
      "       4336, 4804, 1494, 2387, 3612, 2304, 2321,  398, 5537, 6744, 7748,\n",
      "       6197, 9489, 3690, 6818, 1283, 4196, 7258, 1797, 6038, 4849, 1860,\n",
      "       7832, 2929, 7097, 3120, 6857, 4298, 1290, 5005, 1572, 5942,   71,\n",
      "       2428, 6736, 4694, 8474, 6297, 3903, 7338,  344, 6948, 5790, 9483,\n",
      "       2944,  516, 1437, 8525, 6308, 5070, 4262, 7724, 9379, 2761, 7356,\n",
      "       3022,  931, 6269, 6566, 3543,  488, 5572, 7645, 8193, 8167,  285,\n",
      "        752,  243,  905, 5520, 2132, 1385, 7849, 6130, 6857, 7111, 6921,\n",
      "       3277, 1089])]\n"
     ]
    }
   ],
   "source": [
    "# 200/10000のサンプルIDを適当に重複ありで選択\n",
    "sampleID = ([np.random.randint(1,10001,200)])\n",
    "print(sampleID)"
   ]
  },
  {
   "cell_type": "code",
   "execution_count": 6,
   "metadata": {},
   "outputs": [
    {
     "data": {
      "text/plain": [
       "array([ 83.60832589,  79.71049309,  67.65344638,  81.32876094,\n",
       "        34.44668263,  73.04534729,  80.2885241 ,  72.26402337,\n",
       "        53.7386146 ,  68.81111061,  71.36510042,  67.6187359 ,\n",
       "        76.60411484,  67.00302607,  66.7983236 ,  71.85403028,\n",
       "        65.74447902,  71.03578108,  83.92163862,  58.19101941,\n",
       "        71.40008917,  49.24632102,  66.37641556,  53.87674456,\n",
       "        67.67810271,  36.21718314,  78.57065489, 101.47455283,\n",
       "        42.77337806,  71.48033769,  66.4222612 ,  76.07938083,\n",
       "        65.07002958,  66.64405212,  49.2124074 ,  66.85465309,\n",
       "        78.2877535 ,  66.73126396,  79.42021781,  82.06798773,\n",
       "        75.56616218,  70.13505387,  45.10977942,  66.80001478,\n",
       "        66.0344192 ,  50.87832899,  47.54639503,  80.94555724,\n",
       "        79.01350499,  75.03260421,  78.34974831,  66.11817911,\n",
       "        72.13382635,  90.74155175,  42.79411267,  70.07842951,\n",
       "        70.27986771,  81.618223  ,  67.46032219,  47.23353873,\n",
       "        68.29386611,  68.81130266,  69.20813128,  77.18397037,\n",
       "        54.25530591,  65.34493882,  98.20023649,  67.52610945,\n",
       "        51.44741543,  79.34764063,  76.15157592,  78.09229948,\n",
       "        67.77416768,  70.05904493,  67.82631992,  43.64845034,\n",
       "        76.34644778,  70.75724181,  77.55166294,  44.84714754,\n",
       "        67.6545924 ,  71.92356451,  74.52299325,  78.86691843,\n",
       "        92.63138127,  85.69560163,  67.47659348, 105.76227996,\n",
       "        45.69904309,  51.64857622,  67.08727572,  67.41759061,\n",
       "        65.80987833,  70.12307127,  66.466681  ,  72.99056626,\n",
       "        65.11634115,  69.06388441,  95.87066462,  72.07101391,\n",
       "       101.71849342,  65.67607057,  68.10286878,  72.89070046,\n",
       "        82.76239942,  73.84962064,  46.1663542 ,  95.55840906,\n",
       "        65.97534657,  65.86200523,  70.38671216,  77.2363151 ,\n",
       "        83.11756322,  72.14034316,  45.15000044,  66.91037431,\n",
       "        87.22219749,  57.96155791,  46.45522771,  74.08748089,\n",
       "        72.75365229,  80.02014345,  93.12682089,  59.42437804,\n",
       "        85.88998921,  85.09104567,  69.80840633,  90.29902369,\n",
       "        47.61664635,  73.3777479 ,  75.54012249,  67.03450263,\n",
       "        83.80145739,  83.56839789,  73.93973955,  78.77141165,\n",
       "        69.29875414,  93.40599164,  70.65325954,  52.77205092,\n",
       "        72.15446412,  75.28496787,  52.87560811,  73.40647345,\n",
       "        67.50229269,  68.97108531,  74.08776969,  68.47288658,\n",
       "       101.71849342,  58.75088211,  95.55840906,  32.49877259,\n",
       "        81.7511231 ,  54.62059737,  75.14817258,  74.91293675,\n",
       "        68.78452736,  72.61538656,  69.47077703,  67.51711855,\n",
       "        68.19905257,  39.28631329,  70.27798239,  68.65627736,\n",
       "        67.80484064,  72.64503278,  53.62018196,  58.5330924 ,\n",
       "        67.9934391 ,  68.21854331,  67.69760797,  73.4274917 ,\n",
       "        66.90172268,  72.58891691,  83.7992984 ,  71.33384577,\n",
       "       116.21386416,  70.11842019,  67.68343825,  73.19254604,\n",
       "        73.22371713,  42.86976043,  68.62181759,  67.73636736,\n",
       "        66.13999501,  85.19551891,  47.15559316,  60.54045091,\n",
       "        39.48372141,  48.71487603,  78.06618907,  72.20108694,\n",
       "        60.22934191,  66.56795699,  65.22476115,  68.47288658,\n",
       "        68.19045824,  81.43146293,  82.97356967,  42.07847437])"
      ]
     },
     "execution_count": 6,
     "metadata": {},
     "output_type": "execute_result"
    }
   ],
   "source": [
    "targetpopulation[sampleID]"
   ]
  },
  {
   "cell_type": "code",
   "execution_count": 7,
   "metadata": {},
   "outputs": [
    {
     "data": {
      "text/plain": [
       "69.58096505793647"
      ]
     },
     "execution_count": 7,
     "metadata": {},
     "output_type": "execute_result"
    }
   ],
   "source": [
    "targetpopulation[sampleID].mean()\n"
   ]
  },
  {
   "cell_type": "markdown",
   "metadata": {},
   "source": [
    "これを1000回回して、その平均(というか、rのsummary()のようなもの)を求める<br>\n",
    "\n",
    "---\n",
    "\n",
    "- ここからしばらくループにひっかかっています"
   ]
  },
  {
   "cell_type": "code",
   "execution_count": 8,
   "metadata": {},
   "outputs": [
    {
     "ename": "SyntaxError",
     "evalue": "can't assign to function call (<ipython-input-8-e00b179f0aa7>, line 4)",
     "output_type": "error",
     "traceback": [
      "\u001b[1;36m  File \u001b[1;32m\"<ipython-input-8-e00b179f0aa7>\"\u001b[1;36m, line \u001b[1;32m4\u001b[0m\n\u001b[1;33m    total.append(j) = targetpopulation[sampleID].mean()\u001b[0m\n\u001b[1;37m    ^\u001b[0m\n\u001b[1;31mSyntaxError\u001b[0m\u001b[1;31m:\u001b[0m can't assign to function call\n"
     ]
    }
   ],
   "source": [
    "total=[]\n",
    "for j in range(1,1001):\n",
    "    sampleID[j] = ([np.random.randint(1,10001) for i in range(200)])\n",
    "    total.append(j) = targetpopulation[sampleID].mean()\n"
   ]
  },
  {
   "cell_type": "code",
   "execution_count": 11,
   "metadata": {},
   "outputs": [
    {
     "data": {
      "text/plain": [
       "[1]"
      ]
     },
     "execution_count": 11,
     "metadata": {},
     "output_type": "execute_result"
    }
   ],
   "source": [
    "total = []\n",
    "total.append(1)\n",
    "total"
   ]
  },
  {
   "cell_type": "code",
   "execution_count": 9,
   "metadata": {},
   "outputs": [],
   "source": [
    "sampleID = ([np.random.randint(1,10001) for i in range(200)])\n",
    "sampleID = ([np.random.randint(1,10001,200)])"
   ]
  },
  {
   "cell_type": "code",
   "execution_count": 10,
   "metadata": {},
   "outputs": [
    {
     "data": {
      "text/plain": [
       "69.88218986610964"
      ]
     },
     "execution_count": 10,
     "metadata": {},
     "output_type": "execute_result"
    }
   ],
   "source": [
    "targetpopulation[sampleID].mean()"
   ]
  },
  {
   "cell_type": "code",
   "execution_count": 37,
   "metadata": {},
   "outputs": [
    {
     "name": "stderr",
     "output_type": "stream",
     "text": [
      "/Users/daisuketakada/anaconda3/lib/python3.6/site-packages/ipykernel_launcher.py:2: FutureWarning: Using a non-tuple sequence for multidimensional indexing is deprecated; use `arr[tuple(seq)]` instead of `arr[seq]`. In the future this will be interpreted as an array index, `arr[np.array(seq)]`, which will result either in an error or a different result.\n",
      "  \n"
     ]
    },
    {
     "data": {
      "text/plain": [
       "[68.72316003079699]"
      ]
     },
     "execution_count": 37,
     "metadata": {},
     "output_type": "execute_result"
    }
   ],
   "source": [
    "total_1=[]\n",
    "g = targetpopulation[sampleID].mean()\n",
    "total_1.append(g)\n",
    "total_1"
   ]
  },
  {
   "cell_type": "code",
   "execution_count": 46,
   "metadata": {},
   "outputs": [
    {
     "data": {
      "text/plain": [
       "[70.40624603638109, 71.21649682956615, 68.79553292125452]"
      ]
     },
     "execution_count": 46,
     "metadata": {},
     "output_type": "execute_result"
    }
   ],
   "source": [
    "total_0=[]\n",
    "\n",
    "sampleID = ([np.random.randint(1,10001) for i in range(200)])\n",
    "total_0.append(targetpopulation[sampleID].mean())\n",
    "\n",
    "sampleID = ([np.random.randint(1,10001) for i in range(200)])\n",
    "total_0.append(targetpopulation[sampleID].mean())\n",
    "\n",
    "sampleID = ([np.random.randint(1,10001) for i in range(200)])\n",
    "total_0.append(targetpopulation[sampleID].mean())\n",
    "\n",
    "total_0"
   ]
  },
  {
   "cell_type": "code",
   "execution_count": 47,
   "metadata": {},
   "outputs": [
    {
     "name": "stderr",
     "output_type": "stream",
     "text": [
      "/Users/daisuketakada/anaconda3/lib/python3.6/site-packages/ipykernel_launcher.py:4: FutureWarning: Using a non-tuple sequence for multidimensional indexing is deprecated; use `arr[tuple(seq)]` instead of `arr[seq]`. In the future this will be interpreted as an array index, `arr[np.array(seq)]`, which will result either in an error or a different result.\n",
      "  after removing the cwd from sys.path.\n",
      "/Users/daisuketakada/anaconda3/lib/python3.6/site-packages/ipykernel_launcher.py:7: FutureWarning: Using a non-tuple sequence for multidimensional indexing is deprecated; use `arr[tuple(seq)]` instead of `arr[seq]`. In the future this will be interpreted as an array index, `arr[np.array(seq)]`, which will result either in an error or a different result.\n",
      "  import sys\n",
      "/Users/daisuketakada/anaconda3/lib/python3.6/site-packages/ipykernel_launcher.py:10: FutureWarning: Using a non-tuple sequence for multidimensional indexing is deprecated; use `arr[tuple(seq)]` instead of `arr[seq]`. In the future this will be interpreted as an array index, `arr[np.array(seq)]`, which will result either in an error or a different result.\n",
      "  # Remove the CWD from sys.path while we load stuff.\n"
     ]
    },
    {
     "data": {
      "text/plain": [
       "[69.63170545847717, 69.6384923738812, 69.10310109569222]"
      ]
     },
     "execution_count": 47,
     "metadata": {},
     "output_type": "execute_result"
    }
   ],
   "source": [
    "total_0=[]\n",
    "\n",
    "sampleID = ([np.random.randint(1,10001,200)])\n",
    "total_0.append(targetpopulation[sampleID].mean())\n",
    "\n",
    "sampleID = ([np.random.randint(1,10001,200)])\n",
    "total_0.append(targetpopulation[sampleID].mean())\n",
    "\n",
    "sampleID = ([np.random.randint(1,10001,200)])\n",
    "total_0.append(targetpopulation[sampleID].mean())\n",
    "\n",
    "total_0\n"
   ]
  },
  {
   "cell_type": "markdown",
   "metadata": {},
   "source": [
    "だいたい７０くらいにはなりそう。"
   ]
  },
  {
   "cell_type": "code",
   "execution_count": 23,
   "metadata": {},
   "outputs": [
    {
     "name": "stderr",
     "output_type": "stream",
     "text": [
      "/Users/daisuketakada/anaconda3/lib/python3.6/site-packages/ipykernel_launcher.py:4: FutureWarning: Using a non-tuple sequence for multidimensional indexing is deprecated; use `arr[tuple(seq)]` instead of `arr[seq]`. In the future this will be interpreted as an array index, `arr[np.array(seq)]`, which will result either in an error or a different result.\n",
      "  after removing the cwd from sys.path.\n"
     ]
    },
    {
     "ename": "IndexError",
     "evalue": "index 10000 is out of bounds for axis 1 with size 10000",
     "output_type": "error",
     "traceback": [
      "\u001b[0;31m---------------------------------------------------------------------------\u001b[0m",
      "\u001b[0;31mIndexError\u001b[0m                                Traceback (most recent call last)",
      "\u001b[0;32m<ipython-input-23-a043601ea4c4>\u001b[0m in \u001b[0;36m<module>\u001b[0;34m\u001b[0m\n\u001b[1;32m      2\u001b[0m \u001b[0;32mfor\u001b[0m \u001b[0mj\u001b[0m \u001b[0;32min\u001b[0m \u001b[0mrange\u001b[0m\u001b[0;34m(\u001b[0m\u001b[0;36m1\u001b[0m\u001b[0;34m,\u001b[0m\u001b[0;36m1000\u001b[0m\u001b[0;34m)\u001b[0m\u001b[0;34m:\u001b[0m\u001b[0;34m\u001b[0m\u001b[0m\n\u001b[1;32m      3\u001b[0m     \u001b[0msampleID_j\u001b[0m \u001b[0;34m=\u001b[0m \u001b[0;34m(\u001b[0m\u001b[0;34m[\u001b[0m\u001b[0mnp\u001b[0m\u001b[0;34m.\u001b[0m\u001b[0mrandom\u001b[0m\u001b[0;34m.\u001b[0m\u001b[0mrandint\u001b[0m\u001b[0;34m(\u001b[0m\u001b[0;36m1\u001b[0m\u001b[0;34m,\u001b[0m\u001b[0;36m10001\u001b[0m\u001b[0;34m,\u001b[0m\u001b[0;36m200\u001b[0m\u001b[0;34m)\u001b[0m\u001b[0;34m]\u001b[0m\u001b[0;34m)\u001b[0m\u001b[0;34m\u001b[0m\u001b[0m\n\u001b[0;32m----> 4\u001b[0;31m     \u001b[0mtotal\u001b[0m\u001b[0;34m.\u001b[0m\u001b[0mappend\u001b[0m\u001b[0;34m(\u001b[0m\u001b[0mtargetpopulation\u001b[0m\u001b[0;34m[\u001b[0m\u001b[0msampleID_j\u001b[0m\u001b[0;34m]\u001b[0m\u001b[0;34m.\u001b[0m\u001b[0mmean\u001b[0m\u001b[0;34m(\u001b[0m\u001b[0;34m)\u001b[0m\u001b[0;34m)\u001b[0m\u001b[0;34m\u001b[0m\u001b[0m\n\u001b[0m",
      "\u001b[0;31mIndexError\u001b[0m: index 10000 is out of bounds for axis 1 with size 10000"
     ]
    }
   ],
   "source": [
    "total=[]\n",
    "for j in range(1,1000):\n",
    "    sampleID_j = ([np.random.randint(1,10001,200)])\n",
    "    total.append(targetpopulation[sampleID_j].mean())\n"
   ]
  },
  {
   "cell_type": "code",
   "execution_count": 22,
   "metadata": {},
   "outputs": [
    {
     "data": {
      "text/plain": [
       "array([0, 1, 2, 2, 3, 4, 2, 3, 2, 4, 4, 0, 1, 2, 0, 1, 3, 1, 3, 2, 2, 2,\n",
       "       2, 2, 0, 3, 3, 0, 4, 3, 4, 1, 0, 3, 4, 0, 2, 3, 1, 2, 1, 1, 2, 3,\n",
       "       2, 4, 1, 1, 0, 4])"
      ]
     },
     "execution_count": 22,
     "metadata": {},
     "output_type": "execute_result"
    }
   ],
   "source": [
    "np.random.randint(0,5,50)"
   ]
  },
  {
   "cell_type": "code",
   "execution_count": 38,
   "metadata": {},
   "outputs": [
    {
     "name": "stderr",
     "output_type": "stream",
     "text": [
      "/Users/daisuketakada/anaconda3/lib/python3.6/site-packages/ipykernel_launcher.py:2: FutureWarning: Using a non-tuple sequence for multidimensional indexing is deprecated; use `arr[tuple(seq)]` instead of `arr[seq]`. In the future this will be interpreted as an array index, `arr[np.array(seq)]`, which will result either in an error or a different result.\n",
      "  \n"
     ]
    }
   ],
   "source": [
    "sampleID = ([np.random.randint(1,10001,200)])\n",
    "total.append(targetpopulation[sampleID].mean())\n",
    "\n"
   ]
  },
  {
   "cell_type": "code",
   "execution_count": 44,
   "metadata": {},
   "outputs": [
    {
     "ename": "SyntaxError",
     "evalue": "invalid syntax (<ipython-input-44-e733b651ef96>, line 5)",
     "output_type": "error",
     "traceback": [
      "\u001b[0;36m  File \u001b[0;32m\"<ipython-input-44-e733b651ef96>\"\u001b[0;36m, line \u001b[0;32m5\u001b[0m\n\u001b[0;31m    else:print(total)\u001b[0m\n\u001b[0m       ^\u001b[0m\n\u001b[0;31mSyntaxError\u001b[0m\u001b[0;31m:\u001b[0m invalid syntax\n"
     ]
    }
   ],
   "source": [
    "total=[]\n",
    "for j in range(1,1000):\n",
    "    sampleID_j = ([np.random.randint(1,10001,200)])\n",
    "    total.append(targetpopulation[sampleID_j].mean(j))\n",
    "    else:\n",
    "        print(total)\n",
    "\n"
   ]
  },
  {
   "cell_type": "markdown",
   "metadata": {},
   "source": [
    "繰り返しができない。。。。"
   ]
  },
  {
   "cell_type": "code",
   "execution_count": 48,
   "metadata": {},
   "outputs": [
    {
     "name": "stderr",
     "output_type": "stream",
     "text": [
      "/Users/daisuketakada/anaconda3/lib/python3.6/site-packages/ipykernel_launcher.py:4: FutureWarning: Using a non-tuple sequence for multidimensional indexing is deprecated; use `arr[tuple(seq)]` instead of `arr[seq]`. In the future this will be interpreted as an array index, `arr[np.array(seq)]`, which will result either in an error or a different result.\n",
      "  after removing the cwd from sys.path.\n"
     ]
    },
    {
     "ename": "IndexError",
     "evalue": "index 10000 is out of bounds for axis 1 with size 10000",
     "output_type": "error",
     "traceback": [
      "\u001b[0;31m---------------------------------------------------------------------------\u001b[0m",
      "\u001b[0;31mIndexError\u001b[0m                                Traceback (most recent call last)",
      "\u001b[0;32m<ipython-input-48-604ed5b26718>\u001b[0m in \u001b[0;36m<module>\u001b[0;34m\u001b[0m\n\u001b[1;32m      2\u001b[0m \u001b[0;32mfor\u001b[0m \u001b[0mj\u001b[0m \u001b[0;32min\u001b[0m \u001b[0mrange\u001b[0m\u001b[0;34m(\u001b[0m\u001b[0;36m1\u001b[0m\u001b[0;34m,\u001b[0m\u001b[0;36m1000\u001b[0m\u001b[0;34m)\u001b[0m\u001b[0;34m:\u001b[0m\u001b[0;34m\u001b[0m\u001b[0m\n\u001b[1;32m      3\u001b[0m     \u001b[0msampleID\u001b[0m \u001b[0;34m=\u001b[0m \u001b[0;34m(\u001b[0m\u001b[0;34m[\u001b[0m\u001b[0mnp\u001b[0m\u001b[0;34m.\u001b[0m\u001b[0mrandom\u001b[0m\u001b[0;34m.\u001b[0m\u001b[0mrandint\u001b[0m\u001b[0;34m(\u001b[0m\u001b[0;36m1\u001b[0m\u001b[0;34m,\u001b[0m\u001b[0;36m10001\u001b[0m\u001b[0;34m,\u001b[0m\u001b[0;36m200\u001b[0m\u001b[0;34m)\u001b[0m\u001b[0;34m]\u001b[0m\u001b[0;34m)\u001b[0m\u001b[0;34m\u001b[0m\u001b[0m\n\u001b[0;32m----> 4\u001b[0;31m     \u001b[0mtotal\u001b[0m\u001b[0;34m.\u001b[0m\u001b[0mappend\u001b[0m\u001b[0;34m(\u001b[0m\u001b[0mtargetpopulation\u001b[0m\u001b[0;34m[\u001b[0m\u001b[0msampleID\u001b[0m\u001b[0;34m]\u001b[0m\u001b[0;34m.\u001b[0m\u001b[0mmean\u001b[0m\u001b[0;34m(\u001b[0m\u001b[0;34m)\u001b[0m\u001b[0;34m)\u001b[0m\u001b[0;34m\u001b[0m\u001b[0m\n\u001b[0m",
      "\u001b[0;31mIndexError\u001b[0m: index 10000 is out of bounds for axis 1 with size 10000"
     ]
    }
   ],
   "source": [
    "total=[]\n",
    "for j in range(1,1000):\n",
    "    sampleID = ([np.random.randint(1,10001,200)])\n",
    "    total.append(targetpopulation[sampleID].mean())\n"
   ]
  },
  {
   "cell_type": "markdown",
   "metadata": {},
   "source": [
    "やはりできない。ループができないので、100回に減らして力技\n",
    "\n",
    "---\n"
   ]
  },
  {
   "cell_type": "code",
   "execution_count": 52,
   "metadata": {},
   "outputs": [
    {
     "name": "stderr",
     "output_type": "stream",
     "text": [
      "/Users/daisuketakada/anaconda3/lib/python3.6/site-packages/ipykernel_launcher.py:4: FutureWarning: Using a non-tuple sequence for multidimensional indexing is deprecated; use `arr[tuple(seq)]` instead of `arr[seq]`. In the future this will be interpreted as an array index, `arr[np.array(seq)]`, which will result either in an error or a different result.\n",
      "  after removing the cwd from sys.path.\n",
      "/Users/daisuketakada/anaconda3/lib/python3.6/site-packages/ipykernel_launcher.py:7: FutureWarning: Using a non-tuple sequence for multidimensional indexing is deprecated; use `arr[tuple(seq)]` instead of `arr[seq]`. In the future this will be interpreted as an array index, `arr[np.array(seq)]`, which will result either in an error or a different result.\n",
      "  import sys\n",
      "/Users/daisuketakada/anaconda3/lib/python3.6/site-packages/ipykernel_launcher.py:10: FutureWarning: Using a non-tuple sequence for multidimensional indexing is deprecated; use `arr[tuple(seq)]` instead of `arr[seq]`. In the future this will be interpreted as an array index, `arr[np.array(seq)]`, which will result either in an error or a different result.\n",
      "  # Remove the CWD from sys.path while we load stuff.\n",
      "/Users/daisuketakada/anaconda3/lib/python3.6/site-packages/ipykernel_launcher.py:13: FutureWarning: Using a non-tuple sequence for multidimensional indexing is deprecated; use `arr[tuple(seq)]` instead of `arr[seq]`. In the future this will be interpreted as an array index, `arr[np.array(seq)]`, which will result either in an error or a different result.\n",
      "  del sys.path[0]\n",
      "/Users/daisuketakada/anaconda3/lib/python3.6/site-packages/ipykernel_launcher.py:16: FutureWarning: Using a non-tuple sequence for multidimensional indexing is deprecated; use `arr[tuple(seq)]` instead of `arr[seq]`. In the future this will be interpreted as an array index, `arr[np.array(seq)]`, which will result either in an error or a different result.\n",
      "  app.launch_new_instance()\n",
      "/Users/daisuketakada/anaconda3/lib/python3.6/site-packages/ipykernel_launcher.py:19: FutureWarning: Using a non-tuple sequence for multidimensional indexing is deprecated; use `arr[tuple(seq)]` instead of `arr[seq]`. In the future this will be interpreted as an array index, `arr[np.array(seq)]`, which will result either in an error or a different result.\n",
      "/Users/daisuketakada/anaconda3/lib/python3.6/site-packages/ipykernel_launcher.py:22: FutureWarning: Using a non-tuple sequence for multidimensional indexing is deprecated; use `arr[tuple(seq)]` instead of `arr[seq]`. In the future this will be interpreted as an array index, `arr[np.array(seq)]`, which will result either in an error or a different result.\n",
      "/Users/daisuketakada/anaconda3/lib/python3.6/site-packages/ipykernel_launcher.py:25: FutureWarning: Using a non-tuple sequence for multidimensional indexing is deprecated; use `arr[tuple(seq)]` instead of `arr[seq]`. In the future this will be interpreted as an array index, `arr[np.array(seq)]`, which will result either in an error or a different result.\n",
      "/Users/daisuketakada/anaconda3/lib/python3.6/site-packages/ipykernel_launcher.py:28: FutureWarning: Using a non-tuple sequence for multidimensional indexing is deprecated; use `arr[tuple(seq)]` instead of `arr[seq]`. In the future this will be interpreted as an array index, `arr[np.array(seq)]`, which will result either in an error or a different result.\n",
      "/Users/daisuketakada/anaconda3/lib/python3.6/site-packages/ipykernel_launcher.py:31: FutureWarning: Using a non-tuple sequence for multidimensional indexing is deprecated; use `arr[tuple(seq)]` instead of `arr[seq]`. In the future this will be interpreted as an array index, `arr[np.array(seq)]`, which will result either in an error or a different result.\n",
      "/Users/daisuketakada/anaconda3/lib/python3.6/site-packages/ipykernel_launcher.py:34: FutureWarning: Using a non-tuple sequence for multidimensional indexing is deprecated; use `arr[tuple(seq)]` instead of `arr[seq]`. In the future this will be interpreted as an array index, `arr[np.array(seq)]`, which will result either in an error or a different result.\n",
      "/Users/daisuketakada/anaconda3/lib/python3.6/site-packages/ipykernel_launcher.py:37: FutureWarning: Using a non-tuple sequence for multidimensional indexing is deprecated; use `arr[tuple(seq)]` instead of `arr[seq]`. In the future this will be interpreted as an array index, `arr[np.array(seq)]`, which will result either in an error or a different result.\n",
      "/Users/daisuketakada/anaconda3/lib/python3.6/site-packages/ipykernel_launcher.py:40: FutureWarning: Using a non-tuple sequence for multidimensional indexing is deprecated; use `arr[tuple(seq)]` instead of `arr[seq]`. In the future this will be interpreted as an array index, `arr[np.array(seq)]`, which will result either in an error or a different result.\n",
      "/Users/daisuketakada/anaconda3/lib/python3.6/site-packages/ipykernel_launcher.py:43: FutureWarning: Using a non-tuple sequence for multidimensional indexing is deprecated; use `arr[tuple(seq)]` instead of `arr[seq]`. In the future this will be interpreted as an array index, `arr[np.array(seq)]`, which will result either in an error or a different result.\n",
      "/Users/daisuketakada/anaconda3/lib/python3.6/site-packages/ipykernel_launcher.py:46: FutureWarning: Using a non-tuple sequence for multidimensional indexing is deprecated; use `arr[tuple(seq)]` instead of `arr[seq]`. In the future this will be interpreted as an array index, `arr[np.array(seq)]`, which will result either in an error or a different result.\n",
      "/Users/daisuketakada/anaconda3/lib/python3.6/site-packages/ipykernel_launcher.py:49: FutureWarning: Using a non-tuple sequence for multidimensional indexing is deprecated; use `arr[tuple(seq)]` instead of `arr[seq]`. In the future this will be interpreted as an array index, `arr[np.array(seq)]`, which will result either in an error or a different result.\n",
      "/Users/daisuketakada/anaconda3/lib/python3.6/site-packages/ipykernel_launcher.py:52: FutureWarning: Using a non-tuple sequence for multidimensional indexing is deprecated; use `arr[tuple(seq)]` instead of `arr[seq]`. In the future this will be interpreted as an array index, `arr[np.array(seq)]`, which will result either in an error or a different result.\n",
      "/Users/daisuketakada/anaconda3/lib/python3.6/site-packages/ipykernel_launcher.py:55: FutureWarning: Using a non-tuple sequence for multidimensional indexing is deprecated; use `arr[tuple(seq)]` instead of `arr[seq]`. In the future this will be interpreted as an array index, `arr[np.array(seq)]`, which will result either in an error or a different result.\n",
      "/Users/daisuketakada/anaconda3/lib/python3.6/site-packages/ipykernel_launcher.py:58: FutureWarning: Using a non-tuple sequence for multidimensional indexing is deprecated; use `arr[tuple(seq)]` instead of `arr[seq]`. In the future this will be interpreted as an array index, `arr[np.array(seq)]`, which will result either in an error or a different result.\n",
      "/Users/daisuketakada/anaconda3/lib/python3.6/site-packages/ipykernel_launcher.py:61: FutureWarning: Using a non-tuple sequence for multidimensional indexing is deprecated; use `arr[tuple(seq)]` instead of `arr[seq]`. In the future this will be interpreted as an array index, `arr[np.array(seq)]`, which will result either in an error or a different result.\n",
      "/Users/daisuketakada/anaconda3/lib/python3.6/site-packages/ipykernel_launcher.py:64: FutureWarning: Using a non-tuple sequence for multidimensional indexing is deprecated; use `arr[tuple(seq)]` instead of `arr[seq]`. In the future this will be interpreted as an array index, `arr[np.array(seq)]`, which will result either in an error or a different result.\n",
      "/Users/daisuketakada/anaconda3/lib/python3.6/site-packages/ipykernel_launcher.py:67: FutureWarning: Using a non-tuple sequence for multidimensional indexing is deprecated; use `arr[tuple(seq)]` instead of `arr[seq]`. In the future this will be interpreted as an array index, `arr[np.array(seq)]`, which will result either in an error or a different result.\n",
      "/Users/daisuketakada/anaconda3/lib/python3.6/site-packages/ipykernel_launcher.py:70: FutureWarning: Using a non-tuple sequence for multidimensional indexing is deprecated; use `arr[tuple(seq)]` instead of `arr[seq]`. In the future this will be interpreted as an array index, `arr[np.array(seq)]`, which will result either in an error or a different result.\n",
      "/Users/daisuketakada/anaconda3/lib/python3.6/site-packages/ipykernel_launcher.py:73: FutureWarning: Using a non-tuple sequence for multidimensional indexing is deprecated; use `arr[tuple(seq)]` instead of `arr[seq]`. In the future this will be interpreted as an array index, `arr[np.array(seq)]`, which will result either in an error or a different result.\n",
      "/Users/daisuketakada/anaconda3/lib/python3.6/site-packages/ipykernel_launcher.py:76: FutureWarning: Using a non-tuple sequence for multidimensional indexing is deprecated; use `arr[tuple(seq)]` instead of `arr[seq]`. In the future this will be interpreted as an array index, `arr[np.array(seq)]`, which will result either in an error or a different result.\n",
      "/Users/daisuketakada/anaconda3/lib/python3.6/site-packages/ipykernel_launcher.py:79: FutureWarning: Using a non-tuple sequence for multidimensional indexing is deprecated; use `arr[tuple(seq)]` instead of `arr[seq]`. In the future this will be interpreted as an array index, `arr[np.array(seq)]`, which will result either in an error or a different result.\n",
      "/Users/daisuketakada/anaconda3/lib/python3.6/site-packages/ipykernel_launcher.py:82: FutureWarning: Using a non-tuple sequence for multidimensional indexing is deprecated; use `arr[tuple(seq)]` instead of `arr[seq]`. In the future this will be interpreted as an array index, `arr[np.array(seq)]`, which will result either in an error or a different result.\n",
      "/Users/daisuketakada/anaconda3/lib/python3.6/site-packages/ipykernel_launcher.py:85: FutureWarning: Using a non-tuple sequence for multidimensional indexing is deprecated; use `arr[tuple(seq)]` instead of `arr[seq]`. In the future this will be interpreted as an array index, `arr[np.array(seq)]`, which will result either in an error or a different result.\n",
      "/Users/daisuketakada/anaconda3/lib/python3.6/site-packages/ipykernel_launcher.py:88: FutureWarning: Using a non-tuple sequence for multidimensional indexing is deprecated; use `arr[tuple(seq)]` instead of `arr[seq]`. In the future this will be interpreted as an array index, `arr[np.array(seq)]`, which will result either in an error or a different result.\n",
      "/Users/daisuketakada/anaconda3/lib/python3.6/site-packages/ipykernel_launcher.py:91: FutureWarning: Using a non-tuple sequence for multidimensional indexing is deprecated; use `arr[tuple(seq)]` instead of `arr[seq]`. In the future this will be interpreted as an array index, `arr[np.array(seq)]`, which will result either in an error or a different result.\n",
      "/Users/daisuketakada/anaconda3/lib/python3.6/site-packages/ipykernel_launcher.py:94: FutureWarning: Using a non-tuple sequence for multidimensional indexing is deprecated; use `arr[tuple(seq)]` instead of `arr[seq]`. In the future this will be interpreted as an array index, `arr[np.array(seq)]`, which will result either in an error or a different result.\n",
      "/Users/daisuketakada/anaconda3/lib/python3.6/site-packages/ipykernel_launcher.py:97: FutureWarning: Using a non-tuple sequence for multidimensional indexing is deprecated; use `arr[tuple(seq)]` instead of `arr[seq]`. In the future this will be interpreted as an array index, `arr[np.array(seq)]`, which will result either in an error or a different result.\n",
      "/Users/daisuketakada/anaconda3/lib/python3.6/site-packages/ipykernel_launcher.py:100: FutureWarning: Using a non-tuple sequence for multidimensional indexing is deprecated; use `arr[tuple(seq)]` instead of `arr[seq]`. In the future this will be interpreted as an array index, `arr[np.array(seq)]`, which will result either in an error or a different result.\n",
      "/Users/daisuketakada/anaconda3/lib/python3.6/site-packages/ipykernel_launcher.py:103: FutureWarning: Using a non-tuple sequence for multidimensional indexing is deprecated; use `arr[tuple(seq)]` instead of `arr[seq]`. In the future this will be interpreted as an array index, `arr[np.array(seq)]`, which will result either in an error or a different result.\n",
      "/Users/daisuketakada/anaconda3/lib/python3.6/site-packages/ipykernel_launcher.py:106: FutureWarning: Using a non-tuple sequence for multidimensional indexing is deprecated; use `arr[tuple(seq)]` instead of `arr[seq]`. In the future this will be interpreted as an array index, `arr[np.array(seq)]`, which will result either in an error or a different result.\n",
      "/Users/daisuketakada/anaconda3/lib/python3.6/site-packages/ipykernel_launcher.py:109: FutureWarning: Using a non-tuple sequence for multidimensional indexing is deprecated; use `arr[tuple(seq)]` instead of `arr[seq]`. In the future this will be interpreted as an array index, `arr[np.array(seq)]`, which will result either in an error or a different result.\n",
      "/Users/daisuketakada/anaconda3/lib/python3.6/site-packages/ipykernel_launcher.py:112: FutureWarning: Using a non-tuple sequence for multidimensional indexing is deprecated; use `arr[tuple(seq)]` instead of `arr[seq]`. In the future this will be interpreted as an array index, `arr[np.array(seq)]`, which will result either in an error or a different result.\n",
      "/Users/daisuketakada/anaconda3/lib/python3.6/site-packages/ipykernel_launcher.py:115: FutureWarning: Using a non-tuple sequence for multidimensional indexing is deprecated; use `arr[tuple(seq)]` instead of `arr[seq]`. In the future this will be interpreted as an array index, `arr[np.array(seq)]`, which will result either in an error or a different result.\n",
      "/Users/daisuketakada/anaconda3/lib/python3.6/site-packages/ipykernel_launcher.py:118: FutureWarning: Using a non-tuple sequence for multidimensional indexing is deprecated; use `arr[tuple(seq)]` instead of `arr[seq]`. In the future this will be interpreted as an array index, `arr[np.array(seq)]`, which will result either in an error or a different result.\n",
      "/Users/daisuketakada/anaconda3/lib/python3.6/site-packages/ipykernel_launcher.py:121: FutureWarning: Using a non-tuple sequence for multidimensional indexing is deprecated; use `arr[tuple(seq)]` instead of `arr[seq]`. In the future this will be interpreted as an array index, `arr[np.array(seq)]`, which will result either in an error or a different result.\n",
      "/Users/daisuketakada/anaconda3/lib/python3.6/site-packages/ipykernel_launcher.py:124: FutureWarning: Using a non-tuple sequence for multidimensional indexing is deprecated; use `arr[tuple(seq)]` instead of `arr[seq]`. In the future this will be interpreted as an array index, `arr[np.array(seq)]`, which will result either in an error or a different result.\n",
      "/Users/daisuketakada/anaconda3/lib/python3.6/site-packages/ipykernel_launcher.py:127: FutureWarning: Using a non-tuple sequence for multidimensional indexing is deprecated; use `arr[tuple(seq)]` instead of `arr[seq]`. In the future this will be interpreted as an array index, `arr[np.array(seq)]`, which will result either in an error or a different result.\n",
      "/Users/daisuketakada/anaconda3/lib/python3.6/site-packages/ipykernel_launcher.py:130: FutureWarning: Using a non-tuple sequence for multidimensional indexing is deprecated; use `arr[tuple(seq)]` instead of `arr[seq]`. In the future this will be interpreted as an array index, `arr[np.array(seq)]`, which will result either in an error or a different result.\n",
      "/Users/daisuketakada/anaconda3/lib/python3.6/site-packages/ipykernel_launcher.py:133: FutureWarning: Using a non-tuple sequence for multidimensional indexing is deprecated; use `arr[tuple(seq)]` instead of `arr[seq]`. In the future this will be interpreted as an array index, `arr[np.array(seq)]`, which will result either in an error or a different result.\n",
      "/Users/daisuketakada/anaconda3/lib/python3.6/site-packages/ipykernel_launcher.py:136: FutureWarning: Using a non-tuple sequence for multidimensional indexing is deprecated; use `arr[tuple(seq)]` instead of `arr[seq]`. In the future this will be interpreted as an array index, `arr[np.array(seq)]`, which will result either in an error or a different result.\n",
      "/Users/daisuketakada/anaconda3/lib/python3.6/site-packages/ipykernel_launcher.py:139: FutureWarning: Using a non-tuple sequence for multidimensional indexing is deprecated; use `arr[tuple(seq)]` instead of `arr[seq]`. In the future this will be interpreted as an array index, `arr[np.array(seq)]`, which will result either in an error or a different result.\n",
      "/Users/daisuketakada/anaconda3/lib/python3.6/site-packages/ipykernel_launcher.py:142: FutureWarning: Using a non-tuple sequence for multidimensional indexing is deprecated; use `arr[tuple(seq)]` instead of `arr[seq]`. In the future this will be interpreted as an array index, `arr[np.array(seq)]`, which will result either in an error or a different result.\n",
      "/Users/daisuketakada/anaconda3/lib/python3.6/site-packages/ipykernel_launcher.py:145: FutureWarning: Using a non-tuple sequence for multidimensional indexing is deprecated; use `arr[tuple(seq)]` instead of `arr[seq]`. In the future this will be interpreted as an array index, `arr[np.array(seq)]`, which will result either in an error or a different result.\n",
      "/Users/daisuketakada/anaconda3/lib/python3.6/site-packages/ipykernel_launcher.py:148: FutureWarning: Using a non-tuple sequence for multidimensional indexing is deprecated; use `arr[tuple(seq)]` instead of `arr[seq]`. In the future this will be interpreted as an array index, `arr[np.array(seq)]`, which will result either in an error or a different result.\n",
      "/Users/daisuketakada/anaconda3/lib/python3.6/site-packages/ipykernel_launcher.py:151: FutureWarning: Using a non-tuple sequence for multidimensional indexing is deprecated; use `arr[tuple(seq)]` instead of `arr[seq]`. In the future this will be interpreted as an array index, `arr[np.array(seq)]`, which will result either in an error or a different result.\n",
      "/Users/daisuketakada/anaconda3/lib/python3.6/site-packages/ipykernel_launcher.py:154: FutureWarning: Using a non-tuple sequence for multidimensional indexing is deprecated; use `arr[tuple(seq)]` instead of `arr[seq]`. In the future this will be interpreted as an array index, `arr[np.array(seq)]`, which will result either in an error or a different result.\n",
      "/Users/daisuketakada/anaconda3/lib/python3.6/site-packages/ipykernel_launcher.py:157: FutureWarning: Using a non-tuple sequence for multidimensional indexing is deprecated; use `arr[tuple(seq)]` instead of `arr[seq]`. In the future this will be interpreted as an array index, `arr[np.array(seq)]`, which will result either in an error or a different result.\n",
      "/Users/daisuketakada/anaconda3/lib/python3.6/site-packages/ipykernel_launcher.py:160: FutureWarning: Using a non-tuple sequence for multidimensional indexing is deprecated; use `arr[tuple(seq)]` instead of `arr[seq]`. In the future this will be interpreted as an array index, `arr[np.array(seq)]`, which will result either in an error or a different result.\n",
      "/Users/daisuketakada/anaconda3/lib/python3.6/site-packages/ipykernel_launcher.py:163: FutureWarning: Using a non-tuple sequence for multidimensional indexing is deprecated; use `arr[tuple(seq)]` instead of `arr[seq]`. In the future this will be interpreted as an array index, `arr[np.array(seq)]`, which will result either in an error or a different result.\n",
      "/Users/daisuketakada/anaconda3/lib/python3.6/site-packages/ipykernel_launcher.py:166: FutureWarning: Using a non-tuple sequence for multidimensional indexing is deprecated; use `arr[tuple(seq)]` instead of `arr[seq]`. In the future this will be interpreted as an array index, `arr[np.array(seq)]`, which will result either in an error or a different result.\n",
      "/Users/daisuketakada/anaconda3/lib/python3.6/site-packages/ipykernel_launcher.py:169: FutureWarning: Using a non-tuple sequence for multidimensional indexing is deprecated; use `arr[tuple(seq)]` instead of `arr[seq]`. In the future this will be interpreted as an array index, `arr[np.array(seq)]`, which will result either in an error or a different result.\n",
      "/Users/daisuketakada/anaconda3/lib/python3.6/site-packages/ipykernel_launcher.py:172: FutureWarning: Using a non-tuple sequence for multidimensional indexing is deprecated; use `arr[tuple(seq)]` instead of `arr[seq]`. In the future this will be interpreted as an array index, `arr[np.array(seq)]`, which will result either in an error or a different result.\n",
      "/Users/daisuketakada/anaconda3/lib/python3.6/site-packages/ipykernel_launcher.py:175: FutureWarning: Using a non-tuple sequence for multidimensional indexing is deprecated; use `arr[tuple(seq)]` instead of `arr[seq]`. In the future this will be interpreted as an array index, `arr[np.array(seq)]`, which will result either in an error or a different result.\n",
      "/Users/daisuketakada/anaconda3/lib/python3.6/site-packages/ipykernel_launcher.py:178: FutureWarning: Using a non-tuple sequence for multidimensional indexing is deprecated; use `arr[tuple(seq)]` instead of `arr[seq]`. In the future this will be interpreted as an array index, `arr[np.array(seq)]`, which will result either in an error or a different result.\n",
      "/Users/daisuketakada/anaconda3/lib/python3.6/site-packages/ipykernel_launcher.py:181: FutureWarning: Using a non-tuple sequence for multidimensional indexing is deprecated; use `arr[tuple(seq)]` instead of `arr[seq]`. In the future this will be interpreted as an array index, `arr[np.array(seq)]`, which will result either in an error or a different result.\n",
      "/Users/daisuketakada/anaconda3/lib/python3.6/site-packages/ipykernel_launcher.py:184: FutureWarning: Using a non-tuple sequence for multidimensional indexing is deprecated; use `arr[tuple(seq)]` instead of `arr[seq]`. In the future this will be interpreted as an array index, `arr[np.array(seq)]`, which will result either in an error or a different result.\n",
      "/Users/daisuketakada/anaconda3/lib/python3.6/site-packages/ipykernel_launcher.py:187: FutureWarning: Using a non-tuple sequence for multidimensional indexing is deprecated; use `arr[tuple(seq)]` instead of `arr[seq]`. In the future this will be interpreted as an array index, `arr[np.array(seq)]`, which will result either in an error or a different result.\n",
      "/Users/daisuketakada/anaconda3/lib/python3.6/site-packages/ipykernel_launcher.py:190: FutureWarning: Using a non-tuple sequence for multidimensional indexing is deprecated; use `arr[tuple(seq)]` instead of `arr[seq]`. In the future this will be interpreted as an array index, `arr[np.array(seq)]`, which will result either in an error or a different result.\n",
      "/Users/daisuketakada/anaconda3/lib/python3.6/site-packages/ipykernel_launcher.py:193: FutureWarning: Using a non-tuple sequence for multidimensional indexing is deprecated; use `arr[tuple(seq)]` instead of `arr[seq]`. In the future this will be interpreted as an array index, `arr[np.array(seq)]`, which will result either in an error or a different result.\n",
      "/Users/daisuketakada/anaconda3/lib/python3.6/site-packages/ipykernel_launcher.py:196: FutureWarning: Using a non-tuple sequence for multidimensional indexing is deprecated; use `arr[tuple(seq)]` instead of `arr[seq]`. In the future this will be interpreted as an array index, `arr[np.array(seq)]`, which will result either in an error or a different result.\n",
      "/Users/daisuketakada/anaconda3/lib/python3.6/site-packages/ipykernel_launcher.py:199: FutureWarning: Using a non-tuple sequence for multidimensional indexing is deprecated; use `arr[tuple(seq)]` instead of `arr[seq]`. In the future this will be interpreted as an array index, `arr[np.array(seq)]`, which will result either in an error or a different result.\n",
      "/Users/daisuketakada/anaconda3/lib/python3.6/site-packages/ipykernel_launcher.py:202: FutureWarning: Using a non-tuple sequence for multidimensional indexing is deprecated; use `arr[tuple(seq)]` instead of `arr[seq]`. In the future this will be interpreted as an array index, `arr[np.array(seq)]`, which will result either in an error or a different result.\n",
      "/Users/daisuketakada/anaconda3/lib/python3.6/site-packages/ipykernel_launcher.py:205: FutureWarning: Using a non-tuple sequence for multidimensional indexing is deprecated; use `arr[tuple(seq)]` instead of `arr[seq]`. In the future this will be interpreted as an array index, `arr[np.array(seq)]`, which will result either in an error or a different result.\n",
      "/Users/daisuketakada/anaconda3/lib/python3.6/site-packages/ipykernel_launcher.py:208: FutureWarning: Using a non-tuple sequence for multidimensional indexing is deprecated; use `arr[tuple(seq)]` instead of `arr[seq]`. In the future this will be interpreted as an array index, `arr[np.array(seq)]`, which will result either in an error or a different result.\n",
      "/Users/daisuketakada/anaconda3/lib/python3.6/site-packages/ipykernel_launcher.py:211: FutureWarning: Using a non-tuple sequence for multidimensional indexing is deprecated; use `arr[tuple(seq)]` instead of `arr[seq]`. In the future this will be interpreted as an array index, `arr[np.array(seq)]`, which will result either in an error or a different result.\n",
      "/Users/daisuketakada/anaconda3/lib/python3.6/site-packages/ipykernel_launcher.py:214: FutureWarning: Using a non-tuple sequence for multidimensional indexing is deprecated; use `arr[tuple(seq)]` instead of `arr[seq]`. In the future this will be interpreted as an array index, `arr[np.array(seq)]`, which will result either in an error or a different result.\n",
      "/Users/daisuketakada/anaconda3/lib/python3.6/site-packages/ipykernel_launcher.py:217: FutureWarning: Using a non-tuple sequence for multidimensional indexing is deprecated; use `arr[tuple(seq)]` instead of `arr[seq]`. In the future this will be interpreted as an array index, `arr[np.array(seq)]`, which will result either in an error or a different result.\n",
      "/Users/daisuketakada/anaconda3/lib/python3.6/site-packages/ipykernel_launcher.py:220: FutureWarning: Using a non-tuple sequence for multidimensional indexing is deprecated; use `arr[tuple(seq)]` instead of `arr[seq]`. In the future this will be interpreted as an array index, `arr[np.array(seq)]`, which will result either in an error or a different result.\n",
      "/Users/daisuketakada/anaconda3/lib/python3.6/site-packages/ipykernel_launcher.py:223: FutureWarning: Using a non-tuple sequence for multidimensional indexing is deprecated; use `arr[tuple(seq)]` instead of `arr[seq]`. In the future this will be interpreted as an array index, `arr[np.array(seq)]`, which will result either in an error or a different result.\n",
      "/Users/daisuketakada/anaconda3/lib/python3.6/site-packages/ipykernel_launcher.py:226: FutureWarning: Using a non-tuple sequence for multidimensional indexing is deprecated; use `arr[tuple(seq)]` instead of `arr[seq]`. In the future this will be interpreted as an array index, `arr[np.array(seq)]`, which will result either in an error or a different result.\n",
      "/Users/daisuketakada/anaconda3/lib/python3.6/site-packages/ipykernel_launcher.py:229: FutureWarning: Using a non-tuple sequence for multidimensional indexing is deprecated; use `arr[tuple(seq)]` instead of `arr[seq]`. In the future this will be interpreted as an array index, `arr[np.array(seq)]`, which will result either in an error or a different result.\n",
      "/Users/daisuketakada/anaconda3/lib/python3.6/site-packages/ipykernel_launcher.py:232: FutureWarning: Using a non-tuple sequence for multidimensional indexing is deprecated; use `arr[tuple(seq)]` instead of `arr[seq]`. In the future this will be interpreted as an array index, `arr[np.array(seq)]`, which will result either in an error or a different result.\n",
      "/Users/daisuketakada/anaconda3/lib/python3.6/site-packages/ipykernel_launcher.py:235: FutureWarning: Using a non-tuple sequence for multidimensional indexing is deprecated; use `arr[tuple(seq)]` instead of `arr[seq]`. In the future this will be interpreted as an array index, `arr[np.array(seq)]`, which will result either in an error or a different result.\n",
      "/Users/daisuketakada/anaconda3/lib/python3.6/site-packages/ipykernel_launcher.py:238: FutureWarning: Using a non-tuple sequence for multidimensional indexing is deprecated; use `arr[tuple(seq)]` instead of `arr[seq]`. In the future this will be interpreted as an array index, `arr[np.array(seq)]`, which will result either in an error or a different result.\n",
      "/Users/daisuketakada/anaconda3/lib/python3.6/site-packages/ipykernel_launcher.py:241: FutureWarning: Using a non-tuple sequence for multidimensional indexing is deprecated; use `arr[tuple(seq)]` instead of `arr[seq]`. In the future this will be interpreted as an array index, `arr[np.array(seq)]`, which will result either in an error or a different result.\n",
      "/Users/daisuketakada/anaconda3/lib/python3.6/site-packages/ipykernel_launcher.py:244: FutureWarning: Using a non-tuple sequence for multidimensional indexing is deprecated; use `arr[tuple(seq)]` instead of `arr[seq]`. In the future this will be interpreted as an array index, `arr[np.array(seq)]`, which will result either in an error or a different result.\n",
      "/Users/daisuketakada/anaconda3/lib/python3.6/site-packages/ipykernel_launcher.py:247: FutureWarning: Using a non-tuple sequence for multidimensional indexing is deprecated; use `arr[tuple(seq)]` instead of `arr[seq]`. In the future this will be interpreted as an array index, `arr[np.array(seq)]`, which will result either in an error or a different result.\n",
      "/Users/daisuketakada/anaconda3/lib/python3.6/site-packages/ipykernel_launcher.py:250: FutureWarning: Using a non-tuple sequence for multidimensional indexing is deprecated; use `arr[tuple(seq)]` instead of `arr[seq]`. In the future this will be interpreted as an array index, `arr[np.array(seq)]`, which will result either in an error or a different result.\n",
      "/Users/daisuketakada/anaconda3/lib/python3.6/site-packages/ipykernel_launcher.py:253: FutureWarning: Using a non-tuple sequence for multidimensional indexing is deprecated; use `arr[tuple(seq)]` instead of `arr[seq]`. In the future this will be interpreted as an array index, `arr[np.array(seq)]`, which will result either in an error or a different result.\n",
      "/Users/daisuketakada/anaconda3/lib/python3.6/site-packages/ipykernel_launcher.py:256: FutureWarning: Using a non-tuple sequence for multidimensional indexing is deprecated; use `arr[tuple(seq)]` instead of `arr[seq]`. In the future this will be interpreted as an array index, `arr[np.array(seq)]`, which will result either in an error or a different result.\n",
      "/Users/daisuketakada/anaconda3/lib/python3.6/site-packages/ipykernel_launcher.py:259: FutureWarning: Using a non-tuple sequence for multidimensional indexing is deprecated; use `arr[tuple(seq)]` instead of `arr[seq]`. In the future this will be interpreted as an array index, `arr[np.array(seq)]`, which will result either in an error or a different result.\n",
      "/Users/daisuketakada/anaconda3/lib/python3.6/site-packages/ipykernel_launcher.py:262: FutureWarning: Using a non-tuple sequence for multidimensional indexing is deprecated; use `arr[tuple(seq)]` instead of `arr[seq]`. In the future this will be interpreted as an array index, `arr[np.array(seq)]`, which will result either in an error or a different result.\n",
      "/Users/daisuketakada/anaconda3/lib/python3.6/site-packages/ipykernel_launcher.py:265: FutureWarning: Using a non-tuple sequence for multidimensional indexing is deprecated; use `arr[tuple(seq)]` instead of `arr[seq]`. In the future this will be interpreted as an array index, `arr[np.array(seq)]`, which will result either in an error or a different result.\n",
      "/Users/daisuketakada/anaconda3/lib/python3.6/site-packages/ipykernel_launcher.py:268: FutureWarning: Using a non-tuple sequence for multidimensional indexing is deprecated; use `arr[tuple(seq)]` instead of `arr[seq]`. In the future this will be interpreted as an array index, `arr[np.array(seq)]`, which will result either in an error or a different result.\n",
      "/Users/daisuketakada/anaconda3/lib/python3.6/site-packages/ipykernel_launcher.py:271: FutureWarning: Using a non-tuple sequence for multidimensional indexing is deprecated; use `arr[tuple(seq)]` instead of `arr[seq]`. In the future this will be interpreted as an array index, `arr[np.array(seq)]`, which will result either in an error or a different result.\n",
      "/Users/daisuketakada/anaconda3/lib/python3.6/site-packages/ipykernel_launcher.py:274: FutureWarning: Using a non-tuple sequence for multidimensional indexing is deprecated; use `arr[tuple(seq)]` instead of `arr[seq]`. In the future this will be interpreted as an array index, `arr[np.array(seq)]`, which will result either in an error or a different result.\n",
      "/Users/daisuketakada/anaconda3/lib/python3.6/site-packages/ipykernel_launcher.py:277: FutureWarning: Using a non-tuple sequence for multidimensional indexing is deprecated; use `arr[tuple(seq)]` instead of `arr[seq]`. In the future this will be interpreted as an array index, `arr[np.array(seq)]`, which will result either in an error or a different result.\n",
      "/Users/daisuketakada/anaconda3/lib/python3.6/site-packages/ipykernel_launcher.py:280: FutureWarning: Using a non-tuple sequence for multidimensional indexing is deprecated; use `arr[tuple(seq)]` instead of `arr[seq]`. In the future this will be interpreted as an array index, `arr[np.array(seq)]`, which will result either in an error or a different result.\n",
      "/Users/daisuketakada/anaconda3/lib/python3.6/site-packages/ipykernel_launcher.py:283: FutureWarning: Using a non-tuple sequence for multidimensional indexing is deprecated; use `arr[tuple(seq)]` instead of `arr[seq]`. In the future this will be interpreted as an array index, `arr[np.array(seq)]`, which will result either in an error or a different result.\n",
      "/Users/daisuketakada/anaconda3/lib/python3.6/site-packages/ipykernel_launcher.py:286: FutureWarning: Using a non-tuple sequence for multidimensional indexing is deprecated; use `arr[tuple(seq)]` instead of `arr[seq]`. In the future this will be interpreted as an array index, `arr[np.array(seq)]`, which will result either in an error or a different result.\n",
      "/Users/daisuketakada/anaconda3/lib/python3.6/site-packages/ipykernel_launcher.py:289: FutureWarning: Using a non-tuple sequence for multidimensional indexing is deprecated; use `arr[tuple(seq)]` instead of `arr[seq]`. In the future this will be interpreted as an array index, `arr[np.array(seq)]`, which will result either in an error or a different result.\n",
      "/Users/daisuketakada/anaconda3/lib/python3.6/site-packages/ipykernel_launcher.py:292: FutureWarning: Using a non-tuple sequence for multidimensional indexing is deprecated; use `arr[tuple(seq)]` instead of `arr[seq]`. In the future this will be interpreted as an array index, `arr[np.array(seq)]`, which will result either in an error or a different result.\n",
      "/Users/daisuketakada/anaconda3/lib/python3.6/site-packages/ipykernel_launcher.py:295: FutureWarning: Using a non-tuple sequence for multidimensional indexing is deprecated; use `arr[tuple(seq)]` instead of `arr[seq]`. In the future this will be interpreted as an array index, `arr[np.array(seq)]`, which will result either in an error or a different result.\n",
      "/Users/daisuketakada/anaconda3/lib/python3.6/site-packages/ipykernel_launcher.py:298: FutureWarning: Using a non-tuple sequence for multidimensional indexing is deprecated; use `arr[tuple(seq)]` instead of `arr[seq]`. In the future this will be interpreted as an array index, `arr[np.array(seq)]`, which will result either in an error or a different result.\n",
      "/Users/daisuketakada/anaconda3/lib/python3.6/site-packages/ipykernel_launcher.py:301: FutureWarning: Using a non-tuple sequence for multidimensional indexing is deprecated; use `arr[tuple(seq)]` instead of `arr[seq]`. In the future this will be interpreted as an array index, `arr[np.array(seq)]`, which will result either in an error or a different result.\n"
     ]
    },
    {
     "data": {
      "text/plain": [
       "[69.54752525703925,\n",
       " 72.8504473368533,\n",
       " 70.59995613101216,\n",
       " 70.07566041872633,\n",
       " 71.45414296043889,\n",
       " 69.22677969468803,\n",
       " 71.29109946465141,\n",
       " 69.11632820120289,\n",
       " 70.37743728016359,\n",
       " 70.68188396766027,\n",
       " 69.61022502922333,\n",
       " 69.82547228683126,\n",
       " 68.23571282083057,\n",
       " 69.8149864334048,\n",
       " 69.6583495343208,\n",
       " 70.01869709342198,\n",
       " 69.46752847655267,\n",
       " 70.9527058075144,\n",
       " 70.27067103998058,\n",
       " 70.91458711791121,\n",
       " 69.49937011094482,\n",
       " 70.64156744573434,\n",
       " 69.35589966301019,\n",
       " 70.38563844955381,\n",
       " 69.8257258496988,\n",
       " 71.98365090846306,\n",
       " 69.87985345533458,\n",
       " 70.26992931928714,\n",
       " 70.25884285063248,\n",
       " 70.3084298317944,\n",
       " 69.29020646797886,\n",
       " 67.28141795516785,\n",
       " 69.61415022873676,\n",
       " 69.4886787954799,\n",
       " 72.17034069854073,\n",
       " 69.81277776689174,\n",
       " 69.19403485740459,\n",
       " 70.48352685286781,\n",
       " 71.37200049211042,\n",
       " 70.31834815179464,\n",
       " 70.28657346036627,\n",
       " 71.06339667833291,\n",
       " 69.18936163887962,\n",
       " 71.13813444192114,\n",
       " 70.57323537671367,\n",
       " 71.29150644667136,\n",
       " 69.50209333338695,\n",
       " 70.73359287409491,\n",
       " 70.59220932694691,\n",
       " 68.3764446664833,\n",
       " 68.80619718693866,\n",
       " 69.48863993485399,\n",
       " 69.24193889980363,\n",
       " 70.29906832178754,\n",
       " 70.65266866245007,\n",
       " 70.42217280620476,\n",
       " 69.94263314114875,\n",
       " 70.10288246370652,\n",
       " 69.9308108587401,\n",
       " 68.87013645354402,\n",
       " 70.25361868172881,\n",
       " 72.36246209745752,\n",
       " 68.48025560360921,\n",
       " 70.69614416078598,\n",
       " 70.26352963890044,\n",
       " 69.30925213950384,\n",
       " 69.83342858988416,\n",
       " 70.75029363933064,\n",
       " 71.50668544550666,\n",
       " 69.8651543662436,\n",
       " 71.03183673204163,\n",
       " 67.73137194735168,\n",
       " 70.66245689390834,\n",
       " 71.09640353377416,\n",
       " 70.65597739227692,\n",
       " 69.65597157928394,\n",
       " 72.65020542392544,\n",
       " 70.49424239866404,\n",
       " 72.14304921070325,\n",
       " 71.05705382946327,\n",
       " 69.32830920584614,\n",
       " 70.58941305979197,\n",
       " 69.09852992318956,\n",
       " 69.92065417642938,\n",
       " 69.6065178584254,\n",
       " 69.89756384430694,\n",
       " 70.3209710772205,\n",
       " 70.3654451632014,\n",
       " 69.2334629823812,\n",
       " 71.0641018014062,\n",
       " 69.81802749634794,\n",
       " 69.53940870455975,\n",
       " 69.4786479578388,\n",
       " 71.2737621962598,\n",
       " 68.76046877068475,\n",
       " 70.07642348819469,\n",
       " 70.56605547479143,\n",
       " 70.00873177480663,\n",
       " 71.32486400544704,\n",
       " 70.88184863189512]"
      ]
     },
     "execution_count": 52,
     "metadata": {},
     "output_type": "execute_result"
    }
   ],
   "source": [
    "total_2=[]\n",
    "\n",
    "sampleID = ([np.random.randint(0,10000,200)])\n",
    "total_2.append(targetpopulation[sampleID].mean())\n",
    "\n",
    "sampleID = ([np.random.randint(0,10000,200)])\n",
    "total_2.append(targetpopulation[sampleID].mean())\n",
    "\n",
    "sampleID = ([np.random.randint(0,10000,200)])\n",
    "total_2.append(targetpopulation[sampleID].mean())\n",
    "\n",
    "sampleID = ([np.random.randint(0,10000,200)])\n",
    "total_2.append(targetpopulation[sampleID].mean())\n",
    "\n",
    "sampleID = ([np.random.randint(0,10000,200)])\n",
    "total_2.append(targetpopulation[sampleID].mean())\n",
    "\n",
    "sampleID = ([np.random.randint(0,10000,200)])\n",
    "total_2.append(targetpopulation[sampleID].mean())\n",
    "\n",
    "sampleID = ([np.random.randint(0,10000,200)])\n",
    "total_2.append(targetpopulation[sampleID].mean())\n",
    "\n",
    "sampleID = ([np.random.randint(0,10000,200)])\n",
    "total_2.append(targetpopulation[sampleID].mean())\n",
    "\n",
    "sampleID = ([np.random.randint(0,10000,200)])\n",
    "total_2.append(targetpopulation[sampleID].mean())\n",
    "\n",
    "sampleID = ([np.random.randint(0,10000,200)])\n",
    "total_2.append(targetpopulation[sampleID].mean())\n",
    "\n",
    "sampleID = ([np.random.randint(0,10000,200)])\n",
    "total_2.append(targetpopulation[sampleID].mean())\n",
    "\n",
    "sampleID = ([np.random.randint(0,10000,200)])\n",
    "total_2.append(targetpopulation[sampleID].mean())\n",
    "\n",
    "sampleID = ([np.random.randint(0,10000,200)])\n",
    "total_2.append(targetpopulation[sampleID].mean())\n",
    "\n",
    "sampleID = ([np.random.randint(0,10000,200)])\n",
    "total_2.append(targetpopulation[sampleID].mean())\n",
    "\n",
    "sampleID = ([np.random.randint(0,10000,200)])\n",
    "total_2.append(targetpopulation[sampleID].mean())\n",
    "\n",
    "sampleID = ([np.random.randint(0,10000,200)])\n",
    "total_2.append(targetpopulation[sampleID].mean())\n",
    "\n",
    "sampleID = ([np.random.randint(0,10000,200)])\n",
    "total_2.append(targetpopulation[sampleID].mean())\n",
    "\n",
    "sampleID = ([np.random.randint(0,10000,200)])\n",
    "total_2.append(targetpopulation[sampleID].mean())\n",
    "\n",
    "sampleID = ([np.random.randint(0,10000,200)])\n",
    "total_2.append(targetpopulation[sampleID].mean())\n",
    "\n",
    "sampleID = ([np.random.randint(0,10000,200)])\n",
    "total_2.append(targetpopulation[sampleID].mean())\n",
    "\n",
    "sampleID = ([np.random.randint(0,10000,200)])\n",
    "total_2.append(targetpopulation[sampleID].mean())\n",
    "\n",
    "sampleID = ([np.random.randint(0,10000,200)])\n",
    "total_2.append(targetpopulation[sampleID].mean())\n",
    "\n",
    "sampleID = ([np.random.randint(0,10000,200)])\n",
    "total_2.append(targetpopulation[sampleID].mean())\n",
    "\n",
    "sampleID = ([np.random.randint(0,10000,200)])\n",
    "total_2.append(targetpopulation[sampleID].mean())\n",
    "\n",
    "sampleID = ([np.random.randint(0,10000,200)])\n",
    "total_2.append(targetpopulation[sampleID].mean())\n",
    "\n",
    "sampleID = ([np.random.randint(0,10000,200)])\n",
    "total_2.append(targetpopulation[sampleID].mean())\n",
    "\n",
    "sampleID = ([np.random.randint(0,10000,200)])\n",
    "total_2.append(targetpopulation[sampleID].mean())\n",
    "\n",
    "sampleID = ([np.random.randint(0,10000,200)])\n",
    "total_2.append(targetpopulation[sampleID].mean())\n",
    "\n",
    "sampleID = ([np.random.randint(0,10000,200)])\n",
    "total_2.append(targetpopulation[sampleID].mean())\n",
    "\n",
    "sampleID = ([np.random.randint(0,10000,200)])\n",
    "total_2.append(targetpopulation[sampleID].mean())\n",
    "\n",
    "sampleID = ([np.random.randint(0,10000,200)])\n",
    "total_2.append(targetpopulation[sampleID].mean())\n",
    "\n",
    "sampleID = ([np.random.randint(0,10000,200)])\n",
    "total_2.append(targetpopulation[sampleID].mean())\n",
    "\n",
    "sampleID = ([np.random.randint(0,10000,200)])\n",
    "total_2.append(targetpopulation[sampleID].mean())\n",
    "\n",
    "sampleID = ([np.random.randint(0,10000,200)])\n",
    "total_2.append(targetpopulation[sampleID].mean())\n",
    "\n",
    "sampleID = ([np.random.randint(0,10000,200)])\n",
    "total_2.append(targetpopulation[sampleID].mean())\n",
    "\n",
    "sampleID = ([np.random.randint(0,10000,200)])\n",
    "total_2.append(targetpopulation[sampleID].mean())\n",
    "\n",
    "sampleID = ([np.random.randint(0,10000,200)])\n",
    "total_2.append(targetpopulation[sampleID].mean())\n",
    "\n",
    "sampleID = ([np.random.randint(0,10000,200)])\n",
    "total_2.append(targetpopulation[sampleID].mean())\n",
    "\n",
    "sampleID = ([np.random.randint(0,10000,200)])\n",
    "total_2.append(targetpopulation[sampleID].mean())\n",
    "\n",
    "sampleID = ([np.random.randint(0,10000,200)])\n",
    "total_2.append(targetpopulation[sampleID].mean())\n",
    "\n",
    "sampleID = ([np.random.randint(0,10000,200)])\n",
    "total_2.append(targetpopulation[sampleID].mean())\n",
    "\n",
    "sampleID = ([np.random.randint(0,10000,200)])\n",
    "total_2.append(targetpopulation[sampleID].mean())\n",
    "\n",
    "sampleID = ([np.random.randint(0,10000,200)])\n",
    "total_2.append(targetpopulation[sampleID].mean())\n",
    "\n",
    "sampleID = ([np.random.randint(0,10000,200)])\n",
    "total_2.append(targetpopulation[sampleID].mean())\n",
    "\n",
    "sampleID = ([np.random.randint(0,10000,200)])\n",
    "total_2.append(targetpopulation[sampleID].mean())\n",
    "\n",
    "sampleID = ([np.random.randint(0,10000,200)])\n",
    "total_2.append(targetpopulation[sampleID].mean())\n",
    "\n",
    "sampleID = ([np.random.randint(0,10000,200)])\n",
    "total_2.append(targetpopulation[sampleID].mean())\n",
    "\n",
    "sampleID = ([np.random.randint(0,10000,200)])\n",
    "total_2.append(targetpopulation[sampleID].mean())\n",
    "\n",
    "sampleID = ([np.random.randint(0,10000,200)])\n",
    "total_2.append(targetpopulation[sampleID].mean())\n",
    "\n",
    "sampleID = ([np.random.randint(0,10000,200)])\n",
    "total_2.append(targetpopulation[sampleID].mean())\n",
    "\n",
    "sampleID = ([np.random.randint(0,10000,200)])\n",
    "total_2.append(targetpopulation[sampleID].mean())\n",
    "\n",
    "sampleID = ([np.random.randint(0,10000,200)])\n",
    "total_2.append(targetpopulation[sampleID].mean())\n",
    "\n",
    "sampleID = ([np.random.randint(0,10000,200)])\n",
    "total_2.append(targetpopulation[sampleID].mean())\n",
    "\n",
    "sampleID = ([np.random.randint(0,10000,200)])\n",
    "total_2.append(targetpopulation[sampleID].mean())\n",
    "\n",
    "sampleID = ([np.random.randint(0,10000,200)])\n",
    "total_2.append(targetpopulation[sampleID].mean())\n",
    "\n",
    "sampleID = ([np.random.randint(0,10000,200)])\n",
    "total_2.append(targetpopulation[sampleID].mean())\n",
    "\n",
    "sampleID = ([np.random.randint(0,10000,200)])\n",
    "total_2.append(targetpopulation[sampleID].mean())\n",
    "\n",
    "sampleID = ([np.random.randint(0,10000,200)])\n",
    "total_2.append(targetpopulation[sampleID].mean())\n",
    "\n",
    "sampleID = ([np.random.randint(0,10000,200)])\n",
    "total_2.append(targetpopulation[sampleID].mean())\n",
    "\n",
    "sampleID = ([np.random.randint(0,10000,200)])\n",
    "total_2.append(targetpopulation[sampleID].mean())\n",
    "\n",
    "sampleID = ([np.random.randint(0,10000,200)])\n",
    "total_2.append(targetpopulation[sampleID].mean())\n",
    "\n",
    "sampleID = ([np.random.randint(0,10000,200)])\n",
    "total_2.append(targetpopulation[sampleID].mean())\n",
    "\n",
    "sampleID = ([np.random.randint(0,10000,200)])\n",
    "total_2.append(targetpopulation[sampleID].mean())\n",
    "\n",
    "sampleID = ([np.random.randint(0,10000,200)])\n",
    "total_2.append(targetpopulation[sampleID].mean())\n",
    "\n",
    "sampleID = ([np.random.randint(0,10000,200)])\n",
    "total_2.append(targetpopulation[sampleID].mean())\n",
    "\n",
    "sampleID = ([np.random.randint(0,10000,200)])\n",
    "total_2.append(targetpopulation[sampleID].mean())\n",
    "\n",
    "sampleID = ([np.random.randint(0,10000,200)])\n",
    "total_2.append(targetpopulation[sampleID].mean())\n",
    "\n",
    "sampleID = ([np.random.randint(0,10000,200)])\n",
    "total_2.append(targetpopulation[sampleID].mean())\n",
    "\n",
    "sampleID = ([np.random.randint(0,10000,200)])\n",
    "total_2.append(targetpopulation[sampleID].mean())\n",
    "\n",
    "sampleID = ([np.random.randint(0,10000,200)])\n",
    "total_2.append(targetpopulation[sampleID].mean())\n",
    "\n",
    "sampleID = ([np.random.randint(0,10000,200)])\n",
    "total_2.append(targetpopulation[sampleID].mean())\n",
    "\n",
    "sampleID = ([np.random.randint(0,10000,200)])\n",
    "total_2.append(targetpopulation[sampleID].mean())\n",
    "\n",
    "sampleID = ([np.random.randint(0,10000,200)])\n",
    "total_2.append(targetpopulation[sampleID].mean())\n",
    "\n",
    "sampleID = ([np.random.randint(0,10000,200)])\n",
    "total_2.append(targetpopulation[sampleID].mean())\n",
    "\n",
    "sampleID = ([np.random.randint(0,10000,200)])\n",
    "total_2.append(targetpopulation[sampleID].mean())\n",
    "\n",
    "sampleID = ([np.random.randint(0,10000,200)])\n",
    "total_2.append(targetpopulation[sampleID].mean())\n",
    "\n",
    "sampleID = ([np.random.randint(0,10000,200)])\n",
    "total_2.append(targetpopulation[sampleID].mean())\n",
    "\n",
    "sampleID = ([np.random.randint(0,10000,200)])\n",
    "total_2.append(targetpopulation[sampleID].mean())\n",
    "\n",
    "sampleID = ([np.random.randint(0,10000,200)])\n",
    "total_2.append(targetpopulation[sampleID].mean())\n",
    "\n",
    "sampleID = ([np.random.randint(0,10000,200)])\n",
    "total_2.append(targetpopulation[sampleID].mean())\n",
    "\n",
    "sampleID = ([np.random.randint(0,10000,200)])\n",
    "total_2.append(targetpopulation[sampleID].mean())\n",
    "\n",
    "sampleID = ([np.random.randint(0,10000,200)])\n",
    "total_2.append(targetpopulation[sampleID].mean())\n",
    "\n",
    "sampleID = ([np.random.randint(0,10000,200)])\n",
    "total_2.append(targetpopulation[sampleID].mean())\n",
    "\n",
    "sampleID = ([np.random.randint(0,10000,200)])\n",
    "total_2.append(targetpopulation[sampleID].mean())\n",
    "\n",
    "sampleID = ([np.random.randint(0,10000,200)])\n",
    "total_2.append(targetpopulation[sampleID].mean())\n",
    "\n",
    "sampleID = ([np.random.randint(0,10000,200)])\n",
    "total_2.append(targetpopulation[sampleID].mean())\n",
    "\n",
    "sampleID = ([np.random.randint(0,10000,200)])\n",
    "total_2.append(targetpopulation[sampleID].mean())\n",
    "\n",
    "sampleID = ([np.random.randint(0,10000,200)])\n",
    "total_2.append(targetpopulation[sampleID].mean())\n",
    "\n",
    "sampleID = ([np.random.randint(0,10000,200)])\n",
    "total_2.append(targetpopulation[sampleID].mean())\n",
    "\n",
    "sampleID = ([np.random.randint(0,10000,200)])\n",
    "total_2.append(targetpopulation[sampleID].mean())\n",
    "\n",
    "sampleID = ([np.random.randint(0,10000,200)])\n",
    "total_2.append(targetpopulation[sampleID].mean())\n",
    "\n",
    "sampleID = ([np.random.randint(0,10000,200)])\n",
    "total_2.append(targetpopulation[sampleID].mean())\n",
    "\n",
    "sampleID = ([np.random.randint(0,10000,200)])\n",
    "total_2.append(targetpopulation[sampleID].mean())\n",
    "\n",
    "sampleID = ([np.random.randint(0,10000,200)])\n",
    "total_2.append(targetpopulation[sampleID].mean())\n",
    "\n",
    "sampleID = ([np.random.randint(0,10000,200)])\n",
    "total_2.append(targetpopulation[sampleID].mean())\n",
    "\n",
    "sampleID = ([np.random.randint(0,10000,200)])\n",
    "total_2.append(targetpopulation[sampleID].mean())\n",
    "\n",
    "sampleID = ([np.random.randint(0,10000,200)])\n",
    "total_2.append(targetpopulation[sampleID].mean())\n",
    "\n",
    "sampleID = ([np.random.randint(0,10000,200)])\n",
    "total_2.append(targetpopulation[sampleID].mean())\n",
    "\n",
    "sampleID = ([np.random.randint(0,10000,200)])\n",
    "total_2.append(targetpopulation[sampleID].mean())\n",
    "\n",
    "sampleID = ([np.random.randint(0,10000,200)])\n",
    "total_2.append(targetpopulation[sampleID].mean())\n",
    "\n",
    "total_2"
   ]
  },
  {
   "cell_type": "code",
   "execution_count": 53,
   "metadata": {},
   "outputs": [
    {
     "data": {
      "text/plain": [
       "100"
      ]
     },
     "execution_count": 53,
     "metadata": {},
     "output_type": "execute_result"
    }
   ],
   "source": [
    "len(total_2)"
   ]
  },
  {
   "cell_type": "code",
   "execution_count": 55,
   "metadata": {},
   "outputs": [
    {
     "data": {
      "text/plain": [
       "70.17580884374196"
      ]
     },
     "execution_count": 55,
     "metadata": {},
     "output_type": "execute_result"
    }
   ],
   "source": [
    "np.mean(total_2)"
   ]
  },
  {
   "cell_type": "code",
   "execution_count": 59,
   "metadata": {},
   "outputs": [
    {
     "data": {
      "text/plain": [
       "(array([ 2.,  2.,  4., 17., 21., 24., 17.,  7.,  3.,  3.]),\n",
       " array([67.28141796, 67.83832089, 68.39522383, 68.95212677, 69.50902971,\n",
       "        70.06593265, 70.62283558, 71.17973852, 71.73664146, 72.2935444 ,\n",
       "        72.85044734]),\n",
       " <a list of 10 Patch objects>)"
      ]
     },
     "execution_count": 59,
     "metadata": {},
     "output_type": "execute_result"
    },
    {
     "data": {
      "image/png": "[encoded data removed]",
      "text/plain": [
       "<matplotlib.figure.Figure at 0x1a1e8f2908>"
      ]
     },
     "metadata": {
      "needs_background": "light"
     },
     "output_type": "display_data"
    }
   ],
   "source": [
    "plt.hist(total_2)"
   ]
  },
  {
   "cell_type": "markdown",
   "metadata": {},
   "source": [
    "これでよしとした。"
   ]
  }
 ],
 "metadata": {
  "kernelspec": {
   "display_name": "Python 3",
   "language": "python",
   "name": "python3"
  },
  "language_info": {
   "codemirror_mode": {
    "name": "ipython",
    "version": 3
   },
   "file_extension": ".py",
   "mimetype": "text/x-python",
   "name": "python",
   "nbconvert_exporter": "python",
   "pygments_lexer": "ipython3",
   "version": "3.6.5"
  }
 },
 "nbformat": 4,
 "nbformat_minor": 2
}
