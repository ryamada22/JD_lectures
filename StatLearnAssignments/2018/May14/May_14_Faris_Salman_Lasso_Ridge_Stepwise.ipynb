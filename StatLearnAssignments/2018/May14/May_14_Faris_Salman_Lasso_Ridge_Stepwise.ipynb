{
 "cells": [
  {
   "cell_type": "markdown",
   "metadata": {},
   "source": [
    "## We discussed on three panels of beta coefficients of three methods, stepwise, Lasso and Ridge. Describe the three panels. Also write the formula for three methods and add description on them."
   ]
  },
  {
   "cell_type": "markdown",
   "metadata": {},
   "source": [
    "Ridge regression, LASSO, and stepwise regression has the aim to minimize the sum of squares by different ways. The main of the minimization for the sum of squares is described by the $argmin$ argument.\n",
    "### Ridge Regression\n",
    "The function for Ridge Regression is $\\hat{\\beta} = argmin_\\beta (||y-X \\beta||^2 + \\lambda ||\\beta||^2)$  \n",
    "with:  \n",
    "$||y-X \\beta||^2$ = sum of squares  \n",
    "$\\lambda ||\\beta||^2$ = the penalty for Ridge Regression, influenced by degree of freedom/number of parameters in the model \n",
    "### LASSO\n",
    "The function for LASSO is $\\hat{\\beta} = argmin_\\beta (||y-X \\beta||^2 + \\lambda ||\\beta||)$  \n",
    "with:  \n",
    "$||y-X \\beta||^2$ = sum of squares  \n",
    "$\\lambda ||\\beta||$ = the penalty for LASSO, influenced by degree of freedom/number of parameters in the model  \n",
    "### Stepwise Regression\n",
    "The function for Stepwise Regression is $\\hat{\\beta} =  argmin_\\beta (||y-X \\beta||^2)$  \n",
    "with:  \n",
    "$||y-X \\beta||^2$ = sum of squares  \n",
    "  \n",
    "### The Three Panels\n",
    "The panels explained the change of beta value relative to the the degree of freedom.  \n",
    "+ For the Stepwise graphic, the low degree of freedom resulted in high beta value in order to predict the result from the data. As no penalty on Stepwise Regression, the beta value selected tend to be large to minimize the sum of squares. Introducing additional parameter changes the estimated beta value. In Stepwise, the addition of parameter increased one, each step.\n",
    "+ The panel for Ridge Regression describe that this method optimizes beta value to minimize the sum of squares without selection. The beta value is regularized by $\\lambda ||\\beta||^2$. In ridge regression, the parameter with less significance for the model based on the data will have smaller beta, minimized closed to zero.\n",
    "+ LASSO panel describing a regularization, that resulted in smaller beta compared to Stepwise Regression, and selection, by minimizing the beta value down to zero. Different with Stepwise regression that change the number of parameters one by one, LASSO panel reveals that the change of degrees of freedom can be one step or more than one step at a time."
   ]
  }
 ],
 "metadata": {
  "kernelspec": {
   "display_name": "Python 2",
   "language": "python",
   "name": "python2"
  },
  "language_info": {
   "codemirror_mode": {
    "name": "ipython",
    "version": 2
   },
   "file_extension": ".py",
   "mimetype": "text/x-python",
   "name": "python",
   "nbconvert_exporter": "python",
   "pygments_lexer": "ipython2",
   "version": "2.7.14"
  }
 },
 "nbformat": 4,
 "nbformat_minor": 2
}
