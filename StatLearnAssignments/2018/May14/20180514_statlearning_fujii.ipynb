{
 "cells": [
  {
   "cell_type": "markdown",
   "metadata": {},
   "source": [
    "Today, we discussed on three panels of beta coefficients of three methods, stepwise, Lasso and Ridge. Describe the three panels.\n",
    "\n",
    "Also write the formula for three methods and add description on them.\n",
    "\n",
    "On May 21st, we will learn PCA. Check some brief document on PCA method before the discussion on PCA in the class.\n"
   ]
  },
  {
   "cell_type": "markdown",
   "metadata": {},
   "source": [
    "+ stepwise\n",
    "\n",
    "The more x axis parameter increase, the absolute value of coefficients suddenly gets from zero. Some (green dots lines) fluctuated, some (black dashed and purple solid line) crossed zero.\n",
    "\n",
    "In some x axis value, some set of coefficients were zero. The number of the zero coefficients decreased as x axis value increased.\n",
    "\n",
    "+ LASSO\n",
    "\n",
    "Most of the coefficients values were monotonically increse/decrease its value. One exception was black dots line. This coefficient also crossed zero.\n",
    "\n",
    "In some x axis value, some set of coefficients were zero. The number of the zero coefficients decreased as x axis value increased.\n",
    "\n",
    "+ Ridge\n",
    "\n",
    "All of the coefficient values started from zero and they smoothly changed their value. They did not show monotonical change. Some corssed zero.\n",
    "\n",
    "A subset of coefficients were not zero at once.\n"
   ]
  },
  {
   "cell_type": "markdown",
   "metadata": {},
   "source": [
    "The full model is\n",
    "\n",
    "$$\\begin{eqnarray}y&=&w_0+w_1 x_1+\\cdots+w_mx_m\\\\\n",
    "&=&\\underset{n\\times m}{X}\\underset{m\\times 1}{w}\\end{eqnarray}$$\n",
    "\n",
    "+ Stepwise\n",
    "\n",
    "Linear regression is minimize error function\n",
    "\n",
    "$$E(w)=\\displaystyle||y-Xw||^2$$\n",
    "\n",
    "and stepwise parameter selection reduces the number of parameters one-by-one.\n",
    "\n",
    "The full parameter set $S=\\{w_0, w_1,\\cdots,w_m\\}$ and its subset $S^{'}=\\{w_0,\\cdots,w_{i-1},w_{i+1},\\cdots,w_m\\}=S\\setminus w_i (0\\leq i \\leq m)\\subset S$.\n",
    "\n",
    "Then, estimation is performed as the full model set\n",
    "\n",
    "$$E_{S^{'}}(w)=\\|y-Xw_{S^{'}}\\|^2$$\n",
    "\n",
    "+ Shrinkage by LASSO\n",
    "\n",
    "Shrinkage method uses regularization term.\n",
    "\n",
    "$$E(w)=\\|y-Xw\\|^2-\\gamma\\|w\\|$$.\n",
    "\n",
    "Error function to be minimized $\\|y-Xw\\|^2$ was the same as linear full model but additional term $\\gamma\\|w\\|$ was added (regularization).　This regularization was added as $L_1$ norm and multiplied with hyperparameter $\\gamma$ which controled how much this regularization would be emphasized.\n",
    "\n",
    "+ Shrinkage by Ridge\n",
    "\n",
    "Shrinkage method uses regularization term.\n",
    "\n",
    "$$E(w)=\\|y-Xw\\|^2-\\gamma\\|w\\|^2$$.\n",
    "\n",
    "Regularization term looked the same as LASSO, the combination of hyperparameter $\\gamma$ and norm of coefficient $w$. The difference between LASSO and Ridge is the $L_1$ and $L_2$ norm, respectively."
   ]
  },
  {
   "cell_type": "markdown",
   "metadata": {},
   "source": [
    "+ Three methods, stepwise, LASSO, and Ridge, are performed below.\n",
    "+ The last step of stepwise method returns the same result with LASSO and Ridge with their regularization parameter $\\lambda = 0$. How do the plots show this phenomenon? This \"goal\" is \"Full Model\".\n",
    "\n",
    "The most right edge of lines converged to the same values for 3 panels.\n",
    "\n",
    "+ How do the plots show \"subset selection\" of stepwise and LASSO methods ?\n",
    "\n",
    "On the horizontal zero line.\n",
    "\n",
    "If parameter selection was done, a certain parameter was not be used for model construction, or coefficient $\\beta=0$. This was on the horizontal zero line.\n",
    "\n",
    "+ How do the plots show \"no subset selection\" of Ridge method?\n",
    "\n",
    "Not on the horizontal zero line in a certain parameter subset.\n",
    "\n",
    "In Ridge plots, all the parameter coefficient values continuousely smoothly change their value. At the most left edge, coefficient started from zero. Some curve crossed horizontal zero line but this situation was at a moment."
   ]
  },
  {
   "cell_type": "code",
   "execution_count": null,
   "metadata": {},
   "outputs": [],
   "source": [
    "library(lars)\n",
    "data(diabetes)\n",
    "par(mfrow=c(1,2))\n",
    "attach(diabetes)\n",
    "object.step <- lars(x,y,type=\"stepwise\")\n",
    "object.lasso <- lars(x,y,type=\"lasso\")\n",
    "\n",
    "library(ridge)\n",
    "lambda <-seq(from=1,to=0,length=100)\n",
    "lambda <- seq(from=100,to=0,length=10000)\n",
    "object.ridge <- linearRidge(y ~ x,lambda=lambda)\n",
    "\n",
    "detach(diabetes)\n",
    "\n",
    "par(mfcol=c(1,3))\n",
    "matplot(object.step$beta,type=\"l\")\n",
    "matplot(object.lasso$beta,type=\"l\")\n",
    "matplot(object.ridge$df[,1],t(object.ridge$coef),type=\"l\")\n",
    "par(mfcol=c(1,1))"
   ]
  },
  {
   "cell_type": "code",
   "execution_count": null,
   "metadata": {},
   "outputs": [],
   "source": [
    "lm(y~x, data=diabetes)\n",
    "tail(object.step$beta, 1)\n",
    "tail(object.lasso$beta, 1)\n",
    "object.ridge$coef[,length(lambda)]"
   ]
  }
 ],
 "metadata": {
  "kernelspec": {
   "display_name": "Python 3",
   "language": "python",
   "name": "python3"
  },
  "language_info": {
   "codemirror_mode": {
    "name": "ipython",
    "version": 3
   },
   "file_extension": ".py",
   "mimetype": "text/x-python",
   "name": "python",
   "nbconvert_exporter": "python",
   "pygments_lexer": "ipython3",
   "version": "3.4.3"
  }
 },
 "nbformat": 4,
 "nbformat_minor": 2
}
