{
 "cells": [
  {
   "cell_type": "markdown",
   "metadata": {},
   "source": [
    "The three methoda are all for variable selection of multiple regression\n",
    "\n",
    "## Step wise\n",
    "Cost function to be minimized is $ ||y-\\hat{y}||^2 $.\n",
    "\n",
    "And it increase elements of the subset one by one so that this cost function becomes smallest.\n",
    "\n",
    "## LASSO\n",
    "Cost function to be minimized is $ ||y-\\hat{y}||^2 + \\lambda ||\\beta||$.\n",
    "\n",
    "## Ridge regression\n",
    "Cost function to be minimized is $ ||y-\\hat{y}||^2 + \\lambda ||\\beta||^2$.\n",
    "\n",
    "In lasso or ridge regression, we can select variable set by using variables with non zero β."
   ]
  },
  {
   "cell_type": "code",
   "execution_count": null,
   "metadata": {
    "collapsed": true
   },
   "outputs": [],
   "source": []
  }
 ],
 "metadata": {
  "kernelspec": {
   "display_name": "Python 3",
   "language": "python",
   "name": "python3"
  },
  "language_info": {
   "codemirror_mode": {
    "name": "ipython",
    "version": 3
   },
   "file_extension": ".py",
   "mimetype": "text/x-python",
   "name": "python",
   "nbconvert_exporter": "python",
   "pygments_lexer": "ipython3",
   "version": "3.6.0"
  }
 },
 "nbformat": 4,
 "nbformat_minor": 2
}
