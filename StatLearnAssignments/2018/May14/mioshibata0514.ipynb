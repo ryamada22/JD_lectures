{
 "cells": [
  {
   "cell_type": "markdown",
   "metadata": {},
   "source": [
    "# Assignment 0514\n",
    "Mio Shibata\n",
    "\n",
    "In regression, \n",
    "$\\hat{y}= X\\hat{\\beta}$\n",
    "this formula can be used basically.\n",
    "\n",
    "$||y-\\hat{y}||^2$ depends on  $\\hat{\\beta}$  therefore algorithm of minimizing $||y-\\hat{y}||^2$ have been developed  in many ways.\n",
    "\n",
    "Last class, we learned the character of three regressions with three plots.\n",
    "These three plots are generated below.\n",
    "\n"
   ]
  },
  {
   "cell_type": "code",
   "execution_count": 1,
   "metadata": {},
   "outputs": [
    {
     "ename": "ERROR",
     "evalue": "Error in library(lars): there is no package called ‘lars’\n",
     "execution_count": 1,
     "output_type": "error",
     "traceback": [
      "Error in library(lars): there is no package called ‘lars’\nTraceback:\n",
      "1. library(lars)",
      "2. stop(txt, domain = NA)"
     ]
    }
   ],
   "source": [
    "library(lars)\n",
    "data(diabetes)\n",
    "par(mfrow=c(1,2))\n",
    "attach(diabetes)\n",
    "object.step <- lars(x,y,type=\"stepwise\")\n",
    "object.lasso <- lars(x,y,type=\"lasso\")\n",
    "\n",
    "library(ridge)\n",
    "lambda <-seq(from=1,to=0,length=100)\n",
    "lambda <- seq(from=100,to=0,length=10000)\n",
    "object.ridge <- linearRidge(y ~ x,lambda=lambda)\n",
    "\n",
    "detach(diabetes)\n",
    "\n",
    "\n",
    "par(mfcol=c(1,3))\n",
    "matplot(object.step$beta,type=\"l\")\n",
    "matplot(object.lasso$beta,type=\"l\")\n",
    "matplot(object.ridge$df[,1],t(object.ridge$coef),type=\"l\")\n"
   ]
  },
  {
   "cell_type": "markdown",
   "metadata": {},
   "source": [
    "The left panel showing which parameter impact highest on the result.\n",
    "In this process, parameters are chosen from step by step, then this way is called stepwise way whi is one of the ways called subset selection.\n",
    "The formula is determined by choosing $\\beta_i \\neq 0$ then chossing such parameter can make $||y-\\hat{y}||^2$ smallest.X axis is showing the step by step. \n",
    "Opening the dataframe generated with stepwise below, we find the first parameter as bmi and the second as lt."
   ]
  },
  {
   "cell_type": "code",
   "execution_count": null,
   "metadata": {},
   "outputs": [],
   "source": [
    "object.step"
   ]
  },
  {
   "cell_type": "markdown",
   "metadata": {},
   "source": [
    "The center panel is simillar to left one but the plot is smoother than the left one.\n",
    "This method called LASSO is also subset selection as same stepwise.\n",
    "In order to minimize $||y-\\hat{y}||^2$, we discuss $\\lambda||\\beta||$.\n",
    "$\\hat{\\beta}$ depends on the $||y-\\lambda\\beta||^2+\\lambda||\\beta||$.\n",
    "If $\\lambda=0$, $\\hat{\\beta}$ is same as stepwise.\n",
    "If $\\lambda>0$, $\\hat{\\beta}$ should be compressed.\n",
    "Then finally, the value of $||\\beta||$ is determined, subset selection will be excuted.\n",
    "Opening the dataframe generated with LASSO below, we find the parameter in order."
   ]
  },
  {
   "cell_type": "code",
   "execution_count": null,
   "metadata": {},
   "outputs": [],
   "source": [
    "object.lasso"
   ]
  },
  {
   "cell_type": "markdown",
   "metadata": {},
   "source": [
    "The right panel is totally different from two panells.\n",
    "This way is not subset selection.\n",
    "The basic formula is same as others.\n",
    "But even if the value of $||\\beta||$ is determined, this step allow all parameters from the beginning.\n",
    "\n",
    "The advantage of subset selection, we can reduce the unnecessary parameter but we may miss the important parameters.\n",
    "On the other hand the advantage of ridge regression, related parameters play important role not to make scattered plot.\n"
   ]
  }
 ],
 "metadata": {
  "kernelspec": {
   "display_name": "R",
   "language": "R",
   "name": "ir"
  },
  "language_info": {
   "codemirror_mode": "r",
   "file_extension": ".r",
   "mimetype": "text/x-r-source",
   "name": "R",
   "pygments_lexer": "r",
   "version": "3.4.2"
  }
 },
 "nbformat": 4,
 "nbformat_minor": 2
}
