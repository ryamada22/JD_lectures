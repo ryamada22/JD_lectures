{
 "cells": [
  {
   "cell_type": "markdown",
   "metadata": {},
   "source": [
    "Today, we discussed on three panels of beta coefficients of three methods, stepwise, Lasso and Ridge. Describe the three panels.\n",
    "Also write the formula for three methods and add description on them.\n",
    "\n",
    "左のパネルから、ステップワイズ法、LASSO、ridgeのそれぞれを用いて正則化した場合の係数βの値を示している。横軸は用いるβの個数で、縦軸はそのβの取りうる値（どれほどそのβが寄与するのか）である。\n",
    "\n",
    "ステップワイズ法 : 変数選択を行う。βの選択においては応答変数に影響が大きい説明変数から選択され、そのβの値が決定する。変数選択を行うため、ridgeよりも次元が下がる。用いる説明変数の影響が明らかとは言えない場合にこの手法を用いる。\n",
    "\n",
    "LASSO : 変数選択を行う。βの選択においては、応答変数により寄与する説明変数から選択され、そのβの値が決定する。変数選択を行うため、ridgeよりも次元が下がる。ステップワイズ法よりβの値が小さくなるように制限される。\n",
    "\n",
    "ridge : 変数選択を行わない。全ての変数を用いているためβは０の値を取らない。ステップワイズ法、LASSOよりβの値が小さくなるような制約がある。用いる説明変数が独立である可能性が高い時にこの手法を用いる。\n",
    "\n",
    "\n",
    "\n",
    "\n",
    "公式\n",
    "\n",
    "回帰式\n",
    "\n",
    "\n",
    "$$\n",
    "y \\sim X \\beta\n",
    "$$$$\n",
    "\\hat{y} = X \\hat{\\beta}\n",
    "$$\n",
    "\n",
    "のとき\n",
    "\n",
    "ステップワイズ  　$\\hat{\\beta} =  argmin_\\beta (||y-X \\beta||^2)$\n",
    "\n",
    "LASSO   $ \\hat{\\beta} = argmin_\\beta (||y-X \\beta||^2 + \\lambda ||\\beta||)$\n",
    "\n",
    "ridge   $ \\hat{\\beta} = argmin_\\beta (||y-X \\beta||^2 + \\lambda ||\\beta||^2)$\n",
    "\n",
    "\n",
    "LASSO, ridge はペナルティ項がある。"
   ]
  },
  {
   "cell_type": "code",
   "execution_count": null,
   "metadata": {},
   "outputs": [],
   "source": []
  }
 ],
 "metadata": {
  "kernelspec": {
   "display_name": "Python 3",
   "language": "python",
   "name": "python3"
  },
  "language_info": {
   "codemirror_mode": {
    "name": "ipython",
    "version": 3
   },
   "file_extension": ".py",
   "mimetype": "text/x-python",
   "name": "python",
   "nbconvert_exporter": "python",
   "pygments_lexer": "ipython3",
   "version": "3.6.5"
  }
 },
 "nbformat": 4,
 "nbformat_minor": 2
}
