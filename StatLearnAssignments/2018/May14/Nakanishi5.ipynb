{
 "cells": [
  {
   "cell_type": "markdown",
   "metadata": {},
   "source": [
    "# May14 \n",
    "それぞれの図は縦軸がβの値、横軸がパラメータの数になっている。\n",
    "\n",
    "stepwiseでは単純なモデルから開始して、1回ごとに最も予測性能の高いパラメータを1つずつ選んでいく方法である\n",
    "そのためshrinkageが大きい傾向がある\n",
    "\n",
    "y＝Xβ\n",
    "\n",
    "R(a)=||y−Xβ||^2\n",
    "\n",
    "\n",
    "R(a)=||y−Xβ||^2+λ||β||(||β||=∑β)\n",
    "\n",
    "LASSO(L1正則化)はLeast Absolute Shrinkage and Selection Operatorの略である。\n",
    "回帰モデルの正則化損失関数(λ||β||)が最小化するようにパラメータを推定\n",
    "\n",
    "また、ゼロであるβが存在するため、その変数が目的変数を説明するのにふさわしいかどうか定かでないときにも有用である\n",
    "\n",
    "Ridge(L2正則化)は不要なパラメータでも全てを残して滑らかなモデルを作る\n",
    "\n",
    "Lasso: f(β) = λ* ||β||\n",
    "\n",
    "Ridge: f(β) = λ*0.5*β^2\n",
    "\n",
    "\n",
    "Ridgeの場合パラメーターの二乗の値が入っているので、どれか1つのβをゼロにするよりも、全体的におしなべてゼロにする方がf(β)が小さくなりやすいため、β＝0となることはない\n",
    "Lassoの場合は、逆に容易にβがゼロになりうる"
   ]
  }
 ],
 "metadata": {
  "kernelspec": {
   "display_name": "Python 3",
   "language": "python",
   "name": "python3"
  },
  "language_info": {
   "codemirror_mode": {
    "name": "ipython",
    "version": 3
   },
   "file_extension": ".py",
   "mimetype": "text/x-python",
   "name": "python",
   "nbconvert_exporter": "python",
   "pygments_lexer": "ipython3",
   "version": "3.6.4"
  }
 },
 "nbformat": 4,
 "nbformat_minor": 2
}
