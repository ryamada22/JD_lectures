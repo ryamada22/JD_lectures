{
 "cells": [
  {
   "cell_type": "markdown",
   "metadata": {},
   "source": [
    "# Regularization, Shrinkage and Non-Full Model to Avoid Overfitting"
   ]
  },
  {
   "cell_type": "markdown",
   "metadata": {},
   "source": [
    "### The last step of stepwise method returns the same result with LASSO and Ridge with their regularization parameter  /lambda=0/lambda=0 . How do the plots show this phenomenon? This \"goal\" is \"Full Model\".\n",
    "+ The last step in stepwise method (forward stepwise method) is increasing the subset size to reach the minimum sum of squares $||y-\\hat{y}||^2$. With the $\\lambda=0$, $\\hat{\\beta}$ equals to $\\hat{\\beta}_{LS}$ in the LASSO and Ridge, of which is similar to the full model of stepwise method with maximum subsite size $k$. It is shown by the plots with the similarity of general directions of the lines in the plots with the increasing number of $df(\\lambda)$\n",
    "\n",
    "### How do the plots show \"subset selection\" of stepwise and LASSO methods ?\n",
    "+ We can see the performance of \"subset selection\" of stepwise and LASSO methods with the different colors and how it branches from the middle zero line.\n",
    "\n",
    "### How do the plots show \"no subset selection\" of Ridge method?\n",
    "+ All the lines in the Ridge Regression method plot came from one origination point with all the variable at 0 and varies along as the $df(\\lambda)$ changes\n",
    "\n",
    "### Parameter k of kNN method is a smoothing parameter for vias-variance tradeoff. See [kNN Classification](../cells/kNN_Classification.ipynb) and desicribe k as a regularization factor.\n",
    "+ kNN method allows changes in value averages according to. Assuming each point in the example plots from kNN Classification are separate regression run with different $df(\\lambda)$ and different sum of squares, changes in $k$ can regulates the average of coefficient of the variables, therefore can act as regularization factor."
   ]
  },
  {
   "cell_type": "code",
   "execution_count": null,
   "metadata": {},
   "outputs": [],
   "source": []
  }
 ],
 "metadata": {
  "kernelspec": {
   "display_name": "R",
   "language": "R",
   "name": "ir"
  },
  "language_info": {
   "codemirror_mode": "r",
   "file_extension": ".r",
   "mimetype": "text/x-r-source",
   "name": "R",
   "pygments_lexer": "r",
   "version": "3.4.4"
  }
 },
 "nbformat": 4,
 "nbformat_minor": 2
}
