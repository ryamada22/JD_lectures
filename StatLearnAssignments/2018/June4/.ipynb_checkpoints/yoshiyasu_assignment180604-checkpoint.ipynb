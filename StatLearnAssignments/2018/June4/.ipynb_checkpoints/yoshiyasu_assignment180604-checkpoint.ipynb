{
 "cells": [
  {
   "cell_type": "markdown",
   "metadata": {},
   "source": [
    "Describe kernel functions and kernel trick."
   ]
  },
  {
   "cell_type": "markdown",
   "metadata": {},
   "source": [
    "標本空間を $X$ で表す。\"kernel function\" とは関数 $k\\colon X\\times X\\to\\mathbb{R}$ であって、対称性と半正定値性を満たすもののこと。つまり、任意の正整数 $n$ と任意の標本 $x_1,\\ldots,x_n$ に対し、行列 $\\Bigl(k(x_i,x_j)\\Bigr)_{i,j}$ が半正定値行列となること。"
   ]
  },
  {
   "cell_type": "markdown",
   "metadata": {},
   "source": [
    "\"kernel trick\" とは、kernel function を用いた次のような手法のこと：標本空間 $X$ 上の kernel function $k$ を一つとると、$X$ 上の関数がなすヒルベルト空間 $H_k$ が一つ決まる。これは無限次元のベクトル空間で、内積 $\\langle\\cdot,\\cdot\\rangle$ を持つ。しかも、標本空間 $X$ からの埋め込み $\\Phi\\colon X\\to H_k$ であって、$k(x_i,x_j)=\\langle\\Phi(x_i),\\Phi(x_j)\\rangle$ を満たすものが存在する。したがって、ベクトル空間 $H_k$ と埋め込み $\\Phi$ の姿がわからなくても、関数 $k$ の値を計算するだけで標本 $\\Phi(x_i),\\Phi(x_j)$ の間の内積を計算できる。標本空間に対して適切な $k$（したがって $H_k$ と $\\Phi$）を選ぶことで、$X$ 上での非線形な分類や相関は $H_k$ 上の線形な問題に帰着され、最小二乗法や行列の固有値といった線形な手法が適用可能になる。\n",
    "\n",
    "代表的な kernel function としては、Linear kernel、Polynomial kernel、Gaussian kernel、Laplacian kernel といったものが知られており、目的によって使い分けられている。"
   ]
  },
  {
   "cell_type": "code",
   "execution_count": null,
   "metadata": {},
   "outputs": [],
   "source": []
  }
 ],
 "metadata": {
  "kernelspec": {
   "display_name": "R",
   "language": "R",
   "name": "ir"
  },
  "language_info": {
   "codemirror_mode": "r",
   "file_extension": ".r",
   "mimetype": "text/x-r-source",
   "name": "R",
   "pygments_lexer": "r",
   "version": "3.4.1"
  }
 },
 "nbformat": 4,
 "nbformat_minor": 2
}
