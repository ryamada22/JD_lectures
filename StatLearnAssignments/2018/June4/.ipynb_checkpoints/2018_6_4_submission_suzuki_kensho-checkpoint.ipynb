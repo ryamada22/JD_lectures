{
 "cells": [
  {
   "cell_type": "markdown",
   "metadata": {},
   "source": [
    "\n",
    "### カーネル法について\n",
    "\n",
    "\n",
    "最小二乗法に基づいたクラス分類($y = \\pm 1$)を行うとして\n",
    "\n",
    "$$\n",
    "x = \\{x_1, x_2, x_3, ..., x_n\\}\n",
    "$$\n",
    "\n",
    "という、n次元のデータ$x$に対して、d次元の特徴ベクトルへの写像を取る非線型変換を$\\phi(x)$とし、データ個数をm個とする。\n",
    "<br>\n",
    "<br>\n",
    "\n",
    "#### カーネル関数\n",
    "特徴ベクトル$\\phi(x)$の内積で表されるスカラ\n",
    "\n",
    "$$\n",
    "k(x, x') = \\phi(x)^T \\phi(x')\n",
    "$$\n",
    "<br>\n",
    "<br>\n",
    "<br>\n",
    "\n",
    "上記条件下における予測式は以下の通り。\n",
    "\n",
    "$$\n",
    "y = w^T \\Phi \\\\[10pt]\n",
    "\\Phi = \\begin{pmatrix} \\phi (x^{(1)}) \\\\ \\phi (x^{(2)}) \\\\ \\vdots \\\\ \\phi (x^{(m)}) \\end{pmatrix}\n",
    "$$\n",
    "\n",
    "\n",
    "このパラメータ$w$をL2正則化付きで最適化するにあたって、リプレゼンターの定理より、\n",
    "\n",
    "$$\n",
    "\\hat{w} = argmin_w \\Sigma_i \\{ y^{(i)} - w^T \\phi(x^{(i)}) \\} + \\lambda w^T w　\\\\\n",
    "\\Rightarrow \\hat{w} = \\Sigma_i \\alpha_i \\phi(x^{(i)}) + \\xi \\\\[10pt]\n",
    "\\xiは全ての\\phi(x^{(i)})に直交する\n",
    "$$\n",
    "\n",
    "とすると、最適化を考えたときに、$\\xi = 0$は自明である。\n",
    "よって、\n",
    "\n",
    "$$\n",
    "\\hat{w} = \\Sigma_i \\alpha_i \\phi(x^{(i)})\n",
    "$$\n",
    "\n",
    "と表すことができ、m次元のパラメータ$\\alpha$についての最適化問題とすることができる。\n",
    "\n",
    "\n",
    "従って、予測式と、$\\alpha$の最適化は次の様に書ける。\n",
    "\n",
    "$$\n",
    "y^{(i)} = \\Sigma_j \\alpha_j \\phi(x^{(j)})^T \\phi(x^{(i)}) \\\\\n",
    "= \\Sigma_j \\alpha_j k(x^{(j)}, x^{(i)}) \\\\[10pt]\n",
    "\\hat{\\alpha} = argmin_{\\alpha} \\Sigma_i \\{ y^{(i)} - \\Sigma_j \\alpha_j \\phi(x^{(j)})^T \\phi(x^{(i)}) \\} + \\lambda \\Sigma_j \\alpha \\phi(x^{(j)})^T \\Sigma_j \\alpha \\phi(x^{(j)}) \\\\\n",
    "= argmin_{\\alpha} \\Sigma_i \\{ y^{(i)} - \\Sigma_j \\alpha_j k(x^{(j)}, x^{(i)}) \\} + \\lambda \\alpha^T K \\alpha \\\\[10pt]\n",
    "K = \\begin{pmatrix} k(x^{(1)}, x^{(1)}) & k(x^{(1)}, x^{(2)}) & \\cdots & k(x^{(1)}, x^{(m)}) \\\\ k(x^{(2)}, x^{(1)}) & \\ddots & & \\vdots \\\\ \\vdots & & & \\\\ k(x^{(m)}, x^{(1)}) & \\cdots & & k(x^{(n)}, x^{(n)}) \\end{pmatrix}\n",
    "$$\n",
    "\n",
    "$K$はグラム行列であり(半)正定値行列である。\n",
    "\n",
    "今回は正則化がL2であるため、最適化解は偏微分=0で求めることができる。\n",
    "以下で説明されるガウシアンカーネルの最適解は次の通り。\n",
    "\n",
    "$$\n",
    "\\hat{\\alpha} = (K + \\lambda I)^{-1} y\n",
    "$$\n",
    "\n",
    "#### カーネルトリック\n",
    "つまり、単純な線形分離では分類できなかった問題を、非線型分類に置き換えるとき(n次元のデータを(n-1)次元の超平面で分類する問題を、nより大きいd次元のデータとして(d-1)次元の超平面で分類する問題に置き換えるとき)、膨大になった計算量をカーネル法を用いることで減らすことが出来る(パラメータ$\\alpha$の次元数であるm次元の問題となるため)。これをカーネルトリックと呼ぶ。\n",
    "\n",
    "\n",
    "カーネル関数は、マーサーの定理を満たす定義が複数存在するが、その定義には\n",
    "\n",
    "- ガウシアンカーネル(RBF : 動径規定関数カーネル)   :   $k(x, x') = exp(-\\frac{\\parallel x-x'^2 \\parallel}{2 \\sigma^2})$\n",
    "- 多項式カーネル   :   $k(x, x') = (x^Tx'+c)^p$\n",
    "\n",
    "などがある。\n",
    "\n",
    "ガウシアンカーネルは内積が和ではなく積分であるが、特徴ベクトルは連続値であり、無限次元の特徴ベクトルを用いていること等価であるとみなせる。\n",
    "一方、多項式カーネルは多項式特徴ベクトルを使っていることに相当する。\n",
    "\n",
    "\n",
    "カーネル関数は特徴ベクトルの内積であり、$x$と$x'$との距離が近ければ近いほど大きい値となるため、係数$\\alpha^{(i)}$の符号をトレーニングデータ$x^{(i)}$のラベル値$y^{(i)} = \\pm 1$と同じ符号にすると、予測において、予測データ$x^{(i)}$の近くにあるトレーニングデータをより大きな重みで参照して、点$x^{(i)}$のラベルを予測することができる。<br>\n",
    "また、カーネルを用いた学習機械では，実数に限らず記号列でもグラフでも うまくカーネルが定義できれば何でもよいというのが一つの特長。<br>\n",
    "<br>\n",
    "ガウシアンカーネルにおいて$\\sigma$の値を大きくすると、より遠くのトレーニングデータまで参照することになり、その予測モデルは単純になる。逆に$\\sigma$の値を小さくすると、予測モデルは複雑になる。\n",
    "つまり、k近傍法(knn)におけるハイパーパラメータ$k$を小さくすることと同等の効果がある。(バイアス-バリアンスのトレードオフ)\n",
    "\n",
    "カーネル法の問題点としては計算量はデータ量に依存するため、データ量が大きい場合に、計算量が多くなることが挙げられる。($d < m$の時など)\n",
    "<br>\n",
    "<br>\n",
    "<br>\n",
    "\n",
    "- マーサーの定理(マーサー条件)<br>\n",
    "$x, x' \\in X$ の関数$k$が内積の形\n",
    "$$\n",
    "k(x, x') = \\Sigma_{j=1}^{\\infty} \\gamma \\psi_j(x) \\psi_j(x'), \\gamma \\geq 0\n",
    "$$\n",
    "と書けるための必要十分条件は、$k$が対称関数($k(x,x')=k(x',x)$)であり、かつ半正定値すなわち、任意の$f$に対して\n",
    "$$\n",
    "\\int_{X}\\int_{X}k(x,x')f(x)f(x')dxdx' \\geq 0\n",
    "$$\n",
    "を満たすことである。\n",
    "ただし、$\\psi_j(s)$は$k(x,x')$の固有関数で、\n",
    "$$\n",
    "\\int_{X}k(x,x')\\psi_j(x)dx = \\gamma_j\\psi_j(x)\n",
    "$$\n",
    "である。\n",
    "この定義だと小難しいので、言い換えると<br>\n",
    "カーネル関数の定義を、特徴ベクトルへの非線型変換の内積で表すことが出来る条件は<br>\n",
    "     入力データが連続値の場合\n",
    "     $$\n",
    "     \\int k(x,x')f(x)f(x')dxdx' \\geq 0\n",
    "     $$\n",
    "     入力データが離散値の場合\n",
    "     $$\n",
    "     K = (k(x^{(i)}, x^{(j)}))_{i,j=1}^m が半正定値行列\n",
    "     $$\n",
    "<br>\n",
    "<br>\n",
    "     \n",
    "- リプレゼンターの定理<br>\n",
    "損失関数が$w^T\\phi(x^{(i)})$の関数として表現でき、正則化項がL2($\\lambda w^Tw$)という形であれば、その最適解$\\hat{w}$は$\\phi(x^{(i)})$で張られる空間内に存在する。(線形包$span\\{\\phi(x^{(1)}),\\phi(x^{(2)}),\\cdots,\\phi(x^{(m)})\\}$に存在する。)<br>\n",
    "つまり、$\\hat{w}$は$\\phi(x)$の和により表現できる。"
   ]
  },
  {
   "cell_type": "markdown",
   "metadata": {},
   "source": [
    "以下、ガウシアンカーネル(RBFカーネル)によるSVM の例　(参照:http://neuro-educator.com/ml5/)\n",
    "- RBFカーネルの係数$\\gamma = \\frac{1}{2\\sigma^2}$はデフォルトで次元数の逆数($\\frac{1}{n}$)\n",
    "- 損失関数はhinge関数(損失の大きさをどれくらい考慮するかを決めるパラメータCは1)\n",
    "- クラスごとのデータ数の補正あり(weight='balanced')"
   ]
  },
  {
   "cell_type": "code",
   "execution_count": 1,
   "metadata": {},
   "outputs": [
    {
     "name": "stderr",
     "output_type": "stream",
     "text": [
      "/Users/suzukikensho/Desktop/Python_virtual/statistics/lib/python3.6/site-packages/sklearn/cross_validation.py:41: DeprecationWarning: This module was deprecated in version 0.18 in favor of the model_selection module into which all the refactored classes and functions are moved. Also note that the interface of the new CV iterators are different from that of this module. This module will be removed in 0.20.\n",
      "  \"This module will be removed in 0.20.\", DeprecationWarning)\n"
     ]
    }
   ],
   "source": [
    "# 1：ライブラリのインポート--------------------------------\n",
    "import numpy as np\n",
    "import pandas as pd\n",
    "import matplotlib.pyplot as plt\n",
    "from sklearn import svm, metrics, preprocessing, cross_validation\n",
    "from mlxtend.plotting import plot_decision_regions\n",
    "from sklearn.kernel_approximation import RBFSampler\n",
    "from matplotlib.colors import ListedColormap"
   ]
  },
  {
   "cell_type": "code",
   "execution_count": 4,
   "metadata": {},
   "outputs": [],
   "source": [
    "%matplotlib inline"
   ]
  },
  {
   "cell_type": "code",
   "execution_count": 11,
   "metadata": {},
   "outputs": [],
   "source": [
    "# 2：XORのデータを作成する(x_1=正、x_2=正) => y=0,(x_1=正、x_2=負) => y=1, --------------\n",
    "np.random.seed(0)\n",
    "X_xor=np.random.randn(200,2) \n",
    "y_xor=np.logical_xor(X_xor[:,0]>0, X_xor[:,1]>0)\n",
    "y_xor=np.where(y_xor,1,0)\n",
    "# pd.DataFrame(y_xor) "
   ]
  },
  {
   "cell_type": "code",
   "execution_count": 5,
   "metadata": {},
   "outputs": [
    {
     "data": {
      "text/plain": [
       "<function matplotlib.pyplot.show(*args, **kw)>"
      ]
     },
     "execution_count": 5,
     "metadata": {},
     "output_type": "execute_result"
    },
    {
     "data": {
      "image/png": "[encoded data removed]",
      "text/plain": [
       "<Figure size 432x288 with 1 Axes>"
      ]
     },
     "metadata": {},
     "output_type": "display_data"
    }
   ],
   "source": [
    "# 3：プロットしてみる------------------------------------------------------\n",
    "%matplotlib inline\n",
    " \n",
    "plt.scatter(X_xor[y_xor==1, 0], X_xor[y_xor==1, 1], c='b', marker='x', label='1')\n",
    "plt.scatter(X_xor[y_xor==0, 0], X_xor[y_xor==0, 1], c='r', marker='s', label='0')\n",
    "plt.legend(loc='best')\n",
    "plt.show"
   ]
  },
  {
   "cell_type": "code",
   "execution_count": 6,
   "metadata": {},
   "outputs": [],
   "source": [
    "# 4：データの整形-------------------------------------------------------\n",
    "X_std=X_xor\n",
    "z=y_xor"
   ]
  },
  {
   "cell_type": "code",
   "execution_count": 7,
   "metadata": {},
   "outputs": [
    {
     "data": {
      "text/plain": [
       "SVC(C=1.0, cache_size=200, class_weight='balanced', coef0=0.0,\n",
       "  decision_function_shape='ovr', degree=3, gamma=0.5, kernel='rbf',\n",
       "  max_iter=-1, probability=False, random_state=0, shrinking=True,\n",
       "  tol=0.001, verbose=False)"
      ]
     },
     "execution_count": 7,
     "metadata": {},
     "output_type": "execute_result"
    }
   ],
   "source": [
    "# 5：機械学習で分類する---------------------------------------------------\n",
    "clf_result=svm.SVC(kernel='rbf', gamma=1/2 , C=1.0,class_weight='balanced', random_state=0) #loss='squared_hinge' #loss=\"hinge\", loss=\"log\"\n",
    "clf_result.fit(X_std, z)"
   ]
  },
  {
   "cell_type": "code",
   "execution_count": 8,
   "metadata": {},
   "outputs": [
    {
     "name": "stdout",
     "output_type": "stream",
     "text": [
      "平均正解率 =  0.9449498746867168\n",
      "正解率の標準偏差 =  0.0472709892264494\n"
     ]
    }
   ],
   "source": [
    "# 6：K分割交差検証（cross validation）で性能を評価する---------------------\n",
    "scores=cross_validation.cross_val_score(clf_result, X_std, z, cv=10)\n",
    "print(\"平均正解率 = \", scores.mean())\n",
    "print(\"正解率の標準偏差 = \", scores.std())"
   ]
  },
  {
   "cell_type": "code",
   "execution_count": 10,
   "metadata": {},
   "outputs": [
    {
     "name": "stdout",
     "output_type": "stream",
     "text": [
      "正答率 =  0.85\n"
     ]
    },
    {
     "data": {
      "text/plain": [
       "<matplotlib.axes._subplots.AxesSubplot at 0x114c24b38>"
      ]
     },
     "execution_count": 10,
     "metadata": {},
     "output_type": "execute_result"
    },
    {
     "data": {
      "image/png": "[encoded data removed]",
      "text/plain": [
       "<Figure size 432x288 with 1 Axes>"
      ]
     },
     "metadata": {},
     "output_type": "display_data"
    }
   ],
   "source": [
    "# 7：トレーニングデータとテストデータに分けて実行してみる------------------\n",
    "X_train, X_test, train_label, test_label=cross_validation.train_test_split(X_std,z, test_size=0.1, random_state=0)\n",
    "clf_result.fit(X_train, train_label)\n",
    "#正答率を求める\n",
    "pre=clf_result.predict(X_test)\n",
    "ac_score=metrics.accuracy_score(test_label,pre)\n",
    "print(\"正答率 = \",ac_score)\n",
    "#plotする\n",
    "X_train_plot=np.vstack(X_train)\n",
    "train_label_plot=np.hstack(train_label)\n",
    "X_test_plot=np.vstack(X_test)\n",
    "test_label_plot=np.hstack(test_label)\n",
    "plot_decision_regions(X_train_plot, train_label_plot, clf=clf_result, res=0.01) #学習データをプロット\n",
    "# plot_decision_regions(X_test_plot, test_label_plot, clf=clf_result, res=0.01, legend=2) #テストデータをプロット"
   ]
  },
  {
   "cell_type": "code",
   "execution_count": null,
   "metadata": {},
   "outputs": [],
   "source": [
    "# 8：任意のデータに対する識別結果を見てみる------------------\n",
    "#predicted_label=clf_result.predict([1.0,-1.0])\n",
    "#print(\"このテストデータのラベル = \", predicted_label)\n",
    " \n",
    "# 9：識別平面の式を手に入れる--------------------------------\n",
    "#print(clf_result.intercept_)\n",
    "#print(clf_result.dual_coef_ )  #coef[0]*x+coef[1]*y+intercept=0"
   ]
  }
 ],
 "metadata": {
  "kernelspec": {
   "display_name": "Python 3",
   "language": "python",
   "name": "python3"
  },
  "language_info": {
   "codemirror_mode": {
    "name": "ipython",
    "version": 3
   },
   "file_extension": ".py",
   "mimetype": "text/x-python",
   "name": "python",
   "nbconvert_exporter": "python",
   "pygments_lexer": "ipython3",
   "version": "3.6.3"
  }
 },
 "nbformat": 4,
 "nbformat_minor": 2
}
