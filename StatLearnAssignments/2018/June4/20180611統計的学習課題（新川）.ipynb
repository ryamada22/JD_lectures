{
 "cells": [
  {
   "cell_type": "markdown",
   "metadata": {},
   "source": [
    "(1) Describe kernel functions and kernel trick.\n",
    "\n",
    "線形分離不可能なデータ構造を、高次元空間へ写像することで線形分離可能な構造に変換するときに用いる関数の一つがカーネル関数である。カーネル関数にはLinear Kernel、Polynomial Kernel、Gaussian Kernelなどの種類がある。カーネル関数を使用すると、計算複雑度の増大を抑えることができるため、このアプローチはカーネルトリックと呼ばれる。"
   ]
  },
  {
   "cell_type": "code",
   "execution_count": null,
   "metadata": {},
   "outputs": [],
   "source": []
  }
 ],
 "metadata": {
  "kernelspec": {
   "display_name": "R",
   "language": "R",
   "name": "ir"
  },
  "language_info": {
   "codemirror_mode": "r",
   "file_extension": ".r",
   "mimetype": "text/x-r-source",
   "name": "R",
   "pygments_lexer": "r",
   "version": "3.4.1"
  }
 },
 "nbformat": 4,
 "nbformat_minor": 2
}
