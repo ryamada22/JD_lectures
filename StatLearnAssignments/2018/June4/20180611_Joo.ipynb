{
 "cells": [
  {
   "cell_type": "markdown",
   "metadata": {},
   "source": [
    "# (1) Describe kernel functions and kernel trick."
   ]
  },
  {
   "cell_type": "markdown",
   "metadata": {},
   "source": [
    "線形分離不可能な場合に、入力Xを変換Φを使って、より高次元な特徴空間Φ(x)へ写像し、特徴空間で線形分離が可能になるようにする。  \n",
    "実際に写像を求めなくてもベクトルの内積がわかれば計算ができるため、これを応用し、写像した特徴空間の内積をカーネル関数Kで表す。  \n",
    "特徴ベクトルが$\\overrightarrow{\\phi}(x)$であるとき、カーネル関数は$K(x,x’)=\\overrightarrow{\\phi}(x)^{\\top}\\overrightarrow{\\phi}(x’)$であり、このカーネル関数が求まれば特徴ベクトル$\\overrightarrow{\\phi}(x)$を求めなくても良い。  \n",
    "このように高次元に写像しながら、写像された空間でのカーネルの計算のみで最適な識別関数を構成する手法をカーネルトリックという。  \n",
    "代表的なものとして、多項式カーネル$k(x,x')=(1+x^{\\top}x')^d$やガウスカーネル$K(x,x’)=e^{-a(x-x’)^2}$がある。  \n",
    "多項式カーネルにはd次以下の全種類の単項式を各成分に持つような特徴ベクトルが対応する。  \n",
    "また、ガウスカーネルに対応する特徴ベクトルは無限次元ベクトルとなる。\n"
   ]
  },
  {
   "cell_type": "code",
   "execution_count": null,
   "metadata": {},
   "outputs": [],
   "source": []
  }
 ],
 "metadata": {
  "kernelspec": {
   "display_name": "R",
   "language": "R",
   "name": "ir"
  },
  "language_info": {
   "codemirror_mode": "r",
   "file_extension": ".r",
   "mimetype": "text/x-r-source",
   "name": "R",
   "pygments_lexer": "r",
   "version": "3.4.2"
  }
 },
 "nbformat": 4,
 "nbformat_minor": 2
}
