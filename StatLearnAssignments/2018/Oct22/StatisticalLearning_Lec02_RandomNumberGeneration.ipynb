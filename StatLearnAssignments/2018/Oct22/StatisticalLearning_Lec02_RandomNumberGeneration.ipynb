{
 "cells": [
  {
   "cell_type": "code",
   "execution_count": 2,
   "metadata": {},
   "outputs": [],
   "source": [
    "import numpy as np"
   ]
  },
  {
   "cell_type": "markdown",
   "metadata": {},
   "source": [
    "## Normal distribution"
   ]
  },
  {
   "cell_type": "code",
   "execution_count": 3,
   "metadata": {},
   "outputs": [
    {
     "data": {
      "text/plain": [
       "array([ 0.01367476, -0.25420173,  0.51786405, -0.61409872, -2.60389992,\n",
       "        0.80180497, -0.78150386, -0.7453864 , -2.35625315,  0.46878384])"
      ]
     },
     "execution_count": 3,
     "metadata": {},
     "output_type": "execute_result"
    }
   ],
   "source": [
    "#normal([loc, scale, size])  Draw random samples from a normal (Gaussian) distribution.\n",
    "#  loc:Mean of the distribution\n",
    "#  scale:Standard deviation of the destribution\n",
    "#  size:Output shape\n",
    "np.random.normal(0,1,10)"
   ]
  },
  {
   "cell_type": "markdown",
   "metadata": {},
   "source": [
    "## Uniform distribution"
   ]
  },
  {
   "cell_type": "code",
   "execution_count": 4,
   "metadata": {},
   "outputs": [
    {
     "data": {
      "text/plain": [
       "array([-0.89881461, -0.44836906, -0.28614713,  0.21968738,  0.9199067 ,\n",
       "       -0.50418867, -0.58616121,  0.04713009,  0.18971406,  0.95137969])"
      ]
     },
     "execution_count": 4,
     "metadata": {},
     "output_type": "execute_result"
    }
   ],
   "source": [
    "#uniform([low, high, size])  Draw samples from a uniform distribution.\n",
    "#  low:Lower boundary of the output interval\n",
    "#  high:Upper boundary of the output interva\n",
    "#  size:Output shape\n",
    "np.random.uniform(-1,1,10)"
   ]
  },
  {
   "cell_type": "markdown",
   "metadata": {},
   "source": [
    "## Shuffling"
   ]
  },
  {
   "cell_type": "code",
   "execution_count": 20,
   "metadata": {},
   "outputs": [
    {
     "name": "stdout",
     "output_type": "stream",
     "text": [
      "[1, 2, 3, 4, 5, 6, 7, 8, 9, 10]\n"
     ]
    },
    {
     "data": {
      "text/plain": [
       "[3, 2, 6, 9, 4, 10, 7, 1, 5, 8]"
      ]
     },
     "execution_count": 20,
     "metadata": {},
     "output_type": "execute_result"
    }
   ],
   "source": [
    "#shuffle(x)  Modify a sequence in-place by shuffling its contents.\n",
    "#  x:The array or list to be shuffled.\n",
    "arr=[i+1 for i in range(10)]\n",
    "print(arr)\n",
    "np.random.shuffle(arr) #shuffled in place\n",
    "arr"
   ]
  },
  {
   "cell_type": "markdown",
   "metadata": {},
   "source": [
    "## Permutation"
   ]
  },
  {
   "cell_type": "code",
   "execution_count": 21,
   "metadata": {},
   "outputs": [
    {
     "name": "stdout",
     "output_type": "stream",
     "text": [
      "[1, 2, 3, 4, 5, 6, 7, 8, 9, 10]\n"
     ]
    },
    {
     "data": {
      "text/plain": [
       "array([ 3,  6,  5, 10,  2,  8,  4,  9,  1,  7])"
      ]
     },
     "execution_count": 21,
     "metadata": {},
     "output_type": "execute_result"
    }
   ],
   "source": [
    "#permutation(x)  Randomly permute a sequence, or return a permuted range.\n",
    "#  x:The array or list to be shuffled.\n",
    "arr=[i+1 for i in range(10)]\n",
    "print(arr)\n",
    "np.random.permutation(arr)"
   ]
  },
  {
   "cell_type": "code",
   "execution_count": null,
   "metadata": {},
   "outputs": [],
   "source": []
  }
 ],
 "metadata": {
  "kernelspec": {
   "display_name": "Python 3",
   "language": "python",
   "name": "python3"
  },
  "language_info": {
   "codemirror_mode": {
    "name": "ipython",
    "version": 3
   },
   "file_extension": ".py",
   "mimetype": "text/x-python",
   "name": "python",
   "nbconvert_exporter": "python",
   "pygments_lexer": "ipython3",
   "version": "3.6.6"
  }
 },
 "nbformat": 4,
 "nbformat_minor": 2
}
