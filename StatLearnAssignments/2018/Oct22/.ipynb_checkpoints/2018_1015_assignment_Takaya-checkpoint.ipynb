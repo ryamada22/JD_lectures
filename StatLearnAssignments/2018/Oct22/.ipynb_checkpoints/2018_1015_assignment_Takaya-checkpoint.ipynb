{
 "cells": [
  {
   "cell_type": "markdown",
   "metadata": {},
   "source": [
    "## Report python notebook file with random number generation codes for normal distribution and uniform distribution. Also report codes for shuffling and permutation."
   ]
  },
  {
   "cell_type": "code",
   "execution_count": 4,
   "metadata": {},
   "outputs": [],
   "source": [
    "import numpy as np\n",
    "import matplotlib.pyplot as plt"
   ]
  },
  {
   "cell_type": "code",
   "execution_count": 7,
   "metadata": {},
   "outputs": [],
   "source": [
    "# Create 10000 random variables from normal distribution\n",
    "x1 = np.random.normal(0,1,10000)"
   ]
  },
  {
   "cell_type": "code",
   "execution_count": 8,
   "metadata": {},
   "outputs": [
    {
     "data": {
      "text/plain": [
       "(array([1.000e+00, 4.000e+00, 1.000e+01, 4.300e+01, 1.280e+02, 3.000e+02,\n",
       "        5.740e+02, 1.021e+03, 1.529e+03, 1.740e+03, 1.684e+03, 1.282e+03,\n",
       "        8.730e+02, 4.410e+02, 2.420e+02, 9.400e+01, 2.600e+01, 6.000e+00,\n",
       "        1.000e+00, 1.000e+00]),\n",
       " array([-4.25641456, -3.82288684, -3.38935912, -2.9558314 , -2.52230368,\n",
       "        -2.08877596, -1.65524823, -1.22172051, -0.78819279, -0.35466507,\n",
       "         0.07886265,  0.51239037,  0.94591809,  1.37944582,  1.81297354,\n",
       "         2.24650126,  2.68002898,  3.1135567 ,  3.54708442,  3.98061214,\n",
       "         4.41413986]),\n",
       " <a list of 20 Patch objects>)"
      ]
     },
     "execution_count": 8,
     "metadata": {},
     "output_type": "execute_result"
    },
    {
     "data": {
      "image/png": "[encoded data removed]",
      "text/plain": [
       "<Figure size 432x288 with 1 Axes>"
      ]
     },
     "metadata": {
      "needs_background": "light"
     },
     "output_type": "display_data"
    }
   ],
   "source": [
    "# Check random variables follow normal distribution\n",
    "plt.hist(x1,bins=20)"
   ]
  },
  {
   "cell_type": "code",
   "execution_count": 9,
   "metadata": {},
   "outputs": [],
   "source": [
    "# Create 10000 random variables from uniform distribution\n",
    "x2 = np.random.uniform(0,1,10000)"
   ]
  },
  {
   "cell_type": "code",
   "execution_count": 14,
   "metadata": {},
   "outputs": [
    {
     "data": {
      "text/plain": [
       "(array([516., 551., 468., 501., 521., 523., 518., 510., 462., 483., 488.,\n",
       "        498., 521., 483., 533., 455., 506., 460., 514., 489.]),\n",
       " array([4.81980501e-04, 5.04542762e-02, 1.00426572e-01, 1.50398868e-01,\n",
       "        2.00371163e-01, 2.50343459e-01, 3.00315755e-01, 3.50288050e-01,\n",
       "        4.00260346e-01, 4.50232642e-01, 5.00204937e-01, 5.50177233e-01,\n",
       "        6.00149529e-01, 6.50121824e-01, 7.00094120e-01, 7.50066416e-01,\n",
       "        8.00038711e-01, 8.50011007e-01, 8.99983303e-01, 9.49955598e-01,\n",
       "        9.99927894e-01]),\n",
       " <a list of 20 Patch objects>)"
      ]
     },
     "execution_count": 14,
     "metadata": {},
     "output_type": "execute_result"
    },
    {
     "data": {
      "image/png": "[encoded data removed]",
      "text/plain": [
       "<Figure size 432x288 with 1 Axes>"
      ]
     },
     "metadata": {
      "needs_background": "light"
     },
     "output_type": "display_data"
    }
   ],
   "source": [
    "# Check random variables follow uniform distribution\n",
    "plt.hist(x2,bins=20)"
   ]
  },
  {
   "cell_type": "code",
   "execution_count": 69,
   "metadata": {},
   "outputs": [
    {
     "data": {
      "text/plain": [
       "array([30, 84, 27, 18, 36, 86, 78, 70, 89,  0])"
      ]
     },
     "execution_count": 69,
     "metadata": {},
     "output_type": "execute_result"
    }
   ],
   "source": [
    "# Random sampling of 10 variables from 0 to 100\n",
    "x = np.random.randint(0,100,10)\n",
    "x"
   ]
  },
  {
   "cell_type": "code",
   "execution_count": 70,
   "metadata": {},
   "outputs": [
    {
     "data": {
      "text/plain": [
       "[0, 18, 27, 30, 36, 70, 78, 84, 86, 89]"
      ]
     },
     "execution_count": 70,
     "metadata": {},
     "output_type": "execute_result"
    }
   ],
   "source": [
    "sorted(x)"
   ]
  },
  {
   "cell_type": "code",
   "execution_count": 71,
   "metadata": {},
   "outputs": [],
   "source": [
    "# shuffle function replace the argument array itself \n",
    "np.random.shuffle(x)"
   ]
  },
  {
   "cell_type": "code",
   "execution_count": 72,
   "metadata": {
    "scrolled": true
   },
   "outputs": [
    {
     "data": {
      "text/plain": [
       "array([ 0, 70, 27, 18, 78, 86, 84, 89, 36, 30])"
      ]
     },
     "execution_count": 72,
     "metadata": {},
     "output_type": "execute_result"
    }
   ],
   "source": [
    "x"
   ]
  },
  {
   "cell_type": "code",
   "execution_count": 73,
   "metadata": {},
   "outputs": [
    {
     "data": {
      "text/plain": [
       "[0, 18, 27, 30, 36, 70, 78, 84, 86, 89]"
      ]
     },
     "execution_count": 73,
     "metadata": {},
     "output_type": "execute_result"
    }
   ],
   "source": [
    "sorted(x)"
   ]
  },
  {
   "cell_type": "code",
   "execution_count": 75,
   "metadata": {},
   "outputs": [],
   "source": [
    "# permutation function return the shuffled argument array\n",
    "x = np.random.randint(0,100,10)\n",
    "\n",
    "x_per = np.random.permutation(x)"
   ]
  },
  {
   "cell_type": "code",
   "execution_count": 76,
   "metadata": {},
   "outputs": [
    {
     "data": {
      "text/plain": [
       "array([36, 18, 16, 61, 78, 91, 70, 72, 93, 13])"
      ]
     },
     "execution_count": 76,
     "metadata": {},
     "output_type": "execute_result"
    }
   ],
   "source": [
    "x"
   ]
  },
  {
   "cell_type": "code",
   "execution_count": 77,
   "metadata": {},
   "outputs": [
    {
     "data": {
      "text/plain": [
       "array([13, 61, 91, 78, 16, 18, 72, 36, 93, 70])"
      ]
     },
     "execution_count": 77,
     "metadata": {},
     "output_type": "execute_result"
    }
   ],
   "source": [
    "x_per"
   ]
  }
 ],
 "metadata": {
  "kernelspec": {
   "display_name": "Python 3",
   "language": "python",
   "name": "python3"
  },
  "language_info": {
   "codemirror_mode": {
    "name": "ipython",
    "version": 3
   },
   "file_extension": ".py",
   "mimetype": "text/x-python",
   "name": "python",
   "nbconvert_exporter": "python",
   "pygments_lexer": "ipython3",
   "version": "3.6.3"
  }
 },
 "nbformat": 4,
 "nbformat_minor": 2
}
