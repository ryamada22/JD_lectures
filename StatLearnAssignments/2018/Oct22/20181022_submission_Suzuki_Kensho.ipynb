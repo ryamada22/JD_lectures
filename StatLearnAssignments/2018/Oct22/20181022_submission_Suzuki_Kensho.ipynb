{
 "cells": [
  {
   "cell_type": "code",
   "execution_count": 1,
   "metadata": {},
   "outputs": [],
   "source": [
    "import numpy as np\n",
    "from numpy.random import *\n",
    "import math\n",
    "import matplotlib.pyplot as plt\n",
    "from scipy.stats import norm\n",
    "%matplotlib inline"
   ]
  },
  {
   "cell_type": "markdown",
   "metadata": {},
   "source": [
    "以下、numpy.randomは省略\n",
    "\n",
    "### 一様分布から乱数の生成方法\n",
    "\n",
    "\n",
    "**rand() : 0~1のランダムな数値を返す。引数には、返ってくる値(配列)の次元を指定する。**"
   ]
  },
  {
   "cell_type": "code",
   "execution_count": 2,
   "metadata": {},
   "outputs": [
    {
     "name": "stdout",
     "output_type": "stream",
     "text": [
      "--- rand() --- \n",
      " 0.25904096275196276\n",
      "--- rand(2, 3) --- \n",
      " [[0.48384831 0.34450476 0.24644232]\n",
      " [0.47238849 0.41157956 0.00676551]]\n"
     ]
    }
   ],
   "source": [
    "print(\"--- rand() --- \\n\", rand())\n",
    "print(\"--- rand(2, 3) --- \\n\", rand(2, 3))"
   ]
  },
  {
   "cell_type": "markdown",
   "metadata": {},
   "source": [
    "**範囲を変えたいときは、ベクトル演算を行う。**"
   ]
  },
  {
   "cell_type": "code",
   "execution_count": 3,
   "metadata": {},
   "outputs": [
    {
     "name": "stdout",
     "output_type": "stream",
     "text": [
      "10~50のランダムな値 :  34.13145300880225\n"
     ]
    }
   ],
   "source": [
    "print(\"10~50のランダムな値 : \", rand()*40 + 10)"
   ]
  },
  {
   "cell_type": "markdown",
   "metadata": {},
   "source": [
    "**もしくは、uniform()を使う。**"
   ]
  },
  {
   "cell_type": "code",
   "execution_count": 4,
   "metadata": {},
   "outputs": [
    {
     "name": "stdout",
     "output_type": "stream",
     "text": [
      "10~100のランダムな値を(5,5)の行列で返す :\n",
      " [[93.3854583  59.03860018 44.41338937 70.60693722 33.03773496]\n",
      " [63.72205483 38.22541456 30.32536598 63.61155961 18.16515167]\n",
      " [25.8806253  61.49715493 94.93001224 23.49035296 62.6683662 ]\n",
      " [44.50905516 42.41191011 29.16077061 41.33777543 22.02957666]\n",
      " [78.7718465  44.42598122 97.65393475 99.2674411  65.96511159]]\n"
     ]
    }
   ],
   "source": [
    "print(\"10~100のランダムな値を(5,5)の行列で返す :\\n\", uniform(10, 100, (5,5)))"
   ]
  },
  {
   "cell_type": "markdown",
   "metadata": {},
   "source": [
    "### 正規分布から乱数の生成方法\n",
    "\n",
    "\n",
    "**randn() : 平均 0, 標準偏差 1 の正規分布(標準正規分布)からランダムな数値を返す。引数には、返ってくる値(配列)の次元を指定する。**  \n",
    "  \n",
    "**standard_normal() : 同上 (サイズの指定方法が異なる)**"
   ]
  },
  {
   "cell_type": "code",
   "execution_count": 5,
   "metadata": {},
   "outputs": [
    {
     "name": "stdout",
     "output_type": "stream",
     "text": [
      "--- randn() --- \n",
      " 0.3439204346432888\n",
      "--- randn(2, 3) --- \n",
      " [[-0.5176735  -0.47432126 -0.006281  ]\n",
      " [-0.02710282 -0.07435093  0.26613402]]\n",
      "--- standard_normal() --- \n",
      " -0.946591321843572\n",
      "--- standard_normal(2, 3) --- \n",
      " [[-0.16874683 -0.12187682 -0.16582939]\n",
      " [-0.73148494  1.12982808  0.48715966]]\n"
     ]
    }
   ],
   "source": [
    "print(\"--- randn() --- \\n\", randn())\n",
    "print(\"--- randn(2, 3) --- \\n\", randn(2, 3))\n",
    "\n",
    "print(\"--- standard_normal() --- \\n\", standard_normal())\n",
    "print(\"--- standard_normal(2, 3) --- \\n\", standard_normal((2, 3)))"
   ]
  },
  {
   "cell_type": "markdown",
   "metadata": {},
   "source": [
    "**範囲を変えたいときは、ベクトル演算か normal() を使用する。**"
   ]
  },
  {
   "cell_type": "code",
   "execution_count": 6,
   "metadata": {},
   "outputs": [
    {
     "name": "stdout",
     "output_type": "stream",
     "text": [
      "平均 10, 標準偏差 5 の乱数を10000個返す :\n",
      " [ 9.94480407  2.8090439  16.86053057 ... -0.189829   11.10687973\n",
      "  2.15997816]\n"
     ]
    }
   ],
   "source": [
    "gaussian_dist = normal(10, 5, 10000)\n",
    "print(\"平均 10, 標準偏差 5 の乱数を10000個返す :\\n\", gaussian_dist)"
   ]
  },
  {
   "cell_type": "code",
   "execution_count": 7,
   "metadata": {},
   "outputs": [
    {
     "data": {
      "image/png": "[encoded data removed]",
      "text/plain": [
       "<Figure size 432x288 with 1 Axes>"
      ]
     },
     "metadata": {},
     "output_type": "display_data"
    }
   ],
   "source": [
    "# 実際の分布\n",
    "plt.hist(gaussian_dist, bins=30)\n",
    "plt.show()"
   ]
  },
  {
   "cell_type": "markdown",
   "metadata": {},
   "source": [
    "#### 正規分布のグラフを描写する\n",
    "\n",
    "方法1 : 自分で正規分布の関数を作り、曲線を引く。  \n",
    "方法2 : scipy.statsのnorm.pdfを使用す。"
   ]
  },
  {
   "cell_type": "code",
   "execution_count": 8,
   "metadata": {},
   "outputs": [
    {
     "data": {
      "image/png": "[encoded data removed]",
      "text/plain": [
       "<Figure size 432x288 with 1 Axes>"
      ]
     },
     "metadata": {},
     "output_type": "display_data"
    }
   ],
   "source": [
    "f = lambda x: (math.exp(-x**2/2)) / math.sqrt(2*math.pi)\n",
    "n = np.linspace(-5.0, 5.0, 10000)\n",
    "p = []\n",
    "for i in range(len(n)):\n",
    "    p.append(f(n[i]))\n",
    "plt.scatter(n, p)\n",
    "plt.show()"
   ]
  },
  {
   "cell_type": "code",
   "execution_count": 9,
   "metadata": {},
   "outputs": [
    {
     "data": {
      "image/png": "[encoded data removed]",
      "text/plain": [
       "<Figure size 432x288 with 1 Axes>"
      ]
     },
     "metadata": {},
     "output_type": "display_data"
    }
   ],
   "source": [
    "n = np.linspace(-5.0, 25.0, 10000)\n",
    "p = []\n",
    "for i in range(len(n)):\n",
    "    p.append(norm.pdf(x=n[i], loc=10, scale=5))\n",
    "plt.scatter(n, p)\n",
    "plt.show()"
   ]
  },
  {
   "cell_type": "markdown",
   "metadata": {},
   "source": [
    "#### おまけ\n",
    "\n",
    "**確率を指定し、選ばれる数値の確率に重みをつけることで、ある分布に従った乱数を生成しようとすると、、、**"
   ]
  },
  {
   "cell_type": "code",
   "execution_count": 10,
   "metadata": {},
   "outputs": [
    {
     "data": {
      "image/png": "[encoded data removed]",
      "text/plain": [
       "<Figure size 432x288 with 1 Axes>"
      ]
     },
     "metadata": {},
     "output_type": "display_data"
    }
   ],
   "source": [
    "data = np.linspace(-10, 30, 10000)\n",
    "p = []\n",
    "for i in range(len(data)):\n",
    "    p.append(norm.pdf(x=data[i], loc=10, scale=5))\n",
    "\n",
    "plt.hist(choice(data, 10000, p), bins=30)\n",
    "plt.show()"
   ]
  },
  {
   "cell_type": "code",
   "execution_count": 11,
   "metadata": {},
   "outputs": [
    {
     "data": {
      "text/plain": [
       "249.95919271441406"
      ]
     },
     "execution_count": 11,
     "metadata": {},
     "output_type": "execute_result"
    }
   ],
   "source": [
    "np.sum(p)"
   ]
  },
  {
   "cell_type": "markdown",
   "metadata": {},
   "source": [
    "**おそらく、pのトータルが\"1\"になっていないことが原因**"
   ]
  },
  {
   "cell_type": "markdown",
   "metadata": {},
   "source": [
    "### shuffle()について\n",
    "\n",
    "**リストまたはnumpy配列の最初の次元をランダムにシャッフルする。**  \n",
    "**それ以降の次元については、そのままになる。**　\n",
    "\n",
    "**返り値はなく、渡された配列そのものを書き換える。**"
   ]
  },
  {
   "cell_type": "code",
   "execution_count": 12,
   "metadata": {},
   "outputs": [
    {
     "name": "stdout",
     "output_type": "stream",
     "text": [
      "shuffle() 前 : [1 2 3 4 5 6 7 8 9]\n",
      "shuffle() 後 arr_1_1: [4 7 2 3 5 6 9 8 1]\n",
      "shuffle() 後 arr_1_2: None\n"
     ]
    }
   ],
   "source": [
    "arr_1_1 = np.array(range(1,10))\n",
    "print(\"shuffle() 前 :\", arr_1_1)\n",
    "arr_1_2 = shuffle(arr_1_1)\n",
    "print(\"shuffle() 後 arr_1_1:\", arr_1_1)\n",
    "print(\"shuffle() 後 arr_1_2:\", arr_1_2)"
   ]
  },
  {
   "cell_type": "code",
   "execution_count": 13,
   "metadata": {},
   "outputs": [
    {
     "name": "stdout",
     "output_type": "stream",
     "text": [
      "shuffle() 前 :\n",
      " [[1 2 3]\n",
      " [4 5 6]\n",
      " [7 8 9]]\n",
      "shuffle() 後 :\n",
      " [[4 5 6]\n",
      " [1 2 3]\n",
      " [7 8 9]]\n"
     ]
    }
   ],
   "source": [
    "arr_2 = np.array(range(1,10)).reshape((3,3))\n",
    "print(\"shuffle() 前 :\\n\", arr_2)\n",
    "shuffle(arr_2)\n",
    "print(\"shuffle() 後 :\\n\", arr_2)"
   ]
  },
  {
   "cell_type": "markdown",
   "metadata": {},
   "source": [
    "### permutation()について\n",
    "\n",
    "**リストまたはnumpy配列の最初の次元をランダムにシャッフルする。**  \n",
    "**それ以降の次元については、そのままになる。**　\n",
    "\n",
    "**ここまでは、shuffle() と同じ。**  \n",
    "\n",
    "**しかし、返り値があり、渡された配列をコピーして返す。つまり、渡された配列は書き換えられない。**  \n",
    "**また、int型を受け取ることができ、その場合、0からその値-1までの重複なしでランダムな配列が返ってくる。**"
   ]
  },
  {
   "cell_type": "code",
   "execution_count": 14,
   "metadata": {},
   "outputs": [
    {
     "name": "stdout",
     "output_type": "stream",
     "text": [
      "permutation() 前 : [1 2 3 4 5 6 7 8 9]\n",
      "permutation() 後 arr_1_1: [1 2 3 4 5 6 7 8 9]\n",
      "permutation() 後 arr_1_2: [3 6 7 8 2 4 5 1 9]\n"
     ]
    }
   ],
   "source": [
    "arr_1_1 = np.array(range(1,10))\n",
    "print(\"permutation() 前 :\", arr_1_1)\n",
    "arr_1_2 = permutation(arr_1_1)\n",
    "print(\"permutation() 後 arr_1_1:\", arr_1_1)\n",
    "print(\"permutation() 後 arr_1_2:\", arr_1_2)"
   ]
  },
  {
   "cell_type": "code",
   "execution_count": 15,
   "metadata": {},
   "outputs": [
    {
     "name": "stdout",
     "output_type": "stream",
     "text": [
      "permutation() 前 :\n",
      " [[1 2 3]\n",
      " [4 5 6]\n",
      " [7 8 9]]\n",
      "permutation() 後 :\n",
      " [[4 5 6]\n",
      " [7 8 9]\n",
      " [1 2 3]]\n"
     ]
    }
   ],
   "source": [
    "arr_2_1 = np.array(range(1,10)).reshape((3,3))\n",
    "print(\"permutation() 前 :\\n\", arr_2_1)\n",
    "arr_2_2 = permutation(arr_2_1)\n",
    "print(\"permutation() 後 :\\n\", arr_2_2)"
   ]
  },
  {
   "cell_type": "code",
   "execution_count": 16,
   "metadata": {},
   "outputs": [
    {
     "name": "stdout",
     "output_type": "stream",
     "text": [
      "[0 3 2 1 4]\n"
     ]
    }
   ],
   "source": [
    "arr_3 = permutation(5) # permutation(arange(5))　と同じ\n",
    "print(arr_3)"
   ]
  },
  {
   "cell_type": "code",
   "execution_count": null,
   "metadata": {},
   "outputs": [],
   "source": []
  }
 ],
 "metadata": {
  "kernelspec": {
   "display_name": "Python 3",
   "language": "python",
   "name": "python3"
  },
  "language_info": {
   "codemirror_mode": {
    "name": "ipython",
    "version": 3
   },
   "file_extension": ".py",
   "mimetype": "text/x-python",
   "name": "python",
   "nbconvert_exporter": "python",
   "pygments_lexer": "ipython3",
   "version": "3.6.2"
  }
 },
 "nbformat": 4,
 "nbformat_minor": 2
}
