{
 "cells": [
  {
   "cell_type": "markdown",
   "metadata": {},
   "source": [
    "## Bias and Variance\n",
    "Bias is a deviation between the true value and the predicted value by model.\n",
    "variance is the index of variations in predicted values depending on samples used when estimating models.\n",
    "Less bias and less variance is better in terms of making stable and accurate prediction.\n",
    "However, That is difficult.\n",
    "The more complex the model is, the bias becomes smaller and variance becomes larger.\n",
    "The less complex the model is, the bias becomes larger and variance becomes smaller.\n",
    "That is bias-variance trade-off."
   ]
  },
  {
   "cell_type": "code",
   "execution_count": null,
   "metadata": {
    "collapsed": true
   },
   "outputs": [],
   "source": []
  }
 ],
 "metadata": {
  "kernelspec": {
   "display_name": "Python 3",
   "language": "python",
   "name": "python3"
  },
  "language_info": {
   "codemirror_mode": {
    "name": "ipython",
    "version": 3
   },
   "file_extension": ".py",
   "mimetype": "text/x-python",
   "name": "python",
   "nbconvert_exporter": "python",
   "pygments_lexer": "ipython3",
   "version": "3.6.0"
  }
 },
 "nbformat": 4,
 "nbformat_minor": 2
}
