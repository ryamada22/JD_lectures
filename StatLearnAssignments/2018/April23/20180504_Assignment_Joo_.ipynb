{
 "cells": [
  {
   "cell_type": "markdown",
   "metadata": {},
   "source": [
    "# Write an explanation on bias and variance and their tradeoff in machine learning to somebody who are new to machine learning."
   ]
  },
  {
   "cell_type": "markdown",
   "metadata": {},
   "source": [
    "機械学習におけるバイアスとは、真実との差のことである。\n",
    "例えば、あるサンプルデータを用いて、真実を予測するモデルを作成したとする。\n",
    "新しいデータを用いて真実を予測する場合、モデルが複雑であれば、真実を予測する精度はモデルがシンプルな場合よりも良いと考えられる。\n",
    "\n",
    "一方、バリアンスとはモデルの安定性、再現性のことである。\n",
    "例えば、あるサンプルデータを用いてモデルを作成した場合、モデルが単純だと別のサンプルデータを用いて作成したモデルと大きくは異ならない。\n",
    "逆にモデルが複雑だと用いるデータによってモデルは様々になり、この様々な度合いをバリアンスという。\n",
    "\n",
    "バイアスとバリアンスはトレードオフの関係にあり、バイアスを小さくしようとするとモデルが複雑になりバリアンスが大きくなる。\n",
    "バリアンスを小さくしようとするとモデルが単純になりバイアスが大きくなる。\n",
    "\n",
    "よって両者ともにバランスよく小さくなるような「ちょうどいい」モデルを選ぶ必要がある。"
   ]
  }
 ],
 "metadata": {
  "kernelspec": {
   "display_name": "Python 3",
   "language": "python",
   "name": "python3"
  },
  "language_info": {
   "codemirror_mode": {
    "name": "ipython",
    "version": 3
   },
   "file_extension": ".py",
   "mimetype": "text/x-python",
   "name": "python",
   "nbconvert_exporter": "python",
   "pygments_lexer": "ipython3",
   "version": "3.6.4"
  }
 },
 "nbformat": 4,
 "nbformat_minor": 2
}
