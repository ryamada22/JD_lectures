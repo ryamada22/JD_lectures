{
 "cells": [
  {
   "cell_type": "markdown",
   "metadata": {},
   "source": [
    "統計的学習1課題　水野佳世子\n",
    "\n",
    "Bias Variance Tradeoff. Read the class text \"bias and variance\" and the wikipedia article on \"Bias-variance tradeoff\" of the section of textbook on machine learning in general, which will make your understanding of it in the class hour stronger. Then, write an explanation on bias and variance and their tradeoff in machine learning to somebody who are new to machine learning.\n",
    "\n",
    "バイアス：真の値と、推定値の期待値との差\n",
    "\n",
    "分散：サンプルセットの違いによる結果の多様性\n",
    "\n",
    "バイアスと分散のトレードオフ：一般的に、モデルの複雑度が増すほど、分散が増え、バイアスが減る傾向にあり、モデルの複雑度が減れば、その逆の傾向となる。モデルの複雑度はテスト誤差が最小となるよう、バイアスと分散のトレードオフを調整して選ぶ。"
   ]
  }
 ],
 "metadata": {
  "kernelspec": {
   "display_name": "Python 3",
   "language": "python",
   "name": "python3"
  },
  "language_info": {
   "codemirror_mode": {
    "name": "ipython",
    "version": 3
   },
   "file_extension": ".py",
   "mimetype": "text/x-python",
   "name": "python",
   "nbconvert_exporter": "python",
   "pygments_lexer": "ipython3",
   "version": "3.6.4"
  }
 },
 "nbformat": 4,
 "nbformat_minor": 2
}
