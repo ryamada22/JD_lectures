{
 "cells": [
  {
   "cell_type": "markdown",
   "metadata": {},
   "source": [
    "# Bias in machine learning\n",
    "Bias is a deviation between the true value and the estimated value by models. \n",
    "Bias is a value which shows the accuracy of the model estimating the training dataset.\n",
    "Low bias means the model is very accurate to estimate the training data.\n",
    "\n",
    "# Variance\n",
    "Variance is a variation of the estimated value by models.\n",
    "Low variance means the model is stable enough to estimate the test data.\n",
    "\n",
    "# Bias-Variance tradeoff\n",
    "The lower the bias is, the higher the variance isin general.(over-fitting)\n",
    "The lower the variance is, the higher the bias is in general.(under-fitting)\n"
   ]
  },
  {
   "cell_type": "code",
   "execution_count": null,
   "metadata": {},
   "outputs": [],
   "source": []
  }
 ],
 "metadata": {
  "kernelspec": {
   "display_name": "Python 3",
   "language": "python",
   "name": "python3"
  },
  "language_info": {
   "codemirror_mode": {
    "name": "ipython",
    "version": 3
   },
   "file_extension": ".py",
   "mimetype": "text/x-python",
   "name": "python",
   "nbconvert_exporter": "python",
   "pygments_lexer": "ipython3",
   "version": "3.6.4"
  }
 },
 "nbformat": 4,
 "nbformat_minor": 2
}
