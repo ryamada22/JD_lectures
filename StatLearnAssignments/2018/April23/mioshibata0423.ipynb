{
 "cells": [
  {
   "cell_type": "markdown",
   "metadata": {},
   "source": [
    "# Assignments 20180423\n",
    "\n",
    "## Mio Shibata\n",
    "\n",
    "- Bias and Variance\n",
    " In the field of statistics we the answer which comes from a kind of distributions. On the other hand, in the field of machine learning, we would not have the answer but the model which comes from training dataset. We have to use different interpretation in each field when we get the result. The difference between bias and variance depends on the standpoints. When we think of bias, we are thinking how long the sample sets are located from the answers we are given before. It means we are judging the results whether it is true or not.  On the other hand, when we think of variance, we are calculating how far variance is from the estimation from training samples. We can't say the estimation from training samples is true or not, meaning the estimation is just one of the models. Therefore, the situation is different in bias and variance.\n",
    " \n",
    "- Bias-variance tradeoff\n",
    " When we estimate the classification model from training samples, we want to have clear classification. But too much training samples bring delicate borders and too less training samples show rough borders. The reason for this is that when a lot of samples classified to each group is on the border, the classification rule have to obey that meticulous estimation. Therefore, too many samples make bias less but those make variance higher. We need to say that it is enough to get the training samples at kind of level, which leads to classification that is easy to understand at glance. We call such a dilemma　Bias-variance tradeoff.\n"
   ]
  }
 ],
 "metadata": {
  "kernelspec": {
   "display_name": "Python 3",
   "language": "python",
   "name": "python3"
  },
  "language_info": {
   "codemirror_mode": {
    "name": "ipython",
    "version": 3
   },
   "file_extension": ".py",
   "mimetype": "text/x-python",
   "name": "python",
   "nbconvert_exporter": "python",
   "pygments_lexer": "ipython3",
   "version": "3.6.4"
  }
 },
 "nbformat": 4,
 "nbformat_minor": 2
}
