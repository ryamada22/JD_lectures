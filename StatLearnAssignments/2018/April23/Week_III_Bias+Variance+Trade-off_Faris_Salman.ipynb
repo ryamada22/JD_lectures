{
 "cells": [
  {
   "cell_type": "markdown",
   "metadata": {},
   "source": [
    "# Bias-Variance Tradeoff\n",
    "## Simple Explanation\n",
    "Bias is the difference between your guess and the reality while variance is the difference in result between your guess when the model is given different variables.\n",
    "The bias-variance tradeoff is where the universe tells you, you can't have everything and you have to choose. You can have \"stable\" model that has small difference each time you change variables, i.e. low variance. But this model is prone to predict slightly further from real result, i.e. high bias. Each time your model get more complex, by increasing the variables or dimensions, the bias is lowered. But, at the same time, your model get more and more rigid since it has a lot of variables, i.e. increased variance. Of course it has great prediction based on the past data, but what happen if you use new data is that the result change so much, the prediction probably will not merit anything."
   ]
  }
 ],
 "metadata": {
  "kernelspec": {
   "display_name": "Python 2",
   "language": "python",
   "name": "python2"
  },
  "language_info": {
   "codemirror_mode": {
    "name": "ipython",
    "version": 2
   },
   "file_extension": ".py",
   "mimetype": "text/x-python",
   "name": "python",
   "nbconvert_exporter": "python",
   "pygments_lexer": "ipython2",
   "version": "2.7.14"
  }
 },
 "nbformat": 4,
 "nbformat_minor": 2
}
