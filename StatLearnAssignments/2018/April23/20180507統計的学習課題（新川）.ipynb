{
 "cells": [
  {
   "cell_type": "markdown",
   "metadata": {},
   "source": [
    "機械学習において、単純なモデルを使用すると、サンプルの数が変化しても結果は大きく変化しない（バリアンスは小さい）が、誤差（本当の値とのずれ）は大きくなる（バイアスが大きい）。複雑なモデルを使用すると、サンプル数の変化によって結果もより変化しやすい（バリアンスが大きい）が、誤差は小さくなる（バリアンスが小さい）。\n",
    "\n",
    "単純すぎるモデルを使用するとバイアスが大きくなり、複雑すぎるモデルを使用するとバリアンスが大きくなるトレードオフの関係を、「バイアスーバリアンストレードオフ」という。"
   ]
  }
 ],
 "metadata": {
  "kernelspec": {
   "display_name": "Python 3",
   "language": "python",
   "name": "python3"
  },
  "language_info": {
   "codemirror_mode": {
    "name": "ipython",
    "version": 3
   },
   "file_extension": ".py",
   "mimetype": "text/x-python",
   "name": "python",
   "nbconvert_exporter": "python",
   "pygments_lexer": "ipython3",
   "version": "3.6.4"
  }
 },
 "nbformat": 4,
 "nbformat_minor": 2
}
