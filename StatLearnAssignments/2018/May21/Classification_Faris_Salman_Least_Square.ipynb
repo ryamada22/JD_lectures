{
 "cells": [
  {
   "cell_type": "markdown",
   "metadata": {},
   "source": [
    "## Linear Models and Least Squares\n",
    "### Describe least square-based classification method\n",
    "Least Square-based classification method is when group of data is fitted/classified into groups based on separation by a linear or flat plane that minimizes the sum of squared distance between points. The classification itself based on the probability of data point belong into one group or another, specified with the Probability being > 0.5"
   ]
  },
  {
   "cell_type": "markdown",
   "metadata": {},
   "source": [
    "### In the above plot, a formula:"
   ]
  },
  {
   "cell_type": "raw",
   "metadata": {},
   "source": [
    "(cl$cluster-1) + 3*(gr.label-1)+1"
   ]
  },
  {
   "cell_type": "markdown",
   "metadata": {},
   "source": [
    "### was used to specify 9 patterns, 3 true labels x 3 classification labels. It is ternary numbering system-based conversion. Describe the formula.\n",
    "\"cl$cluster\": shows the groupings of data located in X into 3 clustering vector based on K-means method; the \"cl$cluster-1\" resulted in categorical groups number -1, changing the groups from 1,2,3 into 0,1,2. \n",
    "\n",
    "\"gr.label\": is the actual data (sample), ranged from 1 to 3. Specifying 3^(gr.label-1) change the data range into 3 to 9.\n",
    "\n",
    "The formula helps to plot the location of data in X and give them colors and symbols based on its classification"
   ]
  }
 ],
 "metadata": {
  "kernelspec": {
   "display_name": "R",
   "language": "R",
   "name": "ir"
  },
  "language_info": {
   "codemirror_mode": "r",
   "file_extension": ".r",
   "mimetype": "text/x-r-source",
   "name": "R",
   "pygments_lexer": "r",
   "version": "3.4.4"
  }
 },
 "nbformat": 4,
 "nbformat_minor": 2
}
