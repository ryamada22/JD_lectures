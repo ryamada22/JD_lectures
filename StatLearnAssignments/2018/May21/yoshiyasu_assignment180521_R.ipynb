{
 "cells": [
  {
   "cell_type": "markdown",
   "metadata": {},
   "source": [
    "Describe least square-based classification method."
   ]
  },
  {
   "cell_type": "markdown",
   "metadata": {},
   "source": [
    "座標 $(x_1,x_2)$ を持つ平面上のサンプルたちのグループ分けについて考える。サンプルたちは二つのグループのいずれかに属しており、第三座標 $y$ の値 $\\{0,1\\}$ によってその情報を持っている。最小二乗法に基づく方法でこれらのグループ分けを推測したい。\n",
    "\n",
    "各グループを塊と見なして、それらの重心にあたる直線を引きたい。まず、三つの座標 $(x_1,x_2,y)$ を用いて最小二乗法を行う：$y\\sim Xa+b$。これで $(x_1,x_2,y)$ 空間内の平面が決定される。これがグループを無視した点全体の重心を表す平面。我々は $(x_1,x_2)$ 平面内でグループ分けを行いたいのであった。$y$ 座標の値は $\\{0,1\\}$ のみで、これが各グループを表しているから、平面 $y=Xa+b$ について、領域 $y\\gt0.5$ と $y\\lt0.5$ を $(x_1,x_2)$ 平面へ射影したものがそれぞれのグループを表していると考えられる。（各グループのサンプル数が同じと仮定した。サンプル数に偏りがある場合、その重みから定まる別の値 $0\\lt h\\lt1$ を用いて、$y\\gt h$ と $y\\lt h$ を考える。）\n",
    "\n",
    "したがって、平面 $y=Xa+b$ とグループを分割する平面 $y=0.5$の共通部分として得られる直線を $(x_1,x_2)$ 平面に射影した $Xa+b=0.5$ が、求める直線となっている。"
   ]
  },
  {
   "cell_type": "markdown",
   "metadata": {},
   "source": [
    "In the above plot, a formula (cl$cluster-1) + 3^(gr.label-1) + 1 was used to specify 9 patterns, 3 true labels x 3 classification labels. It is ternary numbering system-based conversion. Describe the formula."
   ]
  },
  {
   "cell_type": "markdown",
   "metadata": {},
   "source": [
    "問題文の式は誤植。(cl$cluster-1) + 3*(gr.label-1) + 1 が実際の formula。\n",
    "\n",
    "式の括弧内にある二つのテーブルはどちらも $1,2,3$ を要素にもつ。これを三進数の各桁と見なしたい。各桁には $0,1,2$ だけを書くことができるので、括弧内の $-1$ はこの部分の修正。これでちょうど $3 \\times3=9$ つのパターンを表せるようになっているが、$1$ から $9$ をぴったり割り振るために最後の $+1$ をつけている。\n",
    "\n",
    "実際の対応を書き下すと、座標を (cl, gr) として、\n",
    "$$\n",
    "(1,1)=1, (2,1)=2, (3,1)=3,\\\\(1,2)=4, (2,2)=5, (3,2)=6,\\\\(1,3)=7, (2,3)=8, (3,3)=9\n",
    "$$\n",
    "となっている。"
   ]
  },
  {
   "cell_type": "code",
   "execution_count": null,
   "metadata": {},
   "outputs": [],
   "source": []
  }
 ],
 "metadata": {
  "kernelspec": {
   "display_name": "R",
   "language": "R",
   "name": "ir"
  },
  "language_info": {
   "codemirror_mode": "r",
   "file_extension": ".r",
   "mimetype": "text/x-r-source",
   "name": "R",
   "pygments_lexer": "r",
   "version": "3.4.4"
  }
 },
 "nbformat": 4,
 "nbformat_minor": 2
}
