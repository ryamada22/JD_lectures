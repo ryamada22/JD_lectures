{
 "cells": [
  {
   "cell_type": "markdown",
   "metadata": {},
   "source": [
    "### Describe least square-based classification method\n",
    "\n",
    "識別する二つのクラスに関して、{-1,+1}の二つのラベルをつける。(クラスに属するサンプルセットの重心が原点から遠いクラスを+1、近いクラスを-1とすることが多い。)\n",
    "このラベルを目的変数として、損失関数に最小二乗法を用いた回帰問題に定式化すると、\n",
    "$$\n",
    "y \\approx Xw\n",
    "w = argmin_w \\parallel y - Xw \\parallel ^2 + \\lambda \\parallel w \\parallel ^p\n",
    "$$\n",
    "となる。これを教師データから$w$について解く。\n",
    "得られた$w$を用いて、クラス分類したいサンプル$x$に対して、$w^T x$の値の正負でクラス分類を行う。<br>\n",
    "<br>\n",
    "<br>\n",
    "<h3> In the above plot, a formula (cl$cluster-1) + 3^(gr.label-1) + 1 was used to specify 9 patterns, 3 true labels x 3 classification labels. It is ternary numbering system-based conversion. Describe the formula </h3>\n",
    "\n",
    "三つのクラス(正解ラベル)に対して、三つの予測ラベルがあるので、計9通りのパターンがあるが、それらのパターンを識別するのに、三進法の仕組みを用いている。\n",
    "\n",
    "この場合、正解ラベル3通りを[0,1,2]、予測ラベル3通りを3*[0,1,2]としている。\n",
    "\n",
    "これは、三進法における$3^0$の桁は正解ラベル、$3^1$の桁は予測ラベルをそれぞれ表し、その三進法を十進法に直したのが\n",
    "<div>(cl$cluster-1) + 3^(gr.label-1) + 1</div>\n",
    "であり、1~9の値として、上記パターンを識別している。\n",
    "\n",
    "### SVMについて\n",
    "\n",
    "最小二乗法を用いたクラス分類では、$ |w^T x|　>> 1 $となるサンプルによって、識別のための超平面は精度を欠いてしまう。\n",
    "そこで、損失関数にヒンジ関数を用いたクラス分類をSVMという。\n",
    "ヒンジ関数 : $max\\{0, 1-yw^Tx\\}$\n",
    "\n",
    "ヒンジ関数によって、サポートベクトルが選ばれ($ |w^T x|　< 1 $となるサンプル)、これらによって$w$の学習が行われる。"
   ]
  },
  {
   "cell_type": "code",
   "execution_count": null,
   "metadata": {},
   "outputs": [],
   "source": []
  }
 ],
 "metadata": {
  "kernelspec": {
   "display_name": "Python 3",
   "language": "python",
   "name": "python3"
  },
  "language_info": {
   "codemirror_mode": {
    "name": "ipython",
    "version": 3
   },
   "file_extension": ".py",
   "mimetype": "text/x-python",
   "name": "python",
   "nbconvert_exporter": "python",
   "pygments_lexer": "ipython3",
   "version": "3.6.2"
  }
 },
 "nbformat": 4,
 "nbformat_minor": 2
}
