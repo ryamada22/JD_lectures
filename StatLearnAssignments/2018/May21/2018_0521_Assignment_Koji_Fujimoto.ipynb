{
 "cells": [
  {
   "cell_type": "markdown",
   "metadata": {},
   "source": [
    "### Assignment(Least_Square_Classification.ipynb)\n",
    "\n",
    "- Describe least square-based classification method\n"
   ]
  },
  {
   "cell_type": "markdown",
   "metadata": {},
   "source": [
    "- suppose we have two features.\n",
    "- suppose the outcome takes boolean (True or False).\n",
    "- try to predict the outcome from two features.\n",
    "\n",
    "\n",
    "1. assing a numerics to the outcome (e.g. True=1, False=-1), and create a vector $y$.\n",
    "1. create a 2D matrix $A$ consisting of two feature vectors $[feature_1, feature_2]$.\n",
    "1. calculate coefficient $x$ that minimize $||y-Ax||_2^2$ by a Linear regression.\n",
    "1. predictive model is $x_1 \\times feature_1 + x_2 \\times feature_2$\n",
    "1. if the outcome of the predictive model for a test data is larger than a threshold $a$ (e.g. $a=0$), the prediction of the outcome for the data is intepreted as \"True\".\n",
    "1. if the outcome of the predictive model for a test data is smaller than a threshold $a$ (e.g. $a=0$), the prediction of the outcome for the data is intepreted as \"False\".\n"
   ]
  },
  {
   "cell_type": "markdown",
   "metadata": {},
   "source": [
    "### Assignment (Math) (Test_Estimation_Classification_Prediction.ipynb)\n",
    "\n",
    "- In the above plot, a formula (cl$cluster-1) + 3^(gr.label-1) + 1 was used to specify 9 patterns, 3 true labels x 3 classification labels. It is ternary numbering system-based conversion. Describe the formula.\n"
   ]
  },
  {
   "cell_type": "markdown",
   "metadata": {},
   "source": [
    "1. 3^(gr.label-1) seems to be a typo of 3*(gr.label-1).\n",
    "1. for a label vector consisting of [1,2,3] 3*(gr.label-1) gives [0,3,6].\n",
    "1. for a cluster vector consistingof [1,2,3]  (cl$cluster-1) gives [0,1,2].\n",
    "\n",
    "1. thus, (cl$cluster-1) + 3^(gr.label-1) + 1 for all possible combination of the label an the cluster gives [1,2,...,9].\n"
   ]
  }
 ],
 "metadata": {
  "anaconda-cloud": {},
  "kernelspec": {
   "display_name": "R",
   "language": "R",
   "name": "ir"
  },
  "language_info": {
   "codemirror_mode": "r",
   "file_extension": ".r",
   "mimetype": "text/x-r-source",
   "name": "R",
   "pygments_lexer": "r",
   "version": "3.4.4"
  }
 },
 "nbformat": 4,
 "nbformat_minor": 1
}
