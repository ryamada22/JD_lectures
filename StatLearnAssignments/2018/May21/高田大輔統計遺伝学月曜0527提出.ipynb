{
 "cells": [
  {
   "cell_type": "code",
   "execution_count": null,
   "metadata": {},
   "outputs": [],
   "source": [
    "今回の宿題は、4月にkNNで理解した「分類」の概念のうち、SVMの考え方を理解する事である。\n",
    "\n",
    "直線で分類する事は、訓練サンプルによっては簡単である。\n",
    "傾きと係数とrangeを指定してやれば分類の線をひける。\n",
    "宿題のサンプルであれば、どの線も分類できている。\n",
    "\n",
    "SVMの機能を使うと、\n",
    "「訓練サンプルから、各データ点との距離が最大となるマージン最大化超平面を求める」\n",
    "事ができる。宿題では線形分離の例を練習した。\n",
    "\n",
    "これまでの考え方では非線形分離を行う事はできない例を実行した。\n",
    "そのためにカーネル関数を用いた写像により線形分離を行った。\n",
    "これは新しい次元(宿題ではrの座標)を設定することで、分類を行うというものである。\n"
   ]
  }
 ],
 "metadata": {
  "kernelspec": {
   "display_name": "Python 3",
   "language": "python",
   "name": "python3"
  },
  "language_info": {
   "codemirror_mode": {
    "name": "ipython",
    "version": 3
   },
   "file_extension": ".py",
   "mimetype": "text/x-python",
   "name": "python",
   "nbconvert_exporter": "python",
   "pygments_lexer": "ipython3",
   "version": "3.6.4"
  }
 },
 "nbformat": 4,
 "nbformat_minor": 2
}
