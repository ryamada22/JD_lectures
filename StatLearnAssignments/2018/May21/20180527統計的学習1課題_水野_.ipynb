{
 "cells": [
  {
   "cell_type": "markdown",
   "metadata": {},
   "source": [
    "統計的学習1課題　水野佳世子\n",
    "\n",
    "・最小二乗法\n",
    "真の関数値と推定された関数値の差を残差と呼ぶ。最小二乗法は、残差平方和が最小になるような係数を求める。\n",
    "\n",
    "・SVM\n",
    "クラスが互いに重なり合っており分離不可能な場合への拡張の手法である。この手法は、高次元に変換された特徴空間上で線形境界を構成することで、非線形境界を作り出す。分類や回帰のための教師ありの手法である。\n",
    "双対形式を用いて、マージン上の訓練インスタンスであるサポートベクトルに対してのみ0でない重みが与えられる。ソフトマージンを用いた一般化ではマージンエラーを許容するが、それらの和を複雑性パラメータCにより重みづけたうえで、正則化項として目的関数に加えるという方法である。ｋのとき、マージン内のすべてのインスタンスに対して、重みCが与えられる。Cを十分小さくすることによってサポートベクトルマシンは各クラスの平均によって記述でき、基本線形分類器に非常に近い形となる。"
   ]
  }
 ],
 "metadata": {
  "kernelspec": {
   "display_name": "Python 3",
   "language": "python",
   "name": "python3"
  },
  "language_info": {
   "codemirror_mode": {
    "name": "ipython",
    "version": 3
   },
   "file_extension": ".py",
   "mimetype": "text/x-python",
   "name": "python",
   "nbconvert_exporter": "python",
   "pygments_lexer": "ipython3",
   "version": "3.6.4"
  }
 },
 "nbformat": 4,
 "nbformat_minor": 2
}
