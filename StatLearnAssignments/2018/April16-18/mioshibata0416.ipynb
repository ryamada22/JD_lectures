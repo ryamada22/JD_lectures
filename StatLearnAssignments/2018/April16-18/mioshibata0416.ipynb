{
 "cells": [
  {
   "cell_type": "markdown",
   "metadata": {},
   "source": [
    "# Assignment 20180416\n",
    "\n",
    "\n",
    "## Mio Shibata\n",
    "\n",
    "- Report your opinion on the classification displayed in the bottom drawing in the document \"Linear Models and Least Squares\"\n",
    "\n",
    "\n",
    " This figure has two layers that one is plotted with black and red dots and the other is plotted with blue and green dots.The first layer with black and red is classified by covariance determined by the two variates norm distribution. If the covariance is higher than 1.2, its color is red. If it is less than 1.2, its color is black. The second layer with blue and green is classified by the two variables that were given by linear regression. Tha regression was also defined by the two variates norm distribution. The number of plot is 100000 and the border of the color is defined with linear algebra.\n",
    " We can't distinguish the rule between black and red at glance because we can't get the process just seeing that figure. It seemed that dots are colored at random but through the rules written as R code, we find that the classification is determined. On the other hand the rules between blue and green is easy because the border is very clear. Therefore, some classification is easy for us to understand but other is not and it depends on how the rules are defined. \n",
    "\n",
    "\n",
    "- Describe the top formula in the document \"k-Nearest Neighbor Method\" in your mother tongue language as if you describe it to the friends who are not familiar with math.\n",
    "\n",
    "　あるサンプルxには座標平面上にあらわせる情報、例えると、住所を持っています。座標平面上(地図上)には、過去のサンプル(住所)からクラス(町内会)に分割されたたくさんのデータが入ってます。そのxを座標平面(地図)の上に置き、座標平面(地図)の中でk番目までの近いサンプル(住所)との距離の平均をY(x)で表す式がこの定義で与えられている式です。このYの値からどのクラス(町内会)に入るかが決められます。\n",
    " \n",
    " 　If we have a sample which has two dimentional coordinates, like mail address. The coordinate space is like map and that space has the classification determined by samples given before. In other words, each  classification stands for each neighborhood association and new sample is like a new resident. Then we need to diffine that new one belongs to that association by the average kth nearest distance. The diffinition is to caluculate that distance.\n",
    "\n",
    "\n",
    "- Describe the bottom 9 panels in the document \"k-Nearest Neighbor Method\" on the change in the regions along the parameter values of k.\n",
    "\n",
    "\n",
    " There are 9 patterns of k in the figure and the classification is that red dots are in the blue colored area and black ones in blue. The expansion of the each color is determined by the parameter, k. When k =1, the segmentations of color is like pointing and the outliners of the dataset also have their color. When the number of k is increasing, the outliners are ignored and the plot ten to show the inclination of the datasets. The parameter is let very high, the trend of each dataset, however, is canceled because almost all the samples are nearest and it means that there is no differential classification anymore.  \n"
   ]
  },
  {
   "cell_type": "code",
   "execution_count": null,
   "metadata": {},
   "outputs": [],
   "source": []
  }
 ],
 "metadata": {
  "kernelspec": {
   "display_name": "Python 3",
   "language": "python",
   "name": "python3"
  },
  "language_info": {
   "codemirror_mode": {
    "name": "ipython",
    "version": 3
   },
   "file_extension": ".py",
   "mimetype": "text/x-python",
   "name": "python",
   "nbconvert_exporter": "python",
   "pygments_lexer": "ipython3",
   "version": "3.6.4"
  }
 },
 "nbformat": 4,
 "nbformat_minor": 2
}
