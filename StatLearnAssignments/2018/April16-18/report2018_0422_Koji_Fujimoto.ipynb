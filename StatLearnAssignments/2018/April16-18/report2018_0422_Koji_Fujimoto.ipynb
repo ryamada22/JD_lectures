{
 "cells": [
  {
   "cell_type": "markdown",
   "metadata": {},
   "source": [
    "Report your opinion on the classification displayed in the bottom drawing in the document \"Linear Models and Least Squares\" \n",
    "\n",
    "Least square-based classification decides a line (or plane) to separate two groups in an n-dimensional space. This could be successful if there is an enough space between groups. However, if the distribution is overlapped, the line (or plane) cannot avoid misclassification.\n",
    "\n",
    "Describe the top formula in the document \"k-Nearest Neighbor Method\" in your mother tongue language as if you describe it to the friends who are not familiar with math.\n",
    "\n",
    "要素の数が全部でx個ある集合のうち、条件に合致するものがk個あったときに、そのk個の要素があらわす値yを全て足したあとに、要素の個数（k）で割ったもの。すなわち、Y_hat (x) とは条件に合致する集団内での平均値。\n",
    "\n",
    "Describe the bottom 9 panels in the document \"k-Nearest Neighbor Method\" on the change in the regions along the parameter values of k.\n",
    "\n",
    "If k is not too large (k =< 40), larger k gives worse results. If k is very large, the algorithm gives strange result.\n",
    " \n",
    "\n"
   ]
  }
 ],
 "metadata": {
  "anaconda-cloud": {},
  "kernelspec": {
   "display_name": "Python [default]",
   "language": "python",
   "name": "python3"
  },
  "language_info": {
   "codemirror_mode": {
    "name": "ipython",
    "version": 3
   },
   "file_extension": ".py",
   "mimetype": "text/x-python",
   "name": "python",
   "nbconvert_exporter": "python",
   "pygments_lexer": "ipython3",
   "version": "3.5.2"
  }
 },
 "nbformat": 4,
 "nbformat_minor": 1
}
