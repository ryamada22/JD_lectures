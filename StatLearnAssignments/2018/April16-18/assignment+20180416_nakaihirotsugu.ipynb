{
 "cells": [
  {
   "cell_type": "code",
   "execution_count": null,
   "metadata": {
    "collapsed": true
   },
   "outputs": [],
   "source": [
    "①\tReport your opinion on the classification displayed in the bottom drawing in the document \"Linear Models and Least Squares\" \n",
    "\n",
    "1)\tWhen a distribution of population is known and it is possible to generate sample sets, how do you evaluate/compare performance of the least square method and k-NN method with various k values?\n",
    "\n",
    "I’ll compare the difference between learned distribution and the population distribution. The closer model to the population distribution is thought to be better.\n",
    "\n",
    "2)\tWhen a distribution of population is UNKNOWN but it is possible to generate sample sets, how do you evaluate/compare performance of them?\n",
    "\n",
    "I’ll make training set and test set , and compare error rate of them in training set and test set. The model with lower error rate in test set is thought to be a good model.\n",
    "\n",
    "3)\tWhen a distribution of population is UNKNOWN and it is NOT possible to generate sample sets, how do you evaluate/compare performance of them?\n",
    "\n",
    "I’m not sure.\n",
    "\n",
    "\n",
    "\n",
    "\n",
    "②\tDescribe the top formula in the document \"k-Nearest Neighbor Method\" in your mother tongue language as if you describe it to the friends who are not familiar with math.\n",
    "\n",
    "未知データのラベルの推定値を、未知データ近傍のk個のラベルの平均値とする\n",
    "\n",
    "\n",
    "\n",
    "\n",
    "③\tDescribe the bottom 9 panels in the document \"k-Nearest Neighbor Method\" on the change in the regions along the parameter values of k.\n",
    "\n",
    "The panel in k=1, the classification is not seems so bad. \n",
    "However, it seems to be including some plots thought to be noise. \n",
    "Up to a certain degree of k (about 3〜10), classification seems to be getting better as it rises.\n",
    "The border of classification is getting smoother. \n",
    "However, when k reaches a certain value or more (about 20〜40),\n",
    "it seems erroneously to classify black dots into red classes. \n",
    "It seems to be resistant to noise, but it seems to be overfitting.\n",
    "The panel in k=100, the classification is clearly bad.\n"
   ]
  }
 ],
 "metadata": {
  "kernelspec": {
   "display_name": "Python 3",
   "language": "python",
   "name": "python3"
  },
  "language_info": {
   "codemirror_mode": {
    "name": "ipython",
    "version": 3
   },
   "file_extension": ".py",
   "mimetype": "text/x-python",
   "name": "python",
   "nbconvert_exporter": "python",
   "pygments_lexer": "ipython3",
   "version": "3.6.1"
  }
 },
 "nbformat": 4,
 "nbformat_minor": 2
}
