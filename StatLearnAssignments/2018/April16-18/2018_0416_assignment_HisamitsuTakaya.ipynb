{
 "cells": [
  {
   "cell_type": "markdown",
   "metadata": {},
   "source": [
    "## 2018_0416 assignment"
   ]
  },
  {
   "cell_type": "markdown",
   "metadata": {},
   "source": [
    "### See the text . Check the important ideas as indicated and get their minimum knowledge in the books/websites at the level where you can give one sentence on each of them. You will learn their detailed knowledge through the classes."
   ]
  },
  {
   "cell_type": "markdown",
   "metadata": {},
   "source": [
    "- How to evaluate learning results and learning methods"
   ]
  },
  {
   "cell_type": "markdown",
   "metadata": {},
   "source": [
    "正解率、適合率、再現率といった比較的単純な指標や、モデル評価としてAIC、BIC、Cp基準などがある。"
   ]
  },
  {
   "cell_type": "markdown",
   "metadata": {},
   "source": [
    "- Training set and test set"
   ]
  },
  {
   "cell_type": "markdown",
   "metadata": {},
   "source": [
    "あるモデルのパラメーターをチューニングするためにトレーニングセットを用いて最適なパラメーターをセットし、テストセットはそのモデルの性能評価に用い、モデルの設定変更は行わない。"
   ]
  },
  {
   "cell_type": "markdown",
   "metadata": {},
   "source": [
    "- Bias and variance"
   ]
  },
  {
   "cell_type": "markdown",
   "metadata": {},
   "source": [
    "あるデータセットにモデルを用いて得られる結果の、真の結果との隔たりをバイアス、複数の異なるデータセットを適合した場合の、結果どうしのばらつきをバリアンスという。"
   ]
  },
  {
   "cell_type": "markdown",
   "metadata": {},
   "source": [
    "- Bias-Variance tradeoff"
   ]
  },
  {
   "cell_type": "markdown",
   "metadata": {},
   "source": [
    "バイアスが大きいモデルはバリアンスが小さくなるが、バイアスが小さくなるようにモデルを適合させると逆にバリアンスは大きくなってしまう。"
   ]
  },
  {
   "cell_type": "markdown",
   "metadata": {},
   "source": [
    "- Overfitting"
   ]
  },
  {
   "cell_type": "markdown",
   "metadata": {},
   "source": [
    "分類器の設定をトレーニングセットに対し適合し過ぎていて、テストセットに対しては逆に適合なくなってしまっている状態。"
   ]
  },
  {
   "cell_type": "markdown",
   "metadata": {},
   "source": [
    "- Model complexity"
   ]
  },
  {
   "cell_type": "markdown",
   "metadata": {},
   "source": [
    "トレーニングセットに対しての適合度をあげると、適合するモデルがより複雑になり、バリアンスが大きくなる。"
   ]
  },
  {
   "cell_type": "markdown",
   "metadata": {},
   "source": [
    "### Read and perform the codes in Evaluation of Learning, including the linked documents."
   ]
  },
  {
   "cell_type": "markdown",
   "metadata": {},
   "source": [
    "- Report your opinion on the classification displayed in the bottom drawing in the document \"Linear Models and Least Squares\" "
   ]
  },
  {
   "cell_type": "markdown",
   "metadata": {},
   "source": [
    "示されている散布図では分類したい2種類のサンプルが近い座標に混ざり合って存在している。このため、線形の分離では正しく分類されないサンプルが増えてしまっており、分類が困難である。"
   ]
  },
  {
   "cell_type": "markdown",
   "metadata": {},
   "source": [
    "- Describe the top formula in the document \"k-Nearest Neighbor Method\" in your mother tongue language as if you describe it to the friends who are not familiar with math."
   ]
  },
  {
   "cell_type": "markdown",
   "metadata": {},
   "source": [
    "連続変数の推定を考える。平面上にいくつもの点があり、それぞれの点がある値を持っていて、その値は既知であるとする。例えばその値は、地図のある点での海抜であったり、単位面積当たりの人口密度を考えるといいかもしれない。そこで、その値が未知である点（Xとしよう）を考えた時、値を推測したい。\n",
    "この数式では、Xからの距離が近い順にk個の点を選び、それらの点における値の平均値が、Xにおける値の推定値とできるとしている。  \n",
    "\n",
    "一方、カテゴリ変数の推定を考える。つまり分類問題である。先程と同じく、平面上にいくつもの点があり、全ての点が2つの分類（例えば赤と青）のうちのどちらかであることが分かっているとする。そこで、分類が不明な点（X）を考え、どちらに分類されるかを知りたい。\n",
    "この数式でのyが分類値になるので、赤と青に0と1という仮の値を与え、推定値からどちらに分類されるかを判断する。つまり、推定値が0に近いなら赤、1に近いなら青と分類する。Xからの距離が近い順にk個の点を選び、それらの点の赤の個数と青の個数を数える。仮にi個が青とすると、Xの分類値はi/kとなる。i/kが0.5より大きければ青に分類し、i/kが0.5より小さければ赤に分類する。"
   ]
  },
  {
   "cell_type": "markdown",
   "metadata": {},
   "source": [
    "- Describe the bottom 9 panels in the document \"k-Nearest Neighbor Method\" on the change in the regions along the parameter values of k."
   ]
  },
  {
   "cell_type": "markdown",
   "metadata": {},
   "source": [
    "k=1の場合は、赤と黒に分類される平面上の領域が、複雑化されており、赤が密集している領域にも黒に分類されている領域が存在している。kが大きくなるにつれ、赤と黒に分類される領域は大きく二つに分けられ、その境界線が滑らかになっていく。しかし、k=40程度になると、よりばらけて存在する群（この場合は黒）で誤分類が多くなり、k=100になるとほぼ誤分類されてしまう。"
   ]
  }
 ],
 "metadata": {
  "kernelspec": {
   "display_name": "Python 3",
   "language": "python",
   "name": "python3"
  },
  "language_info": {
   "codemirror_mode": {
    "name": "ipython",
    "version": 3
   },
   "file_extension": ".py",
   "mimetype": "text/x-python",
   "name": "python",
   "nbconvert_exporter": "python",
   "pygments_lexer": "ipython3",
   "version": "3.6.4"
  }
 },
 "nbformat": 4,
 "nbformat_minor": 2
}
