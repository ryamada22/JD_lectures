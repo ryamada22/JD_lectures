{
 "cells": [
  {
   "cell_type": "code",
   "execution_count": 1,
   "metadata": {},
   "outputs": [],
   "source": [
    "#Report your opinion on the classification displayed in the bottom drawing in the document \"Linear Models and Least Squares\" \n",
    "#わかりません、、、\n",
    "\n",
    "#Describe the top formula in the document \"k-Nearest Neighbor Method\" in your mother tongue language as if you describe it to the friends who are not familiar with math.\n",
    "#わかりませんでした、、200*2の行列を作成して、それを2グループに分けている。\n",
    "#vが1.2より大きいか以下かで、V0,1を分類し、それぞれに0 or 1を挿入する\n",
    "#xを2色にわけてplotしている\n",
    "# plot関数内の以下がわかりません、、\n",
    "col=gr+1\n",
    "\n",
    "#Describe the bottom 9 panels in the document \"k-Nearest Neighbor Method\" on the change in the regions along the parameter values of k.\n",
    "\n",
    "# 最近傍k個の点の中で最も多い色に属する様に設定する。　\n",
    "#つまり赤に属すれば青、黒に属すれば緑といった具合になるが、kが増えるとその分たくさんの\n",
    "#点を使用して分類するため、それによって分類法が変わってくる\n"
   ]
  },
  {
   "cell_type": "code",
   "execution_count": null,
   "metadata": {},
   "outputs": [],
   "source": []
  }
 ],
 "metadata": {
  "kernelspec": {
   "display_name": "Python 3",
   "language": "python",
   "name": "python3"
  },
  "language_info": {
   "codemirror_mode": {
    "name": "ipython",
    "version": 3
   },
   "file_extension": ".py",
   "mimetype": "text/x-python",
   "name": "python",
   "nbconvert_exporter": "python",
   "pygments_lexer": "ipython3",
   "version": "3.6.4"
  }
 },
 "nbformat": 4,
 "nbformat_minor": 2
}
