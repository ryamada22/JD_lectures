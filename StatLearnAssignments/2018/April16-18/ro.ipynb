{
 "cells": [
  {
   "cell_type": "code",
   "execution_count": null,
   "metadata": {},
   "outputs": [],
   "source": [
    "1.Report your opinion on the classification displayed in the bottom drawing in the document \"Linear Models and Least Squares\" \n",
    "\n",
    "Linear least squares classification is a major method that always be used in statical analysis.Generally speaking,'least squares' is the way to approach　the data in the real world to the idealized value. [we chould also use the result value to summarized the data，understand the mechanism of the system, \n",
    "and predict data in the same group][1].\n",
    "\n",
    "\n",
    "\n",
    "2.Describe the top formula in the document \"k-Nearest Neighbor Method\" in your mother tongue language as if you describe it to the friends who are not familiar with math.\n",
    "\n",
    "It seemed to be a difficult task for me because even I don't really understand this formula at first because of my poor statistic and algorithm knowledge.\n",
    "Fortunately,after searching the relative materials in the Internet(both Chinese[My mother tongue language]and English),I thought I managed to understand this formula and then I tried to describe this formula to one of my friends(Chinese,non Math or Engineering Major).At last I didn't managed to explain this\n",
    "formula well to my friend,but I told him that the main idea of the KNN Method is that Class labels are decided by the average among neighbors,maybe he \n",
    "understood in a certain extent.\n",
    "\n",
    "3.Describe the bottom 9 panels in the document \"k-Nearest Neighbor Method\" on the change in the regions along the parameter values of k.\n",
    "\n",
    "when promoting the variable quantity 'K',which means the number of neighbors,the blue area become bigger.At first, when k value is 15-20,it seems to be a \n",
    "proper value to get the approprate result.At last, when the k become to 100,the whole diagram become blue. which means that the result when the k is 100 has some deviation because the value K is so big. Then it means that it is not good to blindly promote the value when we are handling the data.\n",
    "\n",
    "\n",
    "\n",
    "\n",
    "reference：\n",
    "[1]:https://en.wikipedia.org/wiki/Linear_least_squares_(mathematics) ウイキペディア　最小二乗法"
   ]
  }
 ],
 "metadata": {
  "kernelspec": {
   "display_name": "Python 3",
   "language": "python",
   "name": "python3"
  },
  "language_info": {
   "codemirror_mode": {
    "name": "ipython",
    "version": 3
   },
   "file_extension": ".py",
   "mimetype": "text/x-python",
   "name": "python",
   "nbconvert_exporter": "python",
   "pygments_lexer": "ipython3",
   "version": "3.6.4"
  }
 },
 "nbformat": 4,
 "nbformat_minor": 2
}
