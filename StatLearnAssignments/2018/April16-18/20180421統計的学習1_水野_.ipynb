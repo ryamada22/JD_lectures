{
 "cells": [
  {
   "cell_type": "markdown",
   "metadata": {},
   "source": [
    "統計的学習1課題　水野佳世子\n",
    "\n",
    "Report your opinion on the classification displayed in the bottom drawing in the document \"Linear Models and Least Squares\" \n",
    "線形モデルは、モデルの構造について強い仮定を設けているため、安定しているが、予測が大きく偏ってしまう可能性がある。最小2乗法は、線形モデルの中で、最も頻繁に用いられているものである。\n",
    "\n",
    "Describe the top formula in the document \"k-Nearest Neighbor Method\" in your mother tongue language as if you describe it to the friends who are not familiar with math.\n",
    "入力空間内でxに近いk個のxiを選び、それらの出力平均値を予測値y^とするのがk最近傍法である。\n",
    "\n",
    "Describe the bottom 9 panels in the document \"k-Nearest Neighbor Method\" on the change in the regions along the parameter values of k.\n",
    "kの数値が小さいほうが、誤分類される観測値が少ない。"
   ]
  }
 ],
 "metadata": {
  "kernelspec": {
   "display_name": "Python 3",
   "language": "python",
   "name": "python3"
  },
  "language_info": {
   "codemirror_mode": {
    "name": "ipython",
    "version": 3
   },
   "file_extension": ".py",
   "mimetype": "text/x-python",
   "name": "python",
   "nbconvert_exporter": "python",
   "pygments_lexer": "ipython3",
   "version": "3.6.4"
  }
 },
 "nbformat": 4,
 "nbformat_minor": 2
}
