{
 "cells": [
  {
   "cell_type": "markdown",
   "metadata": {},
   "source": [
    "Assignment 2018/4/21 Woojin Joo\n",
    "\n",
    "#1.Report your opinion on the classification displayed in the bottom drawing in the document \"Linear Models and Least Squares\" \n",
    "\n",
    "データにばらつき（外れ値）がある時に最小二乗法による分類はやや頑健さに欠ける。また、この例のように二つのグループが混ざっている部分がある場合には、線形分離自体が難しいのではないだろうか。"
   ]
  },
  {
   "cell_type": "markdown",
   "metadata": {},
   "source": [
    "#2.Describe the top formula in the document \"k-Nearest Neighbor Method\" in your mother tongue language as if you describe it to the friends who are not familiar with math.\n",
    "\n",
    "k近傍法は目的とするデータの近くのk個のデータの分類から多数決で目的とするデータの分類を決める方法である。kが1より大きい場合、この数式での$\\hat{Y}(x)$ は目的とするデータの近くのk個のデータの$Y(x)$の合計をkで割った平均値である。"
   ]
  },
  {
   "cell_type": "markdown",
   "metadata": {},
   "source": [
    "#3.Describe the bottom 9 panels in the document \"k-Nearest Neighbor Method\" on the change in the regions along the parameter values of k.\n",
    "\n",
    "k=1,2などkが小さい時は外れ値の影響も大きくなるため外れ値の周りも青に分類され、分類間違いは少ない。k>=5では外れ値の影響も少なくなり、外れ値は無視された分類となる。これゆえに、外れ値を検出することも可能となる。"
   ]
  },
  {
   "cell_type": "code",
   "execution_count": null,
   "metadata": {},
   "outputs": [],
   "source": []
  }
 ],
 "metadata": {
  "kernelspec": {
   "display_name": "Python 3",
   "language": "python",
   "name": "python3"
  },
  "language_info": {
   "codemirror_mode": {
    "name": "ipython",
    "version": 3
   },
   "file_extension": ".py",
   "mimetype": "text/x-python",
   "name": "python",
   "nbconvert_exporter": "python",
   "pygments_lexer": "ipython3",
   "version": "3.6.4"
  }
 },
 "nbformat": 4,
 "nbformat_minor": 2
}
