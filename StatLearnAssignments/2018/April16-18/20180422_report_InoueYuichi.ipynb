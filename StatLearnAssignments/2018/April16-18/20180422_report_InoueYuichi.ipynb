{
 "cells": [
  {
   "cell_type": "markdown",
   "metadata": {},
   "source": [
    "1.<br>\n",
    "線形モデルの最小二乗法による分類は、<br>\n",
    "二次元平面を直線で２つのグループに分類する方法なので、<br>\n",
    "２つの特徴量が直線で分けられる場合には適しているが、<br>\n",
    "２つより多い特徴量を持っていたり、曲線のほうが上手に分けられる場合は適していない。<br>"
   ]
  },
  {
   "cell_type": "markdown",
   "metadata": {},
   "source": [
    "2.<br>\n",
    "k最近傍法<br>\n",
    "図中にある点をうち、その点からユークリッド距離の近い点を順番にk個みる。<br>\n",
    "そのとき含まれているラベルの多い方が目的のある点のラベルとなる。<br>"
   ]
  },
  {
   "cell_type": "markdown",
   "metadata": {},
   "source": [
    "3.<br>\n",
    "k=1のときは分類が細かくされている。<br>\n",
    "例えば、左下にある赤一点の周りも赤に分類されている。<br>\n",
    "kが増えるにつれて分類がざっくりとしていく。<br>\n",
    "k=15くらいまでは外れ値のような値は無視して大きく２つの領域に分類できている。<br>\n",
    "k=20より大きくなってくると中央左に赤の領域が侵食してきているように<br>\n",
    "密度が濃い場所があるとそこから違うラベルの領域まで入っていってしまう。<br>\n",
    "k=100は図中にある多くの点を参照しており、<br>\n",
    "場所によらず数が多い方の領域となりやすいのでうまく分類できない。<br>"
   ]
  }
 ],
 "metadata": {
  "kernelspec": {
   "display_name": "Python 3",
   "language": "python",
   "name": "python3"
  },
  "language_info": {
   "codemirror_mode": {
    "name": "ipython",
    "version": 3
   },
   "file_extension": ".py",
   "mimetype": "text/x-python",
   "name": "python",
   "nbconvert_exporter": "python",
   "pygments_lexer": "ipython3",
   "version": "3.6.3"
  }
 },
 "nbformat": 4,
 "nbformat_minor": 2
}
