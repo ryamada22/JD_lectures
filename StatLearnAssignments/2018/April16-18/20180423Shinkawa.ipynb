{
 "cells": [
  {
   "cell_type": "markdown",
   "metadata": {},
   "source": [
    "・Report your opinion on the classification displayed in the bottom drawing in the document \"Linear Models and Least Squares\" \n",
    "最小二乗法は、プロットのy座標と回帰直線上のy座標の残差2乗和を最小となるような関数を求める。2つのクラスの予測結果は線形の決定境界（decision boundary）によって隔てられる。線形な決定境界の両側に誤分類された点が存在しているが、これらは線形モデルの柔軟性の欠如によるものか、本質的に避けられないノイズであるのかを判断することは難しい。\n",
    "\n",
    "・Describe the top formula in the document \"k-Nearest Neighbor Method\" in your mother tongue language as if you describe it to the friends who are not familiar with math.\n",
    "入力空間内でxに近いk個のxiを選び、それらの出力の平均値を予測値Y^とすること。\n",
    "\n",
    "・Describe the bottom 9 panels in the document \"k-Nearest Neighbor Method\" on the change in the regions along the parameter values of k.\n",
    "K=1では誤分類された観測値は少なくなるが、決定境界は曲がりくねった不安定なものになってしまう。Kが増えると誤分類が多くなる。"
   ]
  },
  {
   "cell_type": "code",
   "execution_count": null,
   "metadata": {},
   "outputs": [],
   "source": []
  },
  {
   "cell_type": "code",
   "execution_count": null,
   "metadata": {},
   "outputs": [],
   "source": []
  },
  {
   "cell_type": "code",
   "execution_count": null,
   "metadata": {},
   "outputs": [],
   "source": []
  }
 ],
 "metadata": {
  "kernelspec": {
   "display_name": "Python 3",
   "language": "python",
   "name": "python3"
  },
  "language_info": {
   "codemirror_mode": {
    "name": "ipython",
    "version": 3
   },
   "file_extension": ".py",
   "mimetype": "text/x-python",
   "name": "python",
   "nbconvert_exporter": "python",
   "pygments_lexer": "ipython3",
   "version": "3.6.4"
  }
 },
 "nbformat": 4,
 "nbformat_minor": 2
}
