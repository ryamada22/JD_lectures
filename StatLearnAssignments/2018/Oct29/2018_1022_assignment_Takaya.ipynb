{
 "cells": [
  {
   "cell_type": "markdown",
   "metadata": {},
   "source": [
    "## Assingment\n",
    "- Total sample size N = 4000; 3000 with Y=0 and 1000 with Y=1. Y is the target variable.\n",
    "- There are three clinical variables, X1, X2 and X3. Every Xi is dichotomous ({0,1}).\n",
    "- Determine a fraction vector for 16 combinatorial stata.\n",
    "- Generate N samples' data records for Y and X1, X2 and X3.\n",
    "- Report the codes in python."
   ]
  },
  {
   "cell_type": "code",
   "execution_count": 1,
   "metadata": {},
   "outputs": [],
   "source": [
    "import numpy as np\n",
    "\n",
    "N = 4000"
   ]
  },
  {
   "cell_type": "code",
   "execution_count": 211,
   "metadata": {},
   "outputs": [],
   "source": [
    "# 木の深さと最初の割合を指定すると子ノードまでランダムに分割を進める関数を作る\n",
    "\n",
    "def make_fraction(layer, init):\n",
    "    root = np.ones(1)\n",
    "    node = root * init\n",
    "    for i in range(layer-1):\n",
    "        res = np.array([[]])\n",
    "        for j in node:\n",
    "            r = np.random.uniform(0.2,0.8,1)\n",
    "            prop = np.array([r,1-r])\n",
    "            frac = j * prop\n",
    "            res = np.append(res, frac)\n",
    "        node = res\n",
    "    return(node)"
   ]
  },
  {
   "cell_type": "code",
   "execution_count": 271,
   "metadata": {},
   "outputs": [],
   "source": [
    "# 初期の割合を0.75:0.25で4層の子ノードの確率を計算する\n",
    "fraction = make_fraction(4, np.array([0.75, 0.25]))\n",
    "\n",
    "# Y=0が3000, Y=1が1000なので、全ての子ノードのYについての条件付き確率を求める\n",
    "y0_frac = fraction[:8]/sum(fraction[:8])\n",
    "y1_frac = fraction[8:]/sum(fraction[8:])\n",
    "\n",
    "# 多項分布の乱数を使って子ノードのサンプル数を作る\n",
    "Y0 = np.random.multinomial(3000, y0_frac)\n",
    "Y1 = np.random.multinomial(1000, y1_frac)"
   ]
  },
  {
   "cell_type": "code",
   "execution_count": 234,
   "metadata": {},
   "outputs": [],
   "source": [
    "# 16通りの値のリスト\n",
    "val = [[0,0,0,0],[0,0,0,1],[0,0,1,0],[0,0,1,1],[0,1,0,0],[0,1,0,1],[0,1,1,0],[0,1,1,1],[1,0,0,0],[1,0,0,1],[1,0,1,0],[1,0,1,1],[1,1,0,0],[1,1,0,1],[1,1,1,0],[1,1,1,1]]                                   "
   ]
  },
  {
   "cell_type": "code",
   "execution_count": 275,
   "metadata": {},
   "outputs": [],
   "source": [
    "# 空のアレイを作り、そこに全てのサンプルの値を順にappendする\n",
    "sample = np.array([])\n",
    "num = np.append(Y0,Y1)\n",
    "for i in range(len(num)):\n",
    "    n = num[i].astype(\"int64\")\n",
    "    for j in range(n):\n",
    "        sample = np.append(sample, val[i])\n",
    "        \n",
    "# 最後に4000×4の行列にする\n",
    "sample = sample.reshape(4000,4)"
   ]
  }
 ],
 "metadata": {
  "kernelspec": {
   "display_name": "Python 3",
   "language": "python",
   "name": "python3"
  },
  "language_info": {
   "codemirror_mode": {
    "name": "ipython",
    "version": 3
   },
   "file_extension": ".py",
   "mimetype": "text/x-python",
   "name": "python",
   "nbconvert_exporter": "python",
   "pygments_lexer": "ipython3",
   "version": "3.6.3"
  }
 },
 "nbformat": 4,
 "nbformat_minor": 2
}
