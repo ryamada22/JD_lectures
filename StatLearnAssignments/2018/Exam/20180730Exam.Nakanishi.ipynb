{
 "cells": [
  {
   "cell_type": "markdown",
   "metadata": {},
   "source": [
    "# Exam\n",
    "Read the review https://www.ncbi.nlm.nih.gov/pmc/articles/PMC5721660/.\n",
    "Is there any improvement in your skills to grab the content of the review?\n",
    "If any, describe what they are and how they worked?\n",
    "If no, describe how the lectures should be improved."
   ]
  },
  {
   "cell_type": "markdown",
   "metadata": {},
   "source": [
    "The paper says that Machine learning is often termed also datamining, computational intelligence,or pattern recognition.\n",
    "At first I didn't understand what Machine learning means, but now it is more clear to me and can understand Machine learning is \"pattern recognition\".\n",
    "I am going to make a list of what I became to understand and what I still don't understand according to the 10 tips in the paper."
   ]
  },
  {
   "cell_type": "markdown",
   "metadata": {},
   "source": [
    "# Tip1 \n",
    ">deciding what is the minimum dataset size to be able to train properly a machine learning algorithm might be tricky. Even if sometimes this not possible, the ideal situation would be having at least ten times as many data instances as there are data features [8, 9]. \n",
    "\n",
    "I still don't understand why the dataset size should be at least ten times as many as the data fetures.\n",
    "But I finally understand by going through this site(https://medium.com/@malay.haldar/how-much-training-data-do-you-need-da8ec091e956). I actually learned how to search for my question on the internet in this lecture.\n",
    "\n",
    ">Latent semantic indexing (LSI), for example, is an information retrieval method which necessitates this pre-processing to be employed for prediction of gene functional annotations [13]. \n",
    "\n",
    "I don't exactly understand it, but I feel like I will via this(https://www.ncbi.nlm.nih.gov/pubmed/26357324).\n",
    "\n",
    ">An effective advice related to data pre-processing, finally, is always to start with a\n",
    "small-scale dataset. \n",
    "\n",
    "This is what I learned most from this lecture. In the lecture, we always start with small sample size so that we can understand easily the complicated methods."
   ]
  },
  {
   "cell_type": "markdown",
   "metadata": {},
   "source": [
    "# Tip2\n",
    ">lock box approach\n",
    "\n",
    "I honestly understand what it means. For example we learned overfitting and underfitting in the linear regression lecture, which made my understanding better. "
   ]
  },
  {
   "cell_type": "markdown",
   "metadata": {},
   "source": [
    "# Tip3\n",
    ">Supervised learning vs unsupervised learning\n",
    "\n",
    "This chaptor is absolutely familiar with me after the classes. If I didn't take the classes, any of the words were too new for me to figure out the meaning.\n",
    "As for the next step, I would like to be able to decide what kind of algorithms to fit each scientific questions."
   ]
  },
  {
   "cell_type": "markdown",
   "metadata": {},
   "source": [
    "# Tip4\n",
    ">Examples of simple algorithms are k-means clustering for unsupervised learning [22]\n",
    "and k-nearest neighbors (k-NN) for supervised learning [26].\n",
    "\n",
    "I now understand the background algorithm of these methods but still cannot run the whole code for example in python, which would be my next step. "
   ]
  },
  {
   "cell_type": "markdown",
   "metadata": {},
   "source": [
    "# Tip5\n",
    "This chaptor is most difficult for me to understand. The reason I could not understand is that I cannot understand the meaning of \"positive and negative data instances\" and how they relate to unbalanced dataset. "
   ]
  },
  {
   "cell_type": "markdown",
   "metadata": {},
   "source": [
    "# Tip6\n",
    "I understand the concept of this chapter which is owing to the lecture. But after I read Tip8, I finally could calculate the Matthews correlation coefficient(MCC) to identify the optimal hyper-parameter, which is what to be learned."
   ]
  },
  {
   "cell_type": "markdown",
   "metadata": {},
   "source": [
    "# Tip7\n",
    ">powerful tools to battle overfitting is cross-validation, and regularization.\n",
    "\n",
    "I learned during the lessons the examples of regularization such as Lasso or Ringe. I can imagine the concept of cross-validation and regularization, but still cannot exactly program them all by myself. The improvement of programming skills would be my another challenge in next semester. "
   ]
  },
  {
   "cell_type": "markdown",
   "metadata": {},
   "source": [
    "# Tip8\n",
    ">In computational biology, we often have very sparse dataset with many negative\n",
    "instances and few positive instances. Therefore, we prefer to avoid the involvement of true negatives in our prediction score. \n",
    "\n",
    "I understand the difference between ROC and PR curve and PR curve could maximize the true positive. But I cannot understand the passage above and the usefulness of PR curve especially for unbalanced datasets. To figure it out, I should work on some simulation datasets."
   ]
  },
  {
   "cell_type": "markdown",
   "metadata": {},
   "source": [
    "# Tip9\n",
    ">we also advise you share your software code publically on the internet, among the publication of your project paper and datasets\n",
    "\n",
    "This is what I still cannot do. When I made my code about my project, I will try to upload."
   ]
  },
  {
   "cell_type": "markdown",
   "metadata": {},
   "source": [
    "# Tip 10\n",
    ">Ask for feedback and help to computer science experts\n",
    "\n",
    "This is definitely important and I realize Prof.Yamada always made us try to ask for help to colleagues or any other people on website."
   ]
  },
  {
   "cell_type": "code",
   "execution_count": null,
   "metadata": {},
   "outputs": [],
   "source": []
  }
 ],
 "metadata": {
  "kernelspec": {
   "display_name": "Python 3",
   "language": "python",
   "name": "python3"
  },
  "language_info": {
   "codemirror_mode": {
    "name": "ipython",
    "version": 3
   },
   "file_extension": ".py",
   "mimetype": "text/x-python",
   "name": "python",
   "nbconvert_exporter": "python",
   "pygments_lexer": "ipython3",
   "version": "3.6.3"
  }
 },
 "nbformat": 4,
 "nbformat_minor": 2
}
