{
 "cells": [
  {
   "cell_type": "markdown",
   "metadata": {},
   "source": [
    "## 1-  Learning something\n",
    "I did not clearly understand the definition of “learning”, that is to estimate the probability mass or density distribution of random variable, based on samples.\n",
    "\n",
    "## 2-  Complex model is not necessarily a good model\n",
    "At the beginning of this class, I did not understand the fact that a model fitting well with training data is not necessarily a good model.<br>\n",
    "But I understand that by learning the concept of bias and variance in the class. I learned simple model is good to generalize, to learn parameter in short time, and to keep it under control.<br>\n",
    "In addition, complex model is difficult to generalize due to high variance, and we should apply model from simple one to complex one.\n",
    "\n",
    "## 3-  Regularization\n",
    "At the beginning of this class, I did not understand regularization is one of the approaches to battle overfitting.<br>\n",
    "I didn’t also understand regularization have aspects of \"shrinkage” and “subset selection”.<br>\n",
    "Through the class, I understand above.\n",
    "\n",
    "## 4-  Evaluation of the algorithm\n",
    "At the beginning of this class, I did not understand that when we choose the evaluation score we must take care about imbalance of the data.<br> Through the class, I understand above."
   ]
  },
  {
   "cell_type": "code",
   "execution_count": null,
   "metadata": {
    "collapsed": true
   },
   "outputs": [],
   "source": []
  }
 ],
 "metadata": {
  "kernelspec": {
   "display_name": "Python 3",
   "language": "python",
   "name": "python3"
  },
  "language_info": {
   "codemirror_mode": {
    "name": "ipython",
    "version": 3
   },
   "file_extension": ".py",
   "mimetype": "text/x-python",
   "name": "python",
   "nbconvert_exporter": "python",
   "pygments_lexer": "ipython3",
   "version": "3.6.3"
  }
 },
 "nbformat": 4,
 "nbformat_minor": 2
}
