{
 "cells": [
  {
   "cell_type": "code",
   "execution_count": 20,
   "metadata": {},
   "outputs": [
    {
     "name": "stdout",
     "output_type": "stream",
     "text": [
      "Best score:1.00\n",
      "Best parameters:{'C': 100, 'gamma': 0.01}\n"
     ]
    }
   ],
   "source": [
    "# 交差検証をしていない単純なグリッドサーチ\n",
    "# テストケースをパラメータのチューニングに使ってしまっているため汎化性能が損なわれている\n",
    "import numpy as np\n",
    "import pandas as pd\n",
    "from sklearn.datasets import load_iris\n",
    "from sklearn.svm import SVC\n",
    "from sklearn.model_selection import train_test_split\n",
    "\n",
    "X = load_iris().data\n",
    "y = load_iris().target\n",
    "X_train,X_test,y_train,y_test = train_test_split(X,y,test_size=0.25)\n",
    "\n",
    "best_score = 0\n",
    "\n",
    "for gamma in [0.001,0.01,0.1,1,10,100]:\n",
    "    for C in [0.001,0.01,0.1,1,10,100]:\n",
    "        svm = SVC(gamma=gamma,C=C)\n",
    "        svm.fit(X_train,y_train)\n",
    "        score = svm.score(X_test,y_test)\n",
    "        if score > best_score:\n",
    "            best_score = score\n",
    "            best_parameters = {'C':C,'gamma':gamma}\n",
    "\n",
    "print(\"Best score:{:.2f}\".format(best_score))\n",
    "print(\"Best parameters:{}\".format(best_parameters))"
   ]
  },
  {
   "cell_type": "code",
   "execution_count": 24,
   "metadata": {},
   "outputs": [
    {
     "name": "stdout",
     "output_type": "stream",
     "text": [
      "Test set score:0.97\n",
      "Best parameters:{'C': 100, 'gamma': 0.01}\n"
     ]
    },
    {
     "name": "stderr",
     "output_type": "stream",
     "text": [
      "C:\\Users\\kazuki\\Anaconda3\\lib\\site-packages\\sklearn\\model_selection\\_search.py:841: DeprecationWarning: The default of the `iid` parameter will change from True to False in version 0.22 and will be removed in 0.24. This will change numeric results when test-set sizes are unequal.\n",
      "  DeprecationWarning)\n"
     ]
    }
   ],
   "source": [
    "#CV GridSearch\n",
    "from sklearn.model_selection import GridSearchCV\n",
    "#探索するパラメータを辞書の形で指定する\n",
    "param_grid = {'C':[0.001,0.01,0.1,1,10,100],\n",
    "            'gamma':[0.001,0.01,0.1,1,10,100]}\n",
    "#モデル(SVC),パラメターグリッド,交差検証の方法(この場合5分割層化検証)を指定する.\n",
    "grid_search = GridSearchCV(SVC(),param_grid,cv=5)\n",
    "\n",
    "X_train,X_test,y_train,y_test = train_test_split(load_iris().data,load_iris().target,random_state=0)\n",
    "\n",
    "grid_search.fit(X_train,y_train)\n",
    "#パタメータの選択にテストケースを用いていないことに注意\n",
    "print(\"Test set score:{:.2f}\".format(grid_search.score(X_test,y_test)))\n",
    "print(\"Best parameters:{}\".format(grid_search.best_params_))"
   ]
  },
  {
   "cell_type": "code",
   "execution_count": null,
   "metadata": {},
   "outputs": [],
   "source": []
  }
 ],
 "metadata": {
  "kernelspec": {
   "display_name": "Python 3",
   "language": "python",
   "name": "python3"
  },
  "language_info": {
   "codemirror_mode": {
    "name": "ipython",
    "version": 3
   },
   "file_extension": ".py",
   "mimetype": "text/x-python",
   "name": "python",
   "nbconvert_exporter": "python",
   "pygments_lexer": "ipython3",
   "version": "3.7.1"
  }
 },
 "nbformat": 4,
 "nbformat_minor": 2
}
