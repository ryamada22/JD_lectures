{
 "cells": [
  {
   "cell_type": "markdown",
   "metadata": {},
   "source": [
    "### レビュー論文を読むにあたって、講義で得た知識がどのように役に立ったか\n",
    "\n",
    "- グラフ理論の知識は、molecular network, drug-target and drug-drug networkなどの各種biological networkがどのような構造、構成になっているかを、イメージとして理解するのに役立った。\n",
    "\n",
    "- network-based analysis of personal genomic profileの三つの手法に関して\n",
    "> model-based integraitionでは、グラフ理論の講義で扱ったラプラシアン行列が、SVMやLiner Regrassionなどの機械学習手法におけるラプラス正則化の数式を紐解く手助けとなった。また、network-based factorizationに関して、具体的な計算手法を理解するためには、行列の基本的な知識を持っていることが必要最低限の条件であり、講義から行列式の計算とその意味とを理解できていたため、この手法の意図をつかむことが出来た。\n",
    "\n",
    "> 三つの手法全てにおいて、networkとgenomic profile(またはそれらの機械学習的出力や、グラフ理論的応用)を入力として、予測モデルを通して異常のあるモジュールを検知する一連の流れの概要をつかむことが出来た。\n",
    "\n",
    "- network-based methods for drug repositionsの三つの手法に関して\n",
    "> graph connectivity measuresでは単純な行列式から薬のターゲット候補のランキングを得ているが、これもまた講義で扱われた行列の知識が役立った。network-based clasification methodではSVMによる分類・予測が行われているが、その大まかな流れを読み取ることにもグラフ理論と行列の知識は必要であった。\n",
    "\n",
    "\n",
    "### 論文を読む上で、講義に必要であったと思われる内容\n",
    "\n",
    "- この論文は、ネットワークやグラフ理論の生物学的応用例を取り扱っているため、各専門用語や生物学の研究手法(TCGA, KEGG pathway, cox regression)などの知識がないと読むのは厳しい部分があったと思われる。また、ラプラス行列を用いたラプラス正則化や、ラプラス正則化による半教師付き機会学習などにも同様のことが言える。\n"
   ]
  },
  {
   "cell_type": "code",
   "execution_count": null,
   "metadata": {},
   "outputs": [],
   "source": []
  }
 ],
 "metadata": {
  "kernelspec": {
   "display_name": "Python 3",
   "language": "python",
   "name": "python3"
  },
  "language_info": {
   "codemirror_mode": {
    "name": "ipython",
    "version": 3
   },
   "file_extension": ".py",
   "mimetype": "text/x-python",
   "name": "python",
   "nbconvert_exporter": "python",
   "pygments_lexer": "ipython3",
   "version": "3.6.3"
  }
 },
 "nbformat": 4,
 "nbformat_minor": 2
}
