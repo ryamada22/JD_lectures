{
 "cells": [
  {
   "cell_type": "code",
   "execution_count": 9,
   "metadata": {},
   "outputs": [
    {
     "data": {
      "text/html": [
       "<table>\n",
       "<tbody>\n",
       "\t<tr><td>1 </td><td> 2</td></tr>\n",
       "\t<tr><td>1 </td><td> 3</td></tr>\n",
       "\t<tr><td>2 </td><td> 4</td></tr>\n",
       "\t<tr><td>2 </td><td> 5</td></tr>\n",
       "\t<tr><td>3 </td><td> 6</td></tr>\n",
       "\t<tr><td>3 </td><td> 7</td></tr>\n",
       "\t<tr><td>4 </td><td> 8</td></tr>\n",
       "\t<tr><td>4 </td><td> 9</td></tr>\n",
       "\t<tr><td>6 </td><td>10</td></tr>\n",
       "</tbody>\n",
       "</table>\n"
      ],
      "text/latex": [
       "\\begin{tabular}{ll}\n",
       "\t 1  &  2\\\\\n",
       "\t 1  &  3\\\\\n",
       "\t 2  &  4\\\\\n",
       "\t 2  &  5\\\\\n",
       "\t 3  &  6\\\\\n",
       "\t 3  &  7\\\\\n",
       "\t 4  &  8\\\\\n",
       "\t 4  &  9\\\\\n",
       "\t 6  & 10\\\\\n",
       "\\end{tabular}\n"
      ],
      "text/markdown": [
       "\n",
       "| 1  |  2 | \n",
       "| 1  |  3 | \n",
       "| 2  |  4 | \n",
       "| 2  |  5 | \n",
       "| 3  |  6 | \n",
       "| 3  |  7 | \n",
       "| 4  |  8 | \n",
       "| 4  |  9 | \n",
       "| 6  | 10 | \n",
       "\n",
       "\n"
      ],
      "text/plain": [
       "      [,1] [,2]\n",
       " [1,] 1     2  \n",
       " [2,] 1     3  \n",
       " [3,] 2     4  \n",
       " [4,] 2     5  \n",
       " [5,] 3     6  \n",
       " [6,] 3     7  \n",
       " [7,] 4     8  \n",
       " [8,] 4     9  \n",
       " [9,] 6    10  "
      ]
     },
     "metadata": {},
     "output_type": "display_data"
    }
   ],
   "source": [
    "#Make  edge list of a tree with 10 leaf-nodes and draw the tree on a paper by hands.\n",
    "library(igraph)\n",
    "myedge_list <- matrix(c(1,2,\n",
    "                        1,3,\n",
    "                        2,4,\n",
    "                        2,5,\n",
    "                        3,6,\n",
    "                        3,7,\n",
    "                        4,8,\n",
    "                        4,9,\n",
    "                        6,10), byrow =T, ncol =2)\n",
    "myedge_list"
   ]
  },
  {
   "cell_type": "code",
   "execution_count": 13,
   "metadata": {},
   "outputs": [
    {
     "data": {
      "text/html": [
       "<table>\n",
       "<tbody>\n",
       "\t<tr><td>0</td><td>1</td><td>1</td><td>0</td><td>0</td><td>0</td><td>0</td><td>0</td><td>0</td><td>0</td></tr>\n",
       "\t<tr><td>1</td><td>0</td><td>0</td><td>1</td><td>1</td><td>0</td><td>0</td><td>0</td><td>0</td><td>0</td></tr>\n",
       "\t<tr><td>1</td><td>0</td><td>0</td><td>0</td><td>0</td><td>1</td><td>1</td><td>0</td><td>0</td><td>0</td></tr>\n",
       "\t<tr><td>0</td><td>1</td><td>0</td><td>0</td><td>0</td><td>0</td><td>0</td><td>1</td><td>1</td><td>0</td></tr>\n",
       "\t<tr><td>0</td><td>1</td><td>0</td><td>0</td><td>0</td><td>0</td><td>0</td><td>0</td><td>0</td><td>0</td></tr>\n",
       "\t<tr><td>0</td><td>0</td><td>1</td><td>0</td><td>0</td><td>0</td><td>0</td><td>0</td><td>0</td><td>1</td></tr>\n",
       "\t<tr><td>0</td><td>0</td><td>1</td><td>0</td><td>0</td><td>0</td><td>0</td><td>0</td><td>0</td><td>0</td></tr>\n",
       "\t<tr><td>0</td><td>0</td><td>0</td><td>1</td><td>0</td><td>0</td><td>0</td><td>0</td><td>0</td><td>0</td></tr>\n",
       "\t<tr><td>0</td><td>0</td><td>0</td><td>1</td><td>0</td><td>0</td><td>0</td><td>0</td><td>0</td><td>0</td></tr>\n",
       "\t<tr><td>0</td><td>0</td><td>0</td><td>0</td><td>0</td><td>1</td><td>0</td><td>0</td><td>0</td><td>0</td></tr>\n",
       "</tbody>\n",
       "</table>\n"
      ],
      "text/latex": [
       "\\begin{tabular}{llllllllll}\n",
       "\t 0 & 1 & 1 & 0 & 0 & 0 & 0 & 0 & 0 & 0\\\\\n",
       "\t 1 & 0 & 0 & 1 & 1 & 0 & 0 & 0 & 0 & 0\\\\\n",
       "\t 1 & 0 & 0 & 0 & 0 & 1 & 1 & 0 & 0 & 0\\\\\n",
       "\t 0 & 1 & 0 & 0 & 0 & 0 & 0 & 1 & 1 & 0\\\\\n",
       "\t 0 & 1 & 0 & 0 & 0 & 0 & 0 & 0 & 0 & 0\\\\\n",
       "\t 0 & 0 & 1 & 0 & 0 & 0 & 0 & 0 & 0 & 1\\\\\n",
       "\t 0 & 0 & 1 & 0 & 0 & 0 & 0 & 0 & 0 & 0\\\\\n",
       "\t 0 & 0 & 0 & 1 & 0 & 0 & 0 & 0 & 0 & 0\\\\\n",
       "\t 0 & 0 & 0 & 1 & 0 & 0 & 0 & 0 & 0 & 0\\\\\n",
       "\t 0 & 0 & 0 & 0 & 0 & 1 & 0 & 0 & 0 & 0\\\\\n",
       "\\end{tabular}\n"
      ],
      "text/markdown": [
       "\n",
       "| 0 | 1 | 1 | 0 | 0 | 0 | 0 | 0 | 0 | 0 | \n",
       "| 1 | 0 | 0 | 1 | 1 | 0 | 0 | 0 | 0 | 0 | \n",
       "| 1 | 0 | 0 | 0 | 0 | 1 | 1 | 0 | 0 | 0 | \n",
       "| 0 | 1 | 0 | 0 | 0 | 0 | 0 | 1 | 1 | 0 | \n",
       "| 0 | 1 | 0 | 0 | 0 | 0 | 0 | 0 | 0 | 0 | \n",
       "| 0 | 0 | 1 | 0 | 0 | 0 | 0 | 0 | 0 | 1 | \n",
       "| 0 | 0 | 1 | 0 | 0 | 0 | 0 | 0 | 0 | 0 | \n",
       "| 0 | 0 | 0 | 1 | 0 | 0 | 0 | 0 | 0 | 0 | \n",
       "| 0 | 0 | 0 | 1 | 0 | 0 | 0 | 0 | 0 | 0 | \n",
       "| 0 | 0 | 0 | 0 | 0 | 1 | 0 | 0 | 0 | 0 | \n",
       "\n",
       "\n"
      ],
      "text/plain": [
       "      [,1] [,2] [,3] [,4] [,5] [,6] [,7] [,8] [,9] [,10]\n",
       " [1,] 0    1    1    0    0    0    0    0    0    0    \n",
       " [2,] 1    0    0    1    1    0    0    0    0    0    \n",
       " [3,] 1    0    0    0    0    1    1    0    0    0    \n",
       " [4,] 0    1    0    0    0    0    0    1    1    0    \n",
       " [5,] 0    1    0    0    0    0    0    0    0    0    \n",
       " [6,] 0    0    1    0    0    0    0    0    0    1    \n",
       " [7,] 0    0    1    0    0    0    0    0    0    0    \n",
       " [8,] 0    0    0    1    0    0    0    0    0    0    \n",
       " [9,] 0    0    0    1    0    0    0    0    0    0    \n",
       "[10,] 0    0    0    0    0    1    0    0    0    0    "
      ]
     },
     "metadata": {},
     "output_type": "display_data"
    }
   ],
   "source": [
    "#Also generate a adjacency matrix.\n",
    "n <- 10\n",
    "my_admat <- matrix(0,n,n)\n",
    "edge_num <- nrow(myedge_list)\n",
    "for(i in 1:edge_num){\n",
    "  my_admat[myedge_list[i,1],myedge_list[i,2]] <- 1\n",
    "  my_admat[myedge_list[i,2],myedge_list[i,1]] <- 1\n",
    "}\n",
    "my_admat"
   ]
  },
  {
   "cell_type": "code",
   "execution_count": 38,
   "metadata": {},
   "outputs": [
    {
     "data": {
      "image/png": "[encoded data removed]",
      "text/plain": [
       "Plot with title \"\""
      ]
     },
     "metadata": {},
     "output_type": "display_data"
    },
    {
     "data": {
      "image/png": "[encoded data removed]",
      "text/plain": [
       "Plot with title \"\""
      ]
     },
     "metadata": {},
     "output_type": "display_data"
    }
   ],
   "source": [
    "#Make a graph object of the tree by two ways; using the edge list and the adjacency matrix.\n",
    "g_from_edgelist <- graph.edgelist(myedge_list, directed=FALSE)\n",
    "g_from_admat <- graph.adjacency(my_admat,mode=\"undirected\")\n",
    "plot(g_from_edgelist)\n",
    "plot(g_from_admat)"
   ]
  },
  {
   "cell_type": "code",
   "execution_count": 39,
   "metadata": {},
   "outputs": [
    {
     "data": {
      "text/html": [
       "'weight'"
      ],
      "text/latex": [
       "'weight'"
      ],
      "text/markdown": [
       "'weight'"
      ],
      "text/plain": [
       "[1] \"weight\""
      ]
     },
     "metadata": {},
     "output_type": "display_data"
    },
    {
     "data": {
      "text/html": [
       "'weight'"
      ],
      "text/latex": [
       "'weight'"
      ],
      "text/markdown": [
       "'weight'"
      ],
      "text/plain": [
       "[1] \"weight\""
      ]
     },
     "metadata": {},
     "output_type": "display_data"
    }
   ],
   "source": [
    "#Give positive integer values to the edges and provide the edge weight to the graph object(s).\n",
    "E(g_from_edgelist)$weight <- c(1,2,3,4,5,6,7,8,9)\n",
    "E(g_from_admat)$weight <- c(1,2,3,4,5,6,7,8,9)\n",
    "list.edge.attributes(g_from_edgelist)\n",
    "list.edge.attributes(g_from_admat)"
   ]
  },
  {
   "cell_type": "code",
   "execution_count": 40,
   "metadata": {},
   "outputs": [
    {
     "data": {
      "text/html": [
       "<table>\n",
       "<tbody>\n",
       "\t<tr><td> 0</td><td> 1</td><td> 2</td><td> 4</td><td> 5</td><td> 7</td><td> 8</td><td>11</td><td>12</td><td>16</td></tr>\n",
       "\t<tr><td> 1</td><td> 0</td><td> 3</td><td> 3</td><td> 4</td><td> 8</td><td> 9</td><td>10</td><td>11</td><td>17</td></tr>\n",
       "\t<tr><td> 2</td><td> 3</td><td> 0</td><td> 6</td><td> 7</td><td> 5</td><td> 6</td><td>13</td><td>14</td><td>14</td></tr>\n",
       "\t<tr><td> 4</td><td> 3</td><td> 6</td><td> 0</td><td> 7</td><td>11</td><td>12</td><td> 7</td><td> 8</td><td>20</td></tr>\n",
       "\t<tr><td> 5</td><td> 4</td><td> 7</td><td> 7</td><td> 0</td><td>12</td><td>13</td><td>14</td><td>15</td><td>21</td></tr>\n",
       "\t<tr><td> 7</td><td> 8</td><td> 5</td><td>11</td><td>12</td><td> 0</td><td>11</td><td>18</td><td>19</td><td> 9</td></tr>\n",
       "\t<tr><td> 8</td><td> 9</td><td> 6</td><td>12</td><td>13</td><td>11</td><td> 0</td><td>19</td><td>20</td><td>20</td></tr>\n",
       "\t<tr><td>11</td><td>10</td><td>13</td><td> 7</td><td>14</td><td>18</td><td>19</td><td> 0</td><td>15</td><td>27</td></tr>\n",
       "\t<tr><td>12</td><td>11</td><td>14</td><td> 8</td><td>15</td><td>19</td><td>20</td><td>15</td><td> 0</td><td>28</td></tr>\n",
       "\t<tr><td>16</td><td>17</td><td>14</td><td>20</td><td>21</td><td> 9</td><td>20</td><td>27</td><td>28</td><td> 0</td></tr>\n",
       "</tbody>\n",
       "</table>\n"
      ],
      "text/latex": [
       "\\begin{tabular}{llllllllll}\n",
       "\t  0 &  1 &  2 &  4 &  5 &  7 &  8 & 11 & 12 & 16\\\\\n",
       "\t  1 &  0 &  3 &  3 &  4 &  8 &  9 & 10 & 11 & 17\\\\\n",
       "\t  2 &  3 &  0 &  6 &  7 &  5 &  6 & 13 & 14 & 14\\\\\n",
       "\t  4 &  3 &  6 &  0 &  7 & 11 & 12 &  7 &  8 & 20\\\\\n",
       "\t  5 &  4 &  7 &  7 &  0 & 12 & 13 & 14 & 15 & 21\\\\\n",
       "\t  7 &  8 &  5 & 11 & 12 &  0 & 11 & 18 & 19 &  9\\\\\n",
       "\t  8 &  9 &  6 & 12 & 13 & 11 &  0 & 19 & 20 & 20\\\\\n",
       "\t 11 & 10 & 13 &  7 & 14 & 18 & 19 &  0 & 15 & 27\\\\\n",
       "\t 12 & 11 & 14 &  8 & 15 & 19 & 20 & 15 &  0 & 28\\\\\n",
       "\t 16 & 17 & 14 & 20 & 21 &  9 & 20 & 27 & 28 &  0\\\\\n",
       "\\end{tabular}\n"
      ],
      "text/markdown": [
       "\n",
       "|  0 |  1 |  2 |  4 |  5 |  7 |  8 | 11 | 12 | 16 | \n",
       "|  1 |  0 |  3 |  3 |  4 |  8 |  9 | 10 | 11 | 17 | \n",
       "|  2 |  3 |  0 |  6 |  7 |  5 |  6 | 13 | 14 | 14 | \n",
       "|  4 |  3 |  6 |  0 |  7 | 11 | 12 |  7 |  8 | 20 | \n",
       "|  5 |  4 |  7 |  7 |  0 | 12 | 13 | 14 | 15 | 21 | \n",
       "|  7 |  8 |  5 | 11 | 12 |  0 | 11 | 18 | 19 |  9 | \n",
       "|  8 |  9 |  6 | 12 | 13 | 11 |  0 | 19 | 20 | 20 | \n",
       "| 11 | 10 | 13 |  7 | 14 | 18 | 19 |  0 | 15 | 27 | \n",
       "| 12 | 11 | 14 |  8 | 15 | 19 | 20 | 15 |  0 | 28 | \n",
       "| 16 | 17 | 14 | 20 | 21 |  9 | 20 | 27 | 28 |  0 | \n",
       "\n",
       "\n"
      ],
      "text/plain": [
       "      [,1] [,2] [,3] [,4] [,5] [,6] [,7] [,8] [,9] [,10]\n",
       " [1,]  0    1    2    4    5    7    8   11   12   16   \n",
       " [2,]  1    0    3    3    4    8    9   10   11   17   \n",
       " [3,]  2    3    0    6    7    5    6   13   14   14   \n",
       " [4,]  4    3    6    0    7   11   12    7    8   20   \n",
       " [5,]  5    4    7    7    0   12   13   14   15   21   \n",
       " [6,]  7    8    5   11   12    0   11   18   19    9   \n",
       " [7,]  8    9    6   12   13   11    0   19   20   20   \n",
       " [8,] 11   10   13    7   14   18   19    0   15   27   \n",
       " [9,] 12   11   14    8   15   19   20   15    0   28   \n",
       "[10,] 16   17   14   20   21    9   20   27   28    0   "
      ]
     },
     "metadata": {},
     "output_type": "display_data"
    },
    {
     "data": {
      "image/png": "[encoded data removed]",
      "text/plain": [
       "Plot with title \"\""
      ]
     },
     "metadata": {},
     "output_type": "display_data"
    }
   ],
   "source": [
    "#Obtain pairwise distance matrix between all vertex pairs.\n",
    "plot(g_from_edgelist, edge.label=E(g_from_edgelist)$weight)\n",
    "distances(g_from_edgelist)"
   ]
  },
  {
   "cell_type": "code",
   "execution_count": 41,
   "metadata": {},
   "outputs": [
    {
     "data": {
      "text/html": [
       "<table>\n",
       "<tbody>\n",
       "\t<tr><td> 0</td><td> 1</td><td> 2</td><td> 4</td><td> 5</td><td> 7</td><td> 8</td><td>11</td><td>12</td><td>16</td></tr>\n",
       "\t<tr><td> 1</td><td> 0</td><td> 3</td><td> 3</td><td> 4</td><td> 8</td><td> 9</td><td>10</td><td>11</td><td>17</td></tr>\n",
       "\t<tr><td> 2</td><td> 3</td><td> 0</td><td> 6</td><td> 7</td><td> 5</td><td> 6</td><td>13</td><td>14</td><td>14</td></tr>\n",
       "\t<tr><td> 4</td><td> 3</td><td> 6</td><td> 0</td><td> 7</td><td>11</td><td>12</td><td> 7</td><td> 8</td><td>20</td></tr>\n",
       "\t<tr><td> 5</td><td> 4</td><td> 7</td><td> 7</td><td> 0</td><td>12</td><td>13</td><td>14</td><td>15</td><td>21</td></tr>\n",
       "\t<tr><td> 7</td><td> 8</td><td> 5</td><td>11</td><td>12</td><td> 0</td><td>11</td><td>18</td><td>19</td><td> 9</td></tr>\n",
       "\t<tr><td> 8</td><td> 9</td><td> 6</td><td>12</td><td>13</td><td>11</td><td> 0</td><td>19</td><td>20</td><td>20</td></tr>\n",
       "\t<tr><td>11</td><td>10</td><td>13</td><td> 7</td><td>14</td><td>18</td><td>19</td><td> 0</td><td>15</td><td>27</td></tr>\n",
       "\t<tr><td>12</td><td>11</td><td>14</td><td> 8</td><td>15</td><td>19</td><td>20</td><td>15</td><td> 0</td><td>28</td></tr>\n",
       "\t<tr><td>16</td><td>17</td><td>14</td><td>20</td><td>21</td><td> 9</td><td>20</td><td>27</td><td>28</td><td> 0</td></tr>\n",
       "</tbody>\n",
       "</table>\n"
      ],
      "text/latex": [
       "\\begin{tabular}{llllllllll}\n",
       "\t  0 &  1 &  2 &  4 &  5 &  7 &  8 & 11 & 12 & 16\\\\\n",
       "\t  1 &  0 &  3 &  3 &  4 &  8 &  9 & 10 & 11 & 17\\\\\n",
       "\t  2 &  3 &  0 &  6 &  7 &  5 &  6 & 13 & 14 & 14\\\\\n",
       "\t  4 &  3 &  6 &  0 &  7 & 11 & 12 &  7 &  8 & 20\\\\\n",
       "\t  5 &  4 &  7 &  7 &  0 & 12 & 13 & 14 & 15 & 21\\\\\n",
       "\t  7 &  8 &  5 & 11 & 12 &  0 & 11 & 18 & 19 &  9\\\\\n",
       "\t  8 &  9 &  6 & 12 & 13 & 11 &  0 & 19 & 20 & 20\\\\\n",
       "\t 11 & 10 & 13 &  7 & 14 & 18 & 19 &  0 & 15 & 27\\\\\n",
       "\t 12 & 11 & 14 &  8 & 15 & 19 & 20 & 15 &  0 & 28\\\\\n",
       "\t 16 & 17 & 14 & 20 & 21 &  9 & 20 & 27 & 28 &  0\\\\\n",
       "\\end{tabular}\n"
      ],
      "text/markdown": [
       "\n",
       "|  0 |  1 |  2 |  4 |  5 |  7 |  8 | 11 | 12 | 16 | \n",
       "|  1 |  0 |  3 |  3 |  4 |  8 |  9 | 10 | 11 | 17 | \n",
       "|  2 |  3 |  0 |  6 |  7 |  5 |  6 | 13 | 14 | 14 | \n",
       "|  4 |  3 |  6 |  0 |  7 | 11 | 12 |  7 |  8 | 20 | \n",
       "|  5 |  4 |  7 |  7 |  0 | 12 | 13 | 14 | 15 | 21 | \n",
       "|  7 |  8 |  5 | 11 | 12 |  0 | 11 | 18 | 19 |  9 | \n",
       "|  8 |  9 |  6 | 12 | 13 | 11 |  0 | 19 | 20 | 20 | \n",
       "| 11 | 10 | 13 |  7 | 14 | 18 | 19 |  0 | 15 | 27 | \n",
       "| 12 | 11 | 14 |  8 | 15 | 19 | 20 | 15 |  0 | 28 | \n",
       "| 16 | 17 | 14 | 20 | 21 |  9 | 20 | 27 | 28 |  0 | \n",
       "\n",
       "\n"
      ],
      "text/plain": [
       "      [,1] [,2] [,3] [,4] [,5] [,6] [,7] [,8] [,9] [,10]\n",
       " [1,]  0    1    2    4    5    7    8   11   12   16   \n",
       " [2,]  1    0    3    3    4    8    9   10   11   17   \n",
       " [3,]  2    3    0    6    7    5    6   13   14   14   \n",
       " [4,]  4    3    6    0    7   11   12    7    8   20   \n",
       " [5,]  5    4    7    7    0   12   13   14   15   21   \n",
       " [6,]  7    8    5   11   12    0   11   18   19    9   \n",
       " [7,]  8    9    6   12   13   11    0   19   20   20   \n",
       " [8,] 11   10   13    7   14   18   19    0   15   27   \n",
       " [9,] 12   11   14    8   15   19   20   15    0   28   \n",
       "[10,] 16   17   14   20   21    9   20   27   28    0   "
      ]
     },
     "metadata": {},
     "output_type": "display_data"
    },
    {
     "data": {
      "image/png": "[encoded data removed]",
      "text/plain": [
       "Plot with title \"\""
      ]
     },
     "metadata": {},
     "output_type": "display_data"
    }
   ],
   "source": [
    "plot(g_from_admat, edge.label=E(g_from_admat)$weight)\n",
    "distances(g_from_admat)"
   ]
  },
  {
   "cell_type": "code",
   "execution_count": 42,
   "metadata": {},
   "outputs": [
    {
     "data": {
      "text/html": [
       "<ol class=list-inline>\n",
       "\t<li>1</li>\n",
       "\t<li>2</li>\n",
       "\t<li>3</li>\n",
       "\t<li>4</li>\n",
       "\t<li>5</li>\n",
       "\t<li>6</li>\n",
       "\t<li>7</li>\n",
       "\t<li>8</li>\n",
       "\t<li>9</li>\n",
       "</ol>\n"
      ],
      "text/latex": [
       "\\begin{enumerate*}\n",
       "\\item 1\n",
       "\\item 2\n",
       "\\item 3\n",
       "\\item 4\n",
       "\\item 5\n",
       "\\item 6\n",
       "\\item 7\n",
       "\\item 8\n",
       "\\item 9\n",
       "\\end{enumerate*}\n"
      ],
      "text/markdown": [
       "1. 1\n",
       "2. 2\n",
       "3. 3\n",
       "4. 4\n",
       "5. 5\n",
       "6. 6\n",
       "7. 7\n",
       "8. 8\n",
       "9. 9\n",
       "\n",
       "\n"
      ],
      "text/plain": [
       "[1] 1 2 3 4 5 6 7 8 9"
      ]
     },
     "metadata": {},
     "output_type": "display_data"
    },
    {
     "data": {
      "text/html": [
       "<ol class=list-inline>\n",
       "\t<li>1</li>\n",
       "\t<li>2</li>\n",
       "\t<li>3</li>\n",
       "\t<li>4</li>\n",
       "\t<li>5</li>\n",
       "\t<li>6</li>\n",
       "\t<li>7</li>\n",
       "\t<li>8</li>\n",
       "\t<li>9</li>\n",
       "</ol>\n"
      ],
      "text/latex": [
       "\\begin{enumerate*}\n",
       "\\item 1\n",
       "\\item 2\n",
       "\\item 3\n",
       "\\item 4\n",
       "\\item 5\n",
       "\\item 6\n",
       "\\item 7\n",
       "\\item 8\n",
       "\\item 9\n",
       "\\end{enumerate*}\n"
      ],
      "text/markdown": [
       "1. 1\n",
       "2. 2\n",
       "3. 3\n",
       "4. 4\n",
       "5. 5\n",
       "6. 6\n",
       "7. 7\n",
       "8. 8\n",
       "9. 9\n",
       "\n",
       "\n"
      ],
      "text/plain": [
       "[1] 1 2 3 4 5 6 7 8 9"
      ]
     },
     "metadata": {},
     "output_type": "display_data"
    }
   ],
   "source": [
    "E(g_from_edgelist)$weight\n",
    "E(g_from_admat)$weight"
   ]
  },
  {
   "cell_type": "code",
   "execution_count": null,
   "metadata": {},
   "outputs": [],
   "source": []
  }
 ],
 "metadata": {
  "kernelspec": {
   "display_name": "R",
   "language": "R",
   "name": "ir"
  },
  "language_info": {
   "codemirror_mode": "r",
   "file_extension": ".r",
   "mimetype": "text/x-r-source",
   "name": "R",
   "pygments_lexer": "r",
   "version": "3.4.2"
  }
 },
 "nbformat": 4,
 "nbformat_minor": 2
}
