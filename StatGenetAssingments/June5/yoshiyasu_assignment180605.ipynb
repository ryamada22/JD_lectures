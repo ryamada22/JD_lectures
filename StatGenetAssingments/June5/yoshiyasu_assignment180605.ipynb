{
 "cells": [
  {
   "cell_type": "markdown",
   "metadata": {},
   "source": [
    "Make a tree with 10 leaf-nodes and draw the tree on a paper by hands.\n",
    "\n",
    "Then, generate an edge list."
   ]
  },
  {
   "cell_type": "code",
   "execution_count": 5,
   "metadata": {},
   "outputs": [
    {
     "data": {
      "text/html": [
       "<table>\n",
       "<tbody>\n",
       "\t<tr><td>1  </td><td>11 </td><td>2  </td><td>11 </td><td>3  </td><td>11 </td><td>4  </td><td>14 </td><td>5  </td><td>15 </td><td>...</td><td>16 </td><td>17 </td><td>17 </td><td>18 </td><td>17 </td><td>21 </td><td>18 </td><td>19 </td><td>18 </td><td>20 </td></tr>\n",
       "</tbody>\n",
       "</table>\n"
      ],
      "text/latex": [
       "\\begin{tabular}{llllllllllllllllllllllllllllllllllllllll}\n",
       "\t 1   & 11  & 2   & 11  & 3   & 11  & 4   & 14  & 5   & 15  & ... & 16  & 17  & 17  & 18  & 17  & 21  & 18  & 19  & 18  & 20 \\\\\n",
       "\\end{tabular}\n"
      ],
      "text/markdown": [
       "\n",
       "| 1   | 11  | 2   | 11  | 3   | 11  | 4   | 14  | 5   | 15  | ... | 16  | 17  | 17  | 18  | 17  | 21  | 18  | 19  | 18  | 20  | \n",
       "\n",
       "\n"
      ],
      "text/plain": [
       "     [,1] [,2] [,3] [,4] [,5] [,6] [,7] [,8] [,9] [,10] [,11] [,12] [,13] [,14]\n",
       "[1,] 1    11   2    11   3    11   4    14   5    15    ...   16    17    17   \n",
       "     [,15] [,16] [,17] [,18] [,19] [,20] [,21]\n",
       "[1,] 18    17    21    18    19    18    20   "
      ]
     },
     "metadata": {},
     "output_type": "display_data"
    }
   ],
   "source": [
    "edge.mat <- matrix(c(1,11, 2,11, 3,11, 4,14, 5,15, 6,15, 7,19, 8,20, 9,20, 10,21, 11,12, 12,13, 13,14, 13,16, 14,15, 16,17, 17,18, 17,21, 18,19, 18,20), ncol=40)\n",
    "edge.mat"
   ]
  },
  {
   "cell_type": "markdown",
   "metadata": {},
   "source": [
    "Also generate a adjacency matrix."
   ]
  },
  {
   "cell_type": "code",
   "execution_count": 7,
   "metadata": {},
   "outputs": [
    {
     "data": {
      "text/html": [
       "<table>\n",
       "<tbody>\n",
       "\t<tr><td>0  </td><td>0  </td><td>0  </td><td>0  </td><td>0  </td><td>0  </td><td>0  </td><td>0  </td><td>0  </td><td>0  </td><td>...</td><td>0  </td><td>0  </td><td>0  </td><td>0  </td><td>0  </td><td>0  </td><td>0  </td><td>0  </td><td>0  </td><td>0  </td></tr>\n",
       "\t<tr><td>0  </td><td>0  </td><td>0  </td><td>0  </td><td>0  </td><td>0  </td><td>0  </td><td>0  </td><td>0  </td><td>0  </td><td>...</td><td>0  </td><td>0  </td><td>0  </td><td>0  </td><td>0  </td><td>0  </td><td>0  </td><td>0  </td><td>0  </td><td>0  </td></tr>\n",
       "\t<tr><td>0  </td><td>0  </td><td>0  </td><td>0  </td><td>0  </td><td>0  </td><td>0  </td><td>0  </td><td>0  </td><td>0  </td><td>...</td><td>0  </td><td>0  </td><td>0  </td><td>0  </td><td>0  </td><td>0  </td><td>0  </td><td>0  </td><td>0  </td><td>0  </td></tr>\n",
       "\t<tr><td>0  </td><td>0  </td><td>0  </td><td>0  </td><td>0  </td><td>0  </td><td>0  </td><td>0  </td><td>0  </td><td>0  </td><td>...</td><td>0  </td><td>0  </td><td>1  </td><td>0  </td><td>0  </td><td>0  </td><td>0  </td><td>0  </td><td>0  </td><td>0  </td></tr>\n",
       "\t<tr><td>0  </td><td>0  </td><td>0  </td><td>0  </td><td>0  </td><td>0  </td><td>0  </td><td>0  </td><td>0  </td><td>0  </td><td>...</td><td>0  </td><td>0  </td><td>0  </td><td>1  </td><td>0  </td><td>0  </td><td>0  </td><td>0  </td><td>0  </td><td>0  </td></tr>\n",
       "\t<tr><td>0  </td><td>0  </td><td>0  </td><td>0  </td><td>0  </td><td>0  </td><td>0  </td><td>0  </td><td>0  </td><td>0  </td><td>...</td><td>0  </td><td>0  </td><td>0  </td><td>1  </td><td>0  </td><td>0  </td><td>0  </td><td>0  </td><td>0  </td><td>0  </td></tr>\n",
       "\t<tr><td>0  </td><td>0  </td><td>0  </td><td>0  </td><td>0  </td><td>0  </td><td>0  </td><td>0  </td><td>0  </td><td>0  </td><td>...</td><td>0  </td><td>0  </td><td>0  </td><td>0  </td><td>0  </td><td>0  </td><td>0  </td><td>1  </td><td>0  </td><td>0  </td></tr>\n",
       "\t<tr><td>0  </td><td>0  </td><td>0  </td><td>0  </td><td>0  </td><td>0  </td><td>0  </td><td>0  </td><td>0  </td><td>0  </td><td>...</td><td>0  </td><td>0  </td><td>0  </td><td>0  </td><td>0  </td><td>0  </td><td>0  </td><td>0  </td><td>1  </td><td>0  </td></tr>\n",
       "\t<tr><td>0  </td><td>0  </td><td>0  </td><td>0  </td><td>0  </td><td>0  </td><td>0  </td><td>0  </td><td>0  </td><td>0  </td><td>...</td><td>0  </td><td>0  </td><td>0  </td><td>0  </td><td>0  </td><td>0  </td><td>0  </td><td>0  </td><td>1  </td><td>0  </td></tr>\n",
       "\t<tr><td>0  </td><td>0  </td><td>0  </td><td>0  </td><td>0  </td><td>0  </td><td>0  </td><td>0  </td><td>0  </td><td>0  </td><td>...</td><td>0  </td><td>0  </td><td>0  </td><td>0  </td><td>0  </td><td>0  </td><td>0  </td><td>0  </td><td>0  </td><td>1  </td></tr>\n",
       "\t<tr><td>1  </td><td>1  </td><td>1  </td><td>0  </td><td>0  </td><td>0  </td><td>0  </td><td>0  </td><td>0  </td><td>0  </td><td>...</td><td>1  </td><td>0  </td><td>0  </td><td>0  </td><td>0  </td><td>0  </td><td>0  </td><td>0  </td><td>0  </td><td>0  </td></tr>\n",
       "\t<tr><td>0  </td><td>0  </td><td>0  </td><td>0  </td><td>0  </td><td>0  </td><td>0  </td><td>0  </td><td>0  </td><td>0  </td><td>...</td><td>0  </td><td>1  </td><td>0  </td><td>0  </td><td>0  </td><td>0  </td><td>0  </td><td>0  </td><td>0  </td><td>0  </td></tr>\n",
       "\t<tr><td>0  </td><td>0  </td><td>0  </td><td>0  </td><td>0  </td><td>0  </td><td>0  </td><td>0  </td><td>0  </td><td>0  </td><td>...</td><td>1  </td><td>0  </td><td>1  </td><td>0  </td><td>1  </td><td>0  </td><td>0  </td><td>0  </td><td>0  </td><td>0  </td></tr>\n",
       "\t<tr><td>0  </td><td>0  </td><td>0  </td><td>1  </td><td>0  </td><td>0  </td><td>0  </td><td>0  </td><td>0  </td><td>0  </td><td>...</td><td>0  </td><td>1  </td><td>0  </td><td>1  </td><td>0  </td><td>0  </td><td>0  </td><td>0  </td><td>0  </td><td>0  </td></tr>\n",
       "\t<tr><td>0  </td><td>0  </td><td>0  </td><td>0  </td><td>1  </td><td>1  </td><td>0  </td><td>0  </td><td>0  </td><td>0  </td><td>...</td><td>0  </td><td>0  </td><td>1  </td><td>0  </td><td>0  </td><td>0  </td><td>0  </td><td>0  </td><td>0  </td><td>0  </td></tr>\n",
       "\t<tr><td>0  </td><td>0  </td><td>0  </td><td>0  </td><td>0  </td><td>0  </td><td>0  </td><td>0  </td><td>0  </td><td>0  </td><td>...</td><td>0  </td><td>1  </td><td>0  </td><td>0  </td><td>0  </td><td>1  </td><td>0  </td><td>0  </td><td>0  </td><td>0  </td></tr>\n",
       "\t<tr><td>0  </td><td>0  </td><td>0  </td><td>0  </td><td>0  </td><td>0  </td><td>0  </td><td>0  </td><td>0  </td><td>0  </td><td>...</td><td>0  </td><td>0  </td><td>0  </td><td>0  </td><td>1  </td><td>0  </td><td>1  </td><td>0  </td><td>0  </td><td>1  </td></tr>\n",
       "\t<tr><td>0  </td><td>0  </td><td>0  </td><td>0  </td><td>0  </td><td>0  </td><td>0  </td><td>0  </td><td>0  </td><td>0  </td><td>...</td><td>0  </td><td>0  </td><td>0  </td><td>0  </td><td>0  </td><td>1  </td><td>0  </td><td>1  </td><td>1  </td><td>0  </td></tr>\n",
       "\t<tr><td>0  </td><td>0  </td><td>0  </td><td>0  </td><td>0  </td><td>0  </td><td>1  </td><td>0  </td><td>0  </td><td>0  </td><td>...</td><td>0  </td><td>0  </td><td>0  </td><td>0  </td><td>0  </td><td>0  </td><td>1  </td><td>0  </td><td>0  </td><td>0  </td></tr>\n",
       "\t<tr><td>0  </td><td>0  </td><td>0  </td><td>0  </td><td>0  </td><td>0  </td><td>0  </td><td>1  </td><td>1  </td><td>0  </td><td>...</td><td>0  </td><td>0  </td><td>0  </td><td>0  </td><td>0  </td><td>0  </td><td>1  </td><td>0  </td><td>0  </td><td>0  </td></tr>\n",
       "\t<tr><td>0  </td><td>0  </td><td>0  </td><td>0  </td><td>0  </td><td>0  </td><td>0  </td><td>0  </td><td>0  </td><td>1  </td><td>...</td><td>0  </td><td>0  </td><td>0  </td><td>0  </td><td>0  </td><td>1  </td><td>0  </td><td>0  </td><td>0  </td><td>0  </td></tr>\n",
       "</tbody>\n",
       "</table>\n"
      ],
      "text/latex": [
       "\\begin{tabular}{lllllllllllllllllllll}\n",
       "\t 0   & 0   & 0   & 0   & 0   & 0   & 0   & 0   & 0   & 0   & ... & 0   & 0   & 0   & 0   & 0   & 0   & 0   & 0   & 0   & 0  \\\\\n",
       "\t 0   & 0   & 0   & 0   & 0   & 0   & 0   & 0   & 0   & 0   & ... & 0   & 0   & 0   & 0   & 0   & 0   & 0   & 0   & 0   & 0  \\\\\n",
       "\t 0   & 0   & 0   & 0   & 0   & 0   & 0   & 0   & 0   & 0   & ... & 0   & 0   & 0   & 0   & 0   & 0   & 0   & 0   & 0   & 0  \\\\\n",
       "\t 0   & 0   & 0   & 0   & 0   & 0   & 0   & 0   & 0   & 0   & ... & 0   & 0   & 1   & 0   & 0   & 0   & 0   & 0   & 0   & 0  \\\\\n",
       "\t 0   & 0   & 0   & 0   & 0   & 0   & 0   & 0   & 0   & 0   & ... & 0   & 0   & 0   & 1   & 0   & 0   & 0   & 0   & 0   & 0  \\\\\n",
       "\t 0   & 0   & 0   & 0   & 0   & 0   & 0   & 0   & 0   & 0   & ... & 0   & 0   & 0   & 1   & 0   & 0   & 0   & 0   & 0   & 0  \\\\\n",
       "\t 0   & 0   & 0   & 0   & 0   & 0   & 0   & 0   & 0   & 0   & ... & 0   & 0   & 0   & 0   & 0   & 0   & 0   & 1   & 0   & 0  \\\\\n",
       "\t 0   & 0   & 0   & 0   & 0   & 0   & 0   & 0   & 0   & 0   & ... & 0   & 0   & 0   & 0   & 0   & 0   & 0   & 0   & 1   & 0  \\\\\n",
       "\t 0   & 0   & 0   & 0   & 0   & 0   & 0   & 0   & 0   & 0   & ... & 0   & 0   & 0   & 0   & 0   & 0   & 0   & 0   & 1   & 0  \\\\\n",
       "\t 0   & 0   & 0   & 0   & 0   & 0   & 0   & 0   & 0   & 0   & ... & 0   & 0   & 0   & 0   & 0   & 0   & 0   & 0   & 0   & 1  \\\\\n",
       "\t 1   & 1   & 1   & 0   & 0   & 0   & 0   & 0   & 0   & 0   & ... & 1   & 0   & 0   & 0   & 0   & 0   & 0   & 0   & 0   & 0  \\\\\n",
       "\t 0   & 0   & 0   & 0   & 0   & 0   & 0   & 0   & 0   & 0   & ... & 0   & 1   & 0   & 0   & 0   & 0   & 0   & 0   & 0   & 0  \\\\\n",
       "\t 0   & 0   & 0   & 0   & 0   & 0   & 0   & 0   & 0   & 0   & ... & 1   & 0   & 1   & 0   & 1   & 0   & 0   & 0   & 0   & 0  \\\\\n",
       "\t 0   & 0   & 0   & 1   & 0   & 0   & 0   & 0   & 0   & 0   & ... & 0   & 1   & 0   & 1   & 0   & 0   & 0   & 0   & 0   & 0  \\\\\n",
       "\t 0   & 0   & 0   & 0   & 1   & 1   & 0   & 0   & 0   & 0   & ... & 0   & 0   & 1   & 0   & 0   & 0   & 0   & 0   & 0   & 0  \\\\\n",
       "\t 0   & 0   & 0   & 0   & 0   & 0   & 0   & 0   & 0   & 0   & ... & 0   & 1   & 0   & 0   & 0   & 1   & 0   & 0   & 0   & 0  \\\\\n",
       "\t 0   & 0   & 0   & 0   & 0   & 0   & 0   & 0   & 0   & 0   & ... & 0   & 0   & 0   & 0   & 1   & 0   & 1   & 0   & 0   & 1  \\\\\n",
       "\t 0   & 0   & 0   & 0   & 0   & 0   & 0   & 0   & 0   & 0   & ... & 0   & 0   & 0   & 0   & 0   & 1   & 0   & 1   & 1   & 0  \\\\\n",
       "\t 0   & 0   & 0   & 0   & 0   & 0   & 1   & 0   & 0   & 0   & ... & 0   & 0   & 0   & 0   & 0   & 0   & 1   & 0   & 0   & 0  \\\\\n",
       "\t 0   & 0   & 0   & 0   & 0   & 0   & 0   & 1   & 1   & 0   & ... & 0   & 0   & 0   & 0   & 0   & 0   & 1   & 0   & 0   & 0  \\\\\n",
       "\t 0   & 0   & 0   & 0   & 0   & 0   & 0   & 0   & 0   & 1   & ... & 0   & 0   & 0   & 0   & 0   & 1   & 0   & 0   & 0   & 0  \\\\\n",
       "\\end{tabular}\n"
      ],
      "text/markdown": [
       "\n",
       "| 0   | 0   | 0   | 0   | 0   | 0   | 0   | 0   | 0   | 0   | ... | 0   | 0   | 0   | 0   | 0   | 0   | 0   | 0   | 0   | 0   | \n",
       "| 0   | 0   | 0   | 0   | 0   | 0   | 0   | 0   | 0   | 0   | ... | 0   | 0   | 0   | 0   | 0   | 0   | 0   | 0   | 0   | 0   | \n",
       "| 0   | 0   | 0   | 0   | 0   | 0   | 0   | 0   | 0   | 0   | ... | 0   | 0   | 0   | 0   | 0   | 0   | 0   | 0   | 0   | 0   | \n",
       "| 0   | 0   | 0   | 0   | 0   | 0   | 0   | 0   | 0   | 0   | ... | 0   | 0   | 1   | 0   | 0   | 0   | 0   | 0   | 0   | 0   | \n",
       "| 0   | 0   | 0   | 0   | 0   | 0   | 0   | 0   | 0   | 0   | ... | 0   | 0   | 0   | 1   | 0   | 0   | 0   | 0   | 0   | 0   | \n",
       "| 0   | 0   | 0   | 0   | 0   | 0   | 0   | 0   | 0   | 0   | ... | 0   | 0   | 0   | 1   | 0   | 0   | 0   | 0   | 0   | 0   | \n",
       "| 0   | 0   | 0   | 0   | 0   | 0   | 0   | 0   | 0   | 0   | ... | 0   | 0   | 0   | 0   | 0   | 0   | 0   | 1   | 0   | 0   | \n",
       "| 0   | 0   | 0   | 0   | 0   | 0   | 0   | 0   | 0   | 0   | ... | 0   | 0   | 0   | 0   | 0   | 0   | 0   | 0   | 1   | 0   | \n",
       "| 0   | 0   | 0   | 0   | 0   | 0   | 0   | 0   | 0   | 0   | ... | 0   | 0   | 0   | 0   | 0   | 0   | 0   | 0   | 1   | 0   | \n",
       "| 0   | 0   | 0   | 0   | 0   | 0   | 0   | 0   | 0   | 0   | ... | 0   | 0   | 0   | 0   | 0   | 0   | 0   | 0   | 0   | 1   | \n",
       "| 1   | 1   | 1   | 0   | 0   | 0   | 0   | 0   | 0   | 0   | ... | 1   | 0   | 0   | 0   | 0   | 0   | 0   | 0   | 0   | 0   | \n",
       "| 0   | 0   | 0   | 0   | 0   | 0   | 0   | 0   | 0   | 0   | ... | 0   | 1   | 0   | 0   | 0   | 0   | 0   | 0   | 0   | 0   | \n",
       "| 0   | 0   | 0   | 0   | 0   | 0   | 0   | 0   | 0   | 0   | ... | 1   | 0   | 1   | 0   | 1   | 0   | 0   | 0   | 0   | 0   | \n",
       "| 0   | 0   | 0   | 1   | 0   | 0   | 0   | 0   | 0   | 0   | ... | 0   | 1   | 0   | 1   | 0   | 0   | 0   | 0   | 0   | 0   | \n",
       "| 0   | 0   | 0   | 0   | 1   | 1   | 0   | 0   | 0   | 0   | ... | 0   | 0   | 1   | 0   | 0   | 0   | 0   | 0   | 0   | 0   | \n",
       "| 0   | 0   | 0   | 0   | 0   | 0   | 0   | 0   | 0   | 0   | ... | 0   | 1   | 0   | 0   | 0   | 1   | 0   | 0   | 0   | 0   | \n",
       "| 0   | 0   | 0   | 0   | 0   | 0   | 0   | 0   | 0   | 0   | ... | 0   | 0   | 0   | 0   | 1   | 0   | 1   | 0   | 0   | 1   | \n",
       "| 0   | 0   | 0   | 0   | 0   | 0   | 0   | 0   | 0   | 0   | ... | 0   | 0   | 0   | 0   | 0   | 1   | 0   | 1   | 1   | 0   | \n",
       "| 0   | 0   | 0   | 0   | 0   | 0   | 1   | 0   | 0   | 0   | ... | 0   | 0   | 0   | 0   | 0   | 0   | 1   | 0   | 0   | 0   | \n",
       "| 0   | 0   | 0   | 0   | 0   | 0   | 0   | 1   | 1   | 0   | ... | 0   | 0   | 0   | 0   | 0   | 0   | 1   | 0   | 0   | 0   | \n",
       "| 0   | 0   | 0   | 0   | 0   | 0   | 0   | 0   | 0   | 1   | ... | 0   | 0   | 0   | 0   | 0   | 1   | 0   | 0   | 0   | 0   | \n",
       "\n",
       "\n"
      ],
      "text/plain": [
       "      [,1] [,2] [,3] [,4] [,5] [,6] [,7] [,8] [,9] [,10] [,11] [,12] [,13]\n",
       " [1,] 0    0    0    0    0    0    0    0    0    0     ...   0     0    \n",
       " [2,] 0    0    0    0    0    0    0    0    0    0     ...   0     0    \n",
       " [3,] 0    0    0    0    0    0    0    0    0    0     ...   0     0    \n",
       " [4,] 0    0    0    0    0    0    0    0    0    0     ...   0     0    \n",
       " [5,] 0    0    0    0    0    0    0    0    0    0     ...   0     0    \n",
       " [6,] 0    0    0    0    0    0    0    0    0    0     ...   0     0    \n",
       " [7,] 0    0    0    0    0    0    0    0    0    0     ...   0     0    \n",
       " [8,] 0    0    0    0    0    0    0    0    0    0     ...   0     0    \n",
       " [9,] 0    0    0    0    0    0    0    0    0    0     ...   0     0    \n",
       "[10,] 0    0    0    0    0    0    0    0    0    0     ...   0     0    \n",
       "[11,] 1    1    1    0    0    0    0    0    0    0     ...   1     0    \n",
       "[12,] 0    0    0    0    0    0    0    0    0    0     ...   0     1    \n",
       "[13,] 0    0    0    0    0    0    0    0    0    0     ...   1     0    \n",
       "[14,] 0    0    0    1    0    0    0    0    0    0     ...   0     1    \n",
       "[15,] 0    0    0    0    1    1    0    0    0    0     ...   0     0    \n",
       "[16,] 0    0    0    0    0    0    0    0    0    0     ...   0     1    \n",
       "[17,] 0    0    0    0    0    0    0    0    0    0     ...   0     0    \n",
       "[18,] 0    0    0    0    0    0    0    0    0    0     ...   0     0    \n",
       "[19,] 0    0    0    0    0    0    1    0    0    0     ...   0     0    \n",
       "[20,] 0    0    0    0    0    0    0    1    1    0     ...   0     0    \n",
       "[21,] 0    0    0    0    0    0    0    0    0    1     ...   0     0    \n",
       "      [,14] [,15] [,16] [,17] [,18] [,19] [,20] [,21]\n",
       " [1,] 0     0     0     0     0     0     0     0    \n",
       " [2,] 0     0     0     0     0     0     0     0    \n",
       " [3,] 0     0     0     0     0     0     0     0    \n",
       " [4,] 1     0     0     0     0     0     0     0    \n",
       " [5,] 0     1     0     0     0     0     0     0    \n",
       " [6,] 0     1     0     0     0     0     0     0    \n",
       " [7,] 0     0     0     0     0     1     0     0    \n",
       " [8,] 0     0     0     0     0     0     1     0    \n",
       " [9,] 0     0     0     0     0     0     1     0    \n",
       "[10,] 0     0     0     0     0     0     0     1    \n",
       "[11,] 0     0     0     0     0     0     0     0    \n",
       "[12,] 0     0     0     0     0     0     0     0    \n",
       "[13,] 1     0     1     0     0     0     0     0    \n",
       "[14,] 0     1     0     0     0     0     0     0    \n",
       "[15,] 1     0     0     0     0     0     0     0    \n",
       "[16,] 0     0     0     1     0     0     0     0    \n",
       "[17,] 0     0     1     0     1     0     0     1    \n",
       "[18,] 0     0     0     1     0     1     1     0    \n",
       "[19,] 0     0     0     0     1     0     0     0    \n",
       "[20,] 0     0     0     0     1     0     0     0    \n",
       "[21,] 0     0     0     1     0     0     0     0    "
      ]
     },
     "metadata": {},
     "output_type": "display_data"
    }
   ],
   "source": [
    "ad.mat <- matrix(0, 21, 21)\n",
    "for(k in 1:20){\n",
    "    ad.mat[edge.mat[1,2*k-1],edge.mat[2*k]] <- 1\n",
    "}\n",
    "ad.mat <- ad.mat + t(ad.mat)\n",
    "ad.mat"
   ]
  },
  {
   "cell_type": "markdown",
   "metadata": {},
   "source": [
    "Make a graph object of the tree by two ways; using the edge list and the adjacency matrix."
   ]
  },
  {
   "cell_type": "code",
   "execution_count": 11,
   "metadata": {},
   "outputs": [
    {
     "name": "stderr",
     "output_type": "stream",
     "text": [
      "\n",
      "Attaching package: 'igraph'\n",
      "\n",
      "The following objects are masked from 'package:stats':\n",
      "\n",
      "    decompose, spectrum\n",
      "\n",
      "The following object is masked from 'package:base':\n",
      "\n",
      "    union\n",
      "\n"
     ]
    },
    {
     "data": {
      "image/png": "[encoded data removed]",
      "text/plain": [
       "Plot with title \"\""
      ]
     },
     "metadata": {},
     "output_type": "display_data"
    }
   ],
   "source": [
    "library(igraph)\n",
    "gr1 <- graph(edges=edge.mat, n=21, directed=F)\n",
    "plot(gr1)"
   ]
  },
  {
   "cell_type": "code",
   "execution_count": 12,
   "metadata": {},
   "outputs": [
    {
     "data": {
      "image/png": "[encoded data removed]",
      "text/plain": [
       "Plot with title \"\""
      ]
     },
     "metadata": {},
     "output_type": "display_data"
    }
   ],
   "source": [
    "gr2 <- graph.adjacency(ad.mat, mode=\"undirected\")\n",
    "plot(gr2)"
   ]
  },
  {
   "cell_type": "markdown",
   "metadata": {},
   "source": [
    "Give positive integer values to the edges and provide the edge weight to the graph object(s)."
   ]
  },
  {
   "cell_type": "code",
   "execution_count": 13,
   "metadata": {},
   "outputs": [
    {
     "data": {
      "text/plain": [
       "+ 20/20 edges from d9ff53a:\n",
       " [1]  1--11  2--11  3--11  4--14  5--15  6--15  7--19  8--20  9--20 10--21\n",
       "[11] 11--12 12--13 13--14 13--16 14--15 16--17 17--18 17--21 18--19 18--20"
      ]
     },
     "metadata": {},
     "output_type": "display_data"
    },
    {
     "data": {
      "text/html": [
       "<strong>$weight</strong> = <ol class=list-inline>\n",
       "\t<li>10</li>\n",
       "\t<li>9</li>\n",
       "\t<li>8</li>\n",
       "\t<li>10</li>\n",
       "\t<li>10</li>\n",
       "\t<li>9</li>\n",
       "\t<li>12</li>\n",
       "\t<li>12</li>\n",
       "\t<li>11</li>\n",
       "\t<li>11</li>\n",
       "\t<li>1</li>\n",
       "\t<li>1</li>\n",
       "\t<li>1</li>\n",
       "\t<li>3</li>\n",
       "\t<li>1</li>\n",
       "\t<li>1</li>\n",
       "\t<li>1</li>\n",
       "\t<li>4</li>\n",
       "\t<li>1</li>\n",
       "\t<li>2</li>\n",
       "</ol>\n"
      ],
      "text/latex": [
       "\\textbf{\\$weight} = \\begin{enumerate*}\n",
       "\\item 10\n",
       "\\item 9\n",
       "\\item 8\n",
       "\\item 10\n",
       "\\item 10\n",
       "\\item 9\n",
       "\\item 12\n",
       "\\item 12\n",
       "\\item 11\n",
       "\\item 11\n",
       "\\item 1\n",
       "\\item 1\n",
       "\\item 1\n",
       "\\item 3\n",
       "\\item 1\n",
       "\\item 1\n",
       "\\item 1\n",
       "\\item 4\n",
       "\\item 1\n",
       "\\item 2\n",
       "\\end{enumerate*}\n"
      ],
      "text/markdown": [
       "**$weight** = 1. 10\n",
       "2. 9\n",
       "3. 8\n",
       "4. 10\n",
       "5. 10\n",
       "6. 9\n",
       "7. 12\n",
       "8. 12\n",
       "9. 11\n",
       "10. 11\n",
       "11. 1\n",
       "12. 1\n",
       "13. 1\n",
       "14. 3\n",
       "15. 1\n",
       "16. 1\n",
       "17. 1\n",
       "18. 4\n",
       "19. 1\n",
       "20. 2\n",
       "\n",
       "\n"
      ],
      "text/plain": [
       "$weight\n",
       " [1] 10  9  8 10 10  9 12 12 11 11  1  1  1  3  1  1  1  4  1  2\n"
      ]
     },
     "metadata": {},
     "output_type": "display_data"
    },
    {
     "data": {
      "image/png": "[encoded data removed]",
      "text/plain": [
       "Plot with title \"\""
      ]
     },
     "metadata": {},
     "output_type": "display_data"
    }
   ],
   "source": [
    "gr3 <- gr2\n",
    "weight.mat <- matrix(0,1,20)\n",
    "for(k in 1:20){\n",
    "    weight.mat[1,k] <- edge.mat[1,2*k] - edge.mat[1,2*k-1]\n",
    "}\n",
    "E(gr3)$weight <- weight.mat\n",
    "E(gr3)\n",
    "edge_attr(gr3)\n",
    "plot(gr3)"
   ]
  },
  {
   "cell_type": "markdown",
   "metadata": {},
   "source": [
    "Obtain pairwise distance matrix between all vertex pairs."
   ]
  },
  {
   "cell_type": "code",
   "execution_count": 14,
   "metadata": {},
   "outputs": [
    {
     "data": {
      "text/html": [
       "<table>\n",
       "<tbody>\n",
       "\t<tr><td> 0 </td><td>19 </td><td>18 </td><td>23 </td><td>24 </td><td>23 </td><td>30 </td><td>31 </td><td>30 </td><td>31 </td><td>...</td><td>11 </td><td>12 </td><td>13 </td><td>14 </td><td>15 </td><td>16 </td><td>17 </td><td>18 </td><td>19 </td><td>20 </td></tr>\n",
       "\t<tr><td>19 </td><td> 0 </td><td>17 </td><td>22 </td><td>23 </td><td>22 </td><td>29 </td><td>30 </td><td>29 </td><td>30 </td><td>...</td><td>10 </td><td>11 </td><td>12 </td><td>13 </td><td>14 </td><td>15 </td><td>16 </td><td>17 </td><td>18 </td><td>19 </td></tr>\n",
       "\t<tr><td>18 </td><td>17 </td><td> 0 </td><td>21 </td><td>22 </td><td>21 </td><td>28 </td><td>29 </td><td>28 </td><td>29 </td><td>...</td><td> 9 </td><td>10 </td><td>11 </td><td>12 </td><td>13 </td><td>14 </td><td>15 </td><td>16 </td><td>17 </td><td>18 </td></tr>\n",
       "\t<tr><td>23 </td><td>22 </td><td>21 </td><td> 0 </td><td>21 </td><td>20 </td><td>29 </td><td>30 </td><td>29 </td><td>30 </td><td>...</td><td>12 </td><td>11 </td><td>10 </td><td>11 </td><td>14 </td><td>15 </td><td>16 </td><td>17 </td><td>18 </td><td>19 </td></tr>\n",
       "\t<tr><td>24 </td><td>23 </td><td>22 </td><td>21 </td><td> 0 </td><td>19 </td><td>30 </td><td>31 </td><td>30 </td><td>31 </td><td>...</td><td>13 </td><td>12 </td><td>11 </td><td>10 </td><td>15 </td><td>16 </td><td>17 </td><td>18 </td><td>19 </td><td>20 </td></tr>\n",
       "\t<tr><td>23 </td><td>22 </td><td>21 </td><td>20 </td><td>19 </td><td> 0 </td><td>29 </td><td>30 </td><td>29 </td><td>30 </td><td>...</td><td>12 </td><td>11 </td><td>10 </td><td> 9 </td><td>14 </td><td>15 </td><td>16 </td><td>17 </td><td>18 </td><td>19 </td></tr>\n",
       "\t<tr><td>30 </td><td>29 </td><td>28 </td><td>29 </td><td>30 </td><td>29 </td><td> 0 </td><td>27 </td><td>26 </td><td>29 </td><td>...</td><td>19 </td><td>18 </td><td>19 </td><td>20 </td><td>15 </td><td>14 </td><td>13 </td><td>12 </td><td>15 </td><td>18 </td></tr>\n",
       "\t<tr><td>31 </td><td>30 </td><td>29 </td><td>30 </td><td>31 </td><td>30 </td><td>27 </td><td> 0 </td><td>23 </td><td>30 </td><td>...</td><td>20 </td><td>19 </td><td>20 </td><td>21 </td><td>16 </td><td>15 </td><td>14 </td><td>15 </td><td>12 </td><td>19 </td></tr>\n",
       "\t<tr><td>30 </td><td>29 </td><td>28 </td><td>29 </td><td>30 </td><td>29 </td><td>26 </td><td>23 </td><td> 0 </td><td>29 </td><td>...</td><td>19 </td><td>18 </td><td>19 </td><td>20 </td><td>15 </td><td>14 </td><td>13 </td><td>14 </td><td>11 </td><td>18 </td></tr>\n",
       "\t<tr><td>31 </td><td>30 </td><td>29 </td><td>30 </td><td>31 </td><td>30 </td><td>29 </td><td>30 </td><td>29 </td><td> 0 </td><td>...</td><td>20 </td><td>19 </td><td>20 </td><td>21 </td><td>16 </td><td>15 </td><td>16 </td><td>17 </td><td>18 </td><td>11 </td></tr>\n",
       "\t<tr><td>10 </td><td> 9 </td><td> 8 </td><td>13 </td><td>14 </td><td>13 </td><td>20 </td><td>21 </td><td>20 </td><td>21 </td><td>...</td><td> 1 </td><td> 2 </td><td> 3 </td><td> 4 </td><td> 5 </td><td> 6 </td><td> 7 </td><td> 8 </td><td> 9 </td><td>10 </td></tr>\n",
       "\t<tr><td>11 </td><td>10 </td><td> 9 </td><td>12 </td><td>13 </td><td>12 </td><td>19 </td><td>20 </td><td>19 </td><td>20 </td><td>...</td><td> 0 </td><td> 1 </td><td> 2 </td><td> 3 </td><td> 4 </td><td> 5 </td><td> 6 </td><td> 7 </td><td> 8 </td><td> 9 </td></tr>\n",
       "\t<tr><td>12 </td><td>11 </td><td>10 </td><td>11 </td><td>12 </td><td>11 </td><td>18 </td><td>19 </td><td>18 </td><td>19 </td><td>...</td><td> 1 </td><td> 0 </td><td> 1 </td><td> 2 </td><td> 3 </td><td> 4 </td><td> 5 </td><td> 6 </td><td> 7 </td><td> 8 </td></tr>\n",
       "\t<tr><td>13 </td><td>12 </td><td>11 </td><td>10 </td><td>11 </td><td>10 </td><td>19 </td><td>20 </td><td>19 </td><td>20 </td><td>...</td><td> 2 </td><td> 1 </td><td> 0 </td><td> 1 </td><td> 4 </td><td> 5 </td><td> 6 </td><td> 7 </td><td> 8 </td><td> 9 </td></tr>\n",
       "\t<tr><td>14 </td><td>13 </td><td>12 </td><td>11 </td><td>10 </td><td> 9 </td><td>20 </td><td>21 </td><td>20 </td><td>21 </td><td>...</td><td> 3 </td><td> 2 </td><td> 1 </td><td> 0 </td><td> 5 </td><td> 6 </td><td> 7 </td><td> 8 </td><td> 9 </td><td>10 </td></tr>\n",
       "\t<tr><td>15 </td><td>14 </td><td>13 </td><td>14 </td><td>15 </td><td>14 </td><td>15 </td><td>16 </td><td>15 </td><td>16 </td><td>...</td><td> 4 </td><td> 3 </td><td> 4 </td><td> 5 </td><td> 0 </td><td> 1 </td><td> 2 </td><td> 3 </td><td> 4 </td><td> 5 </td></tr>\n",
       "\t<tr><td>16 </td><td>15 </td><td>14 </td><td>15 </td><td>16 </td><td>15 </td><td>14 </td><td>15 </td><td>14 </td><td>15 </td><td>...</td><td> 5 </td><td> 4 </td><td> 5 </td><td> 6 </td><td> 1 </td><td> 0 </td><td> 1 </td><td> 2 </td><td> 3 </td><td> 4 </td></tr>\n",
       "\t<tr><td>17 </td><td>16 </td><td>15 </td><td>16 </td><td>17 </td><td>16 </td><td>13 </td><td>14 </td><td>13 </td><td>16 </td><td>...</td><td> 6 </td><td> 5 </td><td> 6 </td><td> 7 </td><td> 2 </td><td> 1 </td><td> 0 </td><td> 1 </td><td> 2 </td><td> 5 </td></tr>\n",
       "\t<tr><td>18 </td><td>17 </td><td>16 </td><td>17 </td><td>18 </td><td>17 </td><td>12 </td><td>15 </td><td>14 </td><td>17 </td><td>...</td><td> 7 </td><td> 6 </td><td> 7 </td><td> 8 </td><td> 3 </td><td> 2 </td><td> 1 </td><td> 0 </td><td> 3 </td><td> 6 </td></tr>\n",
       "\t<tr><td>19 </td><td>18 </td><td>17 </td><td>18 </td><td>19 </td><td>18 </td><td>15 </td><td>12 </td><td>11 </td><td>18 </td><td>...</td><td> 8 </td><td> 7 </td><td> 8 </td><td> 9 </td><td> 4 </td><td> 3 </td><td> 2 </td><td> 3 </td><td> 0 </td><td> 7 </td></tr>\n",
       "\t<tr><td>20 </td><td>19 </td><td>18 </td><td>19 </td><td>20 </td><td>19 </td><td>18 </td><td>19 </td><td>18 </td><td>11 </td><td>...</td><td> 9 </td><td> 8 </td><td> 9 </td><td>10 </td><td> 5 </td><td> 4 </td><td> 5 </td><td> 6 </td><td> 7 </td><td> 0 </td></tr>\n",
       "</tbody>\n",
       "</table>\n"
      ],
      "text/latex": [
       "\\begin{tabular}{lllllllllllllllllllll}\n",
       "\t  0  & 19  & 18  & 23  & 24  & 23  & 30  & 31  & 30  & 31  & ... & 11  & 12  & 13  & 14  & 15  & 16  & 17  & 18  & 19  & 20 \\\\\n",
       "\t 19  &  0  & 17  & 22  & 23  & 22  & 29  & 30  & 29  & 30  & ... & 10  & 11  & 12  & 13  & 14  & 15  & 16  & 17  & 18  & 19 \\\\\n",
       "\t 18  & 17  &  0  & 21  & 22  & 21  & 28  & 29  & 28  & 29  & ... &  9  & 10  & 11  & 12  & 13  & 14  & 15  & 16  & 17  & 18 \\\\\n",
       "\t 23  & 22  & 21  &  0  & 21  & 20  & 29  & 30  & 29  & 30  & ... & 12  & 11  & 10  & 11  & 14  & 15  & 16  & 17  & 18  & 19 \\\\\n",
       "\t 24  & 23  & 22  & 21  &  0  & 19  & 30  & 31  & 30  & 31  & ... & 13  & 12  & 11  & 10  & 15  & 16  & 17  & 18  & 19  & 20 \\\\\n",
       "\t 23  & 22  & 21  & 20  & 19  &  0  & 29  & 30  & 29  & 30  & ... & 12  & 11  & 10  &  9  & 14  & 15  & 16  & 17  & 18  & 19 \\\\\n",
       "\t 30  & 29  & 28  & 29  & 30  & 29  &  0  & 27  & 26  & 29  & ... & 19  & 18  & 19  & 20  & 15  & 14  & 13  & 12  & 15  & 18 \\\\\n",
       "\t 31  & 30  & 29  & 30  & 31  & 30  & 27  &  0  & 23  & 30  & ... & 20  & 19  & 20  & 21  & 16  & 15  & 14  & 15  & 12  & 19 \\\\\n",
       "\t 30  & 29  & 28  & 29  & 30  & 29  & 26  & 23  &  0  & 29  & ... & 19  & 18  & 19  & 20  & 15  & 14  & 13  & 14  & 11  & 18 \\\\\n",
       "\t 31  & 30  & 29  & 30  & 31  & 30  & 29  & 30  & 29  &  0  & ... & 20  & 19  & 20  & 21  & 16  & 15  & 16  & 17  & 18  & 11 \\\\\n",
       "\t 10  &  9  &  8  & 13  & 14  & 13  & 20  & 21  & 20  & 21  & ... &  1  &  2  &  3  &  4  &  5  &  6  &  7  &  8  &  9  & 10 \\\\\n",
       "\t 11  & 10  &  9  & 12  & 13  & 12  & 19  & 20  & 19  & 20  & ... &  0  &  1  &  2  &  3  &  4  &  5  &  6  &  7  &  8  &  9 \\\\\n",
       "\t 12  & 11  & 10  & 11  & 12  & 11  & 18  & 19  & 18  & 19  & ... &  1  &  0  &  1  &  2  &  3  &  4  &  5  &  6  &  7  &  8 \\\\\n",
       "\t 13  & 12  & 11  & 10  & 11  & 10  & 19  & 20  & 19  & 20  & ... &  2  &  1  &  0  &  1  &  4  &  5  &  6  &  7  &  8  &  9 \\\\\n",
       "\t 14  & 13  & 12  & 11  & 10  &  9  & 20  & 21  & 20  & 21  & ... &  3  &  2  &  1  &  0  &  5  &  6  &  7  &  8  &  9  & 10 \\\\\n",
       "\t 15  & 14  & 13  & 14  & 15  & 14  & 15  & 16  & 15  & 16  & ... &  4  &  3  &  4  &  5  &  0  &  1  &  2  &  3  &  4  &  5 \\\\\n",
       "\t 16  & 15  & 14  & 15  & 16  & 15  & 14  & 15  & 14  & 15  & ... &  5  &  4  &  5  &  6  &  1  &  0  &  1  &  2  &  3  &  4 \\\\\n",
       "\t 17  & 16  & 15  & 16  & 17  & 16  & 13  & 14  & 13  & 16  & ... &  6  &  5  &  6  &  7  &  2  &  1  &  0  &  1  &  2  &  5 \\\\\n",
       "\t 18  & 17  & 16  & 17  & 18  & 17  & 12  & 15  & 14  & 17  & ... &  7  &  6  &  7  &  8  &  3  &  2  &  1  &  0  &  3  &  6 \\\\\n",
       "\t 19  & 18  & 17  & 18  & 19  & 18  & 15  & 12  & 11  & 18  & ... &  8  &  7  &  8  &  9  &  4  &  3  &  2  &  3  &  0  &  7 \\\\\n",
       "\t 20  & 19  & 18  & 19  & 20  & 19  & 18  & 19  & 18  & 11  & ... &  9  &  8  &  9  & 10  &  5  &  4  &  5  &  6  &  7  &  0 \\\\\n",
       "\\end{tabular}\n"
      ],
      "text/markdown": [
       "\n",
       "|  0  | 19  | 18  | 23  | 24  | 23  | 30  | 31  | 30  | 31  | ... | 11  | 12  | 13  | 14  | 15  | 16  | 17  | 18  | 19  | 20  | \n",
       "| 19  |  0  | 17  | 22  | 23  | 22  | 29  | 30  | 29  | 30  | ... | 10  | 11  | 12  | 13  | 14  | 15  | 16  | 17  | 18  | 19  | \n",
       "| 18  | 17  |  0  | 21  | 22  | 21  | 28  | 29  | 28  | 29  | ... |  9  | 10  | 11  | 12  | 13  | 14  | 15  | 16  | 17  | 18  | \n",
       "| 23  | 22  | 21  |  0  | 21  | 20  | 29  | 30  | 29  | 30  | ... | 12  | 11  | 10  | 11  | 14  | 15  | 16  | 17  | 18  | 19  | \n",
       "| 24  | 23  | 22  | 21  |  0  | 19  | 30  | 31  | 30  | 31  | ... | 13  | 12  | 11  | 10  | 15  | 16  | 17  | 18  | 19  | 20  | \n",
       "| 23  | 22  | 21  | 20  | 19  |  0  | 29  | 30  | 29  | 30  | ... | 12  | 11  | 10  |  9  | 14  | 15  | 16  | 17  | 18  | 19  | \n",
       "| 30  | 29  | 28  | 29  | 30  | 29  |  0  | 27  | 26  | 29  | ... | 19  | 18  | 19  | 20  | 15  | 14  | 13  | 12  | 15  | 18  | \n",
       "| 31  | 30  | 29  | 30  | 31  | 30  | 27  |  0  | 23  | 30  | ... | 20  | 19  | 20  | 21  | 16  | 15  | 14  | 15  | 12  | 19  | \n",
       "| 30  | 29  | 28  | 29  | 30  | 29  | 26  | 23  |  0  | 29  | ... | 19  | 18  | 19  | 20  | 15  | 14  | 13  | 14  | 11  | 18  | \n",
       "| 31  | 30  | 29  | 30  | 31  | 30  | 29  | 30  | 29  |  0  | ... | 20  | 19  | 20  | 21  | 16  | 15  | 16  | 17  | 18  | 11  | \n",
       "| 10  |  9  |  8  | 13  | 14  | 13  | 20  | 21  | 20  | 21  | ... |  1  |  2  |  3  |  4  |  5  |  6  |  7  |  8  |  9  | 10  | \n",
       "| 11  | 10  |  9  | 12  | 13  | 12  | 19  | 20  | 19  | 20  | ... |  0  |  1  |  2  |  3  |  4  |  5  |  6  |  7  |  8  |  9  | \n",
       "| 12  | 11  | 10  | 11  | 12  | 11  | 18  | 19  | 18  | 19  | ... |  1  |  0  |  1  |  2  |  3  |  4  |  5  |  6  |  7  |  8  | \n",
       "| 13  | 12  | 11  | 10  | 11  | 10  | 19  | 20  | 19  | 20  | ... |  2  |  1  |  0  |  1  |  4  |  5  |  6  |  7  |  8  |  9  | \n",
       "| 14  | 13  | 12  | 11  | 10  |  9  | 20  | 21  | 20  | 21  | ... |  3  |  2  |  1  |  0  |  5  |  6  |  7  |  8  |  9  | 10  | \n",
       "| 15  | 14  | 13  | 14  | 15  | 14  | 15  | 16  | 15  | 16  | ... |  4  |  3  |  4  |  5  |  0  |  1  |  2  |  3  |  4  |  5  | \n",
       "| 16  | 15  | 14  | 15  | 16  | 15  | 14  | 15  | 14  | 15  | ... |  5  |  4  |  5  |  6  |  1  |  0  |  1  |  2  |  3  |  4  | \n",
       "| 17  | 16  | 15  | 16  | 17  | 16  | 13  | 14  | 13  | 16  | ... |  6  |  5  |  6  |  7  |  2  |  1  |  0  |  1  |  2  |  5  | \n",
       "| 18  | 17  | 16  | 17  | 18  | 17  | 12  | 15  | 14  | 17  | ... |  7  |  6  |  7  |  8  |  3  |  2  |  1  |  0  |  3  |  6  | \n",
       "| 19  | 18  | 17  | 18  | 19  | 18  | 15  | 12  | 11  | 18  | ... |  8  |  7  |  8  |  9  |  4  |  3  |  2  |  3  |  0  |  7  | \n",
       "| 20  | 19  | 18  | 19  | 20  | 19  | 18  | 19  | 18  | 11  | ... |  9  |  8  |  9  | 10  |  5  |  4  |  5  |  6  |  7  |  0  | \n",
       "\n",
       "\n"
      ],
      "text/plain": [
       "      [,1] [,2] [,3] [,4] [,5] [,6] [,7] [,8] [,9] [,10] [,11] [,12] [,13]\n",
       " [1,]  0   19   18   23   24   23   30   31   30   31    ...   11    12   \n",
       " [2,] 19    0   17   22   23   22   29   30   29   30    ...   10    11   \n",
       " [3,] 18   17    0   21   22   21   28   29   28   29    ...    9    10   \n",
       " [4,] 23   22   21    0   21   20   29   30   29   30    ...   12    11   \n",
       " [5,] 24   23   22   21    0   19   30   31   30   31    ...   13    12   \n",
       " [6,] 23   22   21   20   19    0   29   30   29   30    ...   12    11   \n",
       " [7,] 30   29   28   29   30   29    0   27   26   29    ...   19    18   \n",
       " [8,] 31   30   29   30   31   30   27    0   23   30    ...   20    19   \n",
       " [9,] 30   29   28   29   30   29   26   23    0   29    ...   19    18   \n",
       "[10,] 31   30   29   30   31   30   29   30   29    0    ...   20    19   \n",
       "[11,] 10    9    8   13   14   13   20   21   20   21    ...    1     2   \n",
       "[12,] 11   10    9   12   13   12   19   20   19   20    ...    0     1   \n",
       "[13,] 12   11   10   11   12   11   18   19   18   19    ...    1     0   \n",
       "[14,] 13   12   11   10   11   10   19   20   19   20    ...    2     1   \n",
       "[15,] 14   13   12   11   10    9   20   21   20   21    ...    3     2   \n",
       "[16,] 15   14   13   14   15   14   15   16   15   16    ...    4     3   \n",
       "[17,] 16   15   14   15   16   15   14   15   14   15    ...    5     4   \n",
       "[18,] 17   16   15   16   17   16   13   14   13   16    ...    6     5   \n",
       "[19,] 18   17   16   17   18   17   12   15   14   17    ...    7     6   \n",
       "[20,] 19   18   17   18   19   18   15   12   11   18    ...    8     7   \n",
       "[21,] 20   19   18   19   20   19   18   19   18   11    ...    9     8   \n",
       "      [,14] [,15] [,16] [,17] [,18] [,19] [,20] [,21]\n",
       " [1,] 13    14    15    16    17    18    19    20   \n",
       " [2,] 12    13    14    15    16    17    18    19   \n",
       " [3,] 11    12    13    14    15    16    17    18   \n",
       " [4,] 10    11    14    15    16    17    18    19   \n",
       " [5,] 11    10    15    16    17    18    19    20   \n",
       " [6,] 10     9    14    15    16    17    18    19   \n",
       " [7,] 19    20    15    14    13    12    15    18   \n",
       " [8,] 20    21    16    15    14    15    12    19   \n",
       " [9,] 19    20    15    14    13    14    11    18   \n",
       "[10,] 20    21    16    15    16    17    18    11   \n",
       "[11,]  3     4     5     6     7     8     9    10   \n",
       "[12,]  2     3     4     5     6     7     8     9   \n",
       "[13,]  1     2     3     4     5     6     7     8   \n",
       "[14,]  0     1     4     5     6     7     8     9   \n",
       "[15,]  1     0     5     6     7     8     9    10   \n",
       "[16,]  4     5     0     1     2     3     4     5   \n",
       "[17,]  5     6     1     0     1     2     3     4   \n",
       "[18,]  6     7     2     1     0     1     2     5   \n",
       "[19,]  7     8     3     2     1     0     3     6   \n",
       "[20,]  8     9     4     3     2     3     0     7   \n",
       "[21,]  9    10     5     4     5     6     7     0   "
      ]
     },
     "metadata": {},
     "output_type": "display_data"
    }
   ],
   "source": [
    "distances(gr3)"
   ]
  },
  {
   "cell_type": "code",
   "execution_count": null,
   "metadata": {},
   "outputs": [],
   "source": []
  }
 ],
 "metadata": {
  "kernelspec": {
   "display_name": "R",
   "language": "R",
   "name": "ir"
  },
  "language_info": {
   "codemirror_mode": "r",
   "file_extension": ".r",
   "mimetype": "text/x-r-source",
   "name": "R",
   "pygments_lexer": "r",
   "version": "3.4.2"
  }
 },
 "nbformat": 4,
 "nbformat_minor": 2
}
