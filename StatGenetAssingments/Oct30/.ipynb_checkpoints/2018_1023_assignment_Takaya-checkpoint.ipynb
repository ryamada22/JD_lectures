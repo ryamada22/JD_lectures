{
 "cells": [
  {
   "cell_type": "markdown",
   "metadata": {},
   "source": [
    "## Assignment\n",
    "- Make 1x3 table of SNP three genotypes. Calculate sample allele frequency.\n",
    "- Generate a series of 1x3 tables that keeps the observed allele counts.\n",
    "- Perform Exact HWE test on the tables. You will find HWE-exact function in the textbook or in a package somewhere.\n",
    "- Next week: Chapter 13 \"Statistical tests\" ."
   ]
  },
  {
   "cell_type": "code",
   "execution_count": 1,
   "metadata": {
    "collapsed": true
   },
   "outputs": [],
   "source": [
    "N <- 1000\n",
    "p <- 0.4\n",
    "frac <- c(p^2, 2*p*(1-p), (1-p)^2)"
   ]
  },
  {
   "cell_type": "code",
   "execution_count": 49,
   "metadata": {
    "collapsed": true
   },
   "outputs": [],
   "source": [
    "# テキストより\n",
    "hweExact <- function(g){\n",
    "    n <- sum(g)\n",
    "    nA <- 2*g[1]+g[2]\n",
    "    na <- 2*g[3]+g[2]\n",
    "    evod <- g[2] %% 2\n",
    "    maxAa <- min(nA, na) - evod\n",
    "    Aa <- seq(from=evod, to=maxAa, by=2)\n",
    "    AA <- (nA-Aa)/2\n",
    "    aa <- (na-Aa)/2\n",
    "    obs <- (g[2]-evod)/2+1\n",
    "    prob <- rep(0,length(Aa))\n",
    "    prob <- exp(n*lgamma(2+1)+lgamma(nA+1)+lgamma(na+1)-lgamma(2*n+1)-(AA*lgamma(2+1)+2*Aa*lgamma(1+1)+aa*lgamma(2+1))+lgamma(n+1)-(lgamma(AA+1)+lgamma(Aa+1)+lgamma(aa+1)))\n",
    "    p.value <- sum(prob[prob <= prob[obs]])\n",
    "    list(Aa=Aa, prob=prob, obsprob=prob[obs],p.value=p.value)\n",
    "}"
   ]
  },
  {
   "cell_type": "code",
   "execution_count": 35,
   "metadata": {},
   "outputs": [
    {
     "data": {
      "text/html": [
       "<table>\n",
       "<tbody>\n",
       "\t<tr><td>157</td></tr>\n",
       "\t<tr><td>464</td></tr>\n",
       "\t<tr><td>379</td></tr>\n",
       "</tbody>\n",
       "</table>\n"
      ],
      "text/latex": [
       "\\begin{tabular}{l}\n",
       "\t 157\\\\\n",
       "\t 464\\\\\n",
       "\t 379\\\\\n",
       "\\end{tabular}\n"
      ],
      "text/markdown": [
       "\n",
       "| 157 | \n",
       "| 464 | \n",
       "| 379 | \n",
       "\n",
       "\n"
      ],
      "text/plain": [
       "     [,1]\n",
       "[1,] 157 \n",
       "[2,] 464 \n",
       "[3,] 379 "
      ]
     },
     "metadata": {},
     "output_type": "display_data"
    }
   ],
   "source": [
    "sam <- rmultinom(1,1000,frac)\n",
    "sam"
   ]
  },
  {
   "cell_type": "code",
   "execution_count": 50,
   "metadata": {
    "collapsed": true
   },
   "outputs": [],
   "source": [
    "hwe.e <- hweExact(sam)"
   ]
  },
  {
   "cell_type": "code",
   "execution_count": 51,
   "metadata": {},
   "outputs": [
    {
     "data": {
      "text/html": [
       "0.464330571768155"
      ],
      "text/latex": [
       "0.464330571768155"
      ],
      "text/markdown": [
       "0.464330571768155"
      ],
      "text/plain": [
       "[1] 0.4643306"
      ]
     },
     "metadata": {},
     "output_type": "display_data"
    }
   ],
   "source": [
    "hwe.e$p.value"
   ]
  },
  {
   "cell_type": "code",
   "execution_count": 52,
   "metadata": {},
   "outputs": [
    {
     "data": {
      "text/html": [
       "0.999999999998394"
      ],
      "text/latex": [
       "0.999999999998394"
      ],
      "text/markdown": [
       "0.999999999998394"
      ],
      "text/plain": [
       "[1] 1"
      ]
     },
     "metadata": {},
     "output_type": "display_data"
    }
   ],
   "source": [
    "sum(hwe.e$prob)"
   ]
  },
  {
   "cell_type": "code",
   "execution_count": 53,
   "metadata": {
    "scrolled": false
   },
   "outputs": [
    {
     "name": "stderr",
     "output_type": "stream",
     "text": [
      "Warning message:\n",
      "“package ‘HardyWeinberg’ was built under R version 3.5.1”Loading required package: mice\n",
      "Warning message:\n",
      "“package ‘mice’ was built under R version 3.5.1”Loading required package: lattice\n",
      "\n",
      "Attaching package: ‘mice’\n",
      "\n",
      "The following objects are masked from ‘package:base’:\n",
      "\n",
      "    cbind, rbind\n",
      "\n",
      "Loading required package: Rsolnp\n",
      "Warning message:\n",
      "“package ‘Rsolnp’ was built under R version 3.5.1”"
     ]
    }
   ],
   "source": [
    "# パッケージを使う\n",
    "library(HardyWeinberg)"
   ]
  },
  {
   "cell_type": "code",
   "execution_count": 54,
   "metadata": {},
   "outputs": [
    {
     "name": "stderr",
     "output_type": "stream",
     "text": [
      "Warning message in homozyg(X):\n",
      "“Genotypes are not labelled, default labels (AA, AB, BB) assumed.”Warning message in heterozyg(X):\n",
      "“Genotypes are not labelled, default labels assumed.”"
     ]
    },
    {
     "name": "stdout",
     "output_type": "stream",
     "text": [
      "Haldane Exact test for Hardy-Weinberg equilibrium (autosomal)\n",
      "using SELOME p-value\n",
      "sample counts: n =  157 n =  464 n =  379 \n",
      "H0: HWE (D==0), H1: D <> 0 \n",
      "D =  -5.679 p-value =  0.4643306 \n"
     ]
    }
   ],
   "source": [
    "HWExact(sam)\n",
    "# どちらもp値は同じになる"
   ]
  }
 ],
 "metadata": {
  "kernelspec": {
   "display_name": "R",
   "language": "R",
   "name": "ir"
  },
  "language_info": {
   "codemirror_mode": "r",
   "file_extension": ".r",
   "mimetype": "text/x-r-source",
   "name": "R",
   "pygments_lexer": "r",
   "version": "3.4.2"
  }
 },
 "nbformat": 4,
 "nbformat_minor": 2
}
