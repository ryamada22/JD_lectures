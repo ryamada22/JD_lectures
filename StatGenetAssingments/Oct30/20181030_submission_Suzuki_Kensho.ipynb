{
 "cells": [
  {
   "cell_type": "markdown",
   "metadata": {},
   "source": [
    "### アレルAとBとの独立性検定(HWE)"
   ]
  },
  {
   "cell_type": "code",
   "execution_count": 1,
   "metadata": {},
   "outputs": [
    {
     "data": {
      "text/html": [
       "0.307966575166211"
      ],
      "text/latex": [
       "0.307966575166211"
      ],
      "text/markdown": [
       "0.307966575166211"
      ],
      "text/plain": [
       "[1] 0.3079666"
      ]
     },
     "metadata": {},
     "output_type": "display_data"
    }
   ],
   "source": [
    "# アレルAの頻度p\n",
    "p <- runif(1) * 0.6 + 0.2\n",
    "g <- c(p**2, 2*p*(1-p), (1-p)**2)\n",
    "p"
   ]
  },
  {
   "cell_type": "code",
   "execution_count": 2,
   "metadata": {},
   "outputs": [
    {
     "data": {
      "text/html": [
       "1210"
      ],
      "text/latex": [
       "1210"
      ],
      "text/markdown": [
       "1210"
      ],
      "text/plain": [
       "[1] 1210"
      ]
     },
     "metadata": {},
     "output_type": "display_data"
    }
   ],
   "source": [
    "# 観測数\n",
    "N <- sample(1000:2000,1)\n",
    "N"
   ]
  },
  {
   "cell_type": "code",
   "execution_count": 3,
   "metadata": {},
   "outputs": [
    {
     "data": {
      "text/plain": [
       "obs\n",
       "  0   1   2 \n",
       "114 509 587 "
      ]
     },
     "metadata": {},
     "output_type": "display_data"
    }
   ],
   "source": [
    "# 観測結果\n",
    "obs <- sample(0:2,N,replace=TRUE,prob=g)\n",
    "tab <- table(obs)\n",
    "tab"
   ]
  },
  {
   "cell_type": "code",
   "execution_count": 4,
   "metadata": {},
   "outputs": [
    {
     "data": {
      "text/html": [
       "<strong>0:</strong> 0.304545454545455"
      ],
      "text/latex": [
       "\\textbf{0:} 0.304545454545455"
      ],
      "text/markdown": [
       "**0:** 0.304545454545455"
      ],
      "text/plain": [
       "        0 \n",
       "0.3045455 "
      ]
     },
     "metadata": {},
     "output_type": "display_data"
    }
   ],
   "source": [
    "# 観測結果からp値の推定\n",
    "cul_p <- (2*tab[1] + tab[2]) / (2*N)\n",
    "cul_p"
   ]
  },
  {
   "cell_type": "code",
   "execution_count": 5,
   "metadata": {},
   "outputs": [
    {
     "data": {
      "text/html": [
       "<strong>0:</strong> 737"
      ],
      "text/latex": [
       "\\textbf{0:} 737"
      ],
      "text/markdown": [
       "**0:** 737"
      ],
      "text/plain": [
       "  0 \n",
       "737 "
      ]
     },
     "metadata": {},
     "output_type": "display_data"
    }
   ],
   "source": [
    "Na <- 2*tab[1] + tab[2]\n",
    "Na"
   ]
  },
  {
   "cell_type": "code",
   "execution_count": 7,
   "metadata": {},
   "outputs": [],
   "source": [
    "# series\n",
    "hwe_list <- function(num_AA, N, Na){\n",
    "    num_AB <- Na - 2*num_AA\n",
    "    num_BB <- N - num_AA - num_AB\n",
    "    return(c(num_AA,num_AB,num_BB))\n",
    "}\n",
    "tab_0 <- hwe_list(50, N, Na)\n",
    "tab_1 <- hwe_list(75, N, Na)\n",
    "tab_2 <- hwe_list(100, N, Na)\n",
    "tab_3 <- hwe_list(125, N, Na)\n",
    "tab_4 <- hwe_list(150, N, Na)\n",
    "tab_5 <- hwe_list(175, N, Na)"
   ]
  },
  {
   "cell_type": "code",
   "execution_count": 8,
   "metadata": {},
   "outputs": [
    {
     "data": {
      "text/html": [
       "<dl class=dl-horizontal>\n",
       "\t<dt>1</dt>\n",
       "\t\t<dd>75</dd>\n",
       "\t<dt>0</dt>\n",
       "\t\t<dd>587</dd>\n",
       "\t<dt>0</dt>\n",
       "\t\t<dd>548</dd>\n",
       "</dl>\n"
      ],
      "text/latex": [
       "\\begin{description*}\n",
       "\\item[1] 75\n",
       "\\item[0] 587\n",
       "\\item[0] 548\n",
       "\\end{description*}\n"
      ],
      "text/markdown": [
       "1\n",
       ":   750\n",
       ":   5870\n",
       ":   548\n",
       "\n"
      ],
      "text/plain": [
       "      0   0 \n",
       " 75 587 548 "
      ]
     },
     "metadata": {},
     "output_type": "display_data"
    },
    {
     "data": {
      "text/html": [
       "<dl class=dl-horizontal>\n",
       "\t<dt>1</dt>\n",
       "\t\t<dd>100</dd>\n",
       "\t<dt>0</dt>\n",
       "\t\t<dd>537</dd>\n",
       "\t<dt>0</dt>\n",
       "\t\t<dd>573</dd>\n",
       "</dl>\n"
      ],
      "text/latex": [
       "\\begin{description*}\n",
       "\\item[1] 100\n",
       "\\item[0] 537\n",
       "\\item[0] 573\n",
       "\\end{description*}\n"
      ],
      "text/markdown": [
       "1\n",
       ":   1000\n",
       ":   5370\n",
       ":   573\n",
       "\n"
      ],
      "text/plain": [
       "      0   0 \n",
       "100 537 573 "
      ]
     },
     "metadata": {},
     "output_type": "display_data"
    },
    {
     "data": {
      "text/html": [
       "<dl class=dl-horizontal>\n",
       "\t<dt>1</dt>\n",
       "\t\t<dd>125</dd>\n",
       "\t<dt>0</dt>\n",
       "\t\t<dd>487</dd>\n",
       "\t<dt>0</dt>\n",
       "\t\t<dd>598</dd>\n",
       "</dl>\n"
      ],
      "text/latex": [
       "\\begin{description*}\n",
       "\\item[1] 125\n",
       "\\item[0] 487\n",
       "\\item[0] 598\n",
       "\\end{description*}\n"
      ],
      "text/markdown": [
       "1\n",
       ":   1250\n",
       ":   4870\n",
       ":   598\n",
       "\n"
      ],
      "text/plain": [
       "      0   0 \n",
       "125 487 598 "
      ]
     },
     "metadata": {},
     "output_type": "display_data"
    },
    {
     "data": {
      "text/html": [
       "<dl class=dl-horizontal>\n",
       "\t<dt>1</dt>\n",
       "\t\t<dd>150</dd>\n",
       "\t<dt>0</dt>\n",
       "\t\t<dd>437</dd>\n",
       "\t<dt>0</dt>\n",
       "\t\t<dd>623</dd>\n",
       "</dl>\n"
      ],
      "text/latex": [
       "\\begin{description*}\n",
       "\\item[1] 150\n",
       "\\item[0] 437\n",
       "\\item[0] 623\n",
       "\\end{description*}\n"
      ],
      "text/markdown": [
       "1\n",
       ":   1500\n",
       ":   4370\n",
       ":   623\n",
       "\n"
      ],
      "text/plain": [
       "      0   0 \n",
       "150 437 623 "
      ]
     },
     "metadata": {},
     "output_type": "display_data"
    },
    {
     "data": {
      "text/html": [
       "<dl class=dl-horizontal>\n",
       "\t<dt>1</dt>\n",
       "\t\t<dd>175</dd>\n",
       "\t<dt>0</dt>\n",
       "\t\t<dd>387</dd>\n",
       "\t<dt>0</dt>\n",
       "\t\t<dd>648</dd>\n",
       "</dl>\n"
      ],
      "text/latex": [
       "\\begin{description*}\n",
       "\\item[1] 175\n",
       "\\item[0] 387\n",
       "\\item[0] 648\n",
       "\\end{description*}\n"
      ],
      "text/markdown": [
       "1\n",
       ":   1750\n",
       ":   3870\n",
       ":   648\n",
       "\n"
      ],
      "text/plain": [
       "      0   0 \n",
       "175 387 648 "
      ]
     },
     "metadata": {},
     "output_type": "display_data"
    }
   ],
   "source": [
    "tab_1\n",
    "tab_2\n",
    "tab_3\n",
    "tab_4\n",
    "tab_5"
   ]
  },
  {
   "cell_type": "code",
   "execution_count": 9,
   "metadata": {},
   "outputs": [],
   "source": [
    "hweExact <- function(tab=c(543,464,83)){\n",
    "    n <- sum(tab)\n",
    "    nA <- 2*tab[1] + tab[2]\n",
    "    nB <- 2*tab[3] + tab[2]\n",
    "    evod <- tab[2]%%2\n",
    "    maxAB <- min(nA,nB) - evod\n",
    "    AB <- seq(from=evod,to=maxAB,by=2)\n",
    "    AA <- (nA-AB)/2\n",
    "    BB <- (nB-AB)/2\n",
    "    obs <- (tab[2]-evod)/2+1\n",
    "    prob <- rep(0,length(AB))\n",
    "    prob <- exp(n*lgamma(2+1)+lgamma(nA+1)+lgamma(nB+1)-lgamma(2*n+1)\n",
    "                -(AA*lgamma(2+1)+AB*lgamma(1+1)+BB*lgamma(2+1))\n",
    "                +lgamma(n+1)-(lgamma(AA+1)+lgamma(AB+1)+lgamma(BB+1)))\n",
    "    p.value <- sum(prob[prob<=prob[obs]])\n",
    "    list(AB=AB,prob=prob,obsprob=prob[obs],p.value=p.value)\n",
    "}"
   ]
  },
  {
   "cell_type": "code",
   "execution_count": 10,
   "metadata": {},
   "outputs": [
    {
     "data": {
      "text/html": [
       "0.838632384204036"
      ],
      "text/latex": [
       "0.838632384204036"
      ],
      "text/markdown": [
       "0.838632384204036"
      ],
      "text/plain": [
       "[1] 0.8386324"
      ]
     },
     "metadata": {},
     "output_type": "display_data"
    }
   ],
   "source": [
    "xx <- hweExact(tab)\n",
    "# xx$prob\n",
    "xx$p.value"
   ]
  },
  {
   "cell_type": "code",
   "execution_count": 11,
   "metadata": {},
   "outputs": [],
   "source": [
    "xx_1 <- hweExact(tab_1)\n",
    "xx_2 <- hweExact(tab_2)\n",
    "xx_3 <- hweExact(tab_3)\n",
    "xx_4 <- hweExact(tab_4)\n",
    "xx_5 <- hweExact(tab_5)"
   ]
  },
  {
   "cell_type": "code",
   "execution_count": 12,
   "metadata": {},
   "outputs": [
    {
     "data": {
      "text/html": [
       "3.20482314840952e-07"
      ],
      "text/latex": [
       "3.20482314840952e-07"
      ],
      "text/markdown": [
       "3.20482314840952e-07"
      ],
      "text/plain": [
       "[1] 3.204823e-07"
      ]
     },
     "metadata": {},
     "output_type": "display_data"
    },
    {
     "data": {
      "text/html": [
       "0.103602379504218"
      ],
      "text/latex": [
       "0.103602379504218"
      ],
      "text/markdown": [
       "0.103602379504218"
      ],
      "text/plain": [
       "[1] 0.1036024"
      ]
     },
     "metadata": {},
     "output_type": "display_data"
    },
    {
     "data": {
      "text/html": [
       "0.0895666326247433"
      ],
      "text/latex": [
       "0.0895666326247433"
      ],
      "text/markdown": [
       "0.0895666326247433"
      ],
      "text/plain": [
       "[1] 0.08956663"
      ]
     },
     "metadata": {},
     "output_type": "display_data"
    },
    {
     "data": {
      "text/html": [
       "4.55857870397508e-07"
      ],
      "text/latex": [
       "4.55857870397508e-07"
      ],
      "text/markdown": [
       "4.55857870397508e-07"
      ],
      "text/plain": [
       "[1] 4.558579e-07"
      ]
     },
     "metadata": {},
     "output_type": "display_data"
    },
    {
     "data": {
      "text/html": [
       "5.57226239119209e-17"
      ],
      "text/latex": [
       "5.57226239119209e-17"
      ],
      "text/markdown": [
       "5.57226239119209e-17"
      ],
      "text/plain": [
       "[1] 5.572262e-17"
      ]
     },
     "metadata": {},
     "output_type": "display_data"
    }
   ],
   "source": [
    "xx_1$p.value\n",
    "xx_2$p.value\n",
    "xx_3$p.value\n",
    "xx_4$p.value\n",
    "xx_5$p.value"
   ]
  },
  {
   "cell_type": "code",
   "execution_count": 15,
   "metadata": {},
   "outputs": [],
   "source": [
    "# xx_1$prod\n",
    "# xx_2$prod\n",
    "# xx_3$prod\n",
    "# xx_4$prod\n",
    "# xx_5$prod"
   ]
  },
  {
   "cell_type": "code",
   "execution_count": null,
   "metadata": {},
   "outputs": [],
   "source": []
  }
 ],
 "metadata": {
  "kernelspec": {
   "display_name": "R",
   "language": "R",
   "name": "ir"
  },
  "language_info": {
   "codemirror_mode": "r",
   "file_extension": ".r",
   "mimetype": "text/x-r-source",
   "name": "R",
   "pygments_lexer": "r",
   "version": "3.4.4"
  }
 },
 "nbformat": 4,
 "nbformat_minor": 2
}
