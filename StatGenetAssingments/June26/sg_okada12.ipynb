{
 "cells": [
  {
   "cell_type": "code",
   "execution_count": 18,
   "metadata": {},
   "outputs": [
    {
     "data": {
      "text/html": [
       "<table>\n",
       "<tbody>\n",
       "\t<tr><td>0.6</td><td>0.1</td><td>0.3</td></tr>\n",
       "\t<tr><td>0.2</td><td>0.3</td><td>0.5</td></tr>\n",
       "\t<tr><td>0.2</td><td>0.6</td><td>0.2</td></tr>\n",
       "</tbody>\n",
       "</table>\n"
      ],
      "text/latex": [
       "\\begin{tabular}{lll}\n",
       "\t 0.6 & 0.1 & 0.3\\\\\n",
       "\t 0.2 & 0.3 & 0.5\\\\\n",
       "\t 0.2 & 0.6 & 0.2\\\\\n",
       "\\end{tabular}\n"
      ],
      "text/markdown": [
       "\n",
       "| 0.6 | 0.1 | 0.3 | \n",
       "| 0.2 | 0.3 | 0.5 | \n",
       "| 0.2 | 0.6 | 0.2 | \n",
       "\n",
       "\n"
      ],
      "text/plain": [
       "     [,1] [,2] [,3]\n",
       "[1,] 0.6  0.1  0.3 \n",
       "[2,] 0.2  0.3  0.5 \n",
       "[3,] 0.2  0.6  0.2 "
      ]
     },
     "metadata": {},
     "output_type": "display_data"
    },
    {
     "data": {
      "image/png": "[encoded data removed]",
      "text/plain": [
       "plot without title"
      ]
     },
     "metadata": {},
     "output_type": "display_data"
    }
   ],
   "source": [
    "#Simulate the change of fraction per status.\n",
    "#I : Initiate Status, M : Transition matrix, t is the time point\n",
    "#the proportion for each time point is output\n",
    "Simulation <- function(I,M,t){\n",
    "    result <- matrix(NA,t+1,ncol(I))\n",
    "    result[1,] <- I\n",
    "    for(i in 1:t){\n",
    "        I <- I %*% M\n",
    "        result[i+1,] <- I\n",
    "    }\n",
    "    return(result)\n",
    "}\n",
    "\n",
    "#rowSums\n",
    "M <- matrix(c(0.6,0.2,0.2,0.1,0.3,0.6,0.3,0.5,0.2),3,3)\n",
    "M\n",
    "rownames(M) <- colnames(M) <- c(\"A\",\"B\",\"C\")\n",
    "I <- t(as.matrix(c(0.3,0.5,0.2)))\n",
    "result <- Simulation(I,M,10)\n",
    "matplot(result,type=\"l\")"
   ]
  },
  {
   "cell_type": "code",
   "execution_count": 24,
   "metadata": {},
   "outputs": [],
   "source": [
    "#Draw a graph whose nodes are statuses and edges are transition among them. \n",
    "#Make the size of vertices proportional to the fraction in the population at a particular point. \n",
    "#Make the width of edges proportional to the probability in transition.\n",
    "library(igraph)\n",
    "g <- graph.adjacency(M,weighted=TRUE)"
   ]
  },
  {
   "cell_type": "code",
   "execution_count": 32,
   "metadata": {},
   "outputs": [
    {
     "data": {
      "image/png": "[encoded data removed]",
      "text/plain": [
       "Plot with title \"\""
      ]
     },
     "metadata": {},
     "output_type": "display_data"
    }
   ],
   "source": [
    "plot(g, vertex.size=I*100,edge.width=(E(g)$weight)*10)"
   ]
  },
  {
   "cell_type": "code",
   "execution_count": 30,
   "metadata": {},
   "outputs": [
    {
     "data": {
      "text/html": [
       "<ol class=list-inline>\n",
       "\t<li>0.6</li>\n",
       "\t<li>0.1</li>\n",
       "\t<li>0.3</li>\n",
       "\t<li>0.2</li>\n",
       "\t<li>0.3</li>\n",
       "\t<li>0.5</li>\n",
       "\t<li>0.2</li>\n",
       "\t<li>0.6</li>\n",
       "\t<li>0.2</li>\n",
       "</ol>\n"
      ],
      "text/latex": [
       "\\begin{enumerate*}\n",
       "\\item 0.6\n",
       "\\item 0.1\n",
       "\\item 0.3\n",
       "\\item 0.2\n",
       "\\item 0.3\n",
       "\\item 0.5\n",
       "\\item 0.2\n",
       "\\item 0.6\n",
       "\\item 0.2\n",
       "\\end{enumerate*}\n"
      ],
      "text/markdown": [
       "1. 0.6\n",
       "2. 0.1\n",
       "3. 0.3\n",
       "4. 0.2\n",
       "5. 0.3\n",
       "6. 0.5\n",
       "7. 0.2\n",
       "8. 0.6\n",
       "9. 0.2\n",
       "\n",
       "\n"
      ],
      "text/plain": [
       "[1] 0.6 0.1 0.3 0.2 0.3 0.5 0.2 0.6 0.2"
      ]
     },
     "metadata": {},
     "output_type": "display_data"
    }
   ],
   "source": [
    "E(g)$weight"
   ]
  },
  {
   "cell_type": "code",
   "execution_count": null,
   "metadata": {},
   "outputs": [],
   "source": []
  }
 ],
 "metadata": {
  "kernelspec": {
   "display_name": "R",
   "language": "R",
   "name": "ir"
  },
  "language_info": {
   "codemirror_mode": "r",
   "file_extension": ".r",
   "mimetype": "text/x-r-source",
   "name": "R",
   "pygments_lexer": "r",
   "version": "3.4.1"
  }
 },
 "nbformat": 4,
 "nbformat_minor": 2
}
