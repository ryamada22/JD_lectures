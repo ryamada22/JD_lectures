{
 "cells": [
  {
   "cell_type": "markdown",
   "metadata": {},
   "source": [
    "# Report the various methods of distance measure, implemented in dist() function of R or distance() function of R, which implements more than dist()"
   ]
  },
  {
   "cell_type": "markdown",
   "metadata": {},
   "source": [
    "Rのdist()関数の距離は  \n",
    "・ユークリッド距離（euclidean）：最も一般的。二次元ならピタゴラスの定理。L2距離。  \n",
    "・バイナリ距離（binary）：0,1データの距離。  \n",
    "・マンハッタン距離（manhattan）：座標の差の総和。L1距離。  \n",
    "・ミンコフスキー距離（minkowski）：一般化した距離。  \n",
    "・キャンベラ距離（canberra）：マンハッタン距離の亜型？原点近くでは重みがつく。  \n",
    "・最長距離（maximum）：要素同士の差の絶対値が最大のもの。  \n",
    "の6種類が指定できる。  \n",
    "一方、distance()では46種類の距離から選択できる。"
   ]
  },
  {
   "cell_type": "markdown",
   "metadata": {},
   "source": [
    "#デフォルトはユークリッド距離"
   ]
  },
  {
   "cell_type": "code",
   "execution_count": 1,
   "metadata": {},
   "outputs": [
    {
     "data": {
      "text/html": [
       "<table>\n",
       "<tbody>\n",
       "\t<tr><td> 0.33689183 </td><td>-1.6828727  </td><td>-0.5179126  </td><td> 0.87193775 </td><td>-0.17753557 </td><td> 0.007309874</td><td>-0.6205077  </td><td> 0.5345761  </td><td> 0.4216474  </td><td> 0.94816084 </td><td>-0.006652332</td><td>-0.42011748 </td><td>-0.84287871 </td><td> 0.7618359  </td><td>-0.82349304 </td><td>-0.4139681  </td><td> 1.1468718  </td><td> 1.4489551  </td><td>-1.4975659  </td><td>-1.108580   </td></tr>\n",
       "\t<tr><td>-0.07504415 </td><td>-0.1683685  </td><td>-0.3642543  </td><td> 1.63087919 </td><td>-0.29762414 </td><td> 1.107199413</td><td>-0.2211886  </td><td>-1.1114820  </td><td>-0.1786264  </td><td> 0.03104579 </td><td> 0.788192649</td><td> 1.66466404 </td><td>-0.14671725 </td><td>-1.1078630  </td><td>-0.09351244 </td><td>-0.8387908  </td><td> 1.0323221  </td><td> 0.3264371  </td><td> 0.1252805  </td><td>-1.129146   </td></tr>\n",
       "\t<tr><td>-0.37465180 </td><td> 0.8806566  </td><td>-0.7115029  </td><td>-0.11521214 </td><td>-0.15652291 </td><td> 0.585604566</td><td>-1.3562655  </td><td>-0.2446762  </td><td> 0.1987854  </td><td>-1.47143965 </td><td> 2.026967295</td><td>-0.10147671 </td><td> 0.28131966 </td><td> 0.3137338  </td><td>-0.61951058 </td><td>-1.2330865  </td><td>-0.7781282  </td><td> 0.3095638  </td><td> 1.6483441  </td><td> 1.014974   </td></tr>\n",
       "\t<tr><td> 0.45488265 </td><td> 0.8503924  </td><td>-0.2626034  </td><td> 0.11674605 </td><td>-0.02959316 </td><td>-1.394547959</td><td> 0.7798089  </td><td> 0.6505648  </td><td> 0.4020653  </td><td> 1.51877573 </td><td> 0.356461607</td><td>-0.11566367 </td><td>-1.08034460 </td><td>-1.9670799  </td><td>-0.14205699 </td><td> 0.9086219  </td><td> 0.2039386  </td><td>-0.0312407  </td><td> 1.8597352  </td><td> 1.392355   </td></tr>\n",
       "\t<tr><td> 1.02617486 </td><td> 0.7923771  </td><td>-0.6272234  </td><td>-0.02089143 </td><td> 0.29346401 </td><td> 1.201306104</td><td>-1.4662149  </td><td> 0.1047870  </td><td>-0.7518843  </td><td> 0.40765446 </td><td>-0.071083228</td><td>-0.06989938 </td><td>-0.08142902 </td><td>-1.2723285  </td><td> 1.89221316 </td><td> 0.4514981  </td><td>-1.1343853  </td><td> 0.1352010  </td><td>-0.5761837  </td><td>-1.085970   </td></tr>\n",
       "</tbody>\n",
       "</table>\n"
      ],
      "text/latex": [
       "\\begin{tabular}{llllllllllllllllllll}\n",
       "\t  0.33689183  & -1.6828727   & -0.5179126   &  0.87193775  & -0.17753557  &  0.007309874 & -0.6205077   &  0.5345761   &  0.4216474   &  0.94816084  & -0.006652332 & -0.42011748  & -0.84287871  &  0.7618359   & -0.82349304  & -0.4139681   &  1.1468718   &  1.4489551   & -1.4975659   & -1.108580   \\\\\n",
       "\t -0.07504415  & -0.1683685   & -0.3642543   &  1.63087919  & -0.29762414  &  1.107199413 & -0.2211886   & -1.1114820   & -0.1786264   &  0.03104579  &  0.788192649 &  1.66466404  & -0.14671725  & -1.1078630   & -0.09351244  & -0.8387908   &  1.0323221   &  0.3264371   &  0.1252805   & -1.129146   \\\\\n",
       "\t -0.37465180  &  0.8806566   & -0.7115029   & -0.11521214  & -0.15652291  &  0.585604566 & -1.3562655   & -0.2446762   &  0.1987854   & -1.47143965  &  2.026967295 & -0.10147671  &  0.28131966  &  0.3137338   & -0.61951058  & -1.2330865   & -0.7781282   &  0.3095638   &  1.6483441   &  1.014974   \\\\\n",
       "\t  0.45488265  &  0.8503924   & -0.2626034   &  0.11674605  & -0.02959316  & -1.394547959 &  0.7798089   &  0.6505648   &  0.4020653   &  1.51877573  &  0.356461607 & -0.11566367  & -1.08034460  & -1.9670799   & -0.14205699  &  0.9086219   &  0.2039386   & -0.0312407   &  1.8597352   &  1.392355   \\\\\n",
       "\t  1.02617486  &  0.7923771   & -0.6272234   & -0.02089143  &  0.29346401  &  1.201306104 & -1.4662149   &  0.1047870   & -0.7518843   &  0.40765446  & -0.071083228 & -0.06989938  & -0.08142902  & -1.2723285   &  1.89221316  &  0.4514981   & -1.1343853   &  0.1352010   & -0.5761837   & -1.085970   \\\\\n",
       "\\end{tabular}\n"
      ],
      "text/markdown": [
       "\n",
       "|  0.33689183  | -1.6828727   | -0.5179126   |  0.87193775  | -0.17753557  |  0.007309874 | -0.6205077   |  0.5345761   |  0.4216474   |  0.94816084  | -0.006652332 | -0.42011748  | -0.84287871  |  0.7618359   | -0.82349304  | -0.4139681   |  1.1468718   |  1.4489551   | -1.4975659   | -1.108580    | \n",
       "| -0.07504415  | -0.1683685   | -0.3642543   |  1.63087919  | -0.29762414  |  1.107199413 | -0.2211886   | -1.1114820   | -0.1786264   |  0.03104579  |  0.788192649 |  1.66466404  | -0.14671725  | -1.1078630   | -0.09351244  | -0.8387908   |  1.0323221   |  0.3264371   |  0.1252805   | -1.129146    | \n",
       "| -0.37465180  |  0.8806566   | -0.7115029   | -0.11521214  | -0.15652291  |  0.585604566 | -1.3562655   | -0.2446762   |  0.1987854   | -1.47143965  |  2.026967295 | -0.10147671  |  0.28131966  |  0.3137338   | -0.61951058  | -1.2330865   | -0.7781282   |  0.3095638   |  1.6483441   |  1.014974    | \n",
       "|  0.45488265  |  0.8503924   | -0.2626034   |  0.11674605  | -0.02959316  | -1.394547959 |  0.7798089   |  0.6505648   |  0.4020653   |  1.51877573  |  0.356461607 | -0.11566367  | -1.08034460  | -1.9670799   | -0.14205699  |  0.9086219   |  0.2039386   | -0.0312407   |  1.8597352   |  1.392355    | \n",
       "|  1.02617486  |  0.7923771   | -0.6272234   | -0.02089143  |  0.29346401  |  1.201306104 | -1.4662149   |  0.1047870   | -0.7518843   |  0.40765446  | -0.071083228 | -0.06989938  | -0.08142902  | -1.2723285   |  1.89221316  |  0.4514981   | -1.1343853   |  0.1352010   | -0.5761837   | -1.085970    | \n",
       "\n",
       "\n"
      ],
      "text/plain": [
       "     [,1]        [,2]       [,3]       [,4]        [,5]        [,6]        \n",
       "[1,]  0.33689183 -1.6828727 -0.5179126  0.87193775 -0.17753557  0.007309874\n",
       "[2,] -0.07504415 -0.1683685 -0.3642543  1.63087919 -0.29762414  1.107199413\n",
       "[3,] -0.37465180  0.8806566 -0.7115029 -0.11521214 -0.15652291  0.585604566\n",
       "[4,]  0.45488265  0.8503924 -0.2626034  0.11674605 -0.02959316 -1.394547959\n",
       "[5,]  1.02617486  0.7923771 -0.6272234 -0.02089143  0.29346401  1.201306104\n",
       "     [,7]       [,8]       [,9]       [,10]       [,11]        [,12]      \n",
       "[1,] -0.6205077  0.5345761  0.4216474  0.94816084 -0.006652332 -0.42011748\n",
       "[2,] -0.2211886 -1.1114820 -0.1786264  0.03104579  0.788192649  1.66466404\n",
       "[3,] -1.3562655 -0.2446762  0.1987854 -1.47143965  2.026967295 -0.10147671\n",
       "[4,]  0.7798089  0.6505648  0.4020653  1.51877573  0.356461607 -0.11566367\n",
       "[5,] -1.4662149  0.1047870 -0.7518843  0.40765446 -0.071083228 -0.06989938\n",
       "     [,13]       [,14]      [,15]       [,16]      [,17]      [,18]     \n",
       "[1,] -0.84287871  0.7618359 -0.82349304 -0.4139681  1.1468718  1.4489551\n",
       "[2,] -0.14671725 -1.1078630 -0.09351244 -0.8387908  1.0323221  0.3264371\n",
       "[3,]  0.28131966  0.3137338 -0.61951058 -1.2330865 -0.7781282  0.3095638\n",
       "[4,] -1.08034460 -1.9670799 -0.14205699  0.9086219  0.2039386 -0.0312407\n",
       "[5,] -0.08142902 -1.2723285  1.89221316  0.4514981 -1.1343853  0.1352010\n",
       "     [,19]      [,20]    \n",
       "[1,] -1.4975659 -1.108580\n",
       "[2,]  0.1252805 -1.129146\n",
       "[3,]  1.6483441  1.014974\n",
       "[4,]  1.8597352  1.392355\n",
       "[5,] -0.5761837 -1.085970"
      ]
     },
     "metadata": {},
     "output_type": "display_data"
    }
   ],
   "source": [
    "require(graphics)\n",
    "\n",
    "x <- matrix(rnorm(100), nrow = 5)\n",
    "x"
   ]
  },
  {
   "cell_type": "code",
   "execution_count": 2,
   "metadata": {},
   "outputs": [
    {
     "data": {
      "text/plain": [
       "         1        2        3        4\n",
       "2 4.683659                           \n",
       "3 6.426654 5.155227                  \n",
       "4 6.473178 5.900143 5.929424         \n",
       "5 5.689979 4.837639 5.731758 5.927931"
      ]
     },
     "metadata": {},
     "output_type": "display_data"
    }
   ],
   "source": [
    "dist(x)"
   ]
  },
  {
   "cell_type": "code",
   "execution_count": 3,
   "metadata": {},
   "outputs": [
    {
     "data": {
      "text/plain": [
       "         1        2        3        4        5\n",
       "1 0.000000                                    \n",
       "2 4.683659 0.000000                           \n",
       "3 6.426654 5.155227 0.000000                  \n",
       "4 6.473178 5.900143 5.929424 0.000000         \n",
       "5 5.689979 4.837639 5.731758 5.927931 0.000000"
      ]
     },
     "metadata": {},
     "output_type": "display_data"
    }
   ],
   "source": [
    "dist(x, diag = TRUE)"
   ]
  },
  {
   "cell_type": "code",
   "execution_count": 4,
   "metadata": {},
   "outputs": [
    {
     "data": {
      "text/plain": [
       "         1        2        3        4        5\n",
       "1          4.683659 6.426654 6.473178 5.689979\n",
       "2 4.683659          5.155227 5.900143 4.837639\n",
       "3 6.426654 5.155227          5.929424 5.731758\n",
       "4 6.473178 5.900143 5.929424          5.927931\n",
       "5 5.689979 4.837639 5.731758 5.927931         "
      ]
     },
     "metadata": {},
     "output_type": "display_data"
    }
   ],
   "source": [
    "dist(x, upper = TRUE)"
   ]
  },
  {
   "cell_type": "code",
   "execution_count": 5,
   "metadata": {},
   "outputs": [
    {
     "data": {
      "text/html": [
       "<table>\n",
       "<thead><tr><th></th><th scope=col>1</th><th scope=col>2</th><th scope=col>3</th><th scope=col>4</th><th scope=col>5</th></tr></thead>\n",
       "<tbody>\n",
       "\t<tr><th scope=row>1</th><td>0.000000</td><td>4.683659</td><td>6.426654</td><td>6.473178</td><td>5.689979</td></tr>\n",
       "\t<tr><th scope=row>2</th><td>4.683659</td><td>0.000000</td><td>5.155227</td><td>5.900143</td><td>4.837639</td></tr>\n",
       "\t<tr><th scope=row>3</th><td>6.426654</td><td>5.155227</td><td>0.000000</td><td>5.929424</td><td>5.731758</td></tr>\n",
       "\t<tr><th scope=row>4</th><td>6.473178</td><td>5.900143</td><td>5.929424</td><td>0.000000</td><td>5.927931</td></tr>\n",
       "\t<tr><th scope=row>5</th><td>5.689979</td><td>4.837639</td><td>5.731758</td><td>5.927931</td><td>0.000000</td></tr>\n",
       "</tbody>\n",
       "</table>\n"
      ],
      "text/latex": [
       "\\begin{tabular}{r|lllll}\n",
       "  & 1 & 2 & 3 & 4 & 5\\\\\n",
       "\\hline\n",
       "\t1 & 0.000000 & 4.683659 & 6.426654 & 6.473178 & 5.689979\\\\\n",
       "\t2 & 4.683659 & 0.000000 & 5.155227 & 5.900143 & 4.837639\\\\\n",
       "\t3 & 6.426654 & 5.155227 & 0.000000 & 5.929424 & 5.731758\\\\\n",
       "\t4 & 6.473178 & 5.900143 & 5.929424 & 0.000000 & 5.927931\\\\\n",
       "\t5 & 5.689979 & 4.837639 & 5.731758 & 5.927931 & 0.000000\\\\\n",
       "\\end{tabular}\n"
      ],
      "text/markdown": [
       "\n",
       "| <!--/--> | 1 | 2 | 3 | 4 | 5 | \n",
       "|---|---|---|---|---|\n",
       "| 1 | 0.000000 | 4.683659 | 6.426654 | 6.473178 | 5.689979 | \n",
       "| 2 | 4.683659 | 0.000000 | 5.155227 | 5.900143 | 4.837639 | \n",
       "| 3 | 6.426654 | 5.155227 | 0.000000 | 5.929424 | 5.731758 | \n",
       "| 4 | 6.473178 | 5.900143 | 5.929424 | 0.000000 | 5.927931 | \n",
       "| 5 | 5.689979 | 4.837639 | 5.731758 | 5.927931 | 0.000000 | \n",
       "\n",
       "\n"
      ],
      "text/plain": [
       "  1        2        3        4        5       \n",
       "1 0.000000 4.683659 6.426654 6.473178 5.689979\n",
       "2 4.683659 0.000000 5.155227 5.900143 4.837639\n",
       "3 6.426654 5.155227 0.000000 5.929424 5.731758\n",
       "4 6.473178 5.900143 5.929424 0.000000 5.927931\n",
       "5 5.689979 4.837639 5.731758 5.927931 0.000000"
      ]
     },
     "metadata": {},
     "output_type": "display_data"
    }
   ],
   "source": [
    "m <- as.matrix(dist(x))\n",
    "d <- as.dist(m)\n",
    "m"
   ]
  },
  {
   "cell_type": "code",
   "execution_count": 6,
   "metadata": {},
   "outputs": [
    {
     "data": {
      "text/plain": [
       "         1        2        3        4\n",
       "2 4.683659                           \n",
       "3 6.426654 5.155227                  \n",
       "4 6.473178 5.900143 5.929424         \n",
       "5 5.689979 4.837639 5.731758 5.927931"
      ]
     },
     "metadata": {},
     "output_type": "display_data"
    }
   ],
   "source": [
    "d"
   ]
  },
  {
   "cell_type": "markdown",
   "metadata": {},
   "source": [
    "＃バイナリ距離"
   ]
  },
  {
   "cell_type": "code",
   "execution_count": 7,
   "metadata": {},
   "outputs": [
    {
     "data": {
      "text/plain": [
       "    x\n",
       "y 0.4"
      ]
     },
     "metadata": {},
     "output_type": "display_data"
    }
   ],
   "source": [
    "x <- c(0, 0, 1, 1, 1, 1)\n",
    "y <- c(1, 0, 1, 1, 0, 1)\n",
    "dist(rbind(x, y), method = \"binary\")"
   ]
  },
  {
   "cell_type": "markdown",
   "metadata": {},
   "source": [
    "0と1は遠くて、0と0、1と1は近い → 2/5=0.4"
   ]
  },
  {
   "cell_type": "markdown",
   "metadata": {},
   "source": [
    "＃キャンベラ距離"
   ]
  },
  {
   "cell_type": "code",
   "execution_count": 8,
   "metadata": {},
   "outputs": [
    {
     "data": {
      "text/plain": [
       "    x\n",
       "y 2.4"
      ]
     },
     "metadata": {},
     "output_type": "display_data"
    }
   ],
   "source": [
    "dist(rbind(x, y), method = \"canberra\")"
   ]
  },
  {
   "cell_type": "markdown",
   "metadata": {},
   "source": [
    "色々な距離"
   ]
  },
  {
   "cell_type": "code",
   "execution_count": 9,
   "metadata": {},
   "outputs": [
    {
     "data": {
      "text/html": [
       "<table>\n",
       "<tbody>\n",
       "\t<tr><th scope=row>x</th><td>0  </td><td>0  </td><td>1  </td><td>1  </td><td>1  </td><td>Inf</td></tr>\n",
       "\t<tr><th scope=row>y</th><td>1  </td><td>0  </td><td>1  </td><td>1  </td><td>0  </td><td>  1</td></tr>\n",
       "</tbody>\n",
       "</table>\n"
      ],
      "text/latex": [
       "\\begin{tabular}{r|llllll}\n",
       "\tx & 0   & 0   & 1   & 1   & 1   & Inf\\\\\n",
       "\ty & 1   & 0   & 1   & 1   & 0   &   1\\\\\n",
       "\\end{tabular}\n"
      ],
      "text/markdown": [
       "\n",
       "| x | 0   | 0   | 1   | 1   | 1   | Inf | \n",
       "| y | 1   | 0   | 1   | 1   | 0   |   1 | \n",
       "\n",
       "\n"
      ],
      "text/plain": [
       "  [,1] [,2] [,3] [,4] [,5] [,6]\n",
       "x 0    0    1    1    1    Inf \n",
       "y 1    0    1    1    0      1 "
      ]
     },
     "metadata": {},
     "output_type": "display_data"
    },
    {
     "name": "stderr",
     "output_type": "stream",
     "text": [
      "Warning message in dist(m2, method = \"binary\"):\n",
      "“treating non-finite values as NA”"
     ]
    },
    {
     "data": {
      "text/plain": [
       "    x\n",
       "y 0.5"
      ]
     },
     "metadata": {},
     "output_type": "display_data"
    },
    {
     "name": "stdout",
     "output_type": "stream",
     "text": [
      "  1 2 3 4 5\n",
      "2 2        \n",
      "3 1 2      \n",
      "4 1 2 0    \n",
      "5 2 2 1 1  \n",
      "6 1 2 1 1 2\n"
     ]
    },
    {
     "name": "stderr",
     "output_type": "stream",
     "text": [
      "Warning message in dist(rbind(x, y), method = \"binary\"):\n",
      "“treating non-finite values as NA”"
     ]
    },
    {
     "data": {
      "text/plain": [
       "    x\n",
       "y 0.5"
      ]
     },
     "metadata": {},
     "output_type": "display_data"
    },
    {
     "data": {
      "text/plain": [
       "  x\n",
       "y 3"
      ]
     },
     "metadata": {},
     "output_type": "display_data"
    },
    {
     "data": {
      "text/plain": [
       "  x\n",
       "y 1"
      ]
     },
     "metadata": {},
     "output_type": "display_data"
    },
    {
     "data": {
      "text/plain": [
       "    x\n",
       "y 2.4"
      ]
     },
     "metadata": {},
     "output_type": "display_data"
    }
   ],
   "source": [
    "x[6] <- Inf\n",
    "(m2 <- rbind(x, y))\n",
    "dist(m2, method = \"binary\")   # warning, answer 0.5 = 2/4\n",
    "## These all give \"Inf\":\n",
    "stopifnot(Inf == dist(m2, method =  \"euclidean\"),\n",
    "          Inf == dist(m2, method =  \"maximum\"),\n",
    "          Inf == dist(m2, method =  \"manhattan\"))\n",
    "##  \"Inf\" is same as very large number:\n",
    "x1 <- x; x1[6] <- 1e100\n",
    "stopifnot(dist(cbind(x, y), method = \"canberra\") ==\n",
    "    print(dist(cbind(x1, y), method = \"canberra\")))\n",
    "\n",
    "## 2)\n",
    "y[6] <- Inf #-> 6-th pair is excluded\n",
    "dist(rbind(x, y), method = \"binary\"  )   # warning; 0.5\n",
    "dist(rbind(x, y), method = \"canberra\"  ) # 3\n",
    "dist(rbind(x, y), method = \"maximum\")    # 1\n",
    "dist(rbind(x, y), method = \"manhattan\")  # 2.4"
   ]
  },
  {
   "cell_type": "markdown",
   "metadata": {},
   "source": [
    "irisデータを使ってみる"
   ]
  },
  {
   "cell_type": "code",
   "execution_count": 10,
   "metadata": {},
   "outputs": [
    {
     "data": {
      "text/html": [
       "<table>\n",
       "<thead><tr><th scope=col>Sepal.Length</th><th scope=col>Sepal.Width</th><th scope=col>Petal.Length</th><th scope=col>Petal.Width</th></tr></thead>\n",
       "<tbody>\n",
       "\t<tr><td>5.1</td><td>3.5</td><td>1.4</td><td>0.2</td></tr>\n",
       "\t<tr><td>4.9</td><td>3.0</td><td>1.4</td><td>0.2</td></tr>\n",
       "\t<tr><td>4.7</td><td>3.2</td><td>1.3</td><td>0.2</td></tr>\n",
       "\t<tr><td>4.6</td><td>3.1</td><td>1.5</td><td>0.2</td></tr>\n",
       "\t<tr><td>5.0</td><td>3.6</td><td>1.4</td><td>0.2</td></tr>\n",
       "\t<tr><td>5.4</td><td>3.9</td><td>1.7</td><td>0.4</td></tr>\n",
       "</tbody>\n",
       "</table>\n"
      ],
      "text/latex": [
       "\\begin{tabular}{r|llll}\n",
       " Sepal.Length & Sepal.Width & Petal.Length & Petal.Width\\\\\n",
       "\\hline\n",
       "\t 5.1 & 3.5 & 1.4 & 0.2\\\\\n",
       "\t 4.9 & 3.0 & 1.4 & 0.2\\\\\n",
       "\t 4.7 & 3.2 & 1.3 & 0.2\\\\\n",
       "\t 4.6 & 3.1 & 1.5 & 0.2\\\\\n",
       "\t 5.0 & 3.6 & 1.4 & 0.2\\\\\n",
       "\t 5.4 & 3.9 & 1.7 & 0.4\\\\\n",
       "\\end{tabular}\n"
      ],
      "text/markdown": [
       "\n",
       "Sepal.Length | Sepal.Width | Petal.Length | Petal.Width | \n",
       "|---|---|---|---|---|---|\n",
       "| 5.1 | 3.5 | 1.4 | 0.2 | \n",
       "| 4.9 | 3.0 | 1.4 | 0.2 | \n",
       "| 4.7 | 3.2 | 1.3 | 0.2 | \n",
       "| 4.6 | 3.1 | 1.5 | 0.2 | \n",
       "| 5.0 | 3.6 | 1.4 | 0.2 | \n",
       "| 5.4 | 3.9 | 1.7 | 0.4 | \n",
       "\n",
       "\n"
      ],
      "text/plain": [
       "  Sepal.Length Sepal.Width Petal.Length Petal.Width\n",
       "1 5.1          3.5         1.4          0.2        \n",
       "2 4.9          3.0         1.4          0.2        \n",
       "3 4.7          3.2         1.3          0.2        \n",
       "4 4.6          3.1         1.5          0.2        \n",
       "5 5.0          3.6         1.4          0.2        \n",
       "6 5.4          3.9         1.7          0.4        "
      ]
     },
     "metadata": {},
     "output_type": "display_data"
    }
   ],
   "source": [
    "data(iris)\n",
    "dat<-iris[1:6,1:4]\n",
    "dat"
   ]
  },
  {
   "cell_type": "code",
   "execution_count": 11,
   "metadata": {},
   "outputs": [
    {
     "data": {
      "text/plain": [
       "          1         2         3         4         5\n",
       "2 0.5385165                                        \n",
       "3 0.5099020 0.3000000                              \n",
       "4 0.6480741 0.3316625 0.2449490                    \n",
       "5 0.1414214 0.6082763 0.5099020 0.6480741          \n",
       "6 0.6164414 1.0908712 1.0862780 1.1661904 0.6164414"
      ]
     },
     "metadata": {},
     "output_type": "display_data"
    }
   ],
   "source": [
    "dist(dat)"
   ]
  },
  {
   "cell_type": "code",
   "execution_count": 12,
   "metadata": {},
   "outputs": [
    {
     "data": {
      "text/plain": [
       "    1   2   3   4   5\n",
       "2 0.5                \n",
       "3 0.4 0.2            \n",
       "4 0.5 0.3 0.2        \n",
       "5 0.1 0.6 0.4 0.5    \n",
       "6 0.4 0.9 0.7 0.8 0.4"
      ]
     },
     "metadata": {},
     "output_type": "display_data"
    }
   ],
   "source": [
    "dist(dat,method=\"maximum\")"
   ]
  },
  {
   "cell_type": "code",
   "execution_count": 13,
   "metadata": {},
   "outputs": [
    {
     "data": {
      "text/plain": [
       "    1   2   3   4   5\n",
       "2 0.7                \n",
       "3 0.8 0.5            \n",
       "4 1.0 0.5 0.4        \n",
       "5 0.2 0.7 0.8 1.0    \n",
       "6 1.2 1.9 2.0 2.0 1.2"
      ]
     },
     "metadata": {},
     "output_type": "display_data"
    }
   ],
   "source": [
    "dist(dat,method=\"manhattan\")"
   ]
  },
  {
   "cell_type": "code",
   "execution_count": 14,
   "metadata": {},
   "outputs": [
    {
     "data": {
      "text/plain": [
       "           1          2          3          4          5\n",
       "2 0.09692308                                            \n",
       "3 0.12262948 0.09012843                                 \n",
       "4 0.14663521 0.08245515 0.09805428                      \n",
       "5 0.02398550 0.10101010 0.12678840 0.15077629           \n",
       "6 0.51273301 0.60908600 0.63456515 0.59011905 0.50856907"
      ]
     },
     "metadata": {},
     "output_type": "display_data"
    }
   ],
   "source": [
    "dist(dat,method=\"canberra\")"
   ]
  },
  {
   "cell_type": "markdown",
   "metadata": {},
   "source": [
    "＃distanceを使ってみる"
   ]
  },
  {
   "cell_type": "code",
   "execution_count": 15,
   "metadata": {},
   "outputs": [],
   "source": [
    "library(philentropy)"
   ]
  },
  {
   "cell_type": "code",
   "execution_count": 16,
   "metadata": {},
   "outputs": [
    {
     "name": "stderr",
     "output_type": "stream",
     "text": [
      "Metric: 'euclidean' using unit: 'log'.\n"
     ]
    },
    {
     "data": {
      "text/html": [
       "<table>\n",
       "<thead><tr><th></th><th scope=col>v1</th><th scope=col>v2</th><th scope=col>v3</th><th scope=col>v4</th><th scope=col>v5</th><th scope=col>v6</th></tr></thead>\n",
       "<tbody>\n",
       "\t<tr><th scope=row>v1</th><td>0.0000000</td><td>0.5385165</td><td>0.509902 </td><td>0.6480741</td><td>0.1414214</td><td>0.6164414</td></tr>\n",
       "\t<tr><th scope=row>v2</th><td>0.5385165</td><td>0.0000000</td><td>0.300000 </td><td>0.3316625</td><td>0.6082763</td><td>1.0908712</td></tr>\n",
       "\t<tr><th scope=row>v3</th><td>0.5099020</td><td>0.3000000</td><td>0.000000 </td><td>0.2449490</td><td>0.5099020</td><td>1.0862780</td></tr>\n",
       "\t<tr><th scope=row>v4</th><td>0.6480741</td><td>0.3316625</td><td>0.244949 </td><td>0.0000000</td><td>0.6480741</td><td>1.1661904</td></tr>\n",
       "\t<tr><th scope=row>v5</th><td>0.1414214</td><td>0.6082763</td><td>0.509902 </td><td>0.6480741</td><td>0.0000000</td><td>0.6164414</td></tr>\n",
       "\t<tr><th scope=row>v6</th><td>0.6164414</td><td>1.0908712</td><td>1.086278 </td><td>1.1661904</td><td>0.6164414</td><td>0.0000000</td></tr>\n",
       "</tbody>\n",
       "</table>\n"
      ],
      "text/latex": [
       "\\begin{tabular}{r|llllll}\n",
       "  & v1 & v2 & v3 & v4 & v5 & v6\\\\\n",
       "\\hline\n",
       "\tv1 & 0.0000000 & 0.5385165 & 0.509902  & 0.6480741 & 0.1414214 & 0.6164414\\\\\n",
       "\tv2 & 0.5385165 & 0.0000000 & 0.300000  & 0.3316625 & 0.6082763 & 1.0908712\\\\\n",
       "\tv3 & 0.5099020 & 0.3000000 & 0.000000  & 0.2449490 & 0.5099020 & 1.0862780\\\\\n",
       "\tv4 & 0.6480741 & 0.3316625 & 0.244949  & 0.0000000 & 0.6480741 & 1.1661904\\\\\n",
       "\tv5 & 0.1414214 & 0.6082763 & 0.509902  & 0.6480741 & 0.0000000 & 0.6164414\\\\\n",
       "\tv6 & 0.6164414 & 1.0908712 & 1.086278  & 1.1661904 & 0.6164414 & 0.0000000\\\\\n",
       "\\end{tabular}\n"
      ],
      "text/markdown": [
       "\n",
       "| <!--/--> | v1 | v2 | v3 | v4 | v5 | v6 | \n",
       "|---|---|---|---|---|---|\n",
       "| v1 | 0.0000000 | 0.5385165 | 0.509902  | 0.6480741 | 0.1414214 | 0.6164414 | \n",
       "| v2 | 0.5385165 | 0.0000000 | 0.300000  | 0.3316625 | 0.6082763 | 1.0908712 | \n",
       "| v3 | 0.5099020 | 0.3000000 | 0.000000  | 0.2449490 | 0.5099020 | 1.0862780 | \n",
       "| v4 | 0.6480741 | 0.3316625 | 0.244949  | 0.0000000 | 0.6480741 | 1.1661904 | \n",
       "| v5 | 0.1414214 | 0.6082763 | 0.509902  | 0.6480741 | 0.0000000 | 0.6164414 | \n",
       "| v6 | 0.6164414 | 1.0908712 | 1.086278  | 1.1661904 | 0.6164414 | 0.0000000 | \n",
       "\n",
       "\n"
      ],
      "text/plain": [
       "   v1        v2        v3       v4        v5        v6       \n",
       "v1 0.0000000 0.5385165 0.509902 0.6480741 0.1414214 0.6164414\n",
       "v2 0.5385165 0.0000000 0.300000 0.3316625 0.6082763 1.0908712\n",
       "v3 0.5099020 0.3000000 0.000000 0.2449490 0.5099020 1.0862780\n",
       "v4 0.6480741 0.3316625 0.244949 0.0000000 0.6480741 1.1661904\n",
       "v5 0.1414214 0.6082763 0.509902 0.6480741 0.0000000 0.6164414\n",
       "v6 0.6164414 1.0908712 1.086278 1.1661904 0.6164414 0.0000000"
      ]
     },
     "metadata": {},
     "output_type": "display_data"
    }
   ],
   "source": [
    "distance(dat)"
   ]
  },
  {
   "cell_type": "code",
   "execution_count": 17,
   "metadata": {},
   "outputs": [
    {
     "name": "stderr",
     "output_type": "stream",
     "text": [
      "Metric: 'manhattan' using unit: 'log'.\n"
     ]
    },
    {
     "data": {
      "text/html": [
       "<table>\n",
       "<thead><tr><th></th><th scope=col>v1</th><th scope=col>v2</th><th scope=col>v3</th><th scope=col>v4</th><th scope=col>v5</th><th scope=col>v6</th></tr></thead>\n",
       "<tbody>\n",
       "\t<tr><th scope=row>v1</th><td>0.0</td><td>0.7</td><td>0.8</td><td>1.0</td><td>0.2</td><td>1.2</td></tr>\n",
       "\t<tr><th scope=row>v2</th><td>0.7</td><td>0.0</td><td>0.5</td><td>0.5</td><td>0.7</td><td>1.9</td></tr>\n",
       "\t<tr><th scope=row>v3</th><td>0.8</td><td>0.5</td><td>0.0</td><td>0.4</td><td>0.8</td><td>2.0</td></tr>\n",
       "\t<tr><th scope=row>v4</th><td>1.0</td><td>0.5</td><td>0.4</td><td>0.0</td><td>1.0</td><td>2.0</td></tr>\n",
       "\t<tr><th scope=row>v5</th><td>0.2</td><td>0.7</td><td>0.8</td><td>1.0</td><td>0.0</td><td>1.2</td></tr>\n",
       "\t<tr><th scope=row>v6</th><td>1.2</td><td>1.9</td><td>2.0</td><td>2.0</td><td>1.2</td><td>0.0</td></tr>\n",
       "</tbody>\n",
       "</table>\n"
      ],
      "text/latex": [
       "\\begin{tabular}{r|llllll}\n",
       "  & v1 & v2 & v3 & v4 & v5 & v6\\\\\n",
       "\\hline\n",
       "\tv1 & 0.0 & 0.7 & 0.8 & 1.0 & 0.2 & 1.2\\\\\n",
       "\tv2 & 0.7 & 0.0 & 0.5 & 0.5 & 0.7 & 1.9\\\\\n",
       "\tv3 & 0.8 & 0.5 & 0.0 & 0.4 & 0.8 & 2.0\\\\\n",
       "\tv4 & 1.0 & 0.5 & 0.4 & 0.0 & 1.0 & 2.0\\\\\n",
       "\tv5 & 0.2 & 0.7 & 0.8 & 1.0 & 0.0 & 1.2\\\\\n",
       "\tv6 & 1.2 & 1.9 & 2.0 & 2.0 & 1.2 & 0.0\\\\\n",
       "\\end{tabular}\n"
      ],
      "text/markdown": [
       "\n",
       "| <!--/--> | v1 | v2 | v3 | v4 | v5 | v6 | \n",
       "|---|---|---|---|---|---|\n",
       "| v1 | 0.0 | 0.7 | 0.8 | 1.0 | 0.2 | 1.2 | \n",
       "| v2 | 0.7 | 0.0 | 0.5 | 0.5 | 0.7 | 1.9 | \n",
       "| v3 | 0.8 | 0.5 | 0.0 | 0.4 | 0.8 | 2.0 | \n",
       "| v4 | 1.0 | 0.5 | 0.4 | 0.0 | 1.0 | 2.0 | \n",
       "| v5 | 0.2 | 0.7 | 0.8 | 1.0 | 0.0 | 1.2 | \n",
       "| v6 | 1.2 | 1.9 | 2.0 | 2.0 | 1.2 | 0.0 | \n",
       "\n",
       "\n"
      ],
      "text/plain": [
       "   v1  v2  v3  v4  v5  v6 \n",
       "v1 0.0 0.7 0.8 1.0 0.2 1.2\n",
       "v2 0.7 0.0 0.5 0.5 0.7 1.9\n",
       "v3 0.8 0.5 0.0 0.4 0.8 2.0\n",
       "v4 1.0 0.5 0.4 0.0 1.0 2.0\n",
       "v5 0.2 0.7 0.8 1.0 0.0 1.2\n",
       "v6 1.2 1.9 2.0 2.0 1.2 0.0"
      ]
     },
     "metadata": {},
     "output_type": "display_data"
    }
   ],
   "source": [
    "distance(dat,method=\"manhattan\")"
   ]
  },
  {
   "cell_type": "markdown",
   "metadata": {},
   "source": [
    "distanceだと完全な距離行列として返ってくる"
   ]
  },
  {
   "cell_type": "markdown",
   "metadata": {},
   "source": [
    "特別な例"
   ]
  },
  {
   "cell_type": "code",
   "execution_count": 18,
   "metadata": {},
   "outputs": [
    {
     "data": {
      "text/html": [
       "<table>\n",
       "<tbody>\n",
       "\t<tr><td> 1</td><td> 2</td><td> 3</td><td> 4</td><td> 5</td><td> 6</td><td> 7</td><td> 8</td><td> 9</td><td>10</td></tr>\n",
       "\t<tr><td>20</td><td>21</td><td>22</td><td>23</td><td>24</td><td>25</td><td>26</td><td>27</td><td>28</td><td>29</td></tr>\n",
       "\t<tr><td>30</td><td>31</td><td>32</td><td>33</td><td>34</td><td>35</td><td>36</td><td>37</td><td>38</td><td>39</td></tr>\n",
       "</tbody>\n",
       "</table>\n"
      ],
      "text/latex": [
       "\\begin{tabular}{llllllllll}\n",
       "\t  1 &  2 &  3 &  4 &  5 &  6 &  7 &  8 &  9 & 10\\\\\n",
       "\t 20 & 21 & 22 & 23 & 24 & 25 & 26 & 27 & 28 & 29\\\\\n",
       "\t 30 & 31 & 32 & 33 & 34 & 35 & 36 & 37 & 38 & 39\\\\\n",
       "\\end{tabular}\n"
      ],
      "text/markdown": [
       "\n",
       "|  1 |  2 |  3 |  4 |  5 |  6 |  7 |  8 |  9 | 10 | \n",
       "| 20 | 21 | 22 | 23 | 24 | 25 | 26 | 27 | 28 | 29 | \n",
       "| 30 | 31 | 32 | 33 | 34 | 35 | 36 | 37 | 38 | 39 | \n",
       "\n",
       "\n"
      ],
      "text/plain": [
       "     [,1] [,2] [,3] [,4] [,5] [,6] [,7] [,8] [,9] [,10]\n",
       "[1,]  1    2    3    4    5    6    7    8    9   10   \n",
       "[2,] 20   21   22   23   24   25   26   27   28   29   \n",
       "[3,] 30   31   32   33   34   35   36   37   38   39   "
      ]
     },
     "metadata": {},
     "output_type": "display_data"
    }
   ],
   "source": [
    "CountMatrix <- rbind(1:10, 20:29, 30:39)\n",
    "CountMatrix"
   ]
  },
  {
   "cell_type": "code",
   "execution_count": 19,
   "metadata": {},
   "outputs": [
    {
     "name": "stderr",
     "output_type": "stream",
     "text": [
      "Metric: 'euclidean' using unit: 'log'.\n"
     ]
    },
    {
     "data": {
      "text/html": [
       "<table>\n",
       "<thead><tr><th></th><th scope=col>v1</th><th scope=col>v2</th><th scope=col>v3</th></tr></thead>\n",
       "<tbody>\n",
       "\t<tr><th scope=row>v1</th><td>0.0000000 </td><td>0.12807130</td><td>0.13881717</td></tr>\n",
       "\t<tr><th scope=row>v2</th><td>0.1280713 </td><td>0.00000000</td><td>0.01074588</td></tr>\n",
       "\t<tr><th scope=row>v3</th><td>0.1388172 </td><td>0.01074588</td><td>0.00000000</td></tr>\n",
       "</tbody>\n",
       "</table>\n"
      ],
      "text/latex": [
       "\\begin{tabular}{r|lll}\n",
       "  & v1 & v2 & v3\\\\\n",
       "\\hline\n",
       "\tv1 & 0.0000000  & 0.12807130 & 0.13881717\\\\\n",
       "\tv2 & 0.1280713  & 0.00000000 & 0.01074588\\\\\n",
       "\tv3 & 0.1388172  & 0.01074588 & 0.00000000\\\\\n",
       "\\end{tabular}\n"
      ],
      "text/markdown": [
       "\n",
       "| <!--/--> | v1 | v2 | v3 | \n",
       "|---|---|---|\n",
       "| v1 | 0.0000000  | 0.12807130 | 0.13881717 | \n",
       "| v2 | 0.1280713  | 0.00000000 | 0.01074588 | \n",
       "| v3 | 0.1388172  | 0.01074588 | 0.00000000 | \n",
       "\n",
       "\n"
      ],
      "text/plain": [
       "   v1        v2         v3        \n",
       "v1 0.0000000 0.12807130 0.13881717\n",
       "v2 0.1280713 0.00000000 0.01074588\n",
       "v3 0.1388172 0.01074588 0.00000000"
      ]
     },
     "metadata": {},
     "output_type": "display_data"
    }
   ],
   "source": [
    "## estimate probabilities from a count matrix\n",
    "distance(CountMatrix, method = \"euclidean\", est.prob = \"empirical\")"
   ]
  },
  {
   "cell_type": "code",
   "execution_count": 20,
   "metadata": {},
   "outputs": [
    {
     "name": "stderr",
     "output_type": "stream",
     "text": [
      "Metric: 'euclidean' using unit: 'log'.\n"
     ]
    },
    {
     "data": {
      "text/html": [
       "<table>\n",
       "<thead><tr><th></th><th scope=col>v1</th><th scope=col>v2</th><th scope=col>v3</th></tr></thead>\n",
       "<tbody>\n",
       "\t<tr><th scope=row>v1</th><td> 0.00000</td><td>60.08328</td><td>91.70605</td></tr>\n",
       "\t<tr><th scope=row>v2</th><td>60.08328</td><td> 0.00000</td><td>31.62278</td></tr>\n",
       "\t<tr><th scope=row>v3</th><td>91.70605</td><td>31.62278</td><td> 0.00000</td></tr>\n",
       "</tbody>\n",
       "</table>\n"
      ],
      "text/latex": [
       "\\begin{tabular}{r|lll}\n",
       "  & v1 & v2 & v3\\\\\n",
       "\\hline\n",
       "\tv1 &  0.00000 & 60.08328 & 91.70605\\\\\n",
       "\tv2 & 60.08328 &  0.00000 & 31.62278\\\\\n",
       "\tv3 & 91.70605 & 31.62278 &  0.00000\\\\\n",
       "\\end{tabular}\n"
      ],
      "text/markdown": [
       "\n",
       "| <!--/--> | v1 | v2 | v3 | \n",
       "|---|---|---|\n",
       "| v1 |  0.00000 | 60.08328 | 91.70605 | \n",
       "| v2 | 60.08328 |  0.00000 | 31.62278 | \n",
       "| v3 | 91.70605 | 31.62278 |  0.00000 | \n",
       "\n",
       "\n"
      ],
      "text/plain": [
       "   v1       v2       v3      \n",
       "v1  0.00000 60.08328 91.70605\n",
       "v2 60.08328  0.00000 31.62278\n",
       "v3 91.70605 31.62278  0.00000"
      ]
     },
     "metadata": {},
     "output_type": "display_data"
    }
   ],
   "source": [
    "## compute the euclidean distance for count data\n",
    "## NOTE: some distance measures are only defined for probability values,\n",
    "distance(CountMatrix, method = \"euclidean\")"
   ]
  },
  {
   "cell_type": "code",
   "execution_count": 21,
   "metadata": {},
   "outputs": [
    {
     "data": {
      "text/html": [
       "<table>\n",
       "<tbody>\n",
       "\t<tr><td>0.01818182</td><td>0.03636364</td><td>0.05454545</td><td>0.07272727</td><td>0.09090909</td><td>0.1090909 </td><td>0.1272727 </td><td>0.1454545 </td><td>0.1636364 </td><td>0.1818182 </td></tr>\n",
       "\t<tr><td>0.08163265</td><td>0.08571429</td><td>0.08979592</td><td>0.09387755</td><td>0.09795918</td><td>0.1020408 </td><td>0.1061224 </td><td>0.1102041 </td><td>0.1142857 </td><td>0.1183673 </td></tr>\n",
       "\t<tr><td>0.08695652</td><td>0.08985507</td><td>0.09275362</td><td>0.09565217</td><td>0.09855072</td><td>0.1014493 </td><td>0.1043478 </td><td>0.1072464 </td><td>0.1101449 </td><td>0.1130435 </td></tr>\n",
       "</tbody>\n",
       "</table>\n"
      ],
      "text/latex": [
       "\\begin{tabular}{llllllllll}\n",
       "\t 0.01818182 & 0.03636364 & 0.05454545 & 0.07272727 & 0.09090909 & 0.1090909  & 0.1272727  & 0.1454545  & 0.1636364  & 0.1818182 \\\\\n",
       "\t 0.08163265 & 0.08571429 & 0.08979592 & 0.09387755 & 0.09795918 & 0.1020408  & 0.1061224  & 0.1102041  & 0.1142857  & 0.1183673 \\\\\n",
       "\t 0.08695652 & 0.08985507 & 0.09275362 & 0.09565217 & 0.09855072 & 0.1014493  & 0.1043478  & 0.1072464  & 0.1101449  & 0.1130435 \\\\\n",
       "\\end{tabular}\n"
      ],
      "text/markdown": [
       "\n",
       "| 0.01818182 | 0.03636364 | 0.05454545 | 0.07272727 | 0.09090909 | 0.1090909  | 0.1272727  | 0.1454545  | 0.1636364  | 0.1818182  | \n",
       "| 0.08163265 | 0.08571429 | 0.08979592 | 0.09387755 | 0.09795918 | 0.1020408  | 0.1061224  | 0.1102041  | 0.1142857  | 0.1183673  | \n",
       "| 0.08695652 | 0.08985507 | 0.09275362 | 0.09565217 | 0.09855072 | 0.1014493  | 0.1043478  | 0.1072464  | 0.1101449  | 0.1130435  | \n",
       "\n",
       "\n"
      ],
      "text/plain": [
       "     [,1]       [,2]       [,3]       [,4]       [,5]       [,6]      [,7]     \n",
       "[1,] 0.01818182 0.03636364 0.05454545 0.07272727 0.09090909 0.1090909 0.1272727\n",
       "[2,] 0.08163265 0.08571429 0.08979592 0.09387755 0.09795918 0.1020408 0.1061224\n",
       "[3,] 0.08695652 0.08985507 0.09275362 0.09565217 0.09855072 0.1014493 0.1043478\n",
       "     [,8]      [,9]      [,10]    \n",
       "[1,] 0.1454545 0.1636364 0.1818182\n",
       "[2,] 0.1102041 0.1142857 0.1183673\n",
       "[3,] 0.1072464 0.1101449 0.1130435"
      ]
     },
     "metadata": {},
     "output_type": "display_data"
    },
    {
     "name": "stderr",
     "output_type": "stream",
     "text": [
      "Metric: 'euclidean' using unit: 'log'.\n"
     ]
    },
    {
     "data": {
      "text/html": [
       "<table>\n",
       "<thead><tr><th></th><th scope=col>v1</th><th scope=col>v2</th><th scope=col>v3</th></tr></thead>\n",
       "<tbody>\n",
       "\t<tr><th scope=row>v1</th><td>0.0000000 </td><td>0.12807130</td><td>0.13881717</td></tr>\n",
       "\t<tr><th scope=row>v2</th><td>0.1280713 </td><td>0.00000000</td><td>0.01074588</td></tr>\n",
       "\t<tr><th scope=row>v3</th><td>0.1388172 </td><td>0.01074588</td><td>0.00000000</td></tr>\n",
       "</tbody>\n",
       "</table>\n"
      ],
      "text/latex": [
       "\\begin{tabular}{r|lll}\n",
       "  & v1 & v2 & v3\\\\\n",
       "\\hline\n",
       "\tv1 & 0.0000000  & 0.12807130 & 0.13881717\\\\\n",
       "\tv2 & 0.1280713  & 0.00000000 & 0.01074588\\\\\n",
       "\tv3 & 0.1388172  & 0.01074588 & 0.00000000\\\\\n",
       "\\end{tabular}\n"
      ],
      "text/markdown": [
       "\n",
       "| <!--/--> | v1 | v2 | v3 | \n",
       "|---|---|---|\n",
       "| v1 | 0.0000000  | 0.12807130 | 0.13881717 | \n",
       "| v2 | 0.1280713  | 0.00000000 | 0.01074588 | \n",
       "| v3 | 0.1388172  | 0.01074588 | 0.00000000 | \n",
       "\n",
       "\n"
      ],
      "text/plain": [
       "   v1        v2         v3        \n",
       "v1 0.0000000 0.12807130 0.13881717\n",
       "v2 0.1280713 0.00000000 0.01074588\n",
       "v3 0.1388172 0.01074588 0.00000000"
      ]
     },
     "metadata": {},
     "output_type": "display_data"
    }
   ],
   "source": [
    "ProbMatrix <- rbind(1:10/sum(1:10), 20:29/sum(20:29),30:39/sum(30:39))\n",
    "ProbMatrix\n",
    "distance(ProbMatrix, method = \"euclidean\")"
   ]
  },
  {
   "cell_type": "code",
   "execution_count": 22,
   "metadata": {},
   "outputs": [
    {
     "name": "stderr",
     "output_type": "stream",
     "text": [
      "Metric: 'kullback-leibler' using unit: 'log'.\n"
     ]
    },
    {
     "data": {
      "text/html": [
       "<table>\n",
       "<thead><tr><th></th><th scope=col>v1</th><th scope=col>v2</th><th scope=col>v3</th></tr></thead>\n",
       "<tbody>\n",
       "\t<tr><th scope=row>v1</th><td>0.00000000  </td><td>0.0965296706</td><td>0.1111323599</td></tr>\n",
       "\t<tr><th scope=row>v2</th><td>0.09652967  </td><td>0.0000000000</td><td>0.0005867893</td></tr>\n",
       "\t<tr><th scope=row>v3</th><td>0.11113236  </td><td>0.0005867893</td><td>0.0000000000</td></tr>\n",
       "</tbody>\n",
       "</table>\n"
      ],
      "text/latex": [
       "\\begin{tabular}{r|lll}\n",
       "  & v1 & v2 & v3\\\\\n",
       "\\hline\n",
       "\tv1 & 0.00000000   & 0.0965296706 & 0.1111323599\\\\\n",
       "\tv2 & 0.09652967   & 0.0000000000 & 0.0005867893\\\\\n",
       "\tv3 & 0.11113236   & 0.0005867893 & 0.0000000000\\\\\n",
       "\\end{tabular}\n"
      ],
      "text/markdown": [
       "\n",
       "| <!--/--> | v1 | v2 | v3 | \n",
       "|---|---|---|\n",
       "| v1 | 0.00000000   | 0.0965296706 | 0.1111323599 | \n",
       "| v2 | 0.09652967   | 0.0000000000 | 0.0005867893 | \n",
       "| v3 | 0.11113236   | 0.0005867893 | 0.0000000000 | \n",
       "\n",
       "\n"
      ],
      "text/plain": [
       "   v1         v2           v3          \n",
       "v1 0.00000000 0.0965296706 0.1111323599\n",
       "v2 0.09652967 0.0000000000 0.0005867893\n",
       "v3 0.11113236 0.0005867893 0.0000000000"
      ]
     },
     "metadata": {},
     "output_type": "display_data"
    },
    {
     "name": "stderr",
     "output_type": "stream",
     "text": [
      "Metric: 'kullback-leibler' using unit: 'log2'.\n"
     ]
    },
    {
     "data": {
      "text/html": [
       "<table>\n",
       "<thead><tr><th></th><th scope=col>v1</th><th scope=col>v2</th><th scope=col>v3</th></tr></thead>\n",
       "<tbody>\n",
       "\t<tr><th scope=row>v1</th><td>0.0000000   </td><td>0.1392628771</td><td>0.1603301045</td></tr>\n",
       "\t<tr><th scope=row>v2</th><td>0.1392629   </td><td>0.0000000000</td><td>0.0008465581</td></tr>\n",
       "\t<tr><th scope=row>v3</th><td>0.1603301   </td><td>0.0008465581</td><td>0.0000000000</td></tr>\n",
       "</tbody>\n",
       "</table>\n"
      ],
      "text/latex": [
       "\\begin{tabular}{r|lll}\n",
       "  & v1 & v2 & v3\\\\\n",
       "\\hline\n",
       "\tv1 & 0.0000000    & 0.1392628771 & 0.1603301045\\\\\n",
       "\tv2 & 0.1392629    & 0.0000000000 & 0.0008465581\\\\\n",
       "\tv3 & 0.1603301    & 0.0008465581 & 0.0000000000\\\\\n",
       "\\end{tabular}\n"
      ],
      "text/markdown": [
       "\n",
       "| <!--/--> | v1 | v2 | v3 | \n",
       "|---|---|---|\n",
       "| v1 | 0.0000000    | 0.1392628771 | 0.1603301045 | \n",
       "| v2 | 0.1392629    | 0.0000000000 | 0.0008465581 | \n",
       "| v3 | 0.1603301    | 0.0008465581 | 0.0000000000 | \n",
       "\n",
       "\n"
      ],
      "text/plain": [
       "   v1        v2           v3          \n",
       "v1 0.0000000 0.1392628771 0.1603301045\n",
       "v2 0.1392629 0.0000000000 0.0008465581\n",
       "v3 0.1603301 0.0008465581 0.0000000000"
      ]
     },
     "metadata": {},
     "output_type": "display_data"
    },
    {
     "name": "stderr",
     "output_type": "stream",
     "text": [
      "Metric: 'kullback-leibler' using unit: 'log10'.\n"
     ]
    },
    {
     "data": {
      "text/html": [
       "<table>\n",
       "<thead><tr><th></th><th scope=col>v1</th><th scope=col>v2</th><th scope=col>v3</th></tr></thead>\n",
       "<tbody>\n",
       "\t<tr><th scope=row>v1</th><td>0.00000000  </td><td>0.0419223033</td><td>0.0482641707</td></tr>\n",
       "\t<tr><th scope=row>v2</th><td>0.04192230  </td><td>0.0000000000</td><td>0.0002548394</td></tr>\n",
       "\t<tr><th scope=row>v3</th><td>0.04826417  </td><td>0.0002548394</td><td>0.0000000000</td></tr>\n",
       "</tbody>\n",
       "</table>\n"
      ],
      "text/latex": [
       "\\begin{tabular}{r|lll}\n",
       "  & v1 & v2 & v3\\\\\n",
       "\\hline\n",
       "\tv1 & 0.00000000   & 0.0419223033 & 0.0482641707\\\\\n",
       "\tv2 & 0.04192230   & 0.0000000000 & 0.0002548394\\\\\n",
       "\tv3 & 0.04826417   & 0.0002548394 & 0.0000000000\\\\\n",
       "\\end{tabular}\n"
      ],
      "text/markdown": [
       "\n",
       "| <!--/--> | v1 | v2 | v3 | \n",
       "|---|---|---|\n",
       "| v1 | 0.00000000   | 0.0419223033 | 0.0482641707 | \n",
       "| v2 | 0.04192230   | 0.0000000000 | 0.0002548394 | \n",
       "| v3 | 0.04826417   | 0.0002548394 | 0.0000000000 | \n",
       "\n",
       "\n"
      ],
      "text/plain": [
       "   v1         v2           v3          \n",
       "v1 0.00000000 0.0419223033 0.0482641707\n",
       "v2 0.04192230 0.0000000000 0.0002548394\n",
       "v3 0.04826417 0.0002548394 0.0000000000"
      ]
     },
     "metadata": {},
     "output_type": "display_data"
    }
   ],
   "source": [
    "## compute the Kullback-Leibler Divergence with different logarithm bases:\n",
    "### case: unit = log (Default)\n",
    "distance(ProbMatrix, method = \"kullback-leibler\", unit = \"log\")\n",
    "\n",
    "### case: unit = log2 \n",
    "distance(ProbMatrix, method = \"kullback-leibler\", unit = \"log2\")\n",
    "\n",
    "### case: unit = log10 \n",
    "distance(ProbMatrix, method = \"kullback-leibler\", unit = \"log10\")"
   ]
  },
  {
   "cell_type": "code",
   "execution_count": null,
   "metadata": {},
   "outputs": [],
   "source": []
  }
 ],
 "metadata": {
  "kernelspec": {
   "display_name": "R",
   "language": "R",
   "name": "ir"
  },
  "language_info": {
   "codemirror_mode": "r",
   "file_extension": ".r",
   "mimetype": "text/x-r-source",
   "name": "R",
   "pygments_lexer": "r",
   "version": "3.5.0"
  }
 },
 "nbformat": 4,
 "nbformat_minor": 2
}
