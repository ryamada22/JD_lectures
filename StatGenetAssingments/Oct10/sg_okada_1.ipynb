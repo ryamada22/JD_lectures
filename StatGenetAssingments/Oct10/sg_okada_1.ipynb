{
 "cells": [
  {
   "cell_type": "markdown",
   "metadata": {},
   "source": [
    "## Defference between manhattan distance and canberra distance\n",
    "\n",
    "dist() computes the six type of distance measures (\"euclidean\", \"maximum\", \"manhattan\", \"canberra\", \"binary\" or \"minkowski\").\n",
    "\n",
    "I knew about canberra distance for the first time, so I ran it with R and compaired with manhattan distance.\n",
    "\n",
    "canberra distance between x and y is defined as below:\n",
    "\n",
    "$$\n",
    "d_{ij} = \\sum\\frac{|x_i - y_i|}{|x_i + y_i|}\n",
    "$$\n",
    "\n",
    "This can be considered as Manhattan distance weighted with $\\frac{1}{|x_i + y_i|}$.\n",
    "\n",
    "Then, canberra distance emphasizes more similarity in the part near the origin in the coordinate space \n",
    "\n",
    "unlike manhattan distance."
   ]
  },
  {
   "cell_type": "code",
   "execution_count": 16,
   "metadata": {},
   "outputs": [
    {
     "data": {
      "text/html": [
       "<table>\n",
       "<tbody>\n",
       "\t<tr><td> -2.0335866</td><td>  0.3329085</td></tr>\n",
       "\t<tr><td> -0.2534855</td><td> -0.7031298</td></tr>\n",
       "\t<tr><td>  0.4259793</td><td> -1.3677072</td></tr>\n",
       "\t<tr><td> -0.7512405</td><td>  0.6659712</td></tr>\n",
       "\t<tr><td> -1.0998100</td><td>  1.3604966</td></tr>\n",
       "\t<tr><td>100.6621590</td><td>100.4362723</td></tr>\n",
       "\t<tr><td>101.1631264</td><td> 99.4993937</td></tr>\n",
       "\t<tr><td>100.8815602</td><td>101.2473894</td></tr>\n",
       "\t<tr><td>100.8934752</td><td>100.6362338</td></tr>\n",
       "\t<tr><td> 98.6309683</td><td> 99.4351120</td></tr>\n",
       "</tbody>\n",
       "</table>\n"
      ],
      "text/latex": [
       "\\begin{tabular}{ll}\n",
       "\t  -2.0335866 &   0.3329085\\\\\n",
       "\t  -0.2534855 &  -0.7031298\\\\\n",
       "\t   0.4259793 &  -1.3677072\\\\\n",
       "\t  -0.7512405 &   0.6659712\\\\\n",
       "\t  -1.0998100 &   1.3604966\\\\\n",
       "\t 100.6621590 & 100.4362723\\\\\n",
       "\t 101.1631264 &  99.4993937\\\\\n",
       "\t 100.8815602 & 101.2473894\\\\\n",
       "\t 100.8934752 & 100.6362338\\\\\n",
       "\t  98.6309683 &  99.4351120\\\\\n",
       "\\end{tabular}\n"
      ],
      "text/markdown": [
       "\n",
       "|  -2.0335866 |   0.3329085 | \n",
       "|  -0.2534855 |  -0.7031298 | \n",
       "|   0.4259793 |  -1.3677072 | \n",
       "|  -0.7512405 |   0.6659712 | \n",
       "|  -1.0998100 |   1.3604966 | \n",
       "| 100.6621590 | 100.4362723 | \n",
       "| 101.1631264 |  99.4993937 | \n",
       "| 100.8815602 | 101.2473894 | \n",
       "| 100.8934752 | 100.6362338 | \n",
       "|  98.6309683 |  99.4351120 | \n",
       "\n",
       "\n"
      ],
      "text/plain": [
       "      [,1]        [,2]       \n",
       " [1,]  -2.0335866   0.3329085\n",
       " [2,]  -0.2534855  -0.7031298\n",
       " [3,]   0.4259793  -1.3677072\n",
       " [4,]  -0.7512405   0.6659712\n",
       " [5,]  -1.0998100   1.3604966\n",
       " [6,] 100.6621590 100.4362723\n",
       " [7,] 101.1631264  99.4993937\n",
       " [8,] 100.8815602 101.2473894\n",
       " [9,] 100.8934752 100.6362338\n",
       "[10,]  98.6309683  99.4351120"
      ]
     },
     "metadata": {},
     "output_type": "display_data"
    }
   ],
   "source": [
    "#dataset : 10 sample by 2 feature\n",
    "n <- 5\n",
    "m <- 2\n",
    "x <- matrix(rnorm(10,0,1),n,m)\n",
    "x <- rbind(x,matrix(rnorm(10,100,1),n,m))\n",
    "x"
   ]
  },
  {
   "cell_type": "code",
   "execution_count": 17,
   "metadata": {},
   "outputs": [
    {
     "data": {
      "text/plain": [
       "             1           2           3           4           5           6\n",
       "2    2.8161393                                                            \n",
       "3    4.1601815   1.3440423                                                \n",
       "4    1.6154088   1.8668559   3.2108981                                    \n",
       "5    1.9613647   2.9099508   4.2539931   1.0430949                        \n",
       "6  202.7991094 202.0550466 202.0401593 201.1837006 200.8377447            \n",
       "7  202.3631982 201.6191354 201.6042481 200.7477894 200.4018335   1.4378459\n",
       "8  203.8296277 203.0855650 203.0706776 202.2142189 201.8682630   1.0305183\n",
       "9  203.2303870 202.4863243 202.4714369 201.6149783 201.2690223   0.4312777\n",
       "10 199.7667584 199.0226956 199.0078083 198.1513496 197.8053936   3.0323510\n",
       "             7           8           9\n",
       "2                                     \n",
       "3                                     \n",
       "4                                     \n",
       "5                                     \n",
       "6                                     \n",
       "7                                     \n",
       "8    2.0295619                        \n",
       "9    1.4064913   0.6230706            \n",
       "10   2.5964398   4.0628694   3.4636287"
      ]
     },
     "metadata": {},
     "output_type": "display_data"
    }
   ],
   "source": [
    "#Using manhattan distance, the distance between samples with large values is high even if the same rnorm variance 1.\n",
    "dist(x,\"manhattan\")"
   ]
  },
  {
   "cell_type": "code",
   "execution_count": 20,
   "metadata": {},
   "outputs": [
    {
     "data": {
      "text/plain": [
       "              1            2            3            4            5\n",
       "2  3.576761e+00                                                    \n",
       "3  3.173381e+00 4.259992e+00                                       \n",
       "4  7.939123e-01 3.734018e+01 6.517373e+00                          \n",
       "5  9.048255e-01 3.764612e+00 3.806220e+02 5.310361e-01             \n",
       "6  2.034630e+00 2.019149e+00 2.019183e+00 2.001864e+00 1.995363e+00\n",
       "7  2.034360e+00 2.019258e+00 2.019489e+00 2.001666e+00 1.995004e+00\n",
       "8  2.034591e+00 2.019025e+00 2.018977e+00 2.001936e+00 1.995526e+00\n",
       "9  2.034547e+00 2.019109e+00 2.019147e+00 2.001855e+00 1.995364e+00\n",
       "10 2.035431e+00 2.019397e+00 2.019293e+00 2.002044e+00 1.995558e+00\n",
       "              6            7            8            9\n",
       "2                                                     \n",
       "3                                                     \n",
       "4                                                     \n",
       "5                                                     \n",
       "6                                                     \n",
       "7  7.168083e-03                                       \n",
       "8  5.110333e-03 1.010105e-02                          \n",
       "9  2.142129e-03 7.014881e-03 3.086318e-03             \n",
       "10 1.520100e-02 1.299697e-02 2.031102e-02 1.734296e-02"
      ]
     },
     "metadata": {},
     "output_type": "display_data"
    }
   ],
   "source": [
    "#In this case, the Canberra distance has been corrected for this effect of location.\n",
    "dist(x,\"canberra\")"
   ]
  },
  {
   "cell_type": "code",
   "execution_count": 19,
   "metadata": {},
   "outputs": [],
   "source": [
    "help(dist)"
   ]
  },
  {
   "cell_type": "code",
   "execution_count": null,
   "metadata": {},
   "outputs": [],
   "source": []
  }
 ],
 "metadata": {
  "kernelspec": {
   "display_name": "R",
   "language": "R",
   "name": "ir"
  },
  "language_info": {
   "codemirror_mode": "r",
   "file_extension": ".r",
   "mimetype": "text/x-r-source",
   "name": "R",
   "pygments_lexer": "r",
   "version": "3.4.1"
  }
 },
 "nbformat": 4,
 "nbformat_minor": 2
}
