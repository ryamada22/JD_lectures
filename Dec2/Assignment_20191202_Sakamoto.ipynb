{
 "cells": [
  {
   "cell_type": "markdown",
   "metadata": {},
   "source": [
    "# Assignment\n",
    "## Takashi Sakamoto 2019/12/02"
   ]
  },
  {
   "cell_type": "markdown",
   "metadata": {},
   "source": [
    "Look at [this page](https://scikit-learn.org/stable/modules/model_evaluation.html)    \n",
    "\n",
    "## Q1.     \n",
    "What does **\"model_selection.cross_val_score\"** do ?    \n",
    "Visit [here](https://scikit-learn.org/stable/modules/generated/sklearn.model_selection.cross_val_score.html#sklearn.model_selection.cross_val_score) and describe what it is for.    \n",
    "The site you visit provides **\"Examples\"**. You can change **_\"cv\"_** parameter of **\"cross_val_score( )\"** function.    "
   ]
  },
  {
   "cell_type": "markdown",
   "metadata": {},
   "source": [
    "## Q1. Ans:    \n",
    "By using **\"model_selection.cross_val_score\"**, we can perform 'cross validation'.:    \n",
    "- The dataset will be split into a certain number (=k)    \n",
    "- The 1st split dataset is used for testing, and the other split datasets are used for constructing a model    \n",
    "- The procedure above is repeated for 'k' times    \n",
    "- We will obtain scores 'k' times    \n",
    "    \n",
    "Setting the argument 'cv' means setting the number of 'k'."
   ]
  },
  {
   "cell_type": "code",
   "execution_count": 17,
   "metadata": {
    "scrolled": true
   },
   "outputs": [
    {
     "name": "stdout",
     "output_type": "stream",
     "text": [
      "cv=2 [0.27893788 0.18442104]\n",
      "cv=3 [0.33150734 0.08022311 0.03531764]\n",
      "cv=4 [ 0.3392459   0.12286347  0.16482017 -0.04610521]\n",
      "cv=10 [ 0.34557351  0.34848715  0.26654262 -0.01126674  0.24875619  0.08731544\n",
      "  0.13386583  0.14000888  0.2873109   0.00960079]\n",
      "cv=2, average score:0.23\n",
      "cv=3, average score:0.15\n",
      "cv=4, average score:0.15\n",
      "cv=10, average score:0.19\n"
     ]
    }
   ],
   "source": [
    "# Example\n",
    "from sklearn import datasets, linear_model\n",
    "from sklearn.model_selection import cross_val_score\n",
    "diabetes = datasets.load_diabetes()\n",
    "X = diabetes.data[:150]\n",
    "y = diabetes.target[:150]\n",
    "lasso = linear_model.Lasso()\n",
    "\n",
    "# cvの値を変える:2,3,4,10 (cv=1ではerror)\n",
    "print(\"cv=2\",cross_val_score(lasso, X, y, cv=2))\n",
    "print(\"cv=3\",cross_val_score(lasso, X, y, cv=3))\n",
    "print(\"cv=4\",cross_val_score(lasso, X, y, cv=4))\n",
    "print(\"cv=10\",cross_val_score(lasso, X, y, cv=10))\n",
    "\n",
    "# cvの値を変えてscoreの平均値を算出\n",
    "print(\"cv=2, average score:{:.2f}\".format(sum(cross_val_score(lasso, X, y, cv=2))/2))\n",
    "print(\"cv=3, average score:{:.2f}\".format(sum(cross_val_score(lasso, X, y, cv=3))/3))\n",
    "print(\"cv=4, average score:{:.2f}\".format(sum(cross_val_score(lasso, X, y, cv=4))/4))\n",
    "print(\"cv=10, average score:{:.2f}\".format(sum(cross_val_score(lasso, X, y, cv=10))/10))"
   ]
  },
  {
   "cell_type": "code",
   "execution_count": null,
   "metadata": {
    "collapsed": true
   },
   "outputs": [],
   "source": []
  }
 ],
 "metadata": {
  "kernelspec": {
   "display_name": "Python 3",
   "language": "python",
   "name": "python3"
  },
  "language_info": {
   "codemirror_mode": {
    "name": "ipython",
    "version": 3
   },
   "file_extension": ".py",
   "mimetype": "text/x-python",
   "name": "python",
   "nbconvert_exporter": "python",
   "pygments_lexer": "ipython3",
   "version": "3.6.5"
  }
 },
 "nbformat": 4,
 "nbformat_minor": 2
}
